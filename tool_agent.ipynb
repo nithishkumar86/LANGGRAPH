{
 "cells": [
  {
   "cell_type": "markdown",
   "metadata": {},
   "source": [
    "CREATE A REACT AGENT IN TOOLS "
   ]
  },
  {
   "cell_type": "code",
   "execution_count": 48,
   "metadata": {},
   "outputs": [],
   "source": [
    "from langchain_groq import ChatGroq\n",
    "from langchain_text_splitters import RecursiveCharacterTextSplitter\n",
    "from langchain_community.vectorstores import FAISS\n",
    "from langchain_community.tools.tavily_search import TavilySearchResults\n",
    "from langchain.tools import tool\n",
    "from langchain_community.document_loaders import PyPDFLoader\n",
    "from langchain_huggingface import HuggingFaceEmbeddings\n",
    "from langchain_core.prompts import ChatPromptTemplate\n",
    "from langchain_core.output_parsers import StrOutputParser\n",
    "from langchain import PromptTemplate"
   ]
  },
  {
   "cell_type": "code",
   "execution_count": 49,
   "metadata": {},
   "outputs": [
    {
     "data": {
      "text/plain": [
       "True"
      ]
     },
     "execution_count": 49,
     "metadata": {},
     "output_type": "execute_result"
    }
   ],
   "source": [
    "import os\n",
    "from dotenv import load_dotenv\n",
    "load_dotenv()"
   ]
  },
  {
   "cell_type": "code",
   "execution_count": 50,
   "metadata": {},
   "outputs": [],
   "source": [
    "os.environ[\"HF_TOKEN\"]=os.getenv(\"HF_TOKEN\")"
   ]
  },
  {
   "cell_type": "code",
   "execution_count": 51,
   "metadata": {},
   "outputs": [],
   "source": [
    "embedding=HuggingFaceEmbeddings(model_name=\"all-MiniLM-L6-v2\")"
   ]
  },
  {
   "cell_type": "code",
   "execution_count": 52,
   "metadata": {},
   "outputs": [],
   "source": [
    "os.environ[\"GROQ_API_KEY\"]=os.getenv(\"GROQ_API_KEY\")"
   ]
  },
  {
   "cell_type": "code",
   "execution_count": 53,
   "metadata": {},
   "outputs": [],
   "source": [
    "llm=ChatGroq(model=\"gemma2-9b-it\")"
   ]
  },
  {
   "cell_type": "code",
   "execution_count": 54,
   "metadata": {},
   "outputs": [
    {
     "data": {
      "text/plain": [
       "AIMessage(content='\"Gen AI\" is short for **Generative Artificial Intelligence**. \\n\\nIt\\'s a type of AI that focuses on creating new content, rather than simply analyzing existing data. Think of it as AI that can imagine and build, instead of just understanding.\\n\\nHere\\'s a breakdown:\\n\\n**What Gen AI can do:**\\n\\n* **Generate text:** Write stories, poems, articles, emails, code, and more.\\n* **Create images:** Produce realistic photos, artwork, illustrations, and designs.\\n* **Compose music:** Write original melodies, harmonies, and even entire songs.\\n* **Generate videos:** Create short clips, animations, and even realistic deepfakes.\\n* **Translate languages:** Convert text from one language to another.\\n* **Summarize text:** Condense large amounts of information into concise summaries.\\n\\n**How Gen AI works:**\\n\\nGen AI models are typically trained on massive datasets of existing content. They learn the patterns and structures within this data, allowing them to generate new content that mimics the style and characteristics of the training data.\\n\\n**Examples of Gen AI tools:**\\n\\n* **ChatGPT:** A powerful language model that can generate human-quality text.\\n* **DALL-E 2:** An image generation tool that can create realistic and imaginative images from text descriptions.\\n* **Midjourney:** Another popular image generation tool with a focus on artistic styles.\\n* **Jukebox:** An AI system that can generate music in various genres and styles.\\n\\n**Potential applications:**\\n\\nGen AI has a wide range of potential applications, including:\\n\\n* **Creative industries:** Writing, art, music, film, and design.\\n* **Education:** Personalized learning, content creation, and research assistance.\\n* **Marketing and advertising:** Generating creative content, personalized campaigns, and product descriptions.\\n* **Customer service:** Automating responses to frequently asked questions and providing 24/7 support.\\n* **Healthcare:** Generating medical reports, assisting with diagnosis, and developing new treatments.\\n\\n**Ethical considerations:**\\n\\nThe development and deployment of Gen AI raise important ethical considerations, such as:\\n\\n* **Bias and fairness:** Gen AI models can inherit and amplify biases present in the training data.\\n* **Misinformation and deepfakes:** The ability to generate realistic fake content can be used for malicious purposes.\\n* **Copyright and ownership:** The legal status of AI-generated content is still unclear.\\n* **Job displacement:** Gen AI may automate tasks currently performed by humans, leading to job losses.\\n\\n\\nIt\\'s important to use Gen AI responsibly and ethically, addressing these challenges while harnessing its potential for good.\\n', additional_kwargs={}, response_metadata={'token_usage': {'completion_tokens': 548, 'prompt_tokens': 13, 'total_tokens': 561, 'completion_time': 0.996363636, 'prompt_time': 8.6189e-05, 'queue_time': 0.020088769, 'total_time': 0.996449825}, 'model_name': 'gemma2-9b-it', 'system_fingerprint': 'fp_10c08bf97d', 'finish_reason': 'stop', 'logprobs': None}, id='run-ab4358e7-feaf-4040-a9b3-1edcb8c24775-0', usage_metadata={'input_tokens': 13, 'output_tokens': 548, 'total_tokens': 561})"
      ]
     },
     "execution_count": 54,
     "metadata": {},
     "output_type": "execute_result"
    }
   ],
   "source": [
    "llm.invoke(\"what is gen ai\")"
   ]
  },
  {
   "cell_type": "code",
   "execution_count": 55,
   "metadata": {},
   "outputs": [],
   "source": [
    "loader=PyPDFLoader(file_path=\"C:\\\\Users\\\\user\\\\OneDrive\\\\Desktop\\\\langgraph\\\\temp.pdf\")\n",
    "docs=loader.load()"
   ]
  },
  {
   "cell_type": "code",
   "execution_count": 56,
   "metadata": {},
   "outputs": [],
   "source": [
    "documents=RecursiveCharacterTextSplitter(chunk_size=400,chunk_overlap=40).split_documents(docs)"
   ]
  },
  {
   "cell_type": "code",
   "execution_count": 57,
   "metadata": {},
   "outputs": [
    {
     "data": {
      "text/plain": [
       "[Document(metadata={'source': 'C:\\\\Users\\\\user\\\\OneDrive\\\\Desktop\\\\langgraph\\\\temp.pdf', 'page': 0}, page_content='From Wikipedia, the free encyclopedia \\nAn illustration of main components of the \\ntransformer model from the paper \\n\"Attention Is All You Need\"[1] is a 2017 landmark[2][3] research paper in machine learning authored by \\neight scientists working at Google. The paper introduced a new deep learning architecture known as'),\n",
       " Document(metadata={'source': 'C:\\\\Users\\\\user\\\\OneDrive\\\\Desktop\\\\langgraph\\\\temp.pdf', 'page': 0}, page_content='the transformer, based on the attention mechanism proposed in 2014 by Bahdanau et al.[4] It is \\nconsidered a foundational[5] paper in modern artificial intelligence, as the transformer approach has \\nbecome the main architecture of large language models like those based on GPT.[6][7] At the time, the'),\n",
       " Document(metadata={'source': 'C:\\\\Users\\\\user\\\\OneDrive\\\\Desktop\\\\langgraph\\\\temp.pdf', 'page': 0}, page_content='focus of the research was on improving Seq2seq techniques for machine translation, but the authors \\ngo further in the paper, foreseeing the technique\\'s potential for other tasks like question \\nanswering and what is now known as multimodal Generative AI.[1] \\nThe paper\\'s title is a reference to the song \"All You Need Is Love\" by the Beatles.[8] The name'),\n",
       " Document(metadata={'source': 'C:\\\\Users\\\\user\\\\OneDrive\\\\Desktop\\\\langgraph\\\\temp.pdf', 'page': 0}, page_content='\"Transformer\" was picked because Uszkoreit liked the sound of that word.[9] \\nAn early design document was titled \"Transformers: Iterative Self-Attention and Processing for \\nVarious Tasks\", and included an illustration of six characters from the Transformers animated show. \\nThe team was named Team Transformer.[8]'),\n",
       " Document(metadata={'source': 'C:\\\\Users\\\\user\\\\OneDrive\\\\Desktop\\\\langgraph\\\\temp.pdf', 'page': 0}, page_content='Some early examples that the team tried their Transformer architecture on included English-to-\\nGerman translation, generating Wikipedia articles on \"The Transformer\", and parsing. These \\nconvinced the team that the Transformer is a general purpose language model, and not just good for \\ntranslation.[9] \\nAs of 2024, the paper has been cited more than 100,000 times.[10]'),\n",
       " Document(metadata={'source': 'C:\\\\Users\\\\user\\\\OneDrive\\\\Desktop\\\\langgraph\\\\temp.pdf', 'page': 0}, page_content='For their 100M-parameter Transformer model, they suggested learning rate should be linearly scaled \\nup from 0 to maximal value for the first part of the training (i.e. 2% of the total number of training \\nsteps), and to use dropout, to stabilize training. \\nAuthors \\n[edit] \\nThe authors of the paper are: Ashish Vaswani, Noam Shazeer, Niki Parmar, Jakob Uszkoreit, Llion'),\n",
       " Document(metadata={'source': 'C:\\\\Users\\\\user\\\\OneDrive\\\\Desktop\\\\langgraph\\\\temp.pdf', 'page': 0}, page_content='Jones, Aidan Gomez, Lukasz Kaiser, and Illia Polosukhin. All eight authors were \"equal contributors\" \\nto the paper; the listed order was randomized. The Wired article highlights the group\\'s diversity:[8]'),\n",
       " Document(metadata={'source': 'C:\\\\Users\\\\user\\\\OneDrive\\\\Desktop\\\\langgraph\\\\temp.pdf', 'page': 1}, page_content='Six of the eight authors were born outside the United States; the other two are children of two \\ngreen-card-carrying Germans who were temporarily in California and a first-generation American \\nwhose family had fled persecution, respectively. \\nBy 2023, all eight authors had left Google and founded their own AI start-ups (except Łukasz Kaiser, \\nwho joined OpenAI).[8][10] \\nHistorical context \\n[edit]'),\n",
       " Document(metadata={'source': 'C:\\\\Users\\\\user\\\\OneDrive\\\\Desktop\\\\langgraph\\\\temp.pdf', 'page': 1}, page_content='Historical context \\n[edit] \\nMain articles: Transformer (deep learning architecture) § History, and Seq2seq § History \\nSee also: Timeline of machine learning \\nPredecessors \\n[edit] \\nFor many years, sequence modelling and generation was done by using plain recurrent neural \\nnetworks (RNNs). A well-cited early example was the Elman network (1990). In theory, the'),\n",
       " Document(metadata={'source': 'C:\\\\Users\\\\user\\\\OneDrive\\\\Desktop\\\\langgraph\\\\temp.pdf', 'page': 1}, page_content=\"information from one token can propagate arbitrarily far down the sequence, but in practice \\nthe vanishing-gradient problem leaves the model's state at the end of a long sentence without \\nprecise, extractable information about preceding tokens. \\nA key breakthrough was LSTM (1995),[note 1] a RNN which used various innovations to overcome the\"),\n",
       " Document(metadata={'source': 'C:\\\\Users\\\\user\\\\OneDrive\\\\Desktop\\\\langgraph\\\\temp.pdf', 'page': 1}, page_content='vanishing gradient problem, allowing efficient learning of long-sequence modelling. One key \\ninnovation was the use of an attention mechanism which used neurons that multiply the outputs of \\nother neurons, so-called multiplicative units.[11] Neural networks using multiplicative units were later \\ncalled sigma-pi networks[12] or higher-order networks.[13] LSTM became the standard architecture for'),\n",
       " Document(metadata={'source': 'C:\\\\Users\\\\user\\\\OneDrive\\\\Desktop\\\\langgraph\\\\temp.pdf', 'page': 1}, page_content='long sequence modelling until the 2017 publication of Transformers. However, LSTM still used \\nsequential processing, like most other RNNs.[note 2] Specifically, RNNs operate one token at a time \\nfrom first to last; they cannot operate in parallel over all tokens in a sequence. \\nModern Transformers overcome this problem, but unlike RNNs, they require computation time that'),\n",
       " Document(metadata={'source': 'C:\\\\Users\\\\user\\\\OneDrive\\\\Desktop\\\\langgraph\\\\temp.pdf', 'page': 1}, page_content='is quadratic in the size of the context window. The linearly scaling fast weight controller (1992) learns \\nto compute a weight matrix for further processing depending on the input.[14] One of its two \\nnetworks has \"fast weights\" or \"dynamic links\" (1981).[15][16][17] A slow neural network learns by \\ngradient descent to generate keys and values for computing the weight changes of the fast neural'),\n",
       " Document(metadata={'source': 'C:\\\\Users\\\\user\\\\OneDrive\\\\Desktop\\\\langgraph\\\\temp.pdf', 'page': 1}, page_content='network which computes answers to queries.[14] This was later shown to be equivalent to the \\nunnormalized linear Transformer.[18][19] \\nAttention with seq2seq \\n[edit] \\nMain article: Seq2seq § History \\nThe idea of encoder-decoder sequence transduction had been developed in the early 2010s (see \\nprevious papers[20][21]). The papers most commonly cited as the originators that produced seq2seq'),\n",
       " Document(metadata={'source': 'C:\\\\Users\\\\user\\\\OneDrive\\\\Desktop\\\\langgraph\\\\temp.pdf', 'page': 1}, page_content='are two concurrently published papers from 2014.[20][21] \\nA 380M-parameter model for machine translation uses two long short-term memories (LSTM).[21] Its \\narchitecture consists of two parts. The encoder is an LSTM that takes in a sequence of tokens and'),\n",
       " Document(metadata={'source': 'C:\\\\Users\\\\user\\\\OneDrive\\\\Desktop\\\\langgraph\\\\temp.pdf', 'page': 2}, page_content='turns it into a vector. The decoder is another LSTM that converts the vector into a sequence of \\ntokens. Similarly, another 130M-parameter model used gated recurrent units (GRU) instead of \\nLSTM.[20] Later research showed that GRUs are neither better nor worse than LSTMs for \\nseq2seq.[22][23] \\nThese early seq2seq models had no attention mechanism, and the state vector is accessible only'),\n",
       " Document(metadata={'source': 'C:\\\\Users\\\\user\\\\OneDrive\\\\Desktop\\\\langgraph\\\\temp.pdf', 'page': 2}, page_content='after the last word of the source text was processed. Although in theory such a vector retains the \\ninformation about the whole original sentence, in practice the information is poorly preserved. This \\nis because the input is processed sequentially by one recurrent network into a fixed-size output \\nvector, which is then processed by another recurrent network into an output. If the input is long,'),\n",
       " Document(metadata={'source': 'C:\\\\Users\\\\user\\\\OneDrive\\\\Desktop\\\\langgraph\\\\temp.pdf', 'page': 2}, page_content='then the output vector would not be able to contain all relevant information, degrading the output. \\nAs evidence, reversing the input sentence improved seq2seq translation.[24] \\nThe RNNsearch model introduced an attention mechanism to seq2seq for machine translation to \\nsolve the bottleneck problem (of the fixed-size output vector), allowing the model to process long-'),\n",
       " Document(metadata={'source': 'C:\\\\Users\\\\user\\\\OneDrive\\\\Desktop\\\\langgraph\\\\temp.pdf', 'page': 2}, page_content='distance dependencies more easily. The name is because it \"emulates searching through a source \\nsentence during decoding a translation\".[4] \\nThe relative performances were compared between global (that of RNNsearch) and local (sliding \\nwindow) attention model architectures for machine translation, finding that mixed attention had'),\n",
       " Document(metadata={'source': 'C:\\\\Users\\\\user\\\\OneDrive\\\\Desktop\\\\langgraph\\\\temp.pdf', 'page': 2}, page_content='higher quality than global attention, while local attention reduced translation time.[25] \\nIn 2016, Google Translate was revamped to Google Neural Machine Translation, which replaced the \\nprevious model based on statistical machine translation. The new model was a seq2seq model where \\nthe encoder and the decoder were both 8 layers of bidirectional LSTM.[26] It took nine months to'),\n",
       " Document(metadata={'source': 'C:\\\\Users\\\\user\\\\OneDrive\\\\Desktop\\\\langgraph\\\\temp.pdf', 'page': 2}, page_content='develop, and it outperformed the statistical approach, which took ten years to develop.[27] \\nParallelizing attention \\n[edit] \\nMain article: Attention (machine learning) § History \\nSeq2seq models with attention (including self-attention) still suffered from the same issue with \\nrecurrent networks, which is that they are hard to parallelize, which prevented them to be'),\n",
       " Document(metadata={'source': 'C:\\\\Users\\\\user\\\\OneDrive\\\\Desktop\\\\langgraph\\\\temp.pdf', 'page': 2}, page_content='accelerated on GPUs. In 2016, decomposable attention applied a self-attention mechanism \\nto feedforward networks, which are easy to parallelize, and achieved SOTA result in textual \\nentailment with an order of magnitude less parameters than LSTMs.[28] One of its authors, Jakob \\nUszkoreit, suspected that attention without recurrence is sufficient for language translation, thus the'),\n",
       " Document(metadata={'source': 'C:\\\\Users\\\\user\\\\OneDrive\\\\Desktop\\\\langgraph\\\\temp.pdf', 'page': 2}, page_content='title \"attention is all you need\".[29] That hypothesis was against conventional wisdom of the time, and \\neven his father, a well-known computational linguist, was skeptical.[29] In the same year, self-attention \\n(called intra-attention or intra-sentence attention) was proposed for LSTMs.[30] \\nIn 2017, the original (100M-sized) encoder-decoder transformer model was proposed in the'),\n",
       " Document(metadata={'source': 'C:\\\\Users\\\\user\\\\OneDrive\\\\Desktop\\\\langgraph\\\\temp.pdf', 'page': 2}, page_content='\"Attention is all you need\" paper. At the time, the focus of the research was on \\nimproving seq2seq for machine translation, by removing its recurrence to process all tokens in \\nparallel, but preserving its dot-product attention mechanism to keep its text processing \\nperformance.[1] Its parallelizability was an important factor to its widespread use in large neural \\nnetworks.[31] \\nAI boom era'),\n",
       " Document(metadata={'source': 'C:\\\\Users\\\\user\\\\OneDrive\\\\Desktop\\\\langgraph\\\\temp.pdf', 'page': 2}, page_content='networks.[31] \\nAI boom era \\n[edit]'),\n",
       " Document(metadata={'source': 'C:\\\\Users\\\\user\\\\OneDrive\\\\Desktop\\\\langgraph\\\\temp.pdf', 'page': 3}, page_content='Already in spring 2017, even before the \"Attention is all you need\" preprint was published, one of the \\nco-authors applied the \"decoder-only\" variation of the architecture to generate fictitious Wikipedia \\narticles.[32] Transformer architecture is now used in many generative models that contribute to the \\nongoing AI boom.'),\n",
       " Document(metadata={'source': 'C:\\\\Users\\\\user\\\\OneDrive\\\\Desktop\\\\langgraph\\\\temp.pdf', 'page': 3}, page_content='ongoing AI boom. \\nIn language modelling, ELMo (2018) was a bi-directional LSTM that produces contextualized word \\nembeddings, improving upon the line of research from bag of words and word2vec. It was followed \\nby BERT (2018), an encoder-only Transformer model.[33] In 2019 October, Google started using BERT'),\n",
       " Document(metadata={'source': 'C:\\\\Users\\\\user\\\\OneDrive\\\\Desktop\\\\langgraph\\\\temp.pdf', 'page': 3}, page_content='to process search queries.[34] In 2020, Google Translate replaced the previous RNN-encoder–RNN-\\ndecoder model by a Transformer-encoder–RNN-decoder model.[35] \\nStarting in 2018, the OpenAI GPT series of decoder-only Transformers became state of the art \\nin natural language generation. In 2022, a chatbot based on GPT-3, ChatGPT, became unexpectedly'),\n",
       " Document(metadata={'source': 'C:\\\\Users\\\\user\\\\OneDrive\\\\Desktop\\\\langgraph\\\\temp.pdf', 'page': 3}, page_content='popular,[36] triggering a boom around large language models.[37][38] \\nSince 2020, Transformers have been applied in modalities beyond text, including the vision \\ntransformer,[39] speech recognition,[40] robotics,[41] and multimodal.[42] The vision transformer, in turn, \\nstimulated new developments in convolutional neural networks.[43] Image and video generators'),\n",
       " Document(metadata={'source': 'C:\\\\Users\\\\user\\\\OneDrive\\\\Desktop\\\\langgraph\\\\temp.pdf', 'page': 3}, page_content='like DALL-E (2021), Stable Diffusion 3 (2024),[44] and Sora (2024), are based on the Transformer \\narchitecture.')]"
      ]
     },
     "execution_count": 57,
     "metadata": {},
     "output_type": "execute_result"
    }
   ],
   "source": [
    "documents"
   ]
  },
  {
   "cell_type": "code",
   "execution_count": 58,
   "metadata": {},
   "outputs": [],
   "source": [
    "db=FAISS.from_documents(documents=documents,embedding=embedding)"
   ]
  },
  {
   "cell_type": "code",
   "execution_count": 59,
   "metadata": {},
   "outputs": [],
   "source": [
    "vector_db=db.as_retriever()"
   ]
  },
  {
   "cell_type": "code",
   "execution_count": 60,
   "metadata": {},
   "outputs": [],
   "source": [
    "input=\"what is transformer\""
   ]
  },
  {
   "cell_type": "code",
   "execution_count": 61,
   "metadata": {},
   "outputs": [
    {
     "data": {
      "text/plain": [
       "[Document(id='8178fa4c-e4b0-4f4c-a3f4-48598beb7fde', metadata={'source': 'C:\\\\Users\\\\user\\\\OneDrive\\\\Desktop\\\\langgraph\\\\temp.pdf', 'page': 0}, page_content='\"Transformer\" was picked because Uszkoreit liked the sound of that word.[9] \\nAn early design document was titled \"Transformers: Iterative Self-Attention and Processing for \\nVarious Tasks\", and included an illustration of six characters from the Transformers animated show. \\nThe team was named Team Transformer.[8]'),\n",
       " Document(id='606f5696-cf0d-4610-817d-de29572eb59e', metadata={'source': 'C:\\\\Users\\\\user\\\\OneDrive\\\\Desktop\\\\langgraph\\\\temp.pdf', 'page': 0}, page_content='Some early examples that the team tried their Transformer architecture on included English-to-\\nGerman translation, generating Wikipedia articles on \"The Transformer\", and parsing. These \\nconvinced the team that the Transformer is a general purpose language model, and not just good for \\ntranslation.[9] \\nAs of 2024, the paper has been cited more than 100,000 times.[10]'),\n",
       " Document(id='f35be07e-d7d3-4958-a15e-89ec8306a03e', metadata={'source': 'C:\\\\Users\\\\user\\\\OneDrive\\\\Desktop\\\\langgraph\\\\temp.pdf', 'page': 0}, page_content='the transformer, based on the attention mechanism proposed in 2014 by Bahdanau et al.[4] It is \\nconsidered a foundational[5] paper in modern artificial intelligence, as the transformer approach has \\nbecome the main architecture of large language models like those based on GPT.[6][7] At the time, the'),\n",
       " Document(id='917abfcb-73c5-4d98-812a-4f2a1fc93aa6', metadata={'source': 'C:\\\\Users\\\\user\\\\OneDrive\\\\Desktop\\\\langgraph\\\\temp.pdf', 'page': 0}, page_content='From Wikipedia, the free encyclopedia \\nAn illustration of main components of the \\ntransformer model from the paper \\n\"Attention Is All You Need\"[1] is a 2017 landmark[2][3] research paper in machine learning authored by \\neight scientists working at Google. The paper introduced a new deep learning architecture known as')]"
      ]
     },
     "execution_count": 61,
     "metadata": {},
     "output_type": "execute_result"
    }
   ],
   "source": [
    "vector_db.get_relevant_documents(input)"
   ]
  },
  {
   "cell_type": "code",
   "execution_count": 62,
   "metadata": {},
   "outputs": [],
   "source": [
    "from langchain.tools.retriever import create_retriever_tool"
   ]
  },
  {
   "cell_type": "code",
   "execution_count": 63,
   "metadata": {},
   "outputs": [],
   "source": [
    "rag_tool=create_retriever_tool(\n",
    "                                vector_db,\n",
    "                                \"transformer architecture\",\n",
    "                                \"it give some information about the transformer architecture\"\n",
    "                                )"
   ]
  },
  {
   "cell_type": "code",
   "execution_count": 64,
   "metadata": {},
   "outputs": [
    {
     "data": {
      "text/plain": [
       "'transformer architecture'"
      ]
     },
     "execution_count": 64,
     "metadata": {},
     "output_type": "execute_result"
    }
   ],
   "source": [
    "rag_tool.name"
   ]
  },
  {
   "cell_type": "code",
   "execution_count": 65,
   "metadata": {},
   "outputs": [],
   "source": [
    "os.environ[\"TAVILY_API_KEY\"]=os.getenv(\"TAVILY_API_KEY\")"
   ]
  },
  {
   "cell_type": "code",
   "execution_count": 66,
   "metadata": {},
   "outputs": [],
   "source": [
    "search=TavilySearchResults()"
   ]
  },
  {
   "cell_type": "code",
   "execution_count": 67,
   "metadata": {},
   "outputs": [],
   "source": [
    "tools=[rag_tool,search]"
   ]
  },
  {
   "cell_type": "code",
   "execution_count": 68,
   "metadata": {},
   "outputs": [],
   "source": [
    "from langchain.agents import AgentExecutor,create_react_agent,self_ask_with_search,AgentType"
   ]
  },
  {
   "cell_type": "code",
   "execution_count": 69,
   "metadata": {},
   "outputs": [],
   "source": [
    "from langchain import hub"
   ]
  },
  {
   "cell_type": "code",
   "execution_count": 70,
   "metadata": {},
   "outputs": [],
   "source": [
    "prompt=hub.pull(\"hwchase17/react\")"
   ]
  },
  {
   "cell_type": "code",
   "execution_count": 71,
   "metadata": {},
   "outputs": [
    {
     "name": "stdout",
     "output_type": "stream",
     "text": [
      "Answer the following questions as best you can. You have access to the following tools:\n",
      "\n",
      "{tools}\n",
      "\n",
      "Use the following format:\n",
      "\n",
      "Question: the input question you must answer\n",
      "Thought: you should always think about what to do\n",
      "Action: the action to take, should be one of [{tool_names}]\n",
      "Action Input: the input to the action\n",
      "Observation: the result of the action\n",
      "... (this Thought/Action/Action Input/Observation can repeat N times)\n",
      "Thought: I now know the final answer\n",
      "Final Answer: the final answer to the original input question\n",
      "\n",
      "Begin!\n",
      "\n",
      "Question: {input}\n",
      "Thought:{agent_scratchpad} "
     ]
    }
   ],
   "source": [
    "print(prompt.template,end=\" \")"
   ]
  },
  {
   "cell_type": "code",
   "execution_count": 72,
   "metadata": {},
   "outputs": [],
   "source": [
    "#it works as\n",
    "#first question will come and thought and action and then observation if it is not satisfied it\n",
    "# act as a loop once the answer is satisfied then it will give the final  "
   ]
  },
  {
   "cell_type": "code",
   "execution_count": 73,
   "metadata": {},
   "outputs": [],
   "source": [
    "agent=create_react_agent(llm=llm,tools=tools,prompt=prompt)"
   ]
  },
  {
   "cell_type": "code",
   "execution_count": 74,
   "metadata": {},
   "outputs": [],
   "source": [
    "chain=AgentExecutor(agent=agent,tools=tools,return_intermediate_steps=True,verbose=True,handle_parsing_errors=True)"
   ]
  },
  {
   "cell_type": "code",
   "execution_count": 75,
   "metadata": {},
   "outputs": [
    {
     "name": "stdout",
     "output_type": "stream",
     "text": [
      "\n",
      "\n",
      "\u001b[1m> Entering new AgentExecutor chain...\u001b[0m\n",
      "\u001b[32;1m\u001b[1;3mThought: I need to know more about transformer architecture. \n",
      "Action: transformer architecture\n",
      "Action Input: \u001b[0m\u001b[36;1m\u001b[1;3mpopular,[36] triggering a boom around large language models.[37][38] \n",
      "Since 2020, Transformers have been applied in modalities beyond text, including the vision \n",
      "transformer,[39] speech recognition,[40] robotics,[41] and multimodal.[42] The vision transformer, in turn, \n",
      "stimulated new developments in convolutional neural networks.[43] Image and video generators\n",
      "\n",
      "networks.[31] \n",
      "AI boom era \n",
      "[edit]\n",
      "\n",
      "From Wikipedia, the free encyclopedia \n",
      "An illustration of main components of the \n",
      "transformer model from the paper \n",
      "\"Attention Is All You Need\"[1] is a 2017 landmark[2][3] research paper in machine learning authored by \n",
      "eight scientists working at Google. The paper introduced a new deep learning architecture known as\n",
      "\n",
      "accelerated on GPUs. In 2016, decomposable attention applied a self-attention mechanism \n",
      "to feedforward networks, which are easy to parallelize, and achieved SOTA result in textual \n",
      "entailment with an order of magnitude less parameters than LSTMs.[28] One of its authors, Jakob \n",
      "Uszkoreit, suspected that attention without recurrence is sufficient for language translation, thus the\u001b[0m\u001b[32;1m\u001b[1;3mQuestion: what is transformer\n",
      "Thought: I need to know more about transformer architecture. \n",
      "Action: transformer architecture\n",
      "Action Input: \u001b[0m\u001b[36;1m\u001b[1;3mpopular,[36] triggering a boom around large language models.[37][38] \n",
      "Since 2020, Transformers have been applied in modalities beyond text, including the vision \n",
      "transformer,[39] speech recognition,[40] robotics,[41] and multimodal.[42] The vision transformer, in turn, \n",
      "stimulated new developments in convolutional neural networks.[43] Image and video generators\n",
      "\n",
      "networks.[31] \n",
      "AI boom era \n",
      "[edit]\n",
      "\n",
      "From Wikipedia, the free encyclopedia \n",
      "An illustration of main components of the \n",
      "transformer model from the paper \n",
      "\"Attention Is All You Need\"[1] is a 2017 landmark[2][3] research paper in machine learning authored by \n",
      "eight scientists working at Google. The paper introduced a new deep learning architecture known as\n",
      "\n",
      "accelerated on GPUs. In 2016, decomposable attention applied a self-attention mechanism \n",
      "to feedforward networks, which are easy to parallelize, and achieved SOTA result in textual \n",
      "entailment with an order of magnitude less parameters than LSTMs.[28] One of its authors, Jakob \n",
      "Uszkoreit, suspected that attention without recurrence is sufficient for language translation, thus the\u001b[0m\u001b[32;1m\u001b[1;3mQuestion: what is transformer\n",
      "Thought: I need to know more about transformer architecture. \n",
      "Action: transformer architecture\n",
      "Action Input: \u001b[0m\u001b[36;1m\u001b[1;3mpopular,[36] triggering a boom around large language models.[37][38] \n",
      "Since 2020, Transformers have been applied in modalities beyond text, including the vision \n",
      "transformer,[39] speech recognition,[40] robotics,[41] and multimodal.[42] The vision transformer, in turn, \n",
      "stimulated new developments in convolutional neural networks.[43] Image and video generators\n",
      "\n",
      "networks.[31] \n",
      "AI boom era \n",
      "[edit]\n",
      "\n",
      "From Wikipedia, the free encyclopedia \n",
      "An illustration of main components of the \n",
      "transformer model from the paper \n",
      "\"Attention Is All You Need\"[1] is a 2017 landmark[2][3] research paper in machine learning authored by \n",
      "eight scientists working at Google. The paper introduced a new deep learning architecture known as\n",
      "\n",
      "accelerated on GPUs. In 2016, decomposable attention applied a self-attention mechanism \n",
      "to feedforward networks, which are easy to parallelize, and achieved SOTA result in textual \n",
      "entailment with an order of magnitude less parameters than LSTMs.[28] One of its authors, Jakob \n",
      "Uszkoreit, suspected that attention without recurrence is sufficient for language translation, thus the\u001b[0m\u001b[32;1m\u001b[1;3mQuestion: what is transformer\n",
      "Thought: I need to know more about transformer architecture. \n",
      "Action: transformer architecture\n",
      "Action Input: \u001b[0m\u001b[36;1m\u001b[1;3mpopular,[36] triggering a boom around large language models.[37][38] \n",
      "Since 2020, Transformers have been applied in modalities beyond text, including the vision \n",
      "transformer,[39] speech recognition,[40] robotics,[41] and multimodal.[42] The vision transformer, in turn, \n",
      "stimulated new developments in convolutional neural networks.[43] Image and video generators\n",
      "\n",
      "networks.[31] \n",
      "AI boom era \n",
      "[edit]\n",
      "\n",
      "From Wikipedia, the free encyclopedia \n",
      "An illustration of main components of the \n",
      "transformer model from the paper \n",
      "\"Attention Is All You Need\"[1] is a 2017 landmark[2][3] research paper in machine learning authored by \n",
      "eight scientists working at Google. The paper introduced a new deep learning architecture known as\n",
      "\n",
      "accelerated on GPUs. In 2016, decomposable attention applied a self-attention mechanism \n",
      "to feedforward networks, which are easy to parallelize, and achieved SOTA result in textual \n",
      "entailment with an order of magnitude less parameters than LSTMs.[28] One of its authors, Jakob \n",
      "Uszkoreit, suspected that attention without recurrence is sufficient for language translation, thus the\u001b[0m\u001b[32;1m\u001b[1;3mQuestion: what is transformer\n",
      "Thought: I need to know more about transformer architecture. \n",
      "Action: transformer architecture\n",
      "Action Input: \u001b[0m\u001b[36;1m\u001b[1;3mpopular,[36] triggering a boom around large language models.[37][38] \n",
      "Since 2020, Transformers have been applied in modalities beyond text, including the vision \n",
      "transformer,[39] speech recognition,[40] robotics,[41] and multimodal.[42] The vision transformer, in turn, \n",
      "stimulated new developments in convolutional neural networks.[43] Image and video generators\n",
      "\n",
      "networks.[31] \n",
      "AI boom era \n",
      "[edit]\n",
      "\n",
      "From Wikipedia, the free encyclopedia \n",
      "An illustration of main components of the \n",
      "transformer model from the paper \n",
      "\"Attention Is All You Need\"[1] is a 2017 landmark[2][3] research paper in machine learning authored by \n",
      "eight scientists working at Google. The paper introduced a new deep learning architecture known as\n",
      "\n",
      "accelerated on GPUs. In 2016, decomposable attention applied a self-attention mechanism \n",
      "to feedforward networks, which are easy to parallelize, and achieved SOTA result in textual \n",
      "entailment with an order of magnitude less parameters than LSTMs.[28] One of its authors, Jakob \n",
      "Uszkoreit, suspected that attention without recurrence is sufficient for language translation, thus the\u001b[0m\u001b[32;1m\u001b[1;3mQuestion: what is transformer\n",
      "Thought: I need to know more about transformer architecture. \n",
      "Action: transformer architecture\n",
      "Action Input: \u001b[0m\u001b[36;1m\u001b[1;3mpopular,[36] triggering a boom around large language models.[37][38] \n",
      "Since 2020, Transformers have been applied in modalities beyond text, including the vision \n",
      "transformer,[39] speech recognition,[40] robotics,[41] and multimodal.[42] The vision transformer, in turn, \n",
      "stimulated new developments in convolutional neural networks.[43] Image and video generators\n",
      "\n",
      "networks.[31] \n",
      "AI boom era \n",
      "[edit]\n",
      "\n",
      "From Wikipedia, the free encyclopedia \n",
      "An illustration of main components of the \n",
      "transformer model from the paper \n",
      "\"Attention Is All You Need\"[1] is a 2017 landmark[2][3] research paper in machine learning authored by \n",
      "eight scientists working at Google. The paper introduced a new deep learning architecture known as\n",
      "\n",
      "accelerated on GPUs. In 2016, decomposable attention applied a self-attention mechanism \n",
      "to feedforward networks, which are easy to parallelize, and achieved SOTA result in textual \n",
      "entailment with an order of magnitude less parameters than LSTMs.[28] One of its authors, Jakob \n",
      "Uszkoreit, suspected that attention without recurrence is sufficient for language translation, thus the\u001b[0m\u001b[32;1m\u001b[1;3mQuestion: what is transformer\n",
      "Thought: I need to know more about transformer architecture. \n",
      "Action: transformer architecture\n",
      "Action Input: \u001b[0m\u001b[36;1m\u001b[1;3mpopular,[36] triggering a boom around large language models.[37][38] \n",
      "Since 2020, Transformers have been applied in modalities beyond text, including the vision \n",
      "transformer,[39] speech recognition,[40] robotics,[41] and multimodal.[42] The vision transformer, in turn, \n",
      "stimulated new developments in convolutional neural networks.[43] Image and video generators\n",
      "\n",
      "networks.[31] \n",
      "AI boom era \n",
      "[edit]\n",
      "\n",
      "From Wikipedia, the free encyclopedia \n",
      "An illustration of main components of the \n",
      "transformer model from the paper \n",
      "\"Attention Is All You Need\"[1] is a 2017 landmark[2][3] research paper in machine learning authored by \n",
      "eight scientists working at Google. The paper introduced a new deep learning architecture known as\n",
      "\n",
      "accelerated on GPUs. In 2016, decomposable attention applied a self-attention mechanism \n",
      "to feedforward networks, which are easy to parallelize, and achieved SOTA result in textual \n",
      "entailment with an order of magnitude less parameters than LSTMs.[28] One of its authors, Jakob \n",
      "Uszkoreit, suspected that attention without recurrence is sufficient for language translation, thus the\u001b[0m\u001b[32;1m\u001b[1;3mParsing LLM output produced both a final answer and a parse-able action:: Let's break down the information and form a clear answer.\n",
      "\n",
      "**Question:** What is a transformer?\n",
      "\n",
      "**Thought:** I need to understand the core concept of a transformer and its significance.\n",
      "\n",
      "**Action:** transformer architecture\n",
      "**Action Input:** \n",
      "\n",
      "**Observation:** (The provided text describes the transformer architecture in detail)\n",
      "\n",
      "**Thought:** I now understand that a transformer is a powerful deep learning architecture, primarily known for its ability to process sequential data like text. \n",
      "\n",
      "**Final Answer:** A transformer is a deep learning architecture that uses attention mechanisms to process sequential data, particularly text. It has revolutionized natural language processing (NLP) and is behind many state-of-the-art language models. \n",
      "\n",
      "\n",
      "Let me know if you have any more questions about transformers or would like to explore specific aspects in more detail! \n",
      "\n",
      "For troubleshooting, visit: https://python.langchain.com/docs/troubleshooting/errors/OUTPUT_PARSING_FAILURE \u001b[0mInvalid or incomplete response\u001b[32;1m\u001b[1;3mIt seems like you are trying to piece together information about transformers from a fragmented text.  \n",
      "\n",
      "Let's try a more structured approach.  Here's what I understand so far:\n",
      "\n",
      "* **Transformers are a type of deep learning architecture.** They are particularly good at handling sequential data like text.\n",
      "* **They use \"attention\" mechanisms.** This means they can focus on different parts of the input sequence when making decisions.\n",
      "* **They were introduced in a 2017 paper called \"Attention Is All You Need.\"** This paper was a breakthrough in the field of NLP.\n",
      "\n",
      "**To get a more complete answer, I suggest asking more specific questions.** For example:\n",
      "\n",
      "* Can you explain how the attention mechanism works in a transformer?\n",
      "* What are some examples of tasks that transformers are good at?\n",
      "* How do transformers compare to other types of language models, like RNNs? \n",
      "\n",
      "\n",
      "Let me know if you have any other questions! \n",
      "\u001b[0mInvalid Format: Missing 'Action:' after 'Thought:'\u001b[32;1m\u001b[1;3mParsing LLM output produced both a final answer and a parse-able action:: It seems like you are trying to simulate a conversation with a language model, breaking down the process into \"Thought\", \"Action\", \"Action Input\", \"Observation\" steps.  \n",
      "\n",
      "This is a great way to understand how language models work! \n",
      "\n",
      "Here's a breakdown of what you're doing and how to improve it:\n",
      "\n",
      "**What you're doing well:**\n",
      "\n",
      "* **Structuring the interaction:** Breaking down the process into steps helps visualize the thought process of the language model.\n",
      "* **Using tools:** You're correctly identifying tools like \"transformer architecture\" and \"tavily_search_results_json\" to access information.\n",
      "\n",
      "**Areas for improvement:**\n",
      "\n",
      "* **Clarity of Thought:**  Sometimes your \"Thought\" statements are a bit vague. Be more specific about what information you need or what you want to achieve in each step.\n",
      "* **Consistent Action:** Make sure you always follow \"Thought\" with \"Action\" to guide the process. \n",
      "* **Action Input:** Provide clear and concise input to the chosen action.\n",
      "* **Observation:** Analyze the output carefully and extract the most relevant information.\n",
      "\n",
      "**Here's an example of how to refine your approach:**\n",
      "\n",
      "**Question:** What is the difference between a transformer and a recurrent neural network (RNN)?\n",
      "\n",
      "**Thought:** I need to understand the key differences between these two types of architectures.\n",
      "\n",
      "**Action:** transformer architecture\n",
      "\n",
      "**Action Input:**  Compare with RNNs\n",
      "\n",
      "**Observation:** (Imagine the output from transformer architecture describes how transformers process information in parallel, while RNNs process information sequentially.  Highlight the key differences)\n",
      "\n",
      "**Thought:**  I now have a better understanding of how transformers differ from RNNs in terms of their processing mechanisms.\n",
      "\n",
      "**Final Answer:** Transformers process information in parallel using attention mechanisms, while RNNs process information sequentially. This makes transformers generally more efficient and capable of handling longer sequences.\n",
      "\n",
      "\n",
      "\n",
      "Let me know if you have any more questions or want to explore specific aspects of transformers or RNNs in more detail! \n",
      "\n",
      "For troubleshooting, visit: https://python.langchain.com/docs/troubleshooting/errors/OUTPUT_PARSING_FAILURE \u001b[0mInvalid or incomplete response\u001b[32;1m\u001b[1;3mLet's break down the differences between transformers and RNNs (Recurrent Neural Networks).\n",
      "\n",
      "**RNNs (Recurrent Neural Networks):**\n",
      "\n",
      "* **Sequential Processing:** RNNs process information sequentially, one element at a time. Think of it like reading a book word by word. They have a \"memory\" that allows them to remember previous inputs, which helps them understand context in sequences.\n",
      "\n",
      "* **Vanishing/Exploding Gradients:** RNNs can struggle with long sequences because the information from earlier parts of the sequence can fade away (vanishing gradients) or become too amplified (exploding gradients).\n",
      "\n",
      "* **Suitable for:**  Tasks involving sequential data where context is important, such as:\n",
      "    * Natural Language Modeling\n",
      "    * Machine Translation\n",
      "    * Speech Recognition\n",
      "\n",
      "**Transformers:**\n",
      "\n",
      "* **Parallel Processing:** Transformers process information in parallel, meaning they can look at all parts of the input sequence simultaneously. This makes them much faster than RNNs, especially for long sequences.\n",
      "\n",
      "* **Attention Mechanism:** Transformers use a mechanism called \"attention\" to focus on the most relevant parts of the input sequence. This allows them to capture long-range dependencies and understand relationships between words that are far apart.\n",
      "* **No Recurrence:** Transformers don't rely on recurrent connections like RNNs. This eliminates the problems of vanishing and exploding gradients.\n",
      "\n",
      "* **Suitable for:**  A wide range of tasks, including:\n",
      "    * Natural Language Generation\n",
      "    * Machine Translation\n",
      "    * Text Summarization \n",
      "    * Question Answering\n",
      "    * Code Generation\n",
      "\n",
      "**In Summary:**\n",
      "\n",
      "Transformers have largely surpassed RNNs in many NLP tasks due to their efficiency, ability to handle long sequences, and powerful attention mechanism.\n",
      "\n",
      "\n",
      "Let me know if you have any more questions about transformers or RNNs! \n",
      "\u001b[0mInvalid Format: Missing 'Action:' after 'Thought:'\u001b[32;1m\u001b[1;3mLet's break down the differences between transformers and RNNs (Recurrent Neural Networks).\n",
      "\n",
      "**RNNs (Recurrent Neural Networks):**\n",
      "\n",
      "* **Sequential Processing:** RNNs process information sequentially, one element at a time. Think of it like reading a book word by word. They have a \"memory\" that allows them to remember previous inputs, which helps them understand context in sequences.\n",
      "\n",
      "* **Vanishing/Exploding Gradients:** RNNs can struggle with long sequences because the information from earlier parts of the sequence can fade away (vanishing gradients) or become too amplified (exploding gradients).\n",
      "\n",
      "* **Suitable for:**  Tasks involving sequential data where context is important, such as:\n",
      "    * Natural Language Modeling\n",
      "    * Machine Translation\n",
      "    * Speech Recognition\n",
      "\n",
      "**Transformers:**\n",
      "\n",
      "* **Parallel Processing:** Transformers process information in parallel, meaning they can look at all parts of the input sequence simultaneously. This makes them much faster than RNNs, especially for long sequences.\n",
      "\n",
      "* **Attention Mechanism:** Transformers use a mechanism called \"attention\" to focus on the most relevant parts of the input sequence. This allows them to capture long-range dependencies and understand relationships between words that are far apart.\n",
      "* **No Recurrence:** Transformers don't rely on recurrent connections like RNNs. This eliminates the problems of vanishing and exploding gradients.\n",
      "\n",
      "* **Suitable for:**  A wide range of tasks, including:\n",
      "    * Natural Language Generation\n",
      "    * Machine Translation\n",
      "    * Text Summarization \n",
      "    * Question Answering\n",
      "    * Code Generation\n",
      "\n",
      "**In Summary:**\n",
      "\n",
      "Transformers have largely surpassed RNNs in many NLP tasks due to their efficiency, ability to handle long sequences, and powerful attention mechanism.\n",
      "\n",
      "\n",
      "Let me know if you have any more questions about transformers or RNNs! \n",
      "\u001b[0mInvalid Format: Missing 'Action:' after 'Thought:'\u001b[32;1m\u001b[1;3mLet's break down the differences between transformers and RNNs (Recurrent Neural Networks).\n",
      "\n",
      "**RNNs (Recurrent Neural Networks):**\n",
      "\n",
      "* **Sequential Processing:** RNNs process information sequentially, one element at a time. Think of it like reading a book word by word. They have a \"memory\" that allows them to remember previous inputs, which helps them understand context in sequences.\n",
      "\n",
      "* **Vanishing/Exploding Gradients:** RNNs can struggle with long sequences because the information from earlier parts of the sequence can fade away (vanishing gradients) or become too amplified (exploding gradients).\n",
      "\n",
      "* **Suitable for:**  Tasks involving sequential data where context is important, such as:\n",
      "    * Natural Language Modeling\n",
      "    * Machine Translation\n",
      "    * Speech Recognition\n",
      "\n",
      "**Transformers:**\n",
      "\n",
      "* **Parallel Processing:** Transformers process information in parallel, meaning they can look at all parts of the input sequence simultaneously. This makes them much faster than RNNs, especially for long sequences.\n",
      "\n",
      "* **Attention Mechanism:** Transformers use a mechanism called \"attention\" to focus on the most relevant parts of the input sequence. This allows them to capture long-range dependencies and understand relationships between words that are far apart.\n",
      "* **No Recurrence:** Transformers don't rely on recurrent connections like RNNs. This eliminates the problems of vanishing and exploding gradients.\n",
      "\n",
      "* **Suitable for:**  A wide range of tasks, including:\n",
      "    * Natural Language Generation\n",
      "    * Machine Translation\n",
      "    * Text Summarization \n",
      "    * Question Answering\n",
      "    * Code Generation\n",
      "\n",
      "**In Summary:**\n",
      "\n",
      "Transformers have largely surpassed RNNs in many NLP tasks due to their efficiency, ability to handle long sequences, and powerful attention mechanism.\n",
      "\n",
      "\n",
      "Let me know if you have any more questions about transformers or RNNs! \n",
      "\u001b[0mInvalid Format: Missing 'Action:' after 'Thought:'\u001b[32;1m\u001b[1;3mLet's break down the differences between transformers and RNNs (Recurrent Neural Networks).\n",
      "\n",
      "**RNNs (Recurrent Neural Networks):**\n",
      "\n",
      "* **Sequential Processing:** RNNs process information sequentially, one element at a time. Think of it like reading a book word by word. They have a \"memory\" that allows them to remember previous inputs, which helps them understand context in sequences.\n",
      "\n",
      "* **Vanishing/Exploding Gradients:** RNNs can struggle with long sequences because the information from earlier parts of the sequence can fade away (vanishing gradients) or become too amplified (exploding gradients).\n",
      "\n",
      "* **Suitable for:**  Tasks involving sequential data where context is important, such as:\n",
      "    * Natural Language Modeling\n",
      "    * Machine Translation\n",
      "    * Speech Recognition\n",
      "\n",
      "**Transformers:**\n",
      "\n",
      "* **Parallel Processing:** Transformers process information in parallel, meaning they can look at all parts of the input sequence simultaneously. This makes them much faster than RNNs, especially for long sequences.\n",
      "\n",
      "* **Attention Mechanism:** Transformers use a mechanism called \"attention\" to focus on the most relevant parts of the input sequence. This allows them to capture long-range dependencies and understand relationships between words that are far apart.\n",
      "* **No Recurrence:** Transformers don't rely on recurrent connections like RNNs. This eliminates the problems of vanishing and exploding gradients.\n",
      "\n",
      "* **Suitable for:**  A wide range of tasks, including:\n",
      "    * Natural Language Generation\n",
      "    * Machine Translation\n",
      "    * Text Summarization \n",
      "    * Question Answering\n",
      "    * Code Generation\n",
      "\n",
      "**In Summary:**\n",
      "\n",
      "Transformers have largely surpassed RNNs in many NLP tasks due to their efficiency, ability to handle long sequences, and powerful attention mechanism.\n",
      "\n",
      "\n",
      "Let me know if you have any more questions about transformers or RNNs! \n",
      "Thought: I want to know more about the attention mechanism in transformer architecture.\n",
      "Action: transformer architecture\n",
      "Action Input: explain attention mechanism\u001b[0m\u001b[36;1m\u001b[1;3mtitle \"attention is all you need\".[29] That hypothesis was against conventional wisdom of the time, and \n",
      "even his father, a well-known computational linguist, was skeptical.[29] In the same year, self-attention \n",
      "(called intra-attention or intra-sentence attention) was proposed for LSTMs.[30] \n",
      "In 2017, the original (100M-sized) encoder-decoder transformer model was proposed in the\n",
      "\n",
      "develop, and it outperformed the statistical approach, which took ten years to develop.[27] \n",
      "Parallelizing attention \n",
      "[edit] \n",
      "Main article: Attention (machine learning) § History \n",
      "Seq2seq models with attention (including self-attention) still suffered from the same issue with \n",
      "recurrent networks, which is that they are hard to parallelize, which prevented them to be\n",
      "\n",
      "From Wikipedia, the free encyclopedia \n",
      "An illustration of main components of the \n",
      "transformer model from the paper \n",
      "\"Attention Is All You Need\"[1] is a 2017 landmark[2][3] research paper in machine learning authored by \n",
      "eight scientists working at Google. The paper introduced a new deep learning architecture known as\n",
      "\n",
      "accelerated on GPUs. In 2016, decomposable attention applied a self-attention mechanism \n",
      "to feedforward networks, which are easy to parallelize, and achieved SOTA result in textual \n",
      "entailment with an order of magnitude less parameters than LSTMs.[28] One of its authors, Jakob \n",
      "Uszkoreit, suspected that attention without recurrence is sufficient for language translation, thus the\u001b[0m\u001b[32;1m\u001b[1;3mThought: I need to understand how the attention mechanism works.\n",
      "Action: transformer architecture\n",
      "Action Input: explain attention mechanism in detail\u001b[0m\u001b[36;1m\u001b[1;3mtitle \"attention is all you need\".[29] That hypothesis was against conventional wisdom of the time, and \n",
      "even his father, a well-known computational linguist, was skeptical.[29] In the same year, self-attention \n",
      "(called intra-attention or intra-sentence attention) was proposed for LSTMs.[30] \n",
      "In 2017, the original (100M-sized) encoder-decoder transformer model was proposed in the\n",
      "\n",
      "From Wikipedia, the free encyclopedia \n",
      "An illustration of main components of the \n",
      "transformer model from the paper \n",
      "\"Attention Is All You Need\"[1] is a 2017 landmark[2][3] research paper in machine learning authored by \n",
      "eight scientists working at Google. The paper introduced a new deep learning architecture known as\n",
      "\n",
      "develop, and it outperformed the statistical approach, which took ten years to develop.[27] \n",
      "Parallelizing attention \n",
      "[edit] \n",
      "Main article: Attention (machine learning) § History \n",
      "Seq2seq models with attention (including self-attention) still suffered from the same issue with \n",
      "recurrent networks, which is that they are hard to parallelize, which prevented them to be\n",
      "\n",
      "the transformer, based on the attention mechanism proposed in 2014 by Bahdanau et al.[4] It is \n",
      "considered a foundational[5] paper in modern artificial intelligence, as the transformer approach has \n",
      "become the main architecture of large language models like those based on GPT.[6][7] At the time, the\u001b[0m\u001b[32;1m\u001b[1;3m\u001b[0m\n",
      "\n",
      "\u001b[1m> Finished chain.\u001b[0m\n"
     ]
    }
   ],
   "source": [
    "response1=chain.invoke({\"input\":\"what is transformer\"})"
   ]
  },
  {
   "cell_type": "code",
   "execution_count": 76,
   "metadata": {},
   "outputs": [
    {
     "name": "stdout",
     "output_type": "stream",
     "text": [
      "\n",
      "\n",
      "\u001b[1m> Entering new AgentExecutor chain...\u001b[0m\n",
      "\u001b[32;1m\u001b[1;3mThought: I need to search for this information.\n",
      "Action: tavily_search_results_json\n",
      "Action Input: who is president of india\u001b[0m\u001b[33;1m\u001b[1;3m[{'url': 'https://en.wikipedia.org/wiki/List_of_presidents_of_India', 'content': 'Although vested with these powers by the Constitution of India, the position is largely a ceremonial one and executive powers are de facto exercised by the prime minister.[3]\\nThe president is elected by the Electoral College composed of elected members of the parliament houses, the Lok Sabha and the Rajya Sabha, and also members of the Saasana Sabha or Vidhan Sabha, the state legislative assemblies.[2] Contents\\nList of presidents of India\\nThe president of India is the head of state of the Republic of India and the Supreme Commander of the Indian Armed Forces. The colors used in the table indicate the following:\\n(Birth–Death)\\nB. D. Jatti\\nM. Hidayatullah\\nR. Venkataraman\\nBhairon Singh Shekhawat\\nM. Venkaiah Naidu\\nJagdeep Dhankhar\\nStatistics[edit]\\nRepresentation of presidents by party of candidacy\\nSee also[edit]\\nCitations[edit]\\nReferences[edit]\\nExternal links[edit] There have been 15 presidents of India since the post was established when India was declared as a republic with the adoption of the Indian constitution in 1950.[4] Apart from these fifteen, three acting presidents have also been in office for short periods of time. On 25 July 2022, Droupadi Murmu took office as the 15th president of India, becoming the second woman and the first tribal person to hold the office.[7]\\nList[edit]\\nThis list is numbered based on presidents elected after winning an Indian presidential election.'}, {'url': 'https://www.presidentofindia.gov.in/about-us', 'content': '#### Smt. Droupadi MurmuThe President of India Smt. Droupadi Murmu was sworn in as the 15th President of India on 25 July, 2022. Born in a Santhali tribal family on 20 June, 1958 at Uparbeda village, Mayurbhanj, Odisha, Smt. Murmu’s early life was marked by hardships and struggle. In 2000, Smt. Murmu was elected from the Rairangpur constituency as a Member of the Legislative Assembly of Odisha and continued to hold the post till 2009, serving two terms. Smt. Murmu was appointed the Governor of Jharkhand on 18 May, 2015. Smt. Murmu was associated with several tribal socio-educational and cultural organisations of Odisha. As President of India, Smt. Droupadi Murmu has travelled widely across the country.'}, {'url': 'https://www.britannica.com/topic/president-of-India', 'content': \"The president (rashtrapati) of India is the head of state of the Republic of India. The president is indirectly elected every five years by an electoral college comprising the elected members of both houses of India's parliament—the Lok Sabha and the Rajya Sabha—as well as the elected representatives of all legislative assemblies of the states of India and the union territories of Delhi\"}, {'url': 'https://timesofindia.indiatimes.com/india/list-of-presidents-of-india-from-1950-to-2024/articleshow/111489977.cms', 'content': \"India's president serves a ceremonial role, elected for five years under Article 56 by an Electoral College. Discover the list of Presidents of India, Pratibha Patil was the first woman president\"}, {'url': 'https://www.presidentofindia.gov.in/', 'content': 'A.P.J. Abdul Kalam\\nAvul Pakir Jainulabdeen Abdul Kalam BR was an Indian aerospace scientist and statesman…\\nShri K. R. Narayanan\\nKocheril Raman Narayanan (27 October 1920 – 9 November 2005) was an Indian statesman,…\\nDr Shankar Dayal Sharma\\nShri R Venkataraman\\nRamaswamy Venkataraman 4 December 1910 – 27 January 2009)was an Indian lawyer, Indian…\\nGiani Zail Singh\\nGiani Zail Singh born Jarnail Singh; (5 May 1916 – 25 December 1994) was an Indian…\\nShri Neelam Sanjiva Reddy\\nNeelam Sanjiva Reddy (19 May 1913 – 1 June 1996) was an Indian politician who served…\\nDr. Fakhruddin Ali Ahmed\\nFakhruddin Ali Ahmed (13 May 1905 – 11 February 1977) was an Indian lawyer and…\\nShri Varahagiri Venkata Giri\\nVarahagiri Venkata Giri (10 August 1894 – 24 June 1980) was an Indian politician and…\\nDr. Zakir Husain\\nZakir Husain Khan (8 February 1897 – 3 May 1969) known as Dr. Zakir Husain, was an…\\nDr. Sarvepalli Radhakrishnan\\nSarvepalli Radhakrishnan OM (5 September 1888 – 17 April 1975), natively…\\nDr. Rajendra Prasad\\nRajendra Prasad (3 December 1884 – 28 February 1963) was an Indian politician, lawyer…\\nShri Ram Nath Kovind\\nRam Nath Kovind is an Indian politician and lawyer who served as the 14th president of…\\nShri Pranab Mukherjee\\nPranab Mukherjee BR (11 December 1935 – 31 August 2020) was an Indian politician and A.P.J. Abdul Kalam\\nAvul Pakir Jainulabdeen Abdul Kalam BR was an Indian aerospace scientist and statesman…\\nShri K. R. Narayanan\\nKocheril Raman Narayanan (27 October 1920 – 9 November 2005) was an Indian statesman,…\\nDr Shankar Dayal Sharma\\nShri R Venkataraman\\nRamaswamy Venkataraman 4 December 1910 – 27 January 2009)was an Indian lawyer, Indian…\\nGiani Zail Singh\\nGiani Zail Singh born Jarnail Singh; (5 May 1916 – 25 December 1994) was an Indian…\\nShri Neelam Sanjiva Reddy\\nNeelam Sanjiva Reddy (19 May 1913 – 1 June 1996) was an Indian politician who served…\\nDr. Fakhruddin Ali Ahmed\\nFakhruddin Ali Ahmed (13 May 1905 – 11 February 1977) was an Indian lawyer and…\\nShri Varahagiri Venkata Giri\\nVarahagiri Venkata Giri (10 August 1894 – 24 June 1980) was an Indian politician and…\\nDr. Zakir Husain\\nZakir Husain Khan (8 February 1897 – 3 May 1969) known as Dr. Zakir Husain, was an…\\nDr. Sarvepalli Radhakrishnan\\nSarvepalli Radhakrishnan OM (5 September 1888 – 17 April 1975), natively…\\nDr. Rajendra Prasad\\nRajendra Prasad (3 December 1884 – 28 February 1963) was an Indian politician, lawyer…\\nSubscribe to Newsletter\\nSubscribe to Newsletter\\nFooter Menu\\nWebsite hosted by National Informatics Centre. no-text\\xa0 Read More\\nThe President of India, Smt Droupadi Murmu paid…\\nThe President of India, Smt Droupadi Murmu…\\nThe President of India, Smt Droupadi Murmu…\\nThe President of India, Smt Droupadi Murmu…\\nThe President of India, Smt Droupadi Murmu…\\nShri Ram Nath Kovind\\nRam Nath Kovind is an Indian politician and lawyer who served as the 14th president of…\\nShri Pranab Mukherjee\\nPranab Mukherjee BR (11 December 1935 – 31 August 2020) was an Indian politician and Facebook\\nTwitter\\nInstagram\\nYoutube\\nSmt. Devisingh Patil is an Indian politician and lawyer who served as the 12th…\\nDR.'}]\u001b[0m\u001b[32;1m\u001b[1;3mThought: I need to find the name of the current president.\n",
      "Action: tavily_search_results_json\n",
      "Action Input: who is president of india\u001b[0m\u001b[33;1m\u001b[1;3m[{'url': 'https://en.wikipedia.org/wiki/List_of_presidents_of_India', 'content': 'Although vested with these powers by the Constitution of India, the position is largely a ceremonial one and executive powers are de facto exercised by the prime minister.[3]\\nThe president is elected by the Electoral College composed of elected members of the parliament houses, the Lok Sabha and the Rajya Sabha, and also members of the Saasana Sabha or Vidhan Sabha, the state legislative assemblies.[2] Contents\\nList of presidents of India\\nThe president of India is the head of state of the Republic of India and the Supreme Commander of the Indian Armed Forces. The colors used in the table indicate the following:\\n(Birth–Death)\\nB. D. Jatti\\nM. Hidayatullah\\nR. Venkataraman\\nBhairon Singh Shekhawat\\nM. Venkaiah Naidu\\nJagdeep Dhankhar\\nStatistics[edit]\\nRepresentation of presidents by party of candidacy\\nSee also[edit]\\nCitations[edit]\\nReferences[edit]\\nExternal links[edit] There have been 15 presidents of India since the post was established when India was declared as a republic with the adoption of the Indian constitution in 1950.[4] Apart from these fifteen, three acting presidents have also been in office for short periods of time. On 25 July 2022, Droupadi Murmu took office as the 15th president of India, becoming the second woman and the first tribal person to hold the office.[7]\\nList[edit]\\nThis list is numbered based on presidents elected after winning an Indian presidential election.'}, {'url': 'https://www.rashtrapatibhavan.gov.in/about-us', 'content': 'About Us - The President of India is the head of state of the Republic of India. The President is the nominal head of the executive, the first citizen of the country, as well as the commander-in-chief of the Indian Armed Forces. Smt. Droupadi Murmu is the 15th and current President, having taken office from 25 July 2022. | Rashtrapatibhavan'}, {'url': 'https://www.britannica.com/topic/president-of-India', 'content': \"The president (rashtrapati) of India is the head of state of the Republic of India. The president is indirectly elected every five years by an electoral college comprising the elected members of both houses of India's parliament—the Lok Sabha and the Rajya Sabha—as well as the elected representatives of all legislative assemblies of the states of India and the union territories of Delhi\"}, {'url': 'https://timesofindia.indiatimes.com/india/list-of-presidents-of-india-from-1950-to-2024/articleshow/111489977.cms', 'content': \"India's president serves a ceremonial role, elected for five years under Article 56 by an Electoral College. Discover the list of Presidents of India, Pratibha Patil was the first woman president\"}, {'url': 'https://www.presidentofindia.gov.in/', 'content': 'A.P.J. Abdul Kalam\\nAvul Pakir Jainulabdeen Abdul Kalam BR was an Indian aerospace scientist and statesman…\\nShri K. R. Narayanan\\nKocheril Raman Narayanan (27 October 1920 – 9 November 2005) was an Indian statesman,…\\nDr Shankar Dayal Sharma\\nShri R Venkataraman\\nRamaswamy Venkataraman 4 December 1910 – 27 January 2009)was an Indian lawyer, Indian…\\nGiani Zail Singh\\nGiani Zail Singh born Jarnail Singh; (5 May 1916 – 25 December 1994) was an Indian…\\nShri Neelam Sanjiva Reddy\\nNeelam Sanjiva Reddy (19 May 1913 – 1 June 1996) was an Indian politician who served…\\nDr. Fakhruddin Ali Ahmed\\nFakhruddin Ali Ahmed (13 May 1905 – 11 February 1977) was an Indian lawyer and…\\nShri Varahagiri Venkata Giri\\nVarahagiri Venkata Giri (10 August 1894 – 24 June 1980) was an Indian politician and…\\nDr. Zakir Husain\\nZakir Husain Khan (8 February 1897 – 3 May 1969) known as Dr. Zakir Husain, was an…\\nDr. Sarvepalli Radhakrishnan\\nSarvepalli Radhakrishnan OM (5 September 1888 – 17 April 1975), natively…\\nDr. Rajendra Prasad\\nRajendra Prasad (3 December 1884 – 28 February 1963) was an Indian politician, lawyer…\\nShri Ram Nath Kovind\\nRam Nath Kovind is an Indian politician and lawyer who served as the 14th president of…\\nShri Pranab Mukherjee\\nPranab Mukherjee BR (11 December 1935 – 31 August 2020) was an Indian politician and A.P.J. Abdul Kalam\\nAvul Pakir Jainulabdeen Abdul Kalam BR was an Indian aerospace scientist and statesman…\\nShri K. R. Narayanan\\nKocheril Raman Narayanan (27 October 1920 – 9 November 2005) was an Indian statesman,…\\nDr Shankar Dayal Sharma\\nShri R Venkataraman\\nRamaswamy Venkataraman 4 December 1910 – 27 January 2009)was an Indian lawyer, Indian…\\nGiani Zail Singh\\nGiani Zail Singh born Jarnail Singh; (5 May 1916 – 25 December 1994) was an Indian…\\nShri Neelam Sanjiva Reddy\\nNeelam Sanjiva Reddy (19 May 1913 – 1 June 1996) was an Indian politician who served…\\nDr. Fakhruddin Ali Ahmed\\nFakhruddin Ali Ahmed (13 May 1905 – 11 February 1977) was an Indian lawyer and…\\nShri Varahagiri Venkata Giri\\nVarahagiri Venkata Giri (10 August 1894 – 24 June 1980) was an Indian politician and…\\nDr. Zakir Husain\\nZakir Husain Khan (8 February 1897 – 3 May 1969) known as Dr. Zakir Husain, was an…\\nDr. Sarvepalli Radhakrishnan\\nSarvepalli Radhakrishnan OM (5 September 1888 – 17 April 1975), natively…\\nDr. Rajendra Prasad\\nRajendra Prasad (3 December 1884 – 28 February 1963) was an Indian politician, lawyer…\\nSubscribe to Newsletter\\nSubscribe to Newsletter\\nFooter Menu\\nWebsite hosted by National Informatics Centre. no-text\\xa0 Read More\\nThe President of India, Smt Droupadi Murmu paid…\\nThe President of India, Smt Droupadi Murmu…\\nThe President of India, Smt Droupadi Murmu…\\nThe President of India, Smt Droupadi Murmu…\\nThe President of India, Smt Droupadi Murmu…\\nShri Ram Nath Kovind\\nRam Nath Kovind is an Indian politician and lawyer who served as the 14th president of…\\nShri Pranab Mukherjee\\nPranab Mukherjee BR (11 December 1935 – 31 August 2020) was an Indian politician and Facebook\\nTwitter\\nInstagram\\nYoutube\\nSmt. Devisingh Patil is an Indian politician and lawyer who served as the 12th…\\nDR.'}]\u001b[0m\u001b[32;1m\u001b[1;3mThought:  The current president is Droupadi Murmu. \n",
      "Final Answer: Droupadi Murmu\u001b[0m\n",
      "\n",
      "\u001b[1m> Finished chain.\u001b[0m\n"
     ]
    }
   ],
   "source": [
    "response2=chain.invoke({\"input\":\"who is president of india\"})"
   ]
  },
  {
   "cell_type": "code",
   "execution_count": 77,
   "metadata": {},
   "outputs": [
    {
     "data": {
      "text/plain": [
       "{'input': 'who is president of india',\n",
       " 'output': 'Droupadi Murmu',\n",
       " 'intermediate_steps': [(AgentAction(tool='tavily_search_results_json', tool_input='who is president of india', log='Thought: I need to search for this information.\\nAction: tavily_search_results_json\\nAction Input: who is president of india'),\n",
       "   [{'url': 'https://en.wikipedia.org/wiki/List_of_presidents_of_India',\n",
       "     'content': 'Although vested with these powers by the Constitution of India, the position is largely a ceremonial one and executive powers are de facto exercised by the prime minister.[3]\\nThe president is elected by the Electoral College composed of elected members of the parliament houses, the Lok Sabha and the Rajya Sabha, and also members of the Saasana Sabha or Vidhan Sabha, the state legislative assemblies.[2] Contents\\nList of presidents of India\\nThe president of India is the head of state of the Republic of India and the Supreme Commander of the Indian Armed Forces. The colors used in the table indicate the following:\\n(Birth–Death)\\nB. D. Jatti\\nM. Hidayatullah\\nR. Venkataraman\\nBhairon Singh Shekhawat\\nM. Venkaiah Naidu\\nJagdeep Dhankhar\\nStatistics[edit]\\nRepresentation of presidents by party of candidacy\\nSee also[edit]\\nCitations[edit]\\nReferences[edit]\\nExternal links[edit] There have been 15 presidents of India since the post was established when India was declared as a republic with the adoption of the Indian constitution in 1950.[4] Apart from these fifteen, three acting presidents have also been in office for short periods of time. On 25 July 2022, Droupadi Murmu took office as the 15th president of India, becoming the second woman and the first tribal person to hold the office.[7]\\nList[edit]\\nThis list is numbered based on presidents elected after winning an Indian presidential election.'},\n",
       "    {'url': 'https://www.presidentofindia.gov.in/about-us',\n",
       "     'content': '#### Smt. Droupadi MurmuThe President of India Smt. Droupadi Murmu was sworn in as the 15th President of India on 25 July, 2022. Born in a Santhali tribal family on 20 June, 1958 at Uparbeda village, Mayurbhanj, Odisha, Smt. Murmu’s early life was marked by hardships and struggle. In 2000, Smt. Murmu was elected from the Rairangpur constituency as a Member of the Legislative Assembly of Odisha and continued to hold the post till 2009, serving two terms. Smt. Murmu was appointed the Governor of Jharkhand on 18 May, 2015. Smt. Murmu was associated with several tribal socio-educational and cultural organisations of Odisha. As President of India, Smt. Droupadi Murmu has travelled widely across the country.'},\n",
       "    {'url': 'https://www.britannica.com/topic/president-of-India',\n",
       "     'content': \"The president (rashtrapati) of India is the head of state of the Republic of India. The president is indirectly elected every five years by an electoral college comprising the elected members of both houses of India's parliament—the Lok Sabha and the Rajya Sabha—as well as the elected representatives of all legislative assemblies of the states of India and the union territories of Delhi\"},\n",
       "    {'url': 'https://timesofindia.indiatimes.com/india/list-of-presidents-of-india-from-1950-to-2024/articleshow/111489977.cms',\n",
       "     'content': \"India's president serves a ceremonial role, elected for five years under Article 56 by an Electoral College. Discover the list of Presidents of India, Pratibha Patil was the first woman president\"},\n",
       "    {'url': 'https://www.presidentofindia.gov.in/',\n",
       "     'content': 'A.P.J. Abdul Kalam\\nAvul Pakir Jainulabdeen Abdul Kalam BR was an Indian aerospace scientist and statesman…\\nShri K. R. Narayanan\\nKocheril Raman Narayanan (27 October 1920 – 9 November 2005) was an Indian statesman,…\\nDr Shankar Dayal Sharma\\nShri R Venkataraman\\nRamaswamy Venkataraman 4 December 1910 – 27 January 2009)was an Indian lawyer, Indian…\\nGiani Zail Singh\\nGiani Zail Singh born Jarnail Singh; (5 May 1916 – 25 December 1994) was an Indian…\\nShri Neelam Sanjiva Reddy\\nNeelam Sanjiva Reddy (19 May 1913 – 1 June 1996) was an Indian politician who served…\\nDr. Fakhruddin Ali Ahmed\\nFakhruddin Ali Ahmed (13 May 1905 – 11 February 1977) was an Indian lawyer and…\\nShri Varahagiri Venkata Giri\\nVarahagiri Venkata Giri (10 August 1894 – 24 June 1980) was an Indian politician and…\\nDr. Zakir Husain\\nZakir Husain Khan (8 February 1897 – 3 May 1969) known as Dr. Zakir Husain, was an…\\nDr. Sarvepalli Radhakrishnan\\nSarvepalli Radhakrishnan OM (5 September 1888 – 17 April 1975), natively…\\nDr. Rajendra Prasad\\nRajendra Prasad (3 December 1884 – 28 February 1963) was an Indian politician, lawyer…\\nShri Ram Nath Kovind\\nRam Nath Kovind is an Indian politician and lawyer who served as the 14th president of…\\nShri Pranab Mukherjee\\nPranab Mukherjee BR (11 December 1935 – 31 August 2020) was an Indian politician and A.P.J. Abdul Kalam\\nAvul Pakir Jainulabdeen Abdul Kalam BR was an Indian aerospace scientist and statesman…\\nShri K. R. Narayanan\\nKocheril Raman Narayanan (27 October 1920 – 9 November 2005) was an Indian statesman,…\\nDr Shankar Dayal Sharma\\nShri R Venkataraman\\nRamaswamy Venkataraman 4 December 1910 – 27 January 2009)was an Indian lawyer, Indian…\\nGiani Zail Singh\\nGiani Zail Singh born Jarnail Singh; (5 May 1916 – 25 December 1994) was an Indian…\\nShri Neelam Sanjiva Reddy\\nNeelam Sanjiva Reddy (19 May 1913 – 1 June 1996) was an Indian politician who served…\\nDr. Fakhruddin Ali Ahmed\\nFakhruddin Ali Ahmed (13 May 1905 – 11 February 1977) was an Indian lawyer and…\\nShri Varahagiri Venkata Giri\\nVarahagiri Venkata Giri (10 August 1894 – 24 June 1980) was an Indian politician and…\\nDr. Zakir Husain\\nZakir Husain Khan (8 February 1897 – 3 May 1969) known as Dr. Zakir Husain, was an…\\nDr. Sarvepalli Radhakrishnan\\nSarvepalli Radhakrishnan OM (5 September 1888 – 17 April 1975), natively…\\nDr. Rajendra Prasad\\nRajendra Prasad (3 December 1884 – 28 February 1963) was an Indian politician, lawyer…\\nSubscribe to Newsletter\\nSubscribe to Newsletter\\nFooter Menu\\nWebsite hosted by National Informatics Centre. no-text\\xa0 Read More\\nThe President of India, Smt Droupadi Murmu paid…\\nThe President of India, Smt Droupadi Murmu…\\nThe President of India, Smt Droupadi Murmu…\\nThe President of India, Smt Droupadi Murmu…\\nThe President of India, Smt Droupadi Murmu…\\nShri Ram Nath Kovind\\nRam Nath Kovind is an Indian politician and lawyer who served as the 14th president of…\\nShri Pranab Mukherjee\\nPranab Mukherjee BR (11 December 1935 – 31 August 2020) was an Indian politician and Facebook\\nTwitter\\nInstagram\\nYoutube\\nSmt. Devisingh Patil is an Indian politician and lawyer who served as the 12th…\\nDR.'}]),\n",
       "  (AgentAction(tool='tavily_search_results_json', tool_input='who is president of india', log='Thought: I need to find the name of the current president.\\nAction: tavily_search_results_json\\nAction Input: who is president of india'),\n",
       "   [{'url': 'https://en.wikipedia.org/wiki/List_of_presidents_of_India',\n",
       "     'content': 'Although vested with these powers by the Constitution of India, the position is largely a ceremonial one and executive powers are de facto exercised by the prime minister.[3]\\nThe president is elected by the Electoral College composed of elected members of the parliament houses, the Lok Sabha and the Rajya Sabha, and also members of the Saasana Sabha or Vidhan Sabha, the state legislative assemblies.[2] Contents\\nList of presidents of India\\nThe president of India is the head of state of the Republic of India and the Supreme Commander of the Indian Armed Forces. The colors used in the table indicate the following:\\n(Birth–Death)\\nB. D. Jatti\\nM. Hidayatullah\\nR. Venkataraman\\nBhairon Singh Shekhawat\\nM. Venkaiah Naidu\\nJagdeep Dhankhar\\nStatistics[edit]\\nRepresentation of presidents by party of candidacy\\nSee also[edit]\\nCitations[edit]\\nReferences[edit]\\nExternal links[edit] There have been 15 presidents of India since the post was established when India was declared as a republic with the adoption of the Indian constitution in 1950.[4] Apart from these fifteen, three acting presidents have also been in office for short periods of time. On 25 July 2022, Droupadi Murmu took office as the 15th president of India, becoming the second woman and the first tribal person to hold the office.[7]\\nList[edit]\\nThis list is numbered based on presidents elected after winning an Indian presidential election.'},\n",
       "    {'url': 'https://www.rashtrapatibhavan.gov.in/about-us',\n",
       "     'content': 'About Us - The President of India is the head of state of the Republic of India. The President is the nominal head of the executive, the first citizen of the country, as well as the commander-in-chief of the Indian Armed Forces. Smt. Droupadi Murmu is the 15th and current President, having taken office from 25 July 2022. | Rashtrapatibhavan'},\n",
       "    {'url': 'https://www.britannica.com/topic/president-of-India',\n",
       "     'content': \"The president (rashtrapati) of India is the head of state of the Republic of India. The president is indirectly elected every five years by an electoral college comprising the elected members of both houses of India's parliament—the Lok Sabha and the Rajya Sabha—as well as the elected representatives of all legislative assemblies of the states of India and the union territories of Delhi\"},\n",
       "    {'url': 'https://timesofindia.indiatimes.com/india/list-of-presidents-of-india-from-1950-to-2024/articleshow/111489977.cms',\n",
       "     'content': \"India's president serves a ceremonial role, elected for five years under Article 56 by an Electoral College. Discover the list of Presidents of India, Pratibha Patil was the first woman president\"},\n",
       "    {'url': 'https://www.presidentofindia.gov.in/',\n",
       "     'content': 'A.P.J. Abdul Kalam\\nAvul Pakir Jainulabdeen Abdul Kalam BR was an Indian aerospace scientist and statesman…\\nShri K. R. Narayanan\\nKocheril Raman Narayanan (27 October 1920 – 9 November 2005) was an Indian statesman,…\\nDr Shankar Dayal Sharma\\nShri R Venkataraman\\nRamaswamy Venkataraman 4 December 1910 – 27 January 2009)was an Indian lawyer, Indian…\\nGiani Zail Singh\\nGiani Zail Singh born Jarnail Singh; (5 May 1916 – 25 December 1994) was an Indian…\\nShri Neelam Sanjiva Reddy\\nNeelam Sanjiva Reddy (19 May 1913 – 1 June 1996) was an Indian politician who served…\\nDr. Fakhruddin Ali Ahmed\\nFakhruddin Ali Ahmed (13 May 1905 – 11 February 1977) was an Indian lawyer and…\\nShri Varahagiri Venkata Giri\\nVarahagiri Venkata Giri (10 August 1894 – 24 June 1980) was an Indian politician and…\\nDr. Zakir Husain\\nZakir Husain Khan (8 February 1897 – 3 May 1969) known as Dr. Zakir Husain, was an…\\nDr. Sarvepalli Radhakrishnan\\nSarvepalli Radhakrishnan OM (5 September 1888 – 17 April 1975), natively…\\nDr. Rajendra Prasad\\nRajendra Prasad (3 December 1884 – 28 February 1963) was an Indian politician, lawyer…\\nShri Ram Nath Kovind\\nRam Nath Kovind is an Indian politician and lawyer who served as the 14th president of…\\nShri Pranab Mukherjee\\nPranab Mukherjee BR (11 December 1935 – 31 August 2020) was an Indian politician and A.P.J. Abdul Kalam\\nAvul Pakir Jainulabdeen Abdul Kalam BR was an Indian aerospace scientist and statesman…\\nShri K. R. Narayanan\\nKocheril Raman Narayanan (27 October 1920 – 9 November 2005) was an Indian statesman,…\\nDr Shankar Dayal Sharma\\nShri R Venkataraman\\nRamaswamy Venkataraman 4 December 1910 – 27 January 2009)was an Indian lawyer, Indian…\\nGiani Zail Singh\\nGiani Zail Singh born Jarnail Singh; (5 May 1916 – 25 December 1994) was an Indian…\\nShri Neelam Sanjiva Reddy\\nNeelam Sanjiva Reddy (19 May 1913 – 1 June 1996) was an Indian politician who served…\\nDr. Fakhruddin Ali Ahmed\\nFakhruddin Ali Ahmed (13 May 1905 – 11 February 1977) was an Indian lawyer and…\\nShri Varahagiri Venkata Giri\\nVarahagiri Venkata Giri (10 August 1894 – 24 June 1980) was an Indian politician and…\\nDr. Zakir Husain\\nZakir Husain Khan (8 February 1897 – 3 May 1969) known as Dr. Zakir Husain, was an…\\nDr. Sarvepalli Radhakrishnan\\nSarvepalli Radhakrishnan OM (5 September 1888 – 17 April 1975), natively…\\nDr. Rajendra Prasad\\nRajendra Prasad (3 December 1884 – 28 February 1963) was an Indian politician, lawyer…\\nSubscribe to Newsletter\\nSubscribe to Newsletter\\nFooter Menu\\nWebsite hosted by National Informatics Centre. no-text\\xa0 Read More\\nThe President of India, Smt Droupadi Murmu paid…\\nThe President of India, Smt Droupadi Murmu…\\nThe President of India, Smt Droupadi Murmu…\\nThe President of India, Smt Droupadi Murmu…\\nThe President of India, Smt Droupadi Murmu…\\nShri Ram Nath Kovind\\nRam Nath Kovind is an Indian politician and lawyer who served as the 14th president of…\\nShri Pranab Mukherjee\\nPranab Mukherjee BR (11 December 1935 – 31 August 2020) was an Indian politician and Facebook\\nTwitter\\nInstagram\\nYoutube\\nSmt. Devisingh Patil is an Indian politician and lawyer who served as the 12th…\\nDR.'}])]}"
      ]
     },
     "execution_count": 77,
     "metadata": {},
     "output_type": "execute_result"
    }
   ],
   "source": [
    "response2"
   ]
  }
 ],
 "metadata": {
  "kernelspec": {
   "display_name": "myvenv",
   "language": "python",
   "name": "python3"
  },
  "language_info": {
   "codemirror_mode": {
    "name": "ipython",
    "version": 3
   },
   "file_extension": ".py",
   "mimetype": "text/x-python",
   "name": "python",
   "nbconvert_exporter": "python",
   "pygments_lexer": "ipython3",
   "version": "3.12.2"
  }
 },
 "nbformat": 4,
 "nbformat_minor": 2
}
