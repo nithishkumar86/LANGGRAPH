{
 "cells": [
  {
   "cell_type": "code",
   "execution_count": 717,
   "metadata": {},
   "outputs": [
    {
     "data": {
      "text/plain": [
       "True"
      ]
     },
     "execution_count": 717,
     "metadata": {},
     "output_type": "execute_result"
    }
   ],
   "source": [
    "import os\n",
    "from dotenv import load_dotenv\n",
    "load_dotenv()"
   ]
  },
  {
   "cell_type": "code",
   "execution_count": 718,
   "metadata": {},
   "outputs": [],
   "source": [
    "os.environ[\"GROQ_API_KEY\"]=os.getenv(\"GROQ_API_KEY\")\n",
    "os.environ[\"HUGGINGFACE_API_KEY\"]=os.environ[\"HUGGINGFACE_API_KEY\"]\n",
    "os.environ[\"TAVILY_API_KEY\"]=os.getenv(\"TAVILY_API_KEY\")"
   ]
  },
  {
   "cell_type": "code",
   "execution_count": 719,
   "metadata": {},
   "outputs": [],
   "source": [
    "from langchain_huggingface import HuggingFaceEmbeddings\n",
    "from langchain_groq import ChatGroq\n",
    "from langchain_text_splitters import RecursiveCharacterTextSplitter\n",
    "from langchain_community.vectorstores import FAISS\n",
    "from langchain_core.prompts import ChatPromptTemplate\n",
    "from langchain_core.output_parsers import StrOutputParser\n",
    "from langchain.chains.combine_documents import create_stuff_documents_chain\n",
    "from langchain.chains import create_retrieval_chain\n",
    "from pydantic import BaseModel,Field\n",
    "from langgraph.graph.message import add_messages\n",
    "from typing import Annotated\n",
    "from typing import TypedDict\n",
    "from langchain.schema import Document\n",
    "from langchain_community.tools.tavily_search import TavilySearchResults\n",
    "from IPython.display import display,Image\n",
    "from langgraph.graph import StateGraph,START,END\n",
    "from langchain_community.utilities import WikipediaAPIWrapper,ArxivAPIWrapper\n",
    "from langchain_community.tools import WikipediaQueryRun,ArxivQueryRun\n",
    "from langchain.tools import tool"
   ]
  },
  {
   "cell_type": "code",
   "execution_count": 720,
   "metadata": {},
   "outputs": [],
   "source": [
    "llm=ChatGroq(model=\"gemma2-9b-it\")"
   ]
  },
  {
   "cell_type": "code",
   "execution_count": 721,
   "metadata": {},
   "outputs": [
    {
     "data": {
      "text/plain": [
       "AIMessage(content='Deep learning is a type of machine learning that uses artificial neural networks with multiple layers to extract increasingly complex features from data. \\n\\nThink of it like this:\\n\\n* **Traditional machine learning:** You have to manually tell the algorithm what features to look for in the data. For example, if you want to teach a machine to recognize cats in pictures, you might tell it to look for features like pointy ears, whiskers, and a fluffy tail.\\n\\n* **Deep learning:** The algorithm learns these features automatically, layer by layer. The first layers might detect simple features like edges and curves, while the deeper layers combine these features to recognize more complex patterns, eventually leading to the recognition of a cat.\\n\\n**Here\\'s a breakdown:**\\n\\n* **Artificial Neural Networks:** Deep learning algorithms are based on artificial neural networks, which are inspired by the structure of the human brain. These networks consist of interconnected nodes (neurons) organized in layers.\\n\\n* **Layers:** Each layer in a deep neural network performs a specific type of transformation on the data.\\n\\n    * **Input layer:** Receives the raw data (e.g., pixels in an image).\\n    * **Hidden layers:**  Process the data and extract increasingly abstract features.\\n    * **Output layer:** Produces the final result (e.g., \"cat\" or \"not cat\").\\n\\n* **Learning:** Deep learning algorithms learn by adjusting the weights of the connections between neurons. This adjustment is done through a process called backpropagation, which uses the difference between the predicted output and the actual output to update the weights.\\n\\n**Why is deep learning so powerful?**\\n\\n* **Feature extraction:** Deep learning can automatically learn complex features from raw data, eliminating the need for manual feature engineering.\\n* **Scalability:** Deep learning models can handle massive datasets, allowing them to learn more sophisticated patterns.\\n* **Generalizability:** Deep learning models can often generalize well to new, unseen data.\\n\\n**Applications of deep learning:**\\n\\n* **Image recognition and classification**\\n* **Natural language processing (NLP)**\\n* **Speech recognition**\\n* **Machine translation**\\n* **Self-driving cars**\\n* **Medical diagnosis**\\n* **Fraud detection**\\n\\nDeep learning is a rapidly evolving field with the potential to revolutionize many industries.\\n', additional_kwargs={}, response_metadata={'token_usage': {'completion_tokens': 474, 'prompt_tokens': 13, 'total_tokens': 487, 'completion_time': 0.861818182, 'prompt_time': 9.0719e-05, 'queue_time': 0.047028785, 'total_time': 0.861908901}, 'model_name': 'gemma2-9b-it', 'system_fingerprint': 'fp_10c08bf97d', 'finish_reason': 'stop', 'logprobs': None}, id='run-14eb49e0-7a5a-4563-afdc-cce5b55b2c57-0', usage_metadata={'input_tokens': 13, 'output_tokens': 474, 'total_tokens': 487})"
      ]
     },
     "execution_count": 721,
     "metadata": {},
     "output_type": "execute_result"
    }
   ],
   "source": [
    "llm.invoke(\"what is deep learning\")"
   ]
  },
  {
   "cell_type": "code",
   "execution_count": 722,
   "metadata": {},
   "outputs": [],
   "source": [
    "embedding=HuggingFaceEmbeddings(model_name=\"all-MiniLM-L6-v2\")"
   ]
  },
  {
   "cell_type": "code",
   "execution_count": 723,
   "metadata": {},
   "outputs": [
    {
     "data": {
      "text/plain": [
       "[Document(metadata={'source': 'sample.txt'}, page_content='The definition of Deep learning is that it is the branch of machine learning that is based on artificial neural network architecture. An artificial neural network or ANN uses layers of interconnected nodes called neurons that work together to process and learn from the input data.\\n\\nIn a fully connected Deep neural network, there is an input layer and one or more hidden layers connected one after the other. Each neuron receives input from the previous layer neurons or the input layer. The output of one neuron becomes the input to other neurons in the next layer of the network, and this process continues until the final layer produces the output of the network. The layers of the neural network transform the input data through a series of nonlinear transformations, allowing the network to learn complex representations of the input data.\\n\\nDeep Learning - Geeksforgeeks\\nScope of Deep Learning\\n\\nToday Deep learning AI has become one of the most popular and visible areas of machine learning, due to its success in a variety of applications, such as computer vision, natural language processing, and Reinforcement learning.\\n\\nDeep learning AI can be used for supervised, unsupervised as well as reinforcement machine learning. it uses a variety of ways to process these.\\n\\nSupervised Machine Learning: Supervised machine learning is the machine learning technique in which the neural network learns to make predictions or classify data based on the labeled datasets. Here we input both input features along with the target variables. the neural network learns to make predictions based on the cost or error that comes from the difference between the predicted and the actual target, this process is known as backpropagation.  Deep learning algorithms like Convolutional neural networks, Recurrent neural networks are used for many supervised tasks like image classifications and recognization, sentiment analysis, language translations, etc.\\nUnsupervised Machine Learning: Unsupervised machine learning is the machine learning technique in which the neural network learns to discover the patterns or to cluster the dataset based on unlabeled datasets. Here there are no target variables. while the machine has to self-determined the hidden patterns or relationships within the datasets. Deep learning algorithms like autoencoders and generative models are used for unsupervised tasks like clustering, dimensionality reduction, and anomaly detection.\\nReinforcement  Machine Learning: Reinforcement  Machine Learning is the machine learning technique in which an agent learns to make decisions in an environment to maximize a reward signal. The agent interacts with the environment by taking action and observing the resulting rewards. Deep learning can be used to learn policies, or a set of actions, that maximizes the cumulative reward over time. Deep reinforcement learning algorithms like Deep Q networks and Deep Deterministic Policy Gradient (DDPG) are used to reinforce tasks like robotics and game playing etc.\\nArtificial neural networks\\nArtificial neural networks are built on the principles of the structure and operation of human neurons. It is also known as neural networks or neural nets. An artificial neural networkâ€™s input layer, which is the first layer, receives input from external sources and passes it on to the hidden layer, which is the second layer. Each neuron in the hidden layer gets information from the neurons in the previous layer, computes the weighted total, and then transfers it to the neurons in the next layer. These connections are weighted, which means that the impacts of the inputs from the preceding layer are more or less optimized by giving each input a distinct weight. These weights are then adjusted during the training process to enhance the performance of the model.\\n\\nFully Connected Artificial Neural Network - Geeksforgeeks\\nFully Connected Artificial Neural Network\\n\\nArtificial neurons, also known as units, are found in artificial neural networks. The whole Artificial Neural Network is composed of these artificial neurons, which are arranged in a series of layers. The complexities of neural networks will depend on the complexities of the underlying patterns in the dataset whether a layer has a dozen units or millions of units.  Commonly, Artificial Neural Network has an input layer, an output layer as well as hidden layers. The input layer receives data from the outside world which the neural network needs to analyze or learn about.\\n\\nIn a fully connected artificial neural network, there is an input layer and one or more hidden layers connected one after the other. Each neuron receives input from the previous layer neurons or the input layer. The output of one neuron becomes the input to other neurons in the next layer of the network, and this process continues until the final layer produces the output of the network. Then, after passing through one or more hidden layers, this data is transformed into valuable data for the output layer. Finally, the output layer provides an output in the form of an artificial neural networkâ€™s response to the data that comes in. \\n\\nUnits are linked to one another from one layer to another in the bulk of neural networks. Each of these links has weights that control how much one unit influences another. The neural network learns more and more about the data as it moves from one unit to another, ultimately producing an output from the output layer. \\n\\nDifference between Machine Learning and Deep Learning :\\nmachine learning and deep learning AI both are subsets of artificial intelligence but there are many similarities and differences between them.\\n\\nMachine Learning\\n\\nDeep Learning\\n\\nApply statistical algorithms to learn the hidden patterns and relationships in the dataset.\\tUses artificial neural network architecture to learn the hidden patterns and relationships in the dataset.\\nCan work on the smaller amount of dataset\\tRequires the larger volume of dataset compared to machine learning\\nBetter for the low-label task.\\tBetter for complex task like image processing, natural language processing, etc.\\nTakes less time to train the model.\\tTakes more time to train the model.\\nA model is created by relevant features which are manually extracted from images to detect an object in the image.\\tRelevant features are automatically extracted from images. It is an end-to-end learning process.\\nLess complex and easy to interpret the result.\\tMore complex, it works like the black box interpretations of the result are not easy.\\nIt can work on the CPU or requires less computing power as compared to deep learning.\\tIt requires a high-performance computer with GPU.\\nTypes of neural networks\\nDeep Learning models are able to automatically learn features from the data, which makes them well-suited for tasks such as image recognition, speech recognition, and natural language processing. The most widely used architectures in deep learning are feedforward neural networks, convolutional neural networks (CNNs), and recurrent neural networks (RNNs).\\n\\nFeedforward neural networks (FNNs) are the simplest type of ANN, with a linear flow of information through the network. FNNs have been widely used for tasks such as image classification, speech recognition, and natural language processing.\\nConvolutional Neural Networks (CNNs) are specifically for image and video recognition tasks. CNNs are able to automatically learn features from the images, which makes them well-suited for tasks such as image classification, object detection, and image segmentation.\\nRecurrent Neural Networks (RNNs) are a type of neural network that is able to process sequential data, such as time series and natural language. RNNs are able to maintain an internal state that captures information about the previous inputs, which makes them well-suited for tasks such as speech recognition, natural language processing, and language translation.\\nDeep Learning Applications:\\nThe main applications of deep learning AI can be divided into computer vision, natural language processing (NLP), and reinforcement learning. \\n\\n1. Computer vision\\nThe first Deep Learning applications is Computer vision. In computer vision, Deep learning AI models can enable machines to identify and understand visual data. Some of the main applications of deep learning in computer vision include:\\n\\nObject detection and recognition: Deep learning model can be used to identify and locate objects within images and videos, making it possible for machines to perform tasks such as self-driving cars, surveillance, and robotics. \\nImage classification: Deep learning models can be used to classify images into categories such as animals, plants, and buildings. This is used in applications such as medical imaging, quality control, and image retrieval. \\nImage segmentation: Deep learning models can be used for image segmentation into different regions, making it possible to identify specific features within images.\\n2. Natural language processing (NLP): \\nIn Deep learning applications, second application is NLP. NLP, the  Deep learning model can enable machines to understand and generate human language. Some of the main applications of deep learning in NLP include: \\n\\nAutomatic Text Generation â€“ Deep learning model can learn the corpus of text and new text like summaries, essays can be automatically generated using these trained models.\\nLanguage translation: Deep learning models can translate text from one language to another, making it possible to communicate with people from different linguistic backgrounds. \\nSentiment analysis: Deep learning models can analyze the sentiment of a piece of text, making it possible to determine whether the text is positive, negative, or neutral. This is used in applications such as customer service, social media monitoring, and political analysis. \\nSpeech recognition: Deep learning models can recognize and transcribe spoken words, making it possible to perform tasks such as speech-to-text conversion, voice search, and voice-controlled devices. \\n3. Reinforcement learning: \\nIn reinforcement learning, deep learning works as training agents to take action in an environment to maximize a reward. Some of the main applications of deep learning in reinforcement learning include: \\n\\nGame playing: Deep reinforcement learning models have been able to beat human experts at games such as Go, Chess, and Atari. \\nRobotics: Deep reinforcement learning models can be used to train robots to perform complex tasks such as grasping objects, navigation, and manipulation. \\nControl systems: Deep reinforcement learning models can be used to control complex systems such as power grids, traffic management, and supply chain optimization. \\nChallenges in Deep Learning\\nDeep learning has made significant advancements in various fields, but there are still some challenges that need to be addressed. Here are some of the main challenges in deep learning:\\n\\nData availability: It requires large amounts of data to learn from. For using deep learning itâ€™s a big concern to gather as much data for training.\\nComputational Resources: For training the deep learning model, it is computationally expensive because it requires specialized hardware like GPUs and TPUs.\\nTime-consuming: While working on sequential data depending on the computational resource it can take very large even in days or months. \\nInterpretability: Deep learning models are complex, it works like a black box. it is very difficult to interpret the result.\\nOverfitting: when the model is trained again and again, it becomes too specialized for the training data, leading to overfitting and poor performance on new data.\\nAdvantages of Deep Learning:\\nHigh accuracy: Deep Learning algorithms can achieve state-of-the-art performance in various tasks, such as image recognition and natural language processing.\\nAutomated feature engineering: Deep Learning algorithms can automatically discover and learn relevant features from data without the need for manual feature engineering.\\nScalability: Deep Learning models can scale to handle large and complex datasets, and can learn from massive amounts of data.\\nFlexibility: Deep Learning models can be applied to a wide range of tasks and can handle various types of data, such as images, text, and speech.\\nContinual improvement: Deep Learning models can continually improve their performance as more data becomes available.\\nDisadvantages of Deep Learning:\\nHigh computational requirements: Deep Learning AI models require large amounts of data and computational resources to train and optimize.\\nRequires large amounts of labeled data: Deep Learning models often require a large amount of labeled data for training, which can be expensive and time- consuming to acquire.\\nInterpretability: Deep Learning models can be challenging to interpret, making it difficult to understand how they make decisions.\\nOverfitting: Deep Learning models can sometimes overfit to the training data, resulting in poor performance on new and unseen data.\\nBlack-box nature: Deep Learning models are often treated as black boxes, making it difficult to understand how they work and how they arrived at their predictions.\\nConclusion\\nIn conclusion, the field of Deep Learning represents a transformative leap in artificial intelligence. By mimicking the human brainâ€™s neural networks, Deep Learning AI algorithms have revolutionized industries ranging from healthcare to finance, from autonomous vehicles to natural language processing. As we continue to push the boundaries of computational power and dataset sizes, the potential applications of Deep Learning are limitless. However, challenges such as interpretability and ethical considerations remain significant. Yet, with ongoing research and innovation, Deep Learning promises to reshape our future, ushering in a new era where machines can learn, adapt, and solve complex problems at a scale and speed previously unimaginable.\\n\\n\\nGet IBM Certification and a 90% fee refund on completing 90% course in 90 days! Take the Three 90 Challenge today.\\n\\nMaster Machine Learning, Data Science & AI with this complete program and also get a 90% refund. What more motivation do you need? Start the challenge right away!\\n\\n\\n\\nComment\\n\\nMore info\\n\\nAdvertise with us\\nNext Article \\nWhat is Transfer Learning?\\nSimilar Reads\\nIntroduction to Multi-Task Learning(MTL) for Deep Learning\\nMulti-Task Learning (MTL) is a type of machine learning technique where a model is trained to perform multiple tasks simultaneously. In deep learning, MTL refers to training a neural network to perform multiple tasks by sharing some of the network\\'s layers and parameters across tasks. In MTL, the goal is to improve the generalization performance of\\n6 min read\\nDeep Belief Network (DBN) in Deep Learning\\nDiscover data creation with Deep Belief Networks (DBNs), cutting-edge generative models that make use of deep architecture. This article walks you through the concepts of DBNs, how they work, and how to implement them using practical coding. What is a Deep Belief Network?Deep Belief Networks (DBNs) are sophisticated artificial neural networks used\\n9 min read\\nDeep Boltzmann Machines (DBMs) in Deep Learning\\nIn this article, we will discuss the Deep Boltzmann Machines concepts and their applications in the real-world scenario. What are Deep Boltzmann Machines (DBMs)?Deep Boltzmann Machines (DBMs) are a kind of artificial neural network that belongs to the family of generative models. They are designed to discover intricate structures within large datas\\n10 min read\\nUnveiling the Power of Fastai: A Deep Dive into the Versatile Deep Learning Library\\nFastai is a powerful deep-learning library designed for researchers and practitioners. It offers high-level abstractions, PyTorch integration, and application-specific APIs, making it both adaptable and accessible for a wide range of deep learning tasks. In this article, we\\'ll delve into the intricacies of Fastai, a powerful deep-learning library.\\n9 min read\\nArtificial intelligence vs Machine Learning vs Deep Learning\\nNowadays many misconceptions are there related to the words machine learning, deep learning, and artificial intelligence (AI), most people think all these things are the same whenever they hear the word AI, they directly relate that word to machine learning or vice versa, well yes, these things are related to each other but not the same. Let\\'s see\\n4 min read\\nNeed of Data Structures and Algorithms for Deep Learning and Machine Learning\\nDeep Learning is a field that is heavily based on Mathematics and you need to have a good understanding of Data Structures and Algorithms to solve the mathematical problems optimally. Data Structures and Algorithms can be used to determine how a problem is represented internally or how the actual storage pattern works & what is happening under\\n6 min read\\nDifference Between Artificial Intelligence vs Machine Learning vs Deep Learning\\nArtificial Intelligence is basically the mechanism to incorporate human intelligence into machines through a set of rules(algorithm). AI is a combination of two words: \"Artificial\" meaning something made by humans or non-natural things and \"Intelligence\" meaning the ability to understand or think accordingly. Another definition could be that \"AI is\\n14 min read\\nDifference Between Machine Learning and Deep Learning\\nIf you are interested in building your career in the IT industry then you must have come across the term Data Science which is a booming field in terms of technologies and job availability as well. In this article, we will explore the Difference between Machine Learning and Deep Learning, two major fields within Data Science. Understanding these di\\n8 min read\\nAI vs. Machine Learning vs. Deep Learning vs. Neural Networks\\nArtificial Intelligence (AI), Machine Learning (ML), Deep Learning (DL), and Neural Networks (NN) are terms often used interchangeably. However, they represent different layers of complexity and specialization in the field of intelligent systems. This article will clarify the Difference between AI vs. machine learning vs. deep learning vs.\\n')]"
      ]
     },
     "execution_count": 723,
     "metadata": {},
     "output_type": "execute_result"
    }
   ],
   "source": [
    "from langchain_community.document_loaders import TextLoader\n",
    "loader=TextLoader('sample.txt')\n",
    "docs=loader.load()\n",
    "docs"
   ]
  },
  {
   "cell_type": "code",
   "execution_count": 724,
   "metadata": {},
   "outputs": [
    {
     "data": {
      "text/plain": [
       "[Document(metadata={'source': 'sample.txt'}, page_content='The definition of Deep learning is that it is the branch of machine learning that is based on artificial neural network architecture. An artificial neural network or ANN uses layers of interconnected nodes called neurons that work together to process and learn from the input data.\\n\\nIn a fully connected Deep neural network, there is an input layer and one or more hidden layers connected one after the other. Each neuron receives input from the previous layer neurons or the input layer. The output of one neuron becomes the input to other neurons in the next layer of the network, and this process continues until the final layer produces the output of the network. The layers of the neural network transform the input data through a series of nonlinear transformations, allowing the network to learn complex representations of the input data.\\n\\nDeep Learning - Geeksforgeeks\\nScope of Deep Learning\\n\\nToday Deep learning AI has become one of the most popular and visible areas of machine learning, due to its success in a variety of applications, such as computer vision, natural language processing, and Reinforcement learning.\\n\\nDeep learning AI can be used for supervised, unsupervised as well as reinforcement machine learning. it uses a variety of ways to process these.'),\n",
       " Document(metadata={'source': 'sample.txt'}, page_content='Supervised Machine Learning: Supervised machine learning is the machine learning technique in which the neural network learns to make predictions or classify data based on the labeled datasets. Here we input both input features along with the target variables. the neural network learns to make predictions based on the cost or error that comes from the difference between the predicted and the actual target, this process is known as backpropagation.  Deep learning algorithms like Convolutional neural networks, Recurrent neural networks are used for many supervised tasks like image classifications and recognization, sentiment analysis, language translations, etc.\\nUnsupervised Machine Learning: Unsupervised machine learning is the machine learning technique in which the neural network learns to discover the patterns or to cluster the dataset based on unlabeled datasets. Here there are no target variables. while the machine has to self-determined the hidden patterns or relationships within the datasets. Deep learning algorithms like autoencoders and generative models are used for unsupervised tasks like clustering, dimensionality reduction, and anomaly detection.'),\n",
       " Document(metadata={'source': 'sample.txt'}, page_content='Reinforcement  Machine Learning: Reinforcement  Machine Learning is the machine learning technique in which an agent learns to make decisions in an environment to maximize a reward signal. The agent interacts with the environment by taking action and observing the resulting rewards. Deep learning can be used to learn policies, or a set of actions, that maximizes the cumulative reward over time. Deep reinforcement learning algorithms like Deep Q networks and Deep Deterministic Policy Gradient (DDPG) are used to reinforce tasks like robotics and game playing etc.\\nArtificial neural networks\\nArtificial neural networks are built on the principles of the structure and operation of human neurons. It is also known as neural networks or neural nets. An artificial neural networkâ€™s input layer, which is the first layer, receives input from external sources and passes it on to the hidden layer, which is the second layer. Each neuron in the hidden layer gets information from the neurons in the previous layer, computes the weighted total, and then transfers it to the neurons in the next layer. These connections are weighted, which means that the impacts of the inputs from the preceding layer are more or less optimized by giving each input a distinct weight. These weights are then adjusted during the training process to enhance the performance of the model.'),\n",
       " Document(metadata={'source': 'sample.txt'}, page_content='Fully Connected Artificial Neural Network - Geeksforgeeks\\nFully Connected Artificial Neural Network\\n\\nArtificial neurons, also known as units, are found in artificial neural networks. The whole Artificial Neural Network is composed of these artificial neurons, which are arranged in a series of layers. The complexities of neural networks will depend on the complexities of the underlying patterns in the dataset whether a layer has a dozen units or millions of units.  Commonly, Artificial Neural Network has an input layer, an output layer as well as hidden layers. The input layer receives data from the outside world which the neural network needs to analyze or learn about.\\n\\nIn a fully connected artificial neural network, there is an input layer and one or more hidden layers connected one after the other. Each neuron receives input from the previous layer neurons or the input layer. The output of one neuron becomes the input to other neurons in the next layer of the network, and this process continues until the final layer produces the output of the network. Then, after passing through one or more hidden layers, this data is transformed into valuable data for the output layer. Finally, the output layer provides an output in the form of an artificial neural networkâ€™s response to the data that comes in.'),\n",
       " Document(metadata={'source': 'sample.txt'}, page_content='Units are linked to one another from one layer to another in the bulk of neural networks. Each of these links has weights that control how much one unit influences another. The neural network learns more and more about the data as it moves from one unit to another, ultimately producing an output from the output layer. \\n\\nDifference between Machine Learning and Deep Learning :\\nmachine learning and deep learning AI both are subsets of artificial intelligence but there are many similarities and differences between them.\\n\\nMachine Learning\\n\\nDeep Learning'),\n",
       " Document(metadata={'source': 'sample.txt'}, page_content='Machine Learning\\n\\nDeep Learning\\n\\nApply statistical algorithms to learn the hidden patterns and relationships in the dataset.\\tUses artificial neural network architecture to learn the hidden patterns and relationships in the dataset.\\nCan work on the smaller amount of dataset\\tRequires the larger volume of dataset compared to machine learning\\nBetter for the low-label task.\\tBetter for complex task like image processing, natural language processing, etc.\\nTakes less time to train the model.\\tTakes more time to train the model.\\nA model is created by relevant features which are manually extracted from images to detect an object in the image.\\tRelevant features are automatically extracted from images. It is an end-to-end learning process.\\nLess complex and easy to interpret the result.\\tMore complex, it works like the black box interpretations of the result are not easy.\\nIt can work on the CPU or requires less computing power as compared to deep learning.\\tIt requires a high-performance computer with GPU.\\nTypes of neural networks\\nDeep Learning models are able to automatically learn features from the data, which makes them well-suited for tasks such as image recognition, speech recognition, and natural language processing. The most widely used architectures in deep learning are feedforward neural networks, convolutional neural networks (CNNs), and recurrent neural networks (RNNs).'),\n",
       " Document(metadata={'source': 'sample.txt'}, page_content='Feedforward neural networks (FNNs) are the simplest type of ANN, with a linear flow of information through the network. FNNs have been widely used for tasks such as image classification, speech recognition, and natural language processing.\\nConvolutional Neural Networks (CNNs) are specifically for image and video recognition tasks. CNNs are able to automatically learn features from the images, which makes them well-suited for tasks such as image classification, object detection, and image segmentation.\\nRecurrent Neural Networks (RNNs) are a type of neural network that is able to process sequential data, such as time series and natural language. RNNs are able to maintain an internal state that captures information about the previous inputs, which makes them well-suited for tasks such as speech recognition, natural language processing, and language translation.\\nDeep Learning Applications:\\nThe main applications of deep learning AI can be divided into computer vision, natural language processing (NLP), and reinforcement learning. \\n\\n1. Computer vision\\nThe first Deep Learning applications is Computer vision. In computer vision, Deep learning AI models can enable machines to identify and understand visual data. Some of the main applications of deep learning in computer vision include:'),\n",
       " Document(metadata={'source': 'sample.txt'}, page_content='Object detection and recognition: Deep learning model can be used to identify and locate objects within images and videos, making it possible for machines to perform tasks such as self-driving cars, surveillance, and robotics. \\nImage classification: Deep learning models can be used to classify images into categories such as animals, plants, and buildings. This is used in applications such as medical imaging, quality control, and image retrieval. \\nImage segmentation: Deep learning models can be used for image segmentation into different regions, making it possible to identify specific features within images.\\n2. Natural language processing (NLP): \\nIn Deep learning applications, second application is NLP. NLP, the  Deep learning model can enable machines to understand and generate human language. Some of the main applications of deep learning in NLP include:'),\n",
       " Document(metadata={'source': 'sample.txt'}, page_content='Automatic Text Generation â€“ Deep learning model can learn the corpus of text and new text like summaries, essays can be automatically generated using these trained models.\\nLanguage translation: Deep learning models can translate text from one language to another, making it possible to communicate with people from different linguistic backgrounds. \\nSentiment analysis: Deep learning models can analyze the sentiment of a piece of text, making it possible to determine whether the text is positive, negative, or neutral. This is used in applications such as customer service, social media monitoring, and political analysis. \\nSpeech recognition: Deep learning models can recognize and transcribe spoken words, making it possible to perform tasks such as speech-to-text conversion, voice search, and voice-controlled devices. \\n3. Reinforcement learning: \\nIn reinforcement learning, deep learning works as training agents to take action in an environment to maximize a reward. Some of the main applications of deep learning in reinforcement learning include:'),\n",
       " Document(metadata={'source': 'sample.txt'}, page_content='Game playing: Deep reinforcement learning models have been able to beat human experts at games such as Go, Chess, and Atari. \\nRobotics: Deep reinforcement learning models can be used to train robots to perform complex tasks such as grasping objects, navigation, and manipulation. \\nControl systems: Deep reinforcement learning models can be used to control complex systems such as power grids, traffic management, and supply chain optimization. \\nChallenges in Deep Learning\\nDeep learning has made significant advancements in various fields, but there are still some challenges that need to be addressed. Here are some of the main challenges in deep learning:'),\n",
       " Document(metadata={'source': 'sample.txt'}, page_content='Data availability: It requires large amounts of data to learn from. For using deep learning itâ€™s a big concern to gather as much data for training.\\nComputational Resources: For training the deep learning model, it is computationally expensive because it requires specialized hardware like GPUs and TPUs.\\nTime-consuming: While working on sequential data depending on the computational resource it can take very large even in days or months. \\nInterpretability: Deep learning models are complex, it works like a black box. it is very difficult to interpret the result.\\nOverfitting: when the model is trained again and again, it becomes too specialized for the training data, leading to overfitting and poor performance on new data.\\nAdvantages of Deep Learning:\\nHigh accuracy: Deep Learning algorithms can achieve state-of-the-art performance in various tasks, such as image recognition and natural language processing.\\nAutomated feature engineering: Deep Learning algorithms can automatically discover and learn relevant features from data without the need for manual feature engineering.\\nScalability: Deep Learning models can scale to handle large and complex datasets, and can learn from massive amounts of data.\\nFlexibility: Deep Learning models can be applied to a wide range of tasks and can handle various types of data, such as images, text, and speech.\\nContinual improvement: Deep Learning models can continually improve their performance as more data becomes available.'),\n",
       " Document(metadata={'source': 'sample.txt'}, page_content='Disadvantages of Deep Learning:\\nHigh computational requirements: Deep Learning AI models require large amounts of data and computational resources to train and optimize.\\nRequires large amounts of labeled data: Deep Learning models often require a large amount of labeled data for training, which can be expensive and time- consuming to acquire.\\nInterpretability: Deep Learning models can be challenging to interpret, making it difficult to understand how they make decisions.\\nOverfitting: Deep Learning models can sometimes overfit to the training data, resulting in poor performance on new and unseen data.\\nBlack-box nature: Deep Learning models are often treated as black boxes, making it difficult to understand how they work and how they arrived at their predictions.\\nConclusion'),\n",
       " Document(metadata={'source': 'sample.txt'}, page_content='Conclusion\\nIn conclusion, the field of Deep Learning represents a transformative leap in artificial intelligence. By mimicking the human brainâ€™s neural networks, Deep Learning AI algorithms have revolutionized industries ranging from healthcare to finance, from autonomous vehicles to natural language processing. As we continue to push the boundaries of computational power and dataset sizes, the potential applications of Deep Learning are limitless. However, challenges such as interpretability and ethical considerations remain significant. Yet, with ongoing research and innovation, Deep Learning promises to reshape our future, ushering in a new era where machines can learn, adapt, and solve complex problems at a scale and speed previously unimaginable.'),\n",
       " Document(metadata={'source': 'sample.txt'}, page_content='Get IBM Certification and a 90% fee refund on completing 90% course in 90 days! Take the Three 90 Challenge today.\\n\\nMaster Machine Learning, Data Science & AI with this complete program and also get a 90% refund. What more motivation do you need? Start the challenge right away!\\n\\n\\n\\nComment\\n\\nMore info'),\n",
       " Document(metadata={'source': 'sample.txt'}, page_content=\"Advertise with us\\nNext Article \\nWhat is Transfer Learning?\\nSimilar Reads\\nIntroduction to Multi-Task Learning(MTL) for Deep Learning\\nMulti-Task Learning (MTL) is a type of machine learning technique where a model is trained to perform multiple tasks simultaneously. In deep learning, MTL refers to training a neural network to perform multiple tasks by sharing some of the network's layers and parameters across tasks. In MTL, the goal is to improve the generalization performance of\\n6 min read\\nDeep Belief Network (DBN) in Deep Learning\\nDiscover data creation with Deep Belief Networks (DBNs), cutting-edge generative models that make use of deep architecture. This article walks you through the concepts of DBNs, how they work, and how to implement them using practical coding. What is a Deep Belief Network?Deep Belief Networks (DBNs) are sophisticated artificial neural networks used\\n9 min read\\nDeep Boltzmann Machines (DBMs) in Deep Learning\\nIn this article, we will discuss the Deep Boltzmann Machines concepts and their applications in the real-world scenario. What are Deep Boltzmann Machines (DBMs)?Deep Boltzmann Machines (DBMs) are a kind of artificial neural network that belongs to the family of generative models. They are designed to discover intricate structures within large datas\\n10 min read\\nUnveiling the Power of Fastai: A Deep Dive into the Versatile Deep Learning Library\"),\n",
       " Document(metadata={'source': 'sample.txt'}, page_content=\"Fastai is a powerful deep-learning library designed for researchers and practitioners. It offers high-level abstractions, PyTorch integration, and application-specific APIs, making it both adaptable and accessible for a wide range of deep learning tasks. In this article, we'll delve into the intricacies of Fastai, a powerful deep-learning library.\\n9 min read\\nArtificial intelligence vs Machine Learning vs Deep Learning\\nNowadays many misconceptions are there related to the words machine learning, deep learning, and artificial intelligence (AI), most people think all these things are the same whenever they hear the word AI, they directly relate that word to machine learning or vice versa, well yes, these things are related to each other but not the same. Let's see\\n4 min read\\nNeed of Data Structures and Algorithms for Deep Learning and Machine Learning\\nDeep Learning is a field that is heavily based on Mathematics and you need to have a good understanding of Data Structures and Algorithms to solve the mathematical problems optimally. Data Structures and Algorithms can be used to determine how a problem is represented internally or how the actual storage pattern works & what is happening under\\n6 min read\\nDifference Between Artificial Intelligence vs Machine Learning vs Deep Learning\"),\n",
       " Document(metadata={'source': 'sample.txt'}, page_content='Artificial Intelligence is basically the mechanism to incorporate human intelligence into machines through a set of rules(algorithm). AI is a combination of two words: \"Artificial\" meaning something made by humans or non-natural things and \"Intelligence\" meaning the ability to understand or think accordingly. Another definition could be that \"AI is\\n14 min read\\nDifference Between Machine Learning and Deep Learning\\nIf you are interested in building your career in the IT industry then you must have come across the term Data Science which is a booming field in terms of technologies and job availability as well. In this article, we will explore the Difference between Machine Learning and Deep Learning, two major fields within Data Science. Understanding these di\\n8 min read\\nAI vs. Machine Learning vs. Deep Learning vs. Neural Networks\\nArtificial Intelligence (AI), Machine Learning (ML), Deep Learning (DL), and Neural Networks (NN) are terms often used interchangeably. However, they represent different layers of complexity and specialization in the field of intelligent systems. This article will clarify the Difference between AI vs. machine learning vs. deep learning vs.')]"
      ]
     },
     "execution_count": 724,
     "metadata": {},
     "output_type": "execute_result"
    }
   ],
   "source": [
    "document=RecursiveCharacterTextSplitter(chunk_size=1500,chunk_overlap=50).split_documents(docs)\n",
    "document"
   ]
  },
  {
   "cell_type": "code",
   "execution_count": 725,
   "metadata": {},
   "outputs": [],
   "source": [
    "vectordb=FAISS.from_documents(document,embedding)"
   ]
  },
  {
   "cell_type": "code",
   "execution_count": 726,
   "metadata": {},
   "outputs": [],
   "source": [
    "db=vectordb.as_retriever()"
   ]
  },
  {
   "cell_type": "code",
   "execution_count": 727,
   "metadata": {},
   "outputs": [],
   "source": [
    "ret_doc=db.invoke(\"what is deep learning\")"
   ]
  },
  {
   "cell_type": "code",
   "execution_count": 728,
   "metadata": {},
   "outputs": [
    {
     "data": {
      "text/plain": [
       "[Document(id='e5a2f76f-ee88-4ab6-a6cd-1704181fa89b', metadata={'source': 'sample.txt'}, page_content='The definition of Deep learning is that it is the branch of machine learning that is based on artificial neural network architecture. An artificial neural network or ANN uses layers of interconnected nodes called neurons that work together to process and learn from the input data.\\n\\nIn a fully connected Deep neural network, there is an input layer and one or more hidden layers connected one after the other. Each neuron receives input from the previous layer neurons or the input layer. The output of one neuron becomes the input to other neurons in the next layer of the network, and this process continues until the final layer produces the output of the network. The layers of the neural network transform the input data through a series of nonlinear transformations, allowing the network to learn complex representations of the input data.\\n\\nDeep Learning - Geeksforgeeks\\nScope of Deep Learning\\n\\nToday Deep learning AI has become one of the most popular and visible areas of machine learning, due to its success in a variety of applications, such as computer vision, natural language processing, and Reinforcement learning.\\n\\nDeep learning AI can be used for supervised, unsupervised as well as reinforcement machine learning. it uses a variety of ways to process these.'),\n",
       " Document(id='fb28a84c-4c78-448d-befb-7c6e8838425c', metadata={'source': 'sample.txt'}, page_content='Machine Learning\\n\\nDeep Learning\\n\\nApply statistical algorithms to learn the hidden patterns and relationships in the dataset.\\tUses artificial neural network architecture to learn the hidden patterns and relationships in the dataset.\\nCan work on the smaller amount of dataset\\tRequires the larger volume of dataset compared to machine learning\\nBetter for the low-label task.\\tBetter for complex task like image processing, natural language processing, etc.\\nTakes less time to train the model.\\tTakes more time to train the model.\\nA model is created by relevant features which are manually extracted from images to detect an object in the image.\\tRelevant features are automatically extracted from images. It is an end-to-end learning process.\\nLess complex and easy to interpret the result.\\tMore complex, it works like the black box interpretations of the result are not easy.\\nIt can work on the CPU or requires less computing power as compared to deep learning.\\tIt requires a high-performance computer with GPU.\\nTypes of neural networks\\nDeep Learning models are able to automatically learn features from the data, which makes them well-suited for tasks such as image recognition, speech recognition, and natural language processing. The most widely used architectures in deep learning are feedforward neural networks, convolutional neural networks (CNNs), and recurrent neural networks (RNNs).'),\n",
       " Document(id='275fe0fe-750e-452c-904e-a76451f006bc', metadata={'source': 'sample.txt'}, page_content='Data availability: It requires large amounts of data to learn from. For using deep learning itâ€™s a big concern to gather as much data for training.\\nComputational Resources: For training the deep learning model, it is computationally expensive because it requires specialized hardware like GPUs and TPUs.\\nTime-consuming: While working on sequential data depending on the computational resource it can take very large even in days or months. \\nInterpretability: Deep learning models are complex, it works like a black box. it is very difficult to interpret the result.\\nOverfitting: when the model is trained again and again, it becomes too specialized for the training data, leading to overfitting and poor performance on new data.\\nAdvantages of Deep Learning:\\nHigh accuracy: Deep Learning algorithms can achieve state-of-the-art performance in various tasks, such as image recognition and natural language processing.\\nAutomated feature engineering: Deep Learning algorithms can automatically discover and learn relevant features from data without the need for manual feature engineering.\\nScalability: Deep Learning models can scale to handle large and complex datasets, and can learn from massive amounts of data.\\nFlexibility: Deep Learning models can be applied to a wide range of tasks and can handle various types of data, such as images, text, and speech.\\nContinual improvement: Deep Learning models can continually improve their performance as more data becomes available.'),\n",
       " Document(id='0f774ce6-db41-47eb-84b2-44489f70940e', metadata={'source': 'sample.txt'}, page_content='Feedforward neural networks (FNNs) are the simplest type of ANN, with a linear flow of information through the network. FNNs have been widely used for tasks such as image classification, speech recognition, and natural language processing.\\nConvolutional Neural Networks (CNNs) are specifically for image and video recognition tasks. CNNs are able to automatically learn features from the images, which makes them well-suited for tasks such as image classification, object detection, and image segmentation.\\nRecurrent Neural Networks (RNNs) are a type of neural network that is able to process sequential data, such as time series and natural language. RNNs are able to maintain an internal state that captures information about the previous inputs, which makes them well-suited for tasks such as speech recognition, natural language processing, and language translation.\\nDeep Learning Applications:\\nThe main applications of deep learning AI can be divided into computer vision, natural language processing (NLP), and reinforcement learning. \\n\\n1. Computer vision\\nThe first Deep Learning applications is Computer vision. In computer vision, Deep learning AI models can enable machines to identify and understand visual data. Some of the main applications of deep learning in computer vision include:')]"
      ]
     },
     "execution_count": 728,
     "metadata": {},
     "output_type": "execute_result"
    }
   ],
   "source": [
    "ret_doc"
   ]
  },
  {
   "cell_type": "code",
   "execution_count": 729,
   "metadata": {},
   "outputs": [
    {
     "name": "stdout",
     "output_type": "stream",
     "text": [
      "page_content='The definition of Deep learning is that it is the branch of machine learning that is based on artificial neural network architecture. An artificial neural network or ANN uses layers of interconnected nodes called neurons that work together to process and learn from the input data.\n",
      "\n",
      "In a fully connected Deep neural network, there is an input layer and one or more hidden layers connected one after the other. Each neuron receives input from the previous layer neurons or the input layer. The output of one neuron becomes the input to other neurons in the next layer of the network, and this process continues until the final layer produces the output of the network. The layers of the neural network transform the input data through a series of nonlinear transformations, allowing the network to learn complex representations of the input data.\n",
      "\n",
      "Deep Learning - Geeksforgeeks\n",
      "Scope of Deep Learning\n",
      "\n",
      "Today Deep learning AI has become one of the most popular and visible areas of machine learning, due to its success in a variety of applications, such as computer vision, natural language processing, and Reinforcement learning.\n",
      "\n",
      "Deep learning AI can be used for supervised, unsupervised as well as reinforcement machine learning. it uses a variety of ways to process these.' metadata={'source': 'sample.txt'}\n",
      "page_content='Machine Learning\n",
      "\n",
      "Deep Learning\n",
      "\n",
      "Apply statistical algorithms to learn the hidden patterns and relationships in the dataset.\tUses artificial neural network architecture to learn the hidden patterns and relationships in the dataset.\n",
      "Can work on the smaller amount of dataset\tRequires the larger volume of dataset compared to machine learning\n",
      "Better for the low-label task.\tBetter for complex task like image processing, natural language processing, etc.\n",
      "Takes less time to train the model.\tTakes more time to train the model.\n",
      "A model is created by relevant features which are manually extracted from images to detect an object in the image.\tRelevant features are automatically extracted from images. It is an end-to-end learning process.\n",
      "Less complex and easy to interpret the result.\tMore complex, it works like the black box interpretations of the result are not easy.\n",
      "It can work on the CPU or requires less computing power as compared to deep learning.\tIt requires a high-performance computer with GPU.\n",
      "Types of neural networks\n",
      "Deep Learning models are able to automatically learn features from the data, which makes them well-suited for tasks such as image recognition, speech recognition, and natural language processing. The most widely used architectures in deep learning are feedforward neural networks, convolutional neural networks (CNNs), and recurrent neural networks (RNNs).' metadata={'source': 'sample.txt'}\n",
      "page_content='Data availability: It requires large amounts of data to learn from. For using deep learning itâ€™s a big concern to gather as much data for training.\n",
      "Computational Resources: For training the deep learning model, it is computationally expensive because it requires specialized hardware like GPUs and TPUs.\n",
      "Time-consuming: While working on sequential data depending on the computational resource it can take very large even in days or months. \n",
      "Interpretability: Deep learning models are complex, it works like a black box. it is very difficult to interpret the result.\n",
      "Overfitting: when the model is trained again and again, it becomes too specialized for the training data, leading to overfitting and poor performance on new data.\n",
      "Advantages of Deep Learning:\n",
      "High accuracy: Deep Learning algorithms can achieve state-of-the-art performance in various tasks, such as image recognition and natural language processing.\n",
      "Automated feature engineering: Deep Learning algorithms can automatically discover and learn relevant features from data without the need for manual feature engineering.\n",
      "Scalability: Deep Learning models can scale to handle large and complex datasets, and can learn from massive amounts of data.\n",
      "Flexibility: Deep Learning models can be applied to a wide range of tasks and can handle various types of data, such as images, text, and speech.\n",
      "Continual improvement: Deep Learning models can continually improve their performance as more data becomes available.' metadata={'source': 'sample.txt'}\n",
      "page_content='Feedforward neural networks (FNNs) are the simplest type of ANN, with a linear flow of information through the network. FNNs have been widely used for tasks such as image classification, speech recognition, and natural language processing.\n",
      "Convolutional Neural Networks (CNNs) are specifically for image and video recognition tasks. CNNs are able to automatically learn features from the images, which makes them well-suited for tasks such as image classification, object detection, and image segmentation.\n",
      "Recurrent Neural Networks (RNNs) are a type of neural network that is able to process sequential data, such as time series and natural language. RNNs are able to maintain an internal state that captures information about the previous inputs, which makes them well-suited for tasks such as speech recognition, natural language processing, and language translation.\n",
      "Deep Learning Applications:\n",
      "The main applications of deep learning AI can be divided into computer vision, natural language processing (NLP), and reinforcement learning. \n",
      "\n",
      "1. Computer vision\n",
      "The first Deep Learning applications is Computer vision. In computer vision, Deep learning AI models can enable machines to identify and understand visual data. Some of the main applications of deep learning in computer vision include:' metadata={'source': 'sample.txt'}\n"
     ]
    }
   ],
   "source": [
    "for doc in ret_doc:\n",
    "    print(doc)"
   ]
  },
  {
   "cell_type": "code",
   "execution_count": 730,
   "metadata": {},
   "outputs": [],
   "source": [
    "prompt=ChatPromptTemplate.from_template(\n",
    "    \"\"\"\n",
    "        Answer the following question based on the give context\n",
    "        {context}\n",
    "\n",
    "        question:{question}  \n",
    "   \"\"\"\n",
    ")"
   ]
  },
  {
   "cell_type": "code",
   "execution_count": 731,
   "metadata": {},
   "outputs": [],
   "source": [
    "chain=prompt|llm|StrOutputParser()"
   ]
  },
  {
   "cell_type": "code",
   "execution_count": 732,
   "metadata": {},
   "outputs": [],
   "source": [
    "response=chain.invoke({\"context\":document,\"question\":\"disadvanatge of deep learning\"})"
   ]
  },
  {
   "cell_type": "code",
   "execution_count": 733,
   "metadata": {},
   "outputs": [
    {
     "data": {
      "text/plain": [
       "'Here are some disadvantages of deep learning, based on the provided text:\\n\\n* **High computational requirements:** Training deep learning models demands significant processing power and large amounts of data. This can be expensive and time-consuming.\\n* **Requires large amounts of labeled data:** Deep learning models often perform best when trained on extensive labeled datasets. Gathering and labeling this data can be a laborious and costly process.\\n* **Interpretability:** Deep learning models are often considered \"black boxes\" because it can be difficult to understand how they arrive at their predictions. This lack of transparency can make it challenging to trust and debug these models.\\n* **Overfitting:** Deep learning models can sometimes overfit to the training data, meaning they perform well on the data they were trained on but poorly on new, unseen data.  \\n* **Black-box nature:** The complexity of deep learning models makes it difficult to understand the reasoning behind their decisions, which can be a concern in applications where explainability is crucial. \\n\\n\\nLet me know if you have any other questions. \\n'"
      ]
     },
     "execution_count": 733,
     "metadata": {},
     "output_type": "execute_result"
    }
   ],
   "source": [
    "response"
   ]
  },
  {
   "cell_type": "code",
   "execution_count": 734,
   "metadata": {},
   "outputs": [],
   "source": [
    "class Grader(BaseModel):\n",
    "    \"\"\"check the relevance between the document and question\"\"\"\n",
    "    binary_score:str=Field(description=\"the relevance of binary score 'yes' or 'no'\")"
   ]
  },
  {
   "cell_type": "code",
   "execution_count": 735,
   "metadata": {},
   "outputs": [],
   "source": [
    "with_structured=llm.with_structured_output(Grader)\n",
    "\n",
    "system1=\"\"\"\n",
    " As you are grader assissting agent analyse the given question check \n",
    " strictly if the given document contain any keyward or semantic meaning to the givenquestion \n",
    " if you find any relevance to the question say strictly binary_score 'yes' otherwise 'no'\n",
    "\"\"\"\n",
    "\n",
    "prompt1=ChatPromptTemplate.from_messages(\n",
    "    [\n",
    "        (\"system\",system1),\n",
    "        (\"human\",\"Here is the question :{question}/n/n Here is the document : {document}\")\n",
    "    ]\n",
    ")\n",
    "\n",
    "grade_docs=prompt1|with_structured"
   ]
  },
  {
   "cell_type": "code",
   "execution_count": 736,
   "metadata": {},
   "outputs": [],
   "source": [
    "question=\"who is president os india\""
   ]
  },
  {
   "cell_type": "code",
   "execution_count": 737,
   "metadata": {},
   "outputs": [
    {
     "data": {
      "text/plain": [
       "Grader(binary_score='no')"
      ]
     },
     "execution_count": 737,
     "metadata": {},
     "output_type": "execute_result"
    }
   ],
   "source": [
    "grade_docs.invoke({\"question\":question,\"document\":ret_doc})"
   ]
  },
  {
   "cell_type": "code",
   "execution_count": 738,
   "metadata": {},
   "outputs": [],
   "source": [
    "system2=\"\"\"\n",
    " As you are a question rewritter take the given question and analyse it\n",
    " reformulate the given question into better version for the web searching otherwise you\n",
    " nothing do in the question\n",
    "return the rewritting question only \n",
    "\"\"\"\n",
    "\n",
    "prompt2=ChatPromptTemplate.from_messages(\n",
    "    [(\"system\",system2),\n",
    "     (\"human\",\"Here is the question {question}\")]\n",
    ")\n",
    "\n",
    "question_rewritter=prompt2|llm"
   ]
  },
  {
   "cell_type": "code",
   "execution_count": 739,
   "metadata": {},
   "outputs": [],
   "source": [
    "question1=\"president of india\""
   ]
  },
  {
   "cell_type": "code",
   "execution_count": 740,
   "metadata": {},
   "outputs": [],
   "source": [
    "result=question_rewritter.invoke({\"question\":question1})"
   ]
  },
  {
   "cell_type": "code",
   "execution_count": 741,
   "metadata": {},
   "outputs": [
    {
     "data": {
      "text/plain": [
       "AIMessage(content='Who is the current President of India? \\n', additional_kwargs={}, response_metadata={'token_usage': {'completion_tokens': 12, 'prompt_tokens': 62, 'total_tokens': 74, 'completion_time': 0.021818182, 'prompt_time': 0.00332401, 'queue_time': 0.132054955, 'total_time': 0.025142192}, 'model_name': 'gemma2-9b-it', 'system_fingerprint': 'fp_10c08bf97d', 'finish_reason': 'stop', 'logprobs': None}, id='run-7fef90ec-3859-4a99-9376-73328273767e-0', usage_metadata={'input_tokens': 62, 'output_tokens': 12, 'total_tokens': 74})"
      ]
     },
     "execution_count": 741,
     "metadata": {},
     "output_type": "execute_result"
    }
   ],
   "source": [
    "result"
   ]
  },
  {
   "cell_type": "code",
   "execution_count": 742,
   "metadata": {},
   "outputs": [],
   "source": [
    "prompt3=ChatPromptTemplate.from_template(\n",
    "    \"\"\"\n",
    "        Answer the following question based on the give context\n",
    "        {context}\n",
    "\n",
    "        question:{question}  \n",
    "   \"\"\"\n",
    ")\n",
    "\n",
    "query_gen=prompt3|llm"
   ]
  },
  {
   "cell_type": "code",
   "execution_count": 743,
   "metadata": {},
   "outputs": [],
   "source": [
    "from typing import List"
   ]
  },
  {
   "cell_type": "code",
   "execution_count": 744,
   "metadata": {},
   "outputs": [],
   "source": [
    "class AgentState(TypedDict):\n",
    "    question:str\n",
    "    generation:str\n",
    "    toolsearch:str\n",
    "    web_search:str\n",
    "    documents:list[str]"
   ]
  },
  {
   "cell_type": "code",
   "execution_count": 745,
   "metadata": {},
   "outputs": [],
   "source": [
    "def retriever(state:AgentState):\n",
    "\n",
    "    print(\"==> RETRIEVING THE QUESTION <===\")\n",
    "    question=state[\"question\"]\n",
    "\n",
    "    documents=db.invoke(question)\n",
    "    return {\"question\":question,\"documents\":documents}"
   ]
  },
  {
   "cell_type": "code",
   "execution_count": 746,
   "metadata": {},
   "outputs": [],
   "source": [
    "#retriever({\"question\":\"what is deep learning\"})"
   ]
  },
  {
   "cell_type": "code",
   "execution_count": 747,
   "metadata": {},
   "outputs": [],
   "source": [
    "def grade_checking(state:AgentState):\n",
    "\n",
    "    print(\"==> GRADE CHECKING <==\")\n",
    "\n",
    "    question=state[\"question\"]\n",
    "    documents=state[\"documents\"]\n",
    "\n",
    "    web_search='no'\n",
    "    doclist=[]\n",
    "\n",
    "    for doc in documents:\n",
    "        grade=grade_docs.invoke({\"question\":question,\"document\":doc.page_content})\n",
    "        score=grade.binary_score\n",
    "\n",
    "        if score=='yes':\n",
    "            print(\"==> DOCUMENTS ARE RELEVANTS <===\")\n",
    "            doclist.append(doc)\n",
    "\n",
    "        else:\n",
    "            print(\"DOCUMENTS ARE NOT RELEVANT\")\n",
    "            web_search='yes'\n",
    "            continue\n",
    "    \n",
    "    return {\"question\":question,\"documents\":doclist,\"web_search\":web_search}"
   ]
  },
  {
   "cell_type": "code",
   "execution_count": 748,
   "metadata": {},
   "outputs": [],
   "source": [
    "def router(state:AgentState):\n",
    "    question=state[\"question\"]\n",
    "    web_search=state[\"web_search\"]\n",
    "\n",
    "    if web_search=='yes':\n",
    "        return \"transform_query\"\n",
    "    else:\n",
    "        return \"generate_answer\" "
   ]
  },
  {
   "cell_type": "code",
   "execution_count": 749,
   "metadata": {},
   "outputs": [],
   "source": [
    "def generate(state:AgentState):\n",
    "    print(\"==> GENERATING THE ANSWER <==\")\n",
    "    question=state[\"question\"]\n",
    "    documents=state[\"documents\"]\n",
    "\n",
    "    generation=query_gen.invoke({\"question\":question,\"context\":documents})\n",
    "\n",
    "    return {\"generation\":generation}"
   ]
  },
  {
   "cell_type": "code",
   "execution_count": 750,
   "metadata": {},
   "outputs": [],
   "source": [
    "def rewritting(state:AgentState):\n",
    "\n",
    "    print(\"==> REWRITTING THE QUESTION <==\")\n",
    "    question=state[\"question\"]\n",
    "    documents=state[\"documents\"]\n",
    "\n",
    "    betterquestion=question_rewritter.invoke({\"question\":question})\n",
    "\n",
    "    print(f\"the rewrite question is : {betterquestion}\")\n",
    "\n",
    "    return {\"question\":betterquestion,\"documents\":documents}"
   ]
  },
  {
   "cell_type": "code",
   "execution_count": 751,
   "metadata": {},
   "outputs": [],
   "source": [
    "from typing import Literal\n",
    "import random"
   ]
  },
  {
   "cell_type": "code",
   "execution_count": 752,
   "metadata": {},
   "outputs": [],
   "source": [
    "def websearching(state:AgentState):\n",
    "    print(\"==>ENTERING INTO THE WEB SEARCH <==\")\n",
    "\n",
    "    question=state[\"question\"]\n",
    "    try:\n",
    "        if random.randint(0,10)<5:\n",
    "            toolsearch='tavily'\n",
    "        else:\n",
    "            toolsearch='wikipedia'\n",
    "\n",
    "    except Exception as e:\n",
    "        print(\"TypeError: 'dict' object is not callable\")\n",
    "\n",
    "    print(f\"the type of tool search is  {toolsearch}\")\n",
    "\n",
    "    return {\"toolsearch\":toolsearch}"
   ]
  },
  {
   "cell_type": "code",
   "execution_count": 753,
   "metadata": {},
   "outputs": [],
   "source": [
    "def agent(state:AgentState):\n",
    "    toolsearch=state[\"toolsearch\"]\n",
    "\n",
    "    if toolsearch==\"tavily\":\n",
    "        return \"tavily_tool\"\n",
    "    else :\n",
    "        return \"wikipedia_tool\""
   ]
  },
  {
   "cell_type": "code",
   "execution_count": 754,
   "metadata": {},
   "outputs": [],
   "source": [
    "search=TavilySearchResults()"
   ]
  },
  {
   "cell_type": "code",
   "execution_count": 755,
   "metadata": {},
   "outputs": [],
   "source": [
    "def tavily_tool(state:AgentState):\n",
    "\n",
    "    print(\"===> ENTERING INTO THE TAVILY SEARCH <===\")\n",
    "    \n",
    "    question=state[\"question\"].content\n",
    "\n",
    "    print(f\"the question is {question}\")\n",
    "\n",
    "    documents=state[\"documents\"]\n",
    "\n",
    "    print(f\"the documents is {documents}\")\n",
    "\n",
    "    results=search.invoke(question)\n",
    "\n",
    "    answer='\\n\\n'.join([r[\"content\"] for r in results])\n",
    "    \n",
    "    doc_ans=Document(page_content=answer)\n",
    "\n",
    "    print(f\"the answer is {doc_ans}\")\n",
    "\n",
    "    documents.append(doc_ans)\n",
    "\n",
    "    return {\"question\":question,\"documents\":documents}"
   ]
  },
  {
   "cell_type": "code",
   "execution_count": 756,
   "metadata": {},
   "outputs": [],
   "source": [
    "wiki_api=WikipediaAPIWrapper(top_k_results=3,doc_content_chars_max=250)\n",
    "wiki=WikipediaQueryRun(api_wrapper=wiki_api)"
   ]
  },
  {
   "cell_type": "code",
   "execution_count": 757,
   "metadata": {},
   "outputs": [],
   "source": [
    "from langchain.schema import Document"
   ]
  },
  {
   "cell_type": "code",
   "execution_count": 758,
   "metadata": {},
   "outputs": [],
   "source": [
    "def wiki_tool(state:AgentState):\n",
    "    print(\"==> ENTERING INTO THE WIKI_TOOL <==\")\n",
    "    \n",
    "    question=state[\"question\"].content\n",
    "\n",
    "    print(f\"the question is {question}\")\n",
    "\n",
    "    documents=state[\"documents\"]\n",
    "\n",
    "    print(f\"the document is {documents}\")\n",
    "\n",
    "    answer=wiki.invoke(question)\n",
    "\n",
    "    result=Document(page_content=answer)\n",
    "\n",
    "    print(f\"the answer is {result}\")\n",
    "\n",
    "    documents.append(result)\n",
    "    return {\"question\":question,\"documents\":documents}"
   ]
  },
  {
   "cell_type": "code",
   "execution_count": 759,
   "metadata": {},
   "outputs": [],
   "source": [
    "def grade_checking_want(state:AgentState):\n",
    "\n",
    "    print(\"==>ENTERING INTO THE GRADE CHECKING <===\")\n",
    "    question=state[\"question\"]\n",
    "\n",
    "    if random.randint(1,10)<5:\n",
    "        return \"grade_checking\"\n",
    "    else:\n",
    "        return \"generate\""
   ]
  },
  {
   "cell_type": "code",
   "execution_count": 760,
   "metadata": {},
   "outputs": [],
   "source": [
    "graph=StateGraph(AgentState)"
   ]
  },
  {
   "cell_type": "code",
   "execution_count": 761,
   "metadata": {},
   "outputs": [
    {
     "data": {
      "text/plain": [
       "<langgraph.graph.state.StateGraph at 0x1630f546e70>"
      ]
     },
     "execution_count": 761,
     "metadata": {},
     "output_type": "execute_result"
    }
   ],
   "source": [
    "graph.add_node(\"retrieving\",retriever)\n",
    "graph.set_entry_point(\"retrieving\")\n",
    "graph.add_node(\"grading_documents\",grade_checking)\n",
    "graph.add_node(\"generating\",generate)\n",
    "graph.add_node(\"rewritting_query\",rewritting)\n",
    "graph.add_node(\"websearching_call\",websearching)\n",
    "graph.add_node(\"tavilytoolsearch\",tavily_tool)\n",
    "graph.add_node(\"wikipediatoolsearch\",wiki_tool)"
   ]
  },
  {
   "cell_type": "code",
   "execution_count": 762,
   "metadata": {},
   "outputs": [
    {
     "data": {
      "text/plain": [
       "<langgraph.graph.state.StateGraph at 0x1630f546e70>"
      ]
     },
     "execution_count": 762,
     "metadata": {},
     "output_type": "execute_result"
    }
   ],
   "source": [
    "graph.add_conditional_edges(\"grading_documents\",\n",
    "                            router,\n",
    "                            {\n",
    "                                \"transform_query\":\"rewritting_query\",\n",
    "                                \"generate_answer\":\"generating\"\n",
    "                            })"
   ]
  },
  {
   "cell_type": "code",
   "execution_count": 763,
   "metadata": {},
   "outputs": [
    {
     "data": {
      "text/plain": [
       "<langgraph.graph.state.StateGraph at 0x1630f546e70>"
      ]
     },
     "execution_count": 763,
     "metadata": {},
     "output_type": "execute_result"
    }
   ],
   "source": [
    "graph.add_conditional_edges(\"websearching_call\",\n",
    "                            agent,\n",
    "                            {\n",
    "                                \"tavily_tool\":\"tavilytoolsearch\",\n",
    "                                \"wikipedia_tool\":\"wikipediatoolsearch\",\n",
    "                            })"
   ]
  },
  {
   "cell_type": "code",
   "execution_count": 764,
   "metadata": {},
   "outputs": [
    {
     "data": {
      "text/plain": [
       "<langgraph.graph.state.StateGraph at 0x1630f546e70>"
      ]
     },
     "execution_count": 764,
     "metadata": {},
     "output_type": "execute_result"
    }
   ],
   "source": [
    "graph.add_conditional_edges(\"tavilytoolsearch\",\n",
    "                            grade_checking_want,\n",
    "                            {\n",
    "                                \"grade_checking\":\"grading_documents\",\n",
    "                                \"generate\":\"generating\"\n",
    "                            }\n",
    "                            )"
   ]
  },
  {
   "cell_type": "code",
   "execution_count": 765,
   "metadata": {},
   "outputs": [
    {
     "data": {
      "text/plain": [
       "<langgraph.graph.state.StateGraph at 0x1630f546e70>"
      ]
     },
     "execution_count": 765,
     "metadata": {},
     "output_type": "execute_result"
    }
   ],
   "source": [
    "graph.add_conditional_edges(\"wikipediatoolsearch\",\n",
    "                            grade_checking_want,\n",
    "                            {\n",
    "                                \"grade_checking\":\"grading_documents\",\n",
    "                                \"generate\":\"generating\"\n",
    "                            }\n",
    "                            )"
   ]
  },
  {
   "cell_type": "code",
   "execution_count": 766,
   "metadata": {},
   "outputs": [
    {
     "data": {
      "text/plain": [
       "<langgraph.graph.state.StateGraph at 0x1630f546e70>"
      ]
     },
     "execution_count": 766,
     "metadata": {},
     "output_type": "execute_result"
    }
   ],
   "source": [
    "graph.add_edge(\"retrieving\",\"grading_documents\")\n",
    "graph.add_edge(\"grading_documents\",\"generating\")\n",
    "graph.add_edge(\"rewritting_query\",\"websearching_call\")\n",
    "graph.add_edge(\"generating\",END)\n"
   ]
  },
  {
   "cell_type": "code",
   "execution_count": 767,
   "metadata": {},
   "outputs": [],
   "source": [
    "app=graph.compile()"
   ]
  },
  {
   "cell_type": "code",
   "execution_count": 768,
   "metadata": {},
   "outputs": [
    {
     "data": {
      "image/png": "[encoded data removed]",
      "text/plain": [
       "<IPython.core.display.Image object>"
      ]
     },
     "metadata": {},
     "output_type": "display_data"
    }
   ],
   "source": [
    "try:\n",
    "    display(Image(app.get_graph().draw_mermaid_png()))\n",
    "except Exception as e:\n",
    "    print(e)"
   ]
  },
  {
   "cell_type": "code",
   "execution_count": 769,
   "metadata": {},
   "outputs": [],
   "source": [
    "from pprint import pprint\n",
    "input={'question':\"what is deep learning\"}"
   ]
  },
  {
   "cell_type": "code",
   "execution_count": 770,
   "metadata": {},
   "outputs": [
    {
     "name": "stdout",
     "output_type": "stream",
     "text": [
      "==> RETRIEVING THE QUESTION <===\n",
      "node retrieving\n",
      "'/n.../n'\n",
      "==> GRADE CHECKING <==\n",
      "==> DOCUMENTS ARE RELEVANTS <===\n",
      "==> DOCUMENTS ARE RELEVANTS <===\n",
      "==> DOCUMENTS ARE RELEVANTS <===\n",
      "==> DOCUMENTS ARE RELEVANTS <===\n",
      "node grading_documents\n",
      "'/n.../n'\n",
      "==> GENERATING THE ANSWER <==\n",
      "node generating\n",
      "'/n.../n'\n",
      "AIMessage(content='Deep learning is a branch of machine learning that utilizes artificial neural network architecture to learn hidden patterns and relationships within data. \\n\\nEssentially, it mimics the way the human brain works by using interconnected nodes (neurons) that process and learn from input data through multiple layers. This layered structure allows deep learning models to extract increasingly complex representations of the data, making them powerful for tasks like image recognition, natural language processing, and more. \\n\\n\\n', additional_kwargs={}, response_metadata={'token_usage': {'completion_tokens': 89, 'prompt_tokens': 1287, 'total_tokens': 1376, 'completion_time': 0.161818182, 'prompt_time': 0.041432385, 'queue_time': 0.049796215000000005, 'total_time': 0.203250567}, 'model_name': 'gemma2-9b-it', 'system_fingerprint': 'fp_10c08bf97d', 'finish_reason': 'stop', 'logprobs': None}, id='run-a477e29f-7a15-4e58-82dd-8c3b0d85c990-0', usage_metadata={'input_tokens': 1287, 'output_tokens': 89, 'total_tokens': 1376})\n"
     ]
    }
   ],
   "source": [
    "for output in app.stream(input):\n",
    "    for key,value in output.items():\n",
    "        print(f\"node {key}\")\n",
    "\n",
    "    pprint(\"/n.../n\")\n",
    "pprint(value[\"generation\"])"
   ]
  },
  {
   "cell_type": "code",
   "execution_count": 771,
   "metadata": {},
   "outputs": [],
   "source": [
    "input2={'question':\"president of india\"}"
   ]
  },
  {
   "cell_type": "code",
   "execution_count": 772,
   "metadata": {},
   "outputs": [
    {
     "name": "stdout",
     "output_type": "stream",
     "text": [
      "==> RETRIEVING THE QUESTION <===\n",
      "node retrieving\n",
      "'/n.../n'\n",
      "==> GRADE CHECKING <==\n",
      "DOCUMENTS ARE NOT RELEVANT\n",
      "DOCUMENTS ARE NOT RELEVANT\n",
      "DOCUMENTS ARE NOT RELEVANT\n",
      "DOCUMENTS ARE NOT RELEVANT\n",
      "node grading_documents\n",
      "'/n.../n'\n",
      "==> GENERATING THE ANSWER <==\n",
      "==> REWRITTING THE QUESTION <==\n",
      "node generating\n",
      "'/n.../n'\n",
      "the rewrite question is : content='Who is the current President of India? \\n' additional_kwargs={} response_metadata={'token_usage': {'completion_tokens': 12, 'prompt_tokens': 62, 'total_tokens': 74, 'completion_time': 0.021818182, 'prompt_time': 0.001854974, 'queue_time': 0.04864477, 'total_time': 0.023673156}, 'model_name': 'gemma2-9b-it', 'system_fingerprint': 'fp_10c08bf97d', 'finish_reason': 'stop', 'logprobs': None} id='run-8d43c34b-4ab9-4384-8f98-8b9303949b10-0' usage_metadata={'input_tokens': 62, 'output_tokens': 12, 'total_tokens': 74}\n",
      "node rewritting_query\n",
      "'/n.../n'\n",
      "==>ENTERING INTO THE WEB SEARCH <==\n",
      "the type of tool search is  tavily\n",
      "node websearching_call\n",
      "'/n.../n'\n",
      "===> ENTERING INTO THE TAVILY SEARCH <===\n",
      "the question is Who is the current President of India? \n",
      "\n",
      "the documents is []\n",
      "the answer is page_content='#### Smt. Droupadi MurmuThe President of India Smt. Droupadi Murmu was sworn in as the 15th President of India on 25 July, 2022. Born in a Santhali tribal family on 20 June, 1958 at Uparbeda village, Mayurbhanj, Odisha, Smt. Murmu’s early life was marked by hardships and struggle. In 2000, Smt. Murmu was elected from the Rairangpur constituency as a Member of the Legislative Assembly of Odisha and continued to hold the post till 2009, serving two terms. Smt. Murmu was appointed the Governor of Jharkhand on 18 May, 2015. Smt. Murmu was associated with several tribal socio-educational and cultural organisations of Odisha. As President of India, Smt. Droupadi Murmu has travelled widely across the country.\n",
      "\n",
      "Article 53 of the Constitution of India states that the president can exercise their powers directly or by subordinate authority, though all of the executive powers vested in the president are, in practice, exercised by the prime minister heading the Council of Ministers.[3] The president is bound by the constitution to act on the advice of the council and to enforce the decrees passed by the Supreme Court under article 142. The Constitution of India was eventually enacted on 26 November 1949 and came into force on 26 January 1950,[5]: 26  making India a republic.[6]: 9  The offices of monarch and governor-general were replaced by the new office of President of India, with Rajendra Prasad as its first incumbent.[6]: 1  India retained its Commonwealth membership per the London Declaration, recognising The King as \"the symbol of the free association of its independent member nations and as such the Head of the Commonwealth.\"[7]\n",
      "\n",
      "Cricket legend Shri Sachin Tendulkar, along with his family members, called on the President of India, Smt Droupadi Murmu at Rashtrapati Bhavan on February 6, 2025. H.E. Mr Philemon Yang, President of the 79th session of the United Nations General Assembly (UNGA) called on the President of India, Smt Droupadi Murmu at Rashtrapati Bhavan on February 6, 2025. A group of probationers of Indian Telecommunications Service called on the President of India, Smt Droupadi Murmu at Rashtrapati Bhavan on January 22, 2025. A group of probationers of Indian Defence Accounts Service called on the President of India, Smt Droupadi Murmu at Rashtrapati Bhavan on January 22, 2025. 10 Dec 24 ADDRESS BY THE HON’BLE PRESIDENT OF INDIA, SMT DROUPADI MURMU ON THE OCCASION OF HUMAN RIGHTS DAY\n",
      "\n",
      "President Droupadi Murmu voted in the Delhi Legislative Assembly elections 2025. The President cast her vote at the\n",
      "\n",
      "(1888–1975) Tamil Nadu  Vice President of India 13 May 1962 13 May 1967 5 years Bhuvaneshwar Prasad Sinha   1962        Zakir Husain    Independent  (1894–1980) Odisha  Vice President of India 3 May 1969  20 July 1969    78 days     –   – (1920–2005) Kerala  Vice President of India 25 July 1997    25 July 2002    5 years J. President of India ^ \"The Chief Justice of India, Shri Justice N.V. Ramana administering the oath of the office of the President of India to Smt. Droupadi Murmu, at a swearing-in ceremony in the central hall of Parliament, in New Delhi on July 25, 2022. Presidents of India'\n",
      "==>ENTERING INTO THE GRADE CHECKING <===\n",
      "node tavilytoolsearch\n",
      "'/n.../n'\n",
      "==> GENERATING THE ANSWER <==\n",
      "node generating\n",
      "'/n.../n'\n",
      "AIMessage(content='The current President of India is **Smt. Droupadi Murmu**. \\n', additional_kwargs={}, response_metadata={'token_usage': {'completion_tokens': 20, 'prompt_tokens': 957, 'total_tokens': 977, 'completion_time': 0.036363636, 'prompt_time': 0.031266386, 'queue_time': 0.052168523, 'total_time': 0.067630022}, 'model_name': 'gemma2-9b-it', 'system_fingerprint': 'fp_10c08bf97d', 'finish_reason': 'stop', 'logprobs': None}, id='run-acaa9c09-2c84-4c7e-9730-4d132a15160f-0', usage_metadata={'input_tokens': 957, 'output_tokens': 20, 'total_tokens': 977})\n"
     ]
    }
   ],
   "source": [
    "for output in app.stream(input2):\n",
    "    for key,value in output.items():\n",
    "        print(f\"node {key}\")\n",
    "\n",
    "    pprint(\"/n.../n\")\n",
    "pprint(value[\"generation\"])"
   ]
  },
  {
   "cell_type": "code",
   "execution_count": 773,
   "metadata": {},
   "outputs": [],
   "source": [
    "input3={'question':\"which day india is celebrated as republic day\"}"
   ]
  },
  {
   "cell_type": "code",
   "execution_count": 774,
   "metadata": {},
   "outputs": [
    {
     "name": "stdout",
     "output_type": "stream",
     "text": [
      "==> RETRIEVING THE QUESTION <===\n",
      "node retrieving\n",
      "'/n.../n'\n",
      "==> GRADE CHECKING <==\n",
      "DOCUMENTS ARE NOT RELEVANT\n",
      "DOCUMENTS ARE NOT RELEVANT\n",
      "DOCUMENTS ARE NOT RELEVANT\n",
      "DOCUMENTS ARE NOT RELEVANT\n",
      "node grading_documents\n",
      "'/n.../n'\n",
      "==> GENERATING THE ANSWER <==\n",
      "==> REWRITTING THE QUESTION <==\n",
      "node generating\n",
      "'/n.../n'\n",
      "the rewrite question is : content='When is Republic Day celebrated in India? \\n' additional_kwargs={} response_metadata={'token_usage': {'completion_tokens': 12, 'prompt_tokens': 67, 'total_tokens': 79, 'completion_time': 0.021818182, 'prompt_time': 0.002534793, 'queue_time': 0.049558482, 'total_time': 0.024352975}, 'model_name': 'gemma2-9b-it', 'system_fingerprint': 'fp_10c08bf97d', 'finish_reason': 'stop', 'logprobs': None} id='run-1d402a58-d6f8-44dc-a348-9ac4626a3984-0' usage_metadata={'input_tokens': 67, 'output_tokens': 12, 'total_tokens': 79}\n",
      "node rewritting_query\n",
      "'/n.../n'\n",
      "==>ENTERING INTO THE WEB SEARCH <==\n",
      "the type of tool search is  tavily\n",
      "node websearching_call\n",
      "'/n.../n'\n",
      "===> ENTERING INTO THE TAVILY SEARCH <===\n",
      "the question is When is Republic Day celebrated in India? \n",
      "\n",
      "the documents is []\n",
      "the answer is page_content='Why is Republic Day of India celebrated on January 26? Why is Republic Day of India celebrated on January 26? Why is Republic Day of India celebrated on January 26? January 26th is celebrated as Republic Day in India, marking the date in 1950 when the Indian Constitution was adopted. January 26th is revered as the Republic Day of India because of its historical significance, which bears witness to a contentious past, the might of the present, and the boundless potential of the future. The 26th of January was subsequently declared a national holiday and acknowledged as India's Republic Day. The Indian Constitution established democracy and granted the people the right to select their own government.\n",
      "\n",
      "Republic Day is celebrated on January 26 to commemorate the adoption of the Indian Constitution in 1950, marking India's transition to a sovereign republic. Have you ever wondered why the Republic Day of India is always celebrated on January 26 every year? The reason behind celebrating Republic Day on January 26 is because it marks the day when the Constitution of India came into effect in 1950. The Indian Constitution came into effect on January 26, 1950, marking a significant milestone in India's history as it transitioned from a dominion under British rule to a sovereign, democratic republic. The connection between the Purna Swaraj Resolution and Republic Day is deeply rooted in India's struggle for independence and the establishment of its constitutional framework.\n",
      "\n",
      "On the Republic Day, the President of India unfurls the national flag in the national capital New Delhi with the Governors and Lieutenant Governors unfurling the flag at the respective states and union territories.[10][11]\n",
      "Parade[edit]\n",
      "The main Republic Day celebrations are held in New Delhi, at the Kartavya Path, a ceremonial boulevard that runs from Rashtrapati Bhavan on Raisina Hill through India Gate.[12] The President who is the Commander-in-Chief of the Indian Armed Forces, takes the salute from various units of the army, navy, air force, para-military and police forces.[15]\n",
      "Every year, a head of state or government of another country is invited as the state guest of honor for the Republic day celebrations in New Delhi. The major part of the constitution came into effect on 26 January 1950 with Rajendra Prasad becoming the first President of India and the constituent assembly became the Parliament of India under the transitional provisions of the new constitution.[6][7] The date was chosen as the Indian National Congress proclaimed Purna Swaraj (complete independence) on this day in 1930.[8]\n",
      "Customs and celebrations[edit]\n",
      "On the eve of the Republic Day, the President addresses the nation.[9] Without a standalone constitution, its laws were based on the existent Government of India Act 1935 and governed by the Constituent Assembly of India.[2]\n",
      "On 29 August 1947, a seven member drafting committee was appointed to draft a permanent constitution, with B R Ambedkar as chairman.[3] A draft constitution prepared by the committee was submitted to the Constituent Assembly on 4 November 1948.[4]\n",
      "\n",
      "Republic Day is a national holiday celebrated annually on January 26 to commemorate the entry into force of the Constitution of India in 1950.\n",
      "\n",
      "Explained: Why India Celebrates Republic Day On January 26 India India All India News Explained: Why India Celebrates Republic Day On January 26 India News India News Explained: Why India Celebrates Republic Day On January 26 Explained: Why India Celebrates Republic Day On January 26 India News India will celebrate its 76th Republic Day on Sunday. New Delhi:India will celebrate its 76th Republic Day on Sunday (January 26). Why India observes Republic Day on January 26 While the day marked the end of nearly 200 years of British rule in the country, it wasn't until January 26, 1950, that India got its democratic soul, the Constitution. Track Latest News Live on NDTV.com and get news updates from India and around the world #### Google Celebrates India's 76th Republic Day With Wildlife-Themed Doodle News India'\n",
      "==>ENTERING INTO THE GRADE CHECKING <===\n",
      "node tavilytoolsearch\n",
      "'/n.../n'\n",
      "==> GRADE CHECKING <==\n",
      "==> DOCUMENTS ARE RELEVANTS <===\n",
      "node grading_documents\n",
      "'/n.../n'\n",
      "==> GENERATING THE ANSWER <==\n",
      "node generating\n",
      "'/n.../n'\n",
      "AIMessage(content='Republic Day is celebrated in India on **January 26th**.  \\n', additional_kwargs={}, response_metadata={'token_usage': {'completion_tokens': 18, 'prompt_tokens': 956, 'total_tokens': 974, 'completion_time': 0.032727273, 'prompt_time': 0.030870771, 'queue_time': 0.051976339999999996, 'total_time': 0.063598044}, 'model_name': 'gemma2-9b-it', 'system_fingerprint': 'fp_10c08bf97d', 'finish_reason': 'stop', 'logprobs': None}, id='run-d7a8fae1-b381-4bc7-8050-81eb204c89bc-0', usage_metadata={'input_tokens': 956, 'output_tokens': 18, 'total_tokens': 974})\n"
     ]
    }
   ],
   "source": [
    "for output in app.stream(input3):\n",
    "    for key,value in output.items():\n",
    "        print(f\"node {key}\")\n",
    "\n",
    "    pprint(\"/n.../n\")\n",
    "pprint(value[\"generation\"])"
   ]
  },
  {
   "cell_type": "code",
   "execution_count": 776,
   "metadata": {},
   "outputs": [],
   "source": [
    "input4={'question':\"which day india is celebrated as independance day\"}"
   ]
  },
  {
   "cell_type": "code",
   "execution_count": 777,
   "metadata": {},
   "outputs": [
    {
     "name": "stdout",
     "output_type": "stream",
     "text": [
      "==> RETRIEVING THE QUESTION <===\n",
      "node retrieving\n",
      "'/n.../n'\n",
      "==> GRADE CHECKING <==\n",
      "DOCUMENTS ARE NOT RELEVANT\n",
      "DOCUMENTS ARE NOT RELEVANT\n",
      "DOCUMENTS ARE NOT RELEVANT\n",
      "DOCUMENTS ARE NOT RELEVANT\n",
      "node grading_documents\n",
      "'/n.../n'\n",
      "==> GENERATING THE ANSWER <==\n",
      "==> REWRITTING THE QUESTION <==\n",
      "node generating\n",
      "'/n.../n'\n",
      "the rewrite question is : content=\"When is India's Independence Day celebrated? \\n\" additional_kwargs={} response_metadata={'token_usage': {'completion_tokens': 13, 'prompt_tokens': 68, 'total_tokens': 81, 'completion_time': 0.023636364, 'prompt_time': 0.001870055, 'queue_time': 0.04983409, 'total_time': 0.025506419}, 'model_name': 'gemma2-9b-it', 'system_fingerprint': 'fp_10c08bf97d', 'finish_reason': 'stop', 'logprobs': None} id='run-bad0e422-ebcd-41b4-bdf4-baaf6f26c8b2-0' usage_metadata={'input_tokens': 68, 'output_tokens': 13, 'total_tokens': 81}\n",
      "node rewritting_query\n",
      "'/n.../n'\n",
      "==>ENTERING INTO THE WEB SEARCH <==\n",
      "the type of tool search is  wikipedia\n",
      "node websearching_call\n",
      "'/n.../n'\n",
      "==> ENTERING INTO THE WIKI_TOOL <==\n",
      "the question is When is India's Independence Day celebrated? \n",
      "\n",
      "the document is []\n",
      "the answer is page_content='Page: Independence Day (India)\n",
      "Summary: Independence Day is celebrated annually on 15 August as a public holiday in India commemorating the nation's independence from the United Kingdom on 15 August 1947. On this day the Indian Independence Act 1947 '\n",
      "==>ENTERING INTO THE GRADE CHECKING <===\n",
      "node wikipediatoolsearch\n",
      "'/n.../n'\n",
      "==> GENERATING THE ANSWER <==\n",
      "node generating\n",
      "'/n.../n'\n",
      "AIMessage(content=\"According to the text, India's Independence Day is celebrated annually on **15 August**.  \\n\", additional_kwargs={}, response_metadata={'token_usage': {'completion_tokens': 23, 'prompt_tokens': 109, 'total_tokens': 132, 'completion_time': 0.041818182, 'prompt_time': 0.003383182, 'queue_time': 0.046934843000000004, 'total_time': 0.045201364}, 'model_name': 'gemma2-9b-it', 'system_fingerprint': 'fp_10c08bf97d', 'finish_reason': 'stop', 'logprobs': None}, id='run-c510c837-e43c-4e8d-b808-641bce878f41-0', usage_metadata={'input_tokens': 109, 'output_tokens': 23, 'total_tokens': 132})\n"
     ]
    }
   ],
   "source": [
    "for output in app.stream(input4):\n",
    "    for key,value in output.items():\n",
    "        print(f\"node {key}\")\n",
    "\n",
    "    pprint(\"/n.../n\")\n",
    "pprint(value[\"generation\"])"
   ]
  }
 ],
 "metadata": {
  "kernelspec": {
   "display_name": "myvenv",
   "language": "python",
   "name": "python3"
  },
  "language_info": {
   "codemirror_mode": {
    "name": "ipython",
    "version": 3
   },
   "file_extension": ".py",
   "mimetype": "text/x-python",
   "name": "python",
   "nbconvert_exporter": "python",
   "pygments_lexer": "ipython3",
   "version": "3.12.2"
  }
 },
 "nbformat": 4,
 "nbformat_minor": 2
}
