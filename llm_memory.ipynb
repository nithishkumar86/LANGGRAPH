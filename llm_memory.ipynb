{
 "cells": [
  {
   "cell_type": "markdown",
   "metadata": {},
   "source": [
    "TO SET UP A MEMORY IN LANGGRAPH"
   ]
  },
  {
   "cell_type": "code",
   "execution_count": 25,
   "metadata": {},
   "outputs": [],
   "source": [
    "from langchain_groq import ChatGroq\n",
    "from langgraph.graph import START,StateGraph,END\n",
    "from typing import Annotated\n",
    "from typing import TypedDict\n",
    "from IPython.display import display,Image\n",
    "from langgraph.graph.message import add_messages\n",
    "from langchain_community.tools.tavily_search import TavilySearchResults\n",
    "from langgraph.prebuilt import ToolNode,tools_condition\n",
    "from langchain.tools import tool\n",
    "from langchain_community.tools.tavily_search import TavilySearchResults"
   ]
  },
  {
   "cell_type": "code",
   "execution_count": 26,
   "metadata": {},
   "outputs": [
    {
     "data": {
      "text/plain": [
       "True"
      ]
     },
     "execution_count": 26,
     "metadata": {},
     "output_type": "execute_result"
    }
   ],
   "source": [
    "import os\n",
    "from dotenv import load_dotenv\n",
    "load_dotenv()"
   ]
  },
  {
   "cell_type": "code",
   "execution_count": 27,
   "metadata": {},
   "outputs": [],
   "source": [
    "os.environ[\"GROQ_API_KEY\"]=os.getenv(\"GROQ_API_KEY\")"
   ]
  },
  {
   "cell_type": "code",
   "execution_count": 28,
   "metadata": {},
   "outputs": [],
   "source": [
    "llm=ChatGroq(model=\"gemma2-9b-it\")"
   ]
  },
  {
   "cell_type": "code",
   "execution_count": 29,
   "metadata": {},
   "outputs": [
    {
     "data": {
      "text/plain": [
       "AIMessage(content='\"Gen AI\" is short for **Generative Artificial Intelligence**. \\n\\nIt\\'s a type of artificial intelligence focused on creating new content, rather than simply analyzing existing data.  Think of it as AI that can *generate* things like:\\n\\n* **Text:**  Stories, poems, articles, code, scripts, emails, letters\\n* **Images:** Photos, artwork, illustrations, 3D models\\n* **Audio:** Music, sound effects, voiceovers\\n* **Video:** Short clips, animations\\n* **Other data:**  Chemical compounds, protein structures\\n\\n**How it Works:**\\n\\nGen AI models are typically trained on massive datasets of existing content. \\n\\nThey learn the patterns and structures within that data, and then use that knowledge to create new content that resembles the training data.  \\n\\nA popular example is **GPT-3**, which can generate human-quality text.\\n\\n**Key Features:**\\n\\n* **Creativity:** Gen AI can come up with original ideas and produce novel content.\\n* **Efficiency:** It can automate content creation tasks, saving time and resources.\\n* **Personalization:** Gen AI can be used to create customized content tailored to specific needs.\\n\\n**Examples of Gen AI Tools:**\\n\\n* **DALL-E 2:** Generates images from text descriptions\\n* **Midjourney:** Creates artistic images from text prompts\\n* **ChatGPT:**  Engages in natural-sounding conversations and generates text\\n\\n**Applications:**\\n\\nGen AI has a wide range of potential applications, including:\\n\\n* **Content creation:** Writing articles, stories, marketing copy, social media posts\\n* **Art and design:** Generating artwork, illustrations, 3D models\\n* **Education:** Creating personalized learning materials\\n* **Entertainment:** Developing video games, writing dialogue for movies\\n* **Research:** Generating hypotheses, exploring new ideas\\n\\n\\nGen AI is a rapidly evolving field with the potential to revolutionize many aspects of our lives.\\n', additional_kwargs={}, response_metadata={'token_usage': {'completion_tokens': 401, 'prompt_tokens': 13, 'total_tokens': 414, 'completion_time': 0.729090909, 'prompt_time': 7.573e-05, 'queue_time': 0.019875939, 'total_time': 0.729166639}, 'model_name': 'gemma2-9b-it', 'system_fingerprint': 'fp_10c08bf97d', 'finish_reason': 'stop', 'logprobs': None}, id='run-12fb27f4-4762-4a23-828b-0d264f437b07-0', usage_metadata={'input_tokens': 13, 'output_tokens': 401, 'total_tokens': 414})"
      ]
     },
     "execution_count": 29,
     "metadata": {},
     "output_type": "execute_result"
    }
   ],
   "source": [
    "llm.invoke(\"what is gen ai\")"
   ]
  },
  {
   "cell_type": "code",
   "execution_count": 30,
   "metadata": {},
   "outputs": [],
   "source": [
    "os.environ[\"TAVILY_API_KEY\"]=os.getenv(\"TAVILY_API_KEY\")"
   ]
  },
  {
   "cell_type": "code",
   "execution_count": 31,
   "metadata": {},
   "outputs": [],
   "source": [
    "search=TavilySearchResults()"
   ]
  },
  {
   "cell_type": "code",
   "execution_count": 32,
   "metadata": {},
   "outputs": [
    {
     "data": {
      "text/plain": [
       "[{'url': 'https://wcwinners.com/icc-winners/icc-wc-2011/',\n",
       "  'content': 'India won the tournament, defeating Sri Lanka by six wickets in the final at Wankidi Stadium in Mumbai, thus becoming the first country to win a Cricket World Cup Final on home soil. Pakistan loses its status as host In April 2009, the International Criminal Court announced that Pakistan had lost its right to co-host the 2011 World Cup due to concerns about the “uncertain security situation” in the country, particularly in the wake of the 2009 attack on Sri Lanka’s national cricket team in Lahore. ICC Men’s T20 Cricket World Cup 2021 Winners List and Runners-Up Awards™ ICC World Cup 2015 Final History | ICC Cricket World Cup 2015 Winner And Runner UP List And info ICC Men’s Cricket World Cup 2019 Winners List and Runners-Up'},\n",
       " {'url': 'http://news.bbc.co.uk/sport2/hi/cricket/8350950.stm',\n",
       "  'content': 'ICC Cricket World Cup 2011 - full results & highlights FINAL. Saturday, 2 April India v Sri Lanka, Mumbai (d/n) India won by six wickets. Match report. Scorecard. Post-match reaction. Jonathan Agnew column. Tillakaratne Dilshan column. Reaction from Indian and Sri Lankan media. ... (Four teams from each group qualify for the quarter-finals)'},\n",
       " {'url': 'https://www.livemint.com/sports/cricket-news/icc-world-cup-winner-history-2011',\n",
       "  'content': 'News India News World News Business News/Sports/Cricket-News/ \\xa0\\xa0ICC World Cup History The 2011 Cricket World Cup, hosted jointly by India, Sri Lanka, and Bangladesh, marked a significant moment in Indian cricket history. __The 2011 World Cup was hosted by India, Sri Lanka, and Bangladesh. Delhi Elections DateUnion Budget 2025Justin Trudeau Resignation LIVEHMPV Cases LIVEHMPV outbreak in ChinaEarthquake today Kalyan Jewellers Share PriceAnita AnandHamps Bio share priceBudget 2025First Gen BetaLivemint HindiBank Holidays in Uttar PradeshBank Holidays in GujaratBank Holidays in Delhi Bank Holidays in SeptemberBank Holidays in Jammu And KashmirInstant Personal LoanCheck Credit Score OnlineBusiness LoanPersonal Loan Interest RatePersonal Loan EligibilityPersonal Loan EMI CalculatorGold Rate in DelhiGold Rate in BangaloreGold Rate in ChennaiGold Rate in HyderabadGold Rate in MumbaiBusiness Radio - FAB PlayAssembly Election ResultsCredit CardStock Market CrashPersonal Loan OnlineGold Rate India Bank Holidays India Best Led TVbest 43 inch tv'},\n",
       " {'url': 'https://www.cricketworld.com/series-archive/2010-2011/cricket-world-cup-2011/',\n",
       "  'content': 'Imrul Kayes stroked an unbeaten half-century to guide Bangladesh to a six-wicket ICC Cricket World Cup 2011 win over the Netherlands that piles the pressure on England ahead of their final group game.'},\n",
       " {'url': 'https://en.wikipedia.org/wiki/2011_Cricket_World_Cup_final',\n",
       "  'content': 'However, this was a known factor and was taken into consideration by the Sri Lankan captain when he chose to bat first after winning the toss.[16] By crossing the target of 274, India had set a record for the highest successful run-chase in a World Cup final.[13]\\nAt the end of the match, the batting strength of both the teams stood out. India won the match by six wickets—its second World Cup win after the 1983 tournament—and became the third team to have won the title more than once, after Australia (1987, 1999, 2003, 2007) and the West Indies (1975 and 1979).[3]\\nIndia became the first country to win Cricket World Cup in their own country.\\n Change in the Sri Lanka team[edit]\\nAfter some days of deliberation, Kumar Sangakkara, the Sri Lankan captain, announced on 5 April that he was resigning from the post of captain of the One Day International and Twenty20 sides in the long-term interest of the team. However, three years later, Sri Lankan Police suspended the match fixing probe citing lack of sufficient evidence.[35] Later International Cricket Council rubbished the match fixing claims made by Ranatunga and Aluthgamage.[36]\\nIn popular culture[edit]\\nThe match formed the climax of 2016 Indian film M.S. Dhoni\\xa0: The Untold Story, the biopic of then Indian captain Mahendra Singh Dhoni. A magnificent strike into the crowd, India lift the World Cup, after 28 years; and the party starts in the dressing room, and its an Indian captain who has been absolutely magnificent in the night of the final.'}]"
      ]
     },
     "execution_count": 32,
     "metadata": {},
     "output_type": "execute_result"
    }
   ],
   "source": [
    "search.invoke(\"which team won the 2011 cricket world cup\")"
   ]
  },
  {
   "cell_type": "code",
   "execution_count": 33,
   "metadata": {},
   "outputs": [],
   "source": [
    "tools=[search]"
   ]
  },
  {
   "cell_type": "code",
   "execution_count": 34,
   "metadata": {},
   "outputs": [],
   "source": [
    "llm_with_tool=llm.bind_tools(tools=tools)"
   ]
  },
  {
   "cell_type": "code",
   "execution_count": 35,
   "metadata": {},
   "outputs": [],
   "source": [
    "tool_node=ToolNode(tools=tools)"
   ]
  },
  {
   "cell_type": "code",
   "execution_count": 36,
   "metadata": {},
   "outputs": [],
   "source": [
    "class AgentState(TypedDict):\n",
    "    messages:Annotated[list,add_messages]"
   ]
  },
  {
   "cell_type": "code",
   "execution_count": 37,
   "metadata": {},
   "outputs": [],
   "source": [
    "def function_1(state:AgentState):\n",
    "    print(\"==> entering into the llm <==\")\n",
    "    response=llm_with_tool.invoke(state[\"messages\"])\n",
    "    return {\"messages\":[response]}"
   ]
  },
  {
   "cell_type": "code",
   "execution_count": 38,
   "metadata": {},
   "outputs": [],
   "source": [
    "graph=StateGraph(AgentState)"
   ]
  },
  {
   "cell_type": "code",
   "execution_count": 39,
   "metadata": {},
   "outputs": [
    {
     "data": {
      "text/plain": [
       "<langgraph.graph.state.StateGraph at 0x2850dacf3e0>"
      ]
     },
     "execution_count": 39,
     "metadata": {},
     "output_type": "execute_result"
    }
   ],
   "source": [
    "graph.add_node(\"llm\",function_1)\n",
    "graph.add_node(\"tools\",tool_node)\n",
    "graph.set_entry_point(\"llm\")\n",
    "\n",
    "graph.add_conditional_edges(\n",
    "    \"llm\",\n",
    "    tools_condition\n",
    ")\n",
    "\n",
    "graph.add_edge(\"tools\",\"llm\")"
   ]
  },
  {
   "cell_type": "code",
   "execution_count": 42,
   "metadata": {},
   "outputs": [],
   "source": [
    "from langgraph.checkpoint.memory import MemorySaver"
   ]
  },
  {
   "cell_type": "code",
   "execution_count": 45,
   "metadata": {},
   "outputs": [],
   "source": [
    "memory=MemorySaver()"
   ]
  },
  {
   "cell_type": "code",
   "execution_count": 46,
   "metadata": {},
   "outputs": [],
   "source": [
    "app=graph.compile(checkpointer=memory)"
   ]
  },
  {
   "cell_type": "code",
   "execution_count": 47,
   "metadata": {},
   "outputs": [
    {
     "data": {
      "image/png": "[encoded data removed]",
      "text/plain": [
       "<IPython.core.display.Image object>"
      ]
     },
     "metadata": {},
     "output_type": "display_data"
    }
   ],
   "source": [
    "try:\n",
    "    display(Image(app.get_graph().draw_mermaid_png()))\n",
    "except  Exception as e:\n",
    "    print(e)"
   ]
  },
  {
   "cell_type": "code",
   "execution_count": 48,
   "metadata": {},
   "outputs": [],
   "source": [
    "config={\"configurable\":{\"thread_id\":1}}"
   ]
  },
  {
   "cell_type": "code",
   "execution_count": 50,
   "metadata": {},
   "outputs": [],
   "source": [
    "events=app.stream({\"messages\":[\"which team won the 2011 cricket world cup\"]},config=config,stream_mode='values')"
   ]
  },
  {
   "cell_type": "code",
   "execution_count": 52,
   "metadata": {},
   "outputs": [
    {
     "name": "stdout",
     "output_type": "stream",
     "text": [
      "==> entering into the llm <==\n",
      "==================================\u001b[1m Ai Message \u001b[0m==================================\n",
      "Tool Calls:\n",
      "  tavily_search_results_json (call_fht5)\n",
      " Call ID: call_fht5\n",
      "  Args:\n",
      "    query: which team won the 2011 cricket world cup\n",
      "=================================\u001b[1m Tool Message \u001b[0m=================================\n",
      "Name: tavily_search_results_json\n",
      "\n",
      "[{\"url\": \"https://wcwinners.com/icc-winners/icc-wc-2011/\", \"content\": \"India won the tournament, defeating Sri Lanka by six wickets in the final at Wankidi Stadium in Mumbai, thus becoming the first country to win a Cricket World Cup Final on home soil. Pakistan loses its status as host In April 2009, the International Criminal Court announced that Pakistan had lost its right to co-host the 2011 World Cup due to concerns about the “uncertain security situation” in the country, particularly in the wake of the 2009 attack on Sri Lanka’s national cricket team in Lahore. ICC Men’s T20 Cricket World Cup 2021 Winners List and Runners-Up Awards™ ICC World Cup 2015 Final History | ICC Cricket World Cup 2015 Winner And Runner UP List And info ICC Men’s Cricket World Cup 2019 Winners List and Runners-Up\"}, {\"url\": \"https://www.livemint.com/sports/cricket-news/icc-world-cup-winner-history-2011\", \"content\": \"News India News World News Business News/Sports/Cricket-News/   ICC World Cup History The 2011 Cricket World Cup, hosted jointly by India, Sri Lanka, and Bangladesh, marked a significant moment in Indian cricket history. __The 2011 World Cup was hosted by India, Sri Lanka, and Bangladesh. Delhi Elections DateUnion Budget 2025Justin Trudeau Resignation LIVEHMPV Cases LIVEHMPV outbreak in ChinaEarthquake today Kalyan Jewellers Share PriceAnita AnandHamps Bio share priceBudget 2025First Gen BetaLivemint HindiBank Holidays in Uttar PradeshBank Holidays in GujaratBank Holidays in Delhi Bank Holidays in SeptemberBank Holidays in Jammu And KashmirInstant Personal LoanCheck Credit Score OnlineBusiness LoanPersonal Loan Interest RatePersonal Loan EligibilityPersonal Loan EMI CalculatorGold Rate in DelhiGold Rate in BangaloreGold Rate in ChennaiGold Rate in HyderabadGold Rate in MumbaiBusiness Radio - FAB PlayAssembly Election ResultsCredit CardStock Market CrashPersonal Loan OnlineGold Rate India Bank Holidays India Best Led TVbest 43 inch tv\"}, {\"url\": \"https://www.cricketworld.com/series-archive/2010-2011/cricket-world-cup-2011/\", \"content\": \"Imrul Kayes stroked an unbeaten half-century to guide Bangladesh to a six-wicket ICC Cricket World Cup 2011 win over the Netherlands that piles the pressure on England ahead of their final group game.\"}, {\"url\": \"https://en.wikipedia.org/wiki/2011_Cricket_World_Cup_final\", \"content\": \"However, this was a known factor and was taken into consideration by the Sri Lankan captain when he chose to bat first after winning the toss.[16] By crossing the target of 274, India had set a record for the highest successful run-chase in a World Cup final.[13]\\nAt the end of the match, the batting strength of both the teams stood out. India won the match by six wickets—its second World Cup win after the 1983 tournament—and became the third team to have won the title more than once, after Australia (1987, 1999, 2003, 2007) and the West Indies (1975 and 1979).[3]\\nIndia became the first country to win Cricket World Cup in their own country.\\n Change in the Sri Lanka team[edit]\\nAfter some days of deliberation, Kumar Sangakkara, the Sri Lankan captain, announced on 5 April that he was resigning from the post of captain of the One Day International and Twenty20 sides in the long-term interest of the team. However, three years later, Sri Lankan Police suspended the match fixing probe citing lack of sufficient evidence.[35] Later International Cricket Council rubbished the match fixing claims made by Ranatunga and Aluthgamage.[36]\\nIn popular culture[edit]\\nThe match formed the climax of 2016 Indian film M.S. Dhoni : The Untold Story, the biopic of then Indian captain Mahendra Singh Dhoni. A magnificent strike into the crowd, India lift the World Cup, after 28 years; and the party starts in the dressing room, and its an Indian captain who has been absolutely magnificent in the night of the final.\"}, {\"url\": \"https://www.espncricinfo.com/icc-cricket-world-cup-2011\", \"content\": \"Final: India v Sri Lanka at Wankhede, Apr 2, 2011 'I wanted to hug him and hit him at the same time till he confirmed we'd won the World Cup' Dhoni and Gambhir lead India to World Cup glory\"}]\n",
      "==> entering into the llm <==\n",
      "==================================\u001b[1m Ai Message \u001b[0m==================================\n",
      "\n",
      "India\n"
     ]
    }
   ],
   "source": [
    "for event in events:\n",
    "    if \"messages\" in event:\n",
    "        event[\"messages\"][-1].pretty_print()"
   ]
  },
  {
   "cell_type": "code",
   "execution_count": 53,
   "metadata": {},
   "outputs": [],
   "source": [
    "events=app.stream({\"messages\":[\"what is the captain name\"]},config=config,stream_mode='values')"
   ]
  },
  {
   "cell_type": "code",
   "execution_count": 54,
   "metadata": {},
   "outputs": [
    {
     "name": "stdout",
     "output_type": "stream",
     "text": [
      "================================\u001b[1m Human Message \u001b[0m=================================\n",
      "\n",
      "what is the captain name\n",
      "==> entering into the llm <==\n",
      "==================================\u001b[1m Ai Message \u001b[0m==================================\n",
      "\n",
      "Mahendra Singh Dhoni\n"
     ]
    }
   ],
   "source": [
    "for event in events:\n",
    "    if \"messages\" in event:\n",
    "        event[\"messages\"][-1].pretty_print()"
   ]
  },
  {
   "cell_type": "code",
   "execution_count": 55,
   "metadata": {},
   "outputs": [],
   "source": [
    "events=app.stream({\"messages\":[\"how many runs he scored in that match \"]},config=config,stream_mode='values')"
   ]
  },
  {
   "cell_type": "code",
   "execution_count": 56,
   "metadata": {},
   "outputs": [
    {
     "name": "stdout",
     "output_type": "stream",
     "text": [
      "================================\u001b[1m Human Message \u001b[0m=================================\n",
      "\n",
      "how many runs he scored in that match \n",
      "==> entering into the llm <==\n",
      "==================================\u001b[1m Ai Message \u001b[0m==================================\n",
      "Tool Calls:\n",
      "  tavily_search_results_json (call_v9yn)\n",
      " Call ID: call_v9yn\n",
      "  Args:\n",
      "    query: how many runs did MS Dhoni score in the 2011 Cricket World Cup final\n",
      "=================================\u001b[1m Tool Message \u001b[0m=================================\n",
      "Name: tavily_search_results_json\n",
      "\n",
      "[{\"url\": \"https://cricket.one/top-most/2007-2011-2013-ms-dhonis-contributions-in-indias-title-icc-triumphs/64a708284737919e242868b3\", \"content\": \"ICC Cricket World Cup 2011. MS Dhoni hits winning run for India against Sri Lanka in the CWC 2011 Final [Source: Twitter] ... In nine WC matches, Dhoni scored 241 runs with one fifty. As a gloveman, Dhoni shined throughout the competition, outfoxing batters with his shard mind and instinctive captaincy, taking seven catches and inflicting three\"}, {\"url\": \"https://www.cricgram.com/2011-world-cup-final/\", \"content\": \"If we look at the scorecard of 2011 World Cup Final match, Sri Lanka scored 274-6 in 50 overs, in response, the India team scored 277-4 in 48.2 Overs and India won by 6 wickets. Here is the complete 2011 World Cup Final Match scorecard of the India vs Sri Lanka Match 2011 World Cup Final Match Most Runs In the final match of the 2011 World Cup, Mahela Jayawardene scored the maximum 103 runs in 88 balls on behalf of the Sri Lankan team, while Dhoni and Gambhir scored the most runs on behalf of the Indian team, where Dhoni scored 91 runs in only 79 balls. Ans: In 2011 World Cup, Mahendra Singh Dhoni played an unbeaten knock of 91 runs in 79 balls in the final match and helped the Indian team to win the second ODI World Cup title.\"}, {\"url\": \"https://www.firstpost.com/firstcricket/sports-news/revisiting-2011-world-cup-final-a-divinely-ordained-win-and-a-team-out-to-make-history-not-repeat-it-8179761.html\", \"content\": \"Revisiting 2011 World Cup final: With six runs, how MS Dhoni-led Team India made history ... had followed it up with a fifty in the quarter-final, and a chancy 85 to top score in the semi-final. ... Yuvraj Singh MS Dhoni Wankhede Stadium Vinod Kambli International Cricket Indian cricket Indian Cricket Team Mike Horn FWeekend 2011 Cricket World\"}, {\"url\": \"https://www.espncricinfo.com/cricket-videos/what-we-remember-ms-dhoni-s-six-to-win-the-2011-world-cup-1163219\", \"content\": \"Mumbai won by 189 runs. Schedule Table Series. ... MS Dhoni's six to win the 2011 World Cup . ... The last wicket in the first World T20 final. Sep 24, 2018. 4:39.\"}, {\"url\": \"https://en.wikipedia.org/wiki/2011_Cricket_World_Cup_final\", \"content\": \"However, this was a known factor and was taken into consideration by the Sri Lankan captain when he chose to bat first after winning the toss.[16] By crossing the target of 274, India had set a record for the highest successful run-chase in a World Cup final.[13]\\nAt the end of the match, the batting strength of both the teams stood out. India won the match by six wickets—its second World Cup win after the 1983 tournament—and became the third team to have won the title more than once, after Australia (1987, 1999, 2003, 2007) and the West Indies (1975 and 1979).[3]\\nIndia became the first country to win Cricket World Cup in their own country.\\n Change in the Sri Lanka team[edit]\\nAfter some days of deliberation, Kumar Sangakkara, the Sri Lankan captain, announced on 5 April that he was resigning from the post of captain of the One Day International and Twenty20 sides in the long-term interest of the team. However, three years later, Sri Lankan Police suspended the match fixing probe citing lack of sufficient evidence.[35] Later International Cricket Council rubbished the match fixing claims made by Ranatunga and Aluthgamage.[36]\\nIn popular culture[edit]\\nThe match formed the climax of 2016 Indian film M.S. Dhoni : The Untold Story, the biopic of then Indian captain Mahendra Singh Dhoni. A magnificent strike into the crowd, India lift the World Cup, after 28 years; and the party starts in the dressing room, and its an Indian captain who has been absolutely magnificent in the night of the final.\"}]\n",
      "==> entering into the llm <==\n",
      "==================================\u001b[1m Ai Message \u001b[0m==================================\n",
      "\n",
      "91\n"
     ]
    }
   ],
   "source": [
    "for event in events:\n",
    "    if \"messages\" in event:\n",
    "        event[\"messages\"][-1].pretty_print()"
   ]
  }
 ],
 "metadata": {
  "kernelspec": {
   "display_name": "myvenv",
   "language": "python",
   "name": "python3"
  },
  "language_info": {
   "codemirror_mode": {
    "name": "ipython",
    "version": 3
   },
   "file_extension": ".py",
   "mimetype": "text/x-python",
   "name": "python",
   "nbconvert_exporter": "python",
   "pygments_lexer": "ipython3",
   "version": "3.12.2"
  }
 },
 "nbformat": 4,
 "nbformat_minor": 2
}
