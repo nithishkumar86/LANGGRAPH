{
 "cells": [
  {
   "cell_type": "markdown",
   "metadata": {},
   "source": [
    "#langgraph using inbuilt tools"
   ]
  },
  {
   "cell_type": "code",
   "execution_count": 1,
   "metadata": {},
   "outputs": [],
   "source": [
    "from langchain_groq import ChatGroq\n",
    "from langgraph.graph import START,StateGraph,END\n",
    "from typing import Annotated\n",
    "from typing import TypedDict\n",
    "from IPython.display import display,Image\n",
    "from langgraph.graph.message import add_messages\n",
    "from langchain_community.tools.tavily_search import TavilySearchResults\n",
    "from langgraph.prebuilt import ToolNode,tools_condition"
   ]
  },
  {
   "cell_type": "code",
   "execution_count": 2,
   "metadata": {},
   "outputs": [
    {
     "data": {
      "text/plain": [
       "True"
      ]
     },
     "execution_count": 2,
     "metadata": {},
     "output_type": "execute_result"
    }
   ],
   "source": [
    "import os\n",
    "from dotenv import load_dotenv\n",
    "load_dotenv()"
   ]
  },
  {
   "cell_type": "code",
   "execution_count": 3,
   "metadata": {},
   "outputs": [],
   "source": [
    "os.environ[\"GROQ_API_KEY\"]=os.getenv(\"GROQ_API_KEY\")"
   ]
  },
  {
   "cell_type": "code",
   "execution_count": 4,
   "metadata": {},
   "outputs": [],
   "source": [
    "llm=ChatGroq(model=\"gemma2-9b-it\")"
   ]
  },
  {
   "cell_type": "code",
   "execution_count": 5,
   "metadata": {},
   "outputs": [
    {
     "data": {
      "text/plain": [
       "AIMessage(content=\"##  Gen AI: Unlocking the Power of Generative Artificial Intelligence\\n\\nGen AI, short for **Generative Artificial Intelligence**, is a type of AI that focuses on creating new content rather than simply analyzing existing data. \\n\\nThink of it like this:\\n\\n* **Traditional AI:**  Recognizes patterns in data, makes predictions, and classifies information (e.g., recommending a movie based on your past watch history).\\n* **Gen AI:**  Learns from patterns in data and uses that knowledge to generate entirely new content (e.g., writing a poem, composing music, designing a logo).\\n\\n**Here's what makes Gen AI special:**\\n\\n* **Creativity:** Gen AI can produce original and imaginative content, pushing the boundaries of human creativity.\\n* **Efficiency:** It can generate large amounts of content quickly and efficiently, saving time and resources.\\n* **Personalization:** Gen AI can be trained on specific datasets to create content tailored to individual needs and preferences.\\n\\n**Examples of Gen AI in action:**\\n\\n* **Text Generation:** Writing articles, stories, poems, scripts, and even code.\\n* **Image Generation:** Creating realistic images, artwork, and graphics from text descriptions.\\n* **Music Generation:** Composing original music in various styles and genres.\\n* **Video Generation:**  Generating short videos, animations, and special effects.\\n* **Voice Generation:**  Creating realistic synthetic voices for audiobooks, voice assistants, and more.\\n\\n**Popular Gen AI models:**\\n\\n* **GPT-3 (Generative Pre-trained Transformer 3):** A powerful language model capable of generating human-quality text.\\n* **DALL-E 2:**  An image generation model that creates stunning visuals from text prompts.\\n* **Midjourney:**  Another popular image generation model known for its artistic style.\\n\\n**The future of Gen AI:**\\n\\nGen AI is rapidly evolving and has the potential to revolutionize many industries. \\n\\nIt's important to note that Gen AI also raises ethical concerns, such as the potential for misuse, bias, and job displacement.\\n\\nAs Gen AI continues to develop, it will be crucial to address these challenges responsibly and ensure that this powerful technology is used for the benefit of humanity.\\n\", additional_kwargs={}, response_metadata={'token_usage': {'completion_tokens': 465, 'prompt_tokens': 13, 'total_tokens': 478, 'completion_time': 0.845454545, 'prompt_time': 0.000215199, 'queue_time': 0.090589401, 'total_time': 0.845669744}, 'model_name': 'gemma2-9b-it', 'system_fingerprint': 'fp_10c08bf97d', 'finish_reason': 'stop', 'logprobs': None}, id='run-20274251-9828-4e60-924f-5c212fbfd915-0', usage_metadata={'input_tokens': 13, 'output_tokens': 465, 'total_tokens': 478})"
      ]
     },
     "execution_count": 5,
     "metadata": {},
     "output_type": "execute_result"
    }
   ],
   "source": [
    "llm.invoke(\"what is gen ai\")"
   ]
  },
  {
   "cell_type": "code",
   "execution_count": 6,
   "metadata": {},
   "outputs": [],
   "source": [
    "os.environ[\"TAVILY_API_KEY\"]=os.getenv(\"TAVILY_API_KEY\")"
   ]
  },
  {
   "cell_type": "code",
   "execution_count": 7,
   "metadata": {},
   "outputs": [],
   "source": [
    "search=TavilySearchResults()"
   ]
  },
  {
   "cell_type": "code",
   "execution_count": 8,
   "metadata": {},
   "outputs": [
    {
     "data": {
      "text/plain": [
       "[{'url': 'https://www.winzogames.com/blog/2011-world-cup-indian-team/',\n",
       "  'content': \"Find out the list of team who won 2011 world cup for indiaand what India's 2011 World Cup winning team is up to these days. ... 2011 World Cup India Squad. Mahendra Singh Dhoni (Captain), Virender Sehwag (Vice Captain), Sachin Tendulkar, Gautam Gambhir, Virat Kohli, Yuvraj Singh, Suresh Raina, Yusuf Pathan, Harbhajan Singh, Zaheer Khan, Ashish\"},\n",
       " {'url': 'https://cricketaddictor.com/editors-picks/indias-2011-world-cup-winning-team-what-are-they-up-to-now/',\n",
       "  'content': 'Mahendra Singh Dhoni was the captain of the Indian team in the ICC World Cup 2011. Dhoni smashed a brilliant knock when the team needed it the most. In the ICC World Cup 2011 final against Sri Lanka, MS Dhoni played a knock of unbeaten 91 runs while chasing. He also made a partnership of 114 runs with Gautam Gambhir and 54 runs with Yuvraj Singh.'},\n",
       " {'url': 'https://www.sportskeeda.com/cricket/2011-odi-world-cup-winning-team-where-are-they-now',\n",
       "  'content': \"Playing the 2011 World Cup at home, captain MS Dhoni and the team management faced the tough task of selecting a team for the challenge. Post World Cup, Dhoni has captained the team in all the formats, winning the Champions Trophy in England and leading Indian team to the No. 1 position in Test ranking. They were early days in Ashwin's career and with the likes of Harbhajan Singh in the squad, he got to play only two matches in the World Cup. In the two games he played, Ashwin managed to pick up four wickets at an impressive average of 23.25. After the World Cup, Pathan didn't feature for India as much but he carried his career forward, playing for his state team Baroda, and for Kolkata Knight Riders in the IPL.\"},\n",
       " {'url': 'https://www.hindustantimes.com/cricket/world-cup/history-winner-2011',\n",
       "  'content': 'The 2011 Cricket World Cup, hosted jointly by India, Sri Lanka, and Bangladesh, marked a significant moment in Indian cricket history. With intense competition among 14 nations, passionate crowds'},\n",
       " {'url': 'https://www.cricindeed.com/cricket-world-cup-2011-india-lifts-the-world-cup-after-28-years/',\n",
       "  'content': 'India won the event by defeating Sri Lanka by 6 wickets in the final at Mumbai’s Wankhede Stadium, becoming the first country to win the Cricket World Cup final on home soil. A total of 8 venues in India hosted 29 World Cup matches; 3 venues in Sri Lanka hosted 12 matches; and 2 venues in Bangladesh hosted 8 matches. Later, Kemar Roach produced wonderful bowling figures in the World Cup grabbing 6 wickets for 27 runs and helped the Windies win the match by a staggering 215 runs. As a result, India won the match by 29 runs and qualified for the 2011 Cricket World Cup Final, while Pakistan was eliminated from the tournament.'}]"
      ]
     },
     "execution_count": 8,
     "metadata": {},
     "output_type": "execute_result"
    }
   ],
   "source": [
    "search.invoke(\"which team won the 2011 cricket world cup and captain name\")"
   ]
  },
  {
   "cell_type": "code",
   "execution_count": 9,
   "metadata": {},
   "outputs": [],
   "source": [
    "tools=[search]"
   ]
  },
  {
   "cell_type": "code",
   "execution_count": 10,
   "metadata": {},
   "outputs": [],
   "source": [
    "model_with_llm=llm.bind_tools(tools=tools)"
   ]
  },
  {
   "cell_type": "code",
   "execution_count": 11,
   "metadata": {},
   "outputs": [],
   "source": [
    "tool_node=ToolNode(tools=tools)"
   ]
  },
  {
   "cell_type": "code",
   "execution_count": 12,
   "metadata": {},
   "outputs": [],
   "source": [
    "class AgentState(TypedDict):\n",
    "    messages:Annotated[list,add_messages]"
   ]
  },
  {
   "cell_type": "code",
   "execution_count": 13,
   "metadata": {},
   "outputs": [],
   "source": [
    "def ai_assisstance(state:AgentState):\n",
    "    messages=state[\"messages\"]\n",
    "    response=model_with_llm.invoke(messages)\n",
    "    return {\"messages\":[response]}"
   ]
  },
  {
   "cell_type": "code",
   "execution_count": 14,
   "metadata": {},
   "outputs": [],
   "source": [
    "graph=StateGraph(AgentState)"
   ]
  },
  {
   "cell_type": "code",
   "execution_count": 15,
   "metadata": {},
   "outputs": [],
   "source": [
    "graph=StateGraph(AgentState)"
   ]
  },
  {
   "cell_type": "code",
   "execution_count": 16,
   "metadata": {},
   "outputs": [
    {
     "data": {
      "text/plain": [
       "<langgraph.graph.state.StateGraph at 0x1903db34290>"
      ]
     },
     "execution_count": 16,
     "metadata": {},
     "output_type": "execute_result"
    }
   ],
   "source": [
    "graph.add_node(\"llm\",ai_assisstance)\n",
    "graph.add_node(\"tools\",tool_node)\n",
    "graph.set_entry_point(\"llm\")"
   ]
  },
  {
   "cell_type": "code",
   "execution_count": 17,
   "metadata": {},
   "outputs": [
    {
     "data": {
      "text/plain": [
       "<langgraph.graph.state.StateGraph at 0x1903db34290>"
      ]
     },
     "execution_count": 17,
     "metadata": {},
     "output_type": "execute_result"
    }
   ],
   "source": [
    "graph.add_conditional_edges(\n",
    "    \"llm\",\n",
    "    tools_condition\n",
    ")\n",
    "\n",
    "graph.add_edge(\"tools\",\"llm\")"
   ]
  },
  {
   "cell_type": "code",
   "execution_count": 18,
   "metadata": {},
   "outputs": [
    {
     "data": {
      "text/plain": [
       "<langgraph.graph.state.StateGraph at 0x1903db34290>"
      ]
     },
     "execution_count": 18,
     "metadata": {},
     "output_type": "execute_result"
    }
   ],
   "source": [
    "graph.set_finish_point(\"llm\")"
   ]
  },
  {
   "cell_type": "code",
   "execution_count": 19,
   "metadata": {},
   "outputs": [],
   "source": [
    "app=graph.compile()"
   ]
  },
  {
   "cell_type": "code",
   "execution_count": 20,
   "metadata": {},
   "outputs": [
    {
     "data": {
      "image/png": "[encoded data removed]",
      "text/plain": [
       "<IPython.core.display.Image object>"
      ]
     },
     "metadata": {},
     "output_type": "display_data"
    }
   ],
   "source": [
    "try:\n",
    "    display(Image(app.get_graph().draw_mermaid_png()))\n",
    "except  Exception as e:\n",
    "    print(e)"
   ]
  },
  {
   "cell_type": "code",
   "execution_count": 21,
   "metadata": {},
   "outputs": [
    {
     "data": {
      "text/plain": [
       "{'messages': [HumanMessage(content='what is transformer', additional_kwargs={}, response_metadata={}, id='5d1bf550-b80e-4056-a9c2-0fb0efdcbb59'),\n",
       "  AIMessage(content='', additional_kwargs={'tool_calls': [{'id': 'call_vgrx', 'function': {'arguments': '{\"query\":\"transformer\"}', 'name': 'tavily_search_results_json'}, 'type': 'function'}]}, response_metadata={'token_usage': {'completion_tokens': 87, 'prompt_tokens': 984, 'total_tokens': 1071, 'completion_time': 0.158181818, 'prompt_time': 0.031111931, 'queue_time': 0.023295643, 'total_time': 0.189293749}, 'model_name': 'gemma2-9b-it', 'system_fingerprint': 'fp_10c08bf97d', 'finish_reason': 'tool_calls', 'logprobs': None}, id='run-27d7a388-4eb8-479c-880a-4d5d697a10c9-0', tool_calls=[{'name': 'tavily_search_results_json', 'args': {'query': 'transformer'}, 'id': 'call_vgrx', 'type': 'tool_call'}], usage_metadata={'input_tokens': 984, 'output_tokens': 87, 'total_tokens': 1071}),\n",
       "  ToolMessage(content='[{\"url\": \"https://www.electricaltechnology.org/2012/02/working-principle-of-transformer.html\", \"content\": \"Limitation of the Transformer. To understand the main points, we have to discuss some basic terms related to transformer operation. So lets back to basic for a while. A transformer is an AC machine that steps up or steps down an alternating voltage or current. A transformer being an AC machine however cannot step up or down a DC voltage or DC\"}, {\"url\": \"https://www.electronics-tutorials.ws/transformer/transformer-basics.html\", \"content\": \"When an electric current passed through the primary winding, a magnetic field is developed which induces a voltage into the secondary winding and this transformer basics operating principle shown below. Also please note that as transformers require an alternating magnetic flux to operate correctly, transformers cannot therefore be used to transform or supply DC voltages or currents, since the magnetic field must be changing to induce a voltage in the secondary winding. A transformer consists of two electrically isolated coils and operates on Faraday’s principal of “mutual induction”, in which an EMF is induced in the transformers secondary coil by the magnetic flux generated by the voltages and currents flowing in the primary coil winding.\"}, {\"url\": \"https://www.britannica.com/technology/transformer-electronics\", \"content\": \"The secondary voltage is calculated by multiplying the primary voltage by the ratio of the number of turns in the secondary coil to the number of turns in the primary coil, a quantity called the turns ratio.\\\\n Transformers are employed for widely varying purposes; e.g., to reduce the voltage of conventional power circuits to operate low-voltage devices, such as doorbells and toy electric trains, and to raise the voltage from electric generators so that electric power can be transmitted over long distances.\\\\n For example, a transformer is often used to reduce the voltage of conventional power circuits to operate low-voltage devices and to raise the voltage from electric generators so that electric power can be transmitted over long distances.\\\\n Transformers change voltage through electromagnetic induction; i.e., as the magnetic lines of force (flux lines) build up and collapse with the changes in current passing through the primary coil, current is induced in another coil, called the secondary. They need to be minimized so they won’t disturb the flow of electricity from the primary coil to the secondary coil.\\\\n\"}, {\"url\": \"https://www.geeksforgeeks.org/transformer/\", \"content\": \"Answer:\\\\nThe value of the turns ratio is\\\\nVp/Vs = 2200/220\\\\n=10 = K\\\\nNumber of primary turns\\\\nThe value of the primary turns can be determined as:-\\\\nNp/Ns=K\\\\nNp/50=10\\\\nNp = 500\\\\nExample 4: Determine the primary current drawn in the transformer when the efficiency of the transformer provided is 75% and works on 100 V, 5 kVA and secondary voltage is 200 V.\\\\nAnswer:\\\\nGiven that, The kVA rating of transformer= 5 kVA\\\\nPrimary voltage, V1 = 100 V\\\\nSecondary voltage, V2 = 200 V\\\\nTherefore, the Primary current I1 is given by,\\\\nI1= S / V1\\\\n= 5 kVA / 100\\\\n= 50 A\\\\nFAQs on Transformer\\\\nQuestion 1: What is Transformer?\\\\nAnswer:\\\\n Dual Nature of Radiation and Matter\\\\nChapter 12: Atoms\\\\nChapter 13: Nuclei\\\\nChapter 14: Semiconductor Electronics: Materials, Devices, and Simple Circuits\\\\nChapter 1: Electric Charges and Fields\\\\nChapter 2: Electrostatic Potential and Capacitance\\\\nChapter 3: Current Electricity\\\\nChapter 4: Moving Charges and Magnetism\\\\nChapter 5: Magnetism and Matter\\\\nChapter 6: Electromagnetic Induction\\\\nChapter 7: Alternating Current\\\\nChapter 8: Electromagnetic Waves\\\\nChapter 9: Ray Optics and Optical Instruments\\\\nChapter 10: Wave Optics\\\\nChapter 11: Dual Nature of Radiation and Matter\\\\nChapter 12: Atoms\\\\nChapter 13: Nuclei\\\\nChapter 14: Semiconductor Electronics: Materials, Devices, and Simple Circuits\\\\nTransformer\\\\nTransformer is the simplest device that is used to transfer electrical energy from one alternating-current circuit to another circuit or multiple circuits, through the process of electromagnetic induction. Data Structures and Algorithms\\\\nML & Data Science\\\\nWeb Development\\\\nLanguages\\\\nInterview Corner\\\\nCS Subjects\\\\nJobs\\\\nPractice\\\\nContests\\\\nChapter 1: Electric Charges and Fields\\\\nChapter 2: Electrostatic Potential and Capacitance\\\\nChapter 3: Current Electricity\\\\nChapter 4: Moving Charges and Magnetism\\\\nChapter 5: Magnetism and Matter\\\\nChapter 6: Electromagnetic Induction\\\\nChapter 7: Alternating Current\\\\nChapter 8: Electromagnetic Waves\\\\nChapter 9: Ray Optics and Optical Instruments\\\\nChapter 10: Wave Optics\\\\nChapter 11: If the turn ratio is 10, what does the secondary voltage equal?\\\\nSolution:\\\\nGiven that, the turn ratio, N2/N1 = 10\\\\nAnd thevoltage across the primary coil, V1 = 120 V\\\\nNow, according to the transformer;’s equation:\\\\nV2/V1 = N2/N1\\\\nSubstituting the given values,\\\\nV2/120 = 10\\\\nV2 = 1200 V\\\\nExample 2: A transformer has 1000 turns in the primary coil, and 8 A current flows through it. Solution:\\\\nConsider the case of an Ideal Transforemer,\\\\nGiven that, Pin = Pout = 1000 W\\\\nBut, Pout = VSIS\\\\nNow, the current through the secondary circuit is,\\\\nIS = Pout / VS =10000 / 1000 = 10 A\\\\nTherefore, the turns ratio of transformer is given by,\\\\nIP / IS = NS / NP\\\\nNS = (IP / IS) NP\\\\n= (8/10) × 1000\\\\n= 800 turns.\\\\n\"}, {\"url\": \"https://www.electrical4u.com/what-is-transformer-definition-working-principle-of-transformer/\", \"content\": \"The purpose of the transformer core is to provide a low reluctance path, through which the maximum amount of flux produced by the primary winding is passed through and linked with the secondary winding.\\\\n If you would prefer an animated explanation, below is a video explaining exactly how a transformer works:\\\\nTransformer Parts And Construction\\\\nThe three main parts of a transformer:\\\\nPrimary Winding of Transformer\\\\nWhich produces magnetic flux when it is connected to an electrical source.\\\\n Whether the transformer increases or decreases the voltage level depends on the relative number of turns between the primary and secondary side of the transformer.\\\\n Magnetic Core of Transformer\\\\nThe magnetic flux produced by the primary winding, that will pass through this low reluctance path linked with secondary winding and create a closed magnetic circuit.\\\\n Secondary Winding of Transformer\\\\nThe flux, produced by primary winding, passes through the core, will link with the secondary winding.\"}]', name='tavily_search_results_json', id='11ad28c5-3b59-481a-b5b2-1584645ba0c6', tool_call_id='call_vgrx', artifact={'query': 'transformer', 'follow_up_questions': None, 'answer': None, 'images': [], 'results': [{'title': 'What is a Transformer ? Construction, Working, Types & Uses', 'url': 'https://www.electricaltechnology.org/2012/02/working-principle-of-transformer.html', 'content': 'Limitation of the Transformer. To understand the main points, we have to discuss some basic terms related to transformer operation. So lets back to basic for a while. A transformer is an AC machine that steps up or steps down an alternating voltage or current. A transformer being an AC machine however cannot step up or down a DC voltage or DC', 'score': 0.72698855, 'raw_content': None}, {'title': 'Transformer Basics - Basic Electronics Tutorials and Revision', 'url': 'https://www.electronics-tutorials.ws/transformer/transformer-basics.html', 'content': 'When an electric current passed through the primary winding, a magnetic field is developed which induces a voltage into the secondary winding and this transformer basics operating principle shown below. Also please note that as transformers require an alternating magnetic flux to operate correctly, transformers cannot therefore be used to transform or supply DC voltages or currents, since the magnetic field must be changing to induce a voltage in the secondary winding. A transformer consists of two electrically isolated coils and operates on Faraday’s principal of “mutual induction”, in which an EMF is induced in the transformers secondary coil by the magnetic flux generated by the voltages and currents flowing in the primary coil winding.', 'score': 0.71425, 'raw_content': None}, {'title': 'Transformer | Definition, Types, & Facts | Britannica', 'url': 'https://www.britannica.com/technology/transformer-electronics', 'content': 'The secondary voltage is calculated by multiplying the primary voltage by the ratio of the number of turns in the secondary coil to the number of turns in the primary coil, a quantity called the turns ratio.\\n Transformers are employed for widely varying purposes; e.g., to reduce the voltage of conventional power circuits to operate low-voltage devices, such as doorbells and toy electric trains, and to raise the voltage from electric generators so that electric power can be transmitted over long distances.\\n For example, a transformer is often used to reduce the voltage of conventional power circuits to operate low-voltage devices and to raise the voltage from electric generators so that electric power can be transmitted over long distances.\\n Transformers change voltage through electromagnetic induction; i.e., as the magnetic lines of force (flux lines) build up and collapse with the changes in current passing through the primary coil, current is induced in another coil, called the secondary. They need to be minimized so they won’t disturb the flow of electricity from the primary coil to the secondary coil.\\n', 'score': 0.6959795, 'raw_content': None}, {'title': 'Transformer - Definition, Types, Working Principle, Equations ...', 'url': 'https://www.geeksforgeeks.org/transformer/', 'content': 'Answer:\\nThe value of the turns ratio is\\nVp/Vs = 2200/220\\n=10 = K\\nNumber of primary turns\\nThe value of the primary turns can be determined as:-\\nNp/Ns=K\\nNp/50=10\\nNp = 500\\nExample 4: Determine the primary current drawn in the transformer when the efficiency of the transformer provided is 75% and works on 100 V, 5 kVA and secondary voltage is 200 V.\\nAnswer:\\nGiven that, The kVA rating of transformer= 5 kVA\\nPrimary voltage, V1 = 100 V\\nSecondary voltage, V2 = 200 V\\nTherefore, the Primary current I1 is given by,\\nI1= S / V1\\n= 5 kVA / 100\\n= 50 A\\nFAQs on Transformer\\nQuestion 1: What is Transformer?\\nAnswer:\\n Dual Nature of Radiation and Matter\\nChapter 12: Atoms\\nChapter 13: Nuclei\\nChapter 14: Semiconductor Electronics: Materials, Devices, and Simple Circuits\\nChapter 1: Electric Charges and Fields\\nChapter 2: Electrostatic Potential and Capacitance\\nChapter 3: Current Electricity\\nChapter 4: Moving Charges and Magnetism\\nChapter 5: Magnetism and Matter\\nChapter 6: Electromagnetic Induction\\nChapter 7: Alternating Current\\nChapter 8: Electromagnetic Waves\\nChapter 9: Ray Optics and Optical Instruments\\nChapter 10: Wave Optics\\nChapter 11: Dual Nature of Radiation and Matter\\nChapter 12: Atoms\\nChapter 13: Nuclei\\nChapter 14: Semiconductor Electronics: Materials, Devices, and Simple Circuits\\nTransformer\\nTransformer is the simplest device that is used to transfer electrical energy from one alternating-current circuit to another circuit or multiple circuits, through the process of electromagnetic induction. Data Structures and Algorithms\\nML & Data Science\\nWeb Development\\nLanguages\\nInterview Corner\\nCS Subjects\\nJobs\\nPractice\\nContests\\nChapter 1: Electric Charges and Fields\\nChapter 2: Electrostatic Potential and Capacitance\\nChapter 3: Current Electricity\\nChapter 4: Moving Charges and Magnetism\\nChapter 5: Magnetism and Matter\\nChapter 6: Electromagnetic Induction\\nChapter 7: Alternating Current\\nChapter 8: Electromagnetic Waves\\nChapter 9: Ray Optics and Optical Instruments\\nChapter 10: Wave Optics\\nChapter 11: If the turn ratio is 10, what does the secondary voltage equal?\\nSolution:\\nGiven that, the turn ratio, N2/N1 = 10\\nAnd thevoltage across the primary coil, V1 = 120 V\\nNow, according to the transformer;’s equation:\\nV2/V1 = N2/N1\\nSubstituting the given values,\\nV2/120 = 10\\nV2 = 1200 V\\nExample 2: A transformer has 1000 turns in the primary coil, and 8 A current flows through it. Solution:\\nConsider the case of an Ideal Transforemer,\\nGiven that, Pin = Pout = 1000 W\\nBut, Pout = VSIS\\nNow, the current through the secondary circuit is,\\nIS = Pout / VS =10000 / 1000 = 10 A\\nTherefore, the turns ratio of transformer is given by,\\nIP / IS = NS / NP\\nNS = (IP / IS) NP\\n= (8/10) × 1000\\n= 800 turns.\\n', 'score': 0.68090034, 'raw_content': None}, {'title': 'Transformer: What is it? (Definition And Working Principle)', 'url': 'https://www.electrical4u.com/what-is-transformer-definition-working-principle-of-transformer/', 'content': 'The purpose of the transformer core is to provide a low reluctance path, through which the maximum amount of flux produced by the primary winding is passed through and linked with the secondary winding.\\n If you would prefer an animated explanation, below is a video explaining exactly how a transformer works:\\nTransformer Parts And Construction\\nThe three main parts of a transformer:\\nPrimary Winding of Transformer\\nWhich produces magnetic flux when it is connected to an electrical source.\\n Whether the transformer increases or decreases the voltage level depends on the relative number of turns between the primary and secondary side of the transformer.\\n Magnetic Core of Transformer\\nThe magnetic flux produced by the primary winding, that will pass through this low reluctance path linked with secondary winding and create a closed magnetic circuit.\\n Secondary Winding of Transformer\\nThe flux, produced by primary winding, passes through the core, will link with the secondary winding.', 'score': 0.5914643, 'raw_content': None}], 'response_time': 1.61}),\n",
       "  AIMessage(content='', additional_kwargs={'tool_calls': [{'id': 'call_2w9d', 'function': {'arguments': '{\"query\":\"what is a transformer in simple terms?\"}', 'name': 'tavily_search_results_json'}, 'type': 'function'}]}, response_metadata={'token_usage': {'completion_tokens': 51, 'prompt_tokens': 2633, 'total_tokens': 2684, 'completion_time': 0.092727273, 'prompt_time': 0.108676108, 'queue_time': 0.025421107999999998, 'total_time': 0.201403381}, 'model_name': 'gemma2-9b-it', 'system_fingerprint': 'fp_10c08bf97d', 'finish_reason': 'tool_calls', 'logprobs': None}, id='run-8a328875-8d4b-4b29-85d0-23ce0057068a-0', tool_calls=[{'name': 'tavily_search_results_json', 'args': {'query': 'what is a transformer in simple terms?'}, 'id': 'call_2w9d', 'type': 'tool_call'}], usage_metadata={'input_tokens': 2633, 'output_tokens': 51, 'total_tokens': 2684}),\n",
       "  ToolMessage(content='[{\"url\": \"https://www.engineeringworldchannel.com/transformer-definition/\", \"content\": \"A simple transformer definition is that it is a static electrical device which transforms the electrical energy from one electrical circuit to another without any change of frequency through the process of electromagnetic induction.\"}, {\"url\": \"https://simple.wikipedia.org/wiki/Transformer\", \"content\": \"Transformer. A transformer is a device that transfers electrical energy from one electrical circuit to another, without sharing any wires. This happens because the first circuit creates a magnetic field as its power rises and falls. The energy of the second circuit rises and falls with the first circuit, so there is no change in frequency between them. . Transformers are an important part of\"}, {\"url\": \"https://www.geeksforgeeks.org/transformer/\", \"content\": \"Answer:\\\\nThe value of the turns ratio is\\\\nVp/Vs = 2200/220\\\\n=10 = K\\\\nNumber of primary turns\\\\nThe value of the primary turns can be determined as:-\\\\nNp/Ns=K\\\\nNp/50=10\\\\nNp = 500\\\\nExample 4: Determine the primary current drawn in the transformer when the efficiency of the transformer provided is 75% and works on 100 V, 5 kVA and secondary voltage is 200 V.\\\\nAnswer:\\\\nGiven that, The kVA rating of transformer= 5 kVA\\\\nPrimary voltage, V1 = 100 V\\\\nSecondary voltage, V2 = 200 V\\\\nTherefore, the Primary current I1 is given by,\\\\nI1= S / V1\\\\n= 5 kVA / 100\\\\n= 50 A\\\\nFAQs on Transformer\\\\nQuestion 1: What is Transformer?\\\\nAnswer:\\\\n Dual Nature of Radiation and Matter\\\\nChapter 12: Atoms\\\\nChapter 13: Nuclei\\\\nChapter 14: Semiconductor Electronics: Materials, Devices, and Simple Circuits\\\\nChapter 1: Electric Charges and Fields\\\\nChapter 2: Electrostatic Potential and Capacitance\\\\nChapter 3: Current Electricity\\\\nChapter 4: Moving Charges and Magnetism\\\\nChapter 5: Magnetism and Matter\\\\nChapter 6: Electromagnetic Induction\\\\nChapter 7: Alternating Current\\\\nChapter 8: Electromagnetic Waves\\\\nChapter 9: Ray Optics and Optical Instruments\\\\nChapter 10: Wave Optics\\\\nChapter 11: Dual Nature of Radiation and Matter\\\\nChapter 12: Atoms\\\\nChapter 13: Nuclei\\\\nChapter 14: Semiconductor Electronics: Materials, Devices, and Simple Circuits\\\\nTransformer\\\\nTransformer is the simplest device that is used to transfer electrical energy from one alternating-current circuit to another circuit or multiple circuits, through the process of electromagnetic induction. Data Structures and Algorithms\\\\nML & Data Science\\\\nWeb Development\\\\nLanguages\\\\nInterview Corner\\\\nCS Subjects\\\\nJobs\\\\nPractice\\\\nContests\\\\nChapter 1: Electric Charges and Fields\\\\nChapter 2: Electrostatic Potential and Capacitance\\\\nChapter 3: Current Electricity\\\\nChapter 4: Moving Charges and Magnetism\\\\nChapter 5: Magnetism and Matter\\\\nChapter 6: Electromagnetic Induction\\\\nChapter 7: Alternating Current\\\\nChapter 8: Electromagnetic Waves\\\\nChapter 9: Ray Optics and Optical Instruments\\\\nChapter 10: Wave Optics\\\\nChapter 11: If the turn ratio is 10, what does the secondary voltage equal?\\\\nSolution:\\\\nGiven that, the turn ratio, N2/N1 = 10\\\\nAnd thevoltage across the primary coil, V1 = 120 V\\\\nNow, according to the transformer;’s equation:\\\\nV2/V1 = N2/N1\\\\nSubstituting the given values,\\\\nV2/120 = 10\\\\nV2 = 1200 V\\\\nExample 2: A transformer has 1000 turns in the primary coil, and 8 A current flows through it. Solution:\\\\nConsider the case of an Ideal Transforemer,\\\\nGiven that, Pin = Pout = 1000 W\\\\nBut, Pout = VSIS\\\\nNow, the current through the secondary circuit is,\\\\nIS = Pout / VS =10000 / 1000 = 10 A\\\\nTherefore, the turns ratio of transformer is given by,\\\\nIP / IS = NS / NP\\\\nNS = (IP / IS) NP\\\\n= (8/10) × 1000\\\\n= 800 turns.\\\\n\"}, {\"url\": \"https://physics-network.org/what-is-a-transformer-and-how-does-it-work/\", \"content\": \"What is a transformer and how does it work? What is a transformer and how does it work? Why are transformers used? What are the 5 applications of transformer? What is the power of transformer? What is the name of transformer? What are the types of transformers in physics? Why are transformers used? A transformer is an electrical device that changes the voltage of an alternating current (AC) supply, such as the mains electrical supply . Power Transformers. A power transformer transfers electricity between a generator and the distribution primary circuits. What are the 5 applications of transformer? What is the power of transformer? What is the name of transformer? What are the types of transformers in physics?\"}, {\"url\": \"https://ohmschool.com/transformer-definition-working-principle-diagram-types/\", \"content\": \"The Step-up transformer increases the output voltage level whereas the Step-down transformer decreases the voltage level. But power input is equal to the output power. So it balances the current in the winding accordingly. The transformer is a device that is a voltage-maintaining component.\"}]', name='tavily_search_results_json', id='e42b57f2-cc00-4677-b550-9f842ee12668', tool_call_id='call_2w9d', artifact={'query': 'what is a transformer in simple terms?', 'follow_up_questions': None, 'answer': None, 'images': [], 'results': [{'title': 'What is Transformer? | Definition, Working Principle and Types', 'url': 'https://www.engineeringworldchannel.com/transformer-definition/', 'content': 'A simple transformer definition is that it is a static electrical device which transforms the electrical energy from one electrical circuit to another without any change of frequency through the process of electromagnetic induction.', 'score': 0.8757978, 'raw_content': None}, {'title': 'Transformer - Simple English Wikipedia, the free encyclopedia', 'url': 'https://simple.wikipedia.org/wiki/Transformer', 'content': 'Transformer. A transformer is a device that transfers electrical energy from one electrical circuit to another, without sharing any wires. This happens because the first circuit creates a magnetic field as its power rises and falls. The energy of the second circuit rises and falls with the first circuit, so there is no change in frequency between them. . Transformers are an important part of', 'score': 0.7634314, 'raw_content': None}, {'title': 'Transformer - Definition, Types, Working Principle, Equations ...', 'url': 'https://www.geeksforgeeks.org/transformer/', 'content': 'Answer:\\nThe value of the turns ratio is\\nVp/Vs = 2200/220\\n=10 = K\\nNumber of primary turns\\nThe value of the primary turns can be determined as:-\\nNp/Ns=K\\nNp/50=10\\nNp = 500\\nExample 4: Determine the primary current drawn in the transformer when the efficiency of the transformer provided is 75% and works on 100 V, 5 kVA and secondary voltage is 200 V.\\nAnswer:\\nGiven that, The kVA rating of transformer= 5 kVA\\nPrimary voltage, V1 = 100 V\\nSecondary voltage, V2 = 200 V\\nTherefore, the Primary current I1 is given by,\\nI1= S / V1\\n= 5 kVA / 100\\n= 50 A\\nFAQs on Transformer\\nQuestion 1: What is Transformer?\\nAnswer:\\n Dual Nature of Radiation and Matter\\nChapter 12: Atoms\\nChapter 13: Nuclei\\nChapter 14: Semiconductor Electronics: Materials, Devices, and Simple Circuits\\nChapter 1: Electric Charges and Fields\\nChapter 2: Electrostatic Potential and Capacitance\\nChapter 3: Current Electricity\\nChapter 4: Moving Charges and Magnetism\\nChapter 5: Magnetism and Matter\\nChapter 6: Electromagnetic Induction\\nChapter 7: Alternating Current\\nChapter 8: Electromagnetic Waves\\nChapter 9: Ray Optics and Optical Instruments\\nChapter 10: Wave Optics\\nChapter 11: Dual Nature of Radiation and Matter\\nChapter 12: Atoms\\nChapter 13: Nuclei\\nChapter 14: Semiconductor Electronics: Materials, Devices, and Simple Circuits\\nTransformer\\nTransformer is the simplest device that is used to transfer electrical energy from one alternating-current circuit to another circuit or multiple circuits, through the process of electromagnetic induction. Data Structures and Algorithms\\nML & Data Science\\nWeb Development\\nLanguages\\nInterview Corner\\nCS Subjects\\nJobs\\nPractice\\nContests\\nChapter 1: Electric Charges and Fields\\nChapter 2: Electrostatic Potential and Capacitance\\nChapter 3: Current Electricity\\nChapter 4: Moving Charges and Magnetism\\nChapter 5: Magnetism and Matter\\nChapter 6: Electromagnetic Induction\\nChapter 7: Alternating Current\\nChapter 8: Electromagnetic Waves\\nChapter 9: Ray Optics and Optical Instruments\\nChapter 10: Wave Optics\\nChapter 11: If the turn ratio is 10, what does the secondary voltage equal?\\nSolution:\\nGiven that, the turn ratio, N2/N1 = 10\\nAnd thevoltage across the primary coil, V1 = 120 V\\nNow, according to the transformer;’s equation:\\nV2/V1 = N2/N1\\nSubstituting the given values,\\nV2/120 = 10\\nV2 = 1200 V\\nExample 2: A transformer has 1000 turns in the primary coil, and 8 A current flows through it. Solution:\\nConsider the case of an Ideal Transforemer,\\nGiven that, Pin = Pout = 1000 W\\nBut, Pout = VSIS\\nNow, the current through the secondary circuit is,\\nIS = Pout / VS =10000 / 1000 = 10 A\\nTherefore, the turns ratio of transformer is given by,\\nIP / IS = NS / NP\\nNS = (IP / IS) NP\\n= (8/10) × 1000\\n= 800 turns.\\n', 'score': 0.72184175, 'raw_content': None}, {'title': 'What is a transformer and how does it work? - Physics Network', 'url': 'https://physics-network.org/what-is-a-transformer-and-how-does-it-work/', 'content': 'What is a transformer and how does it work? What is a transformer and how does it work? Why are transformers used? What are the 5 applications of transformer? What is the power of transformer? What is the name of transformer? What are the types of transformers in physics? Why are transformers used? A transformer is an electrical device that changes the voltage of an alternating current (AC) supply, such as the mains electrical supply . Power Transformers. A power transformer transfers electricity between a generator and the distribution primary circuits. What are the 5 applications of transformer? What is the power of transformer? What is the name of transformer? What are the types of transformers in physics?', 'score': 0.58976424, 'raw_content': None}, {'title': 'Transformer: Definition, Working principle, Diagram, Types', 'url': 'https://ohmschool.com/transformer-definition-working-principle-diagram-types/', 'content': 'The Step-up transformer increases the output voltage level whereas the Step-down transformer decreases the voltage level. But power input is equal to the output power. So it balances the current in the winding accordingly. The transformer is a device that is a voltage-maintaining component.', 'score': 0.53342235, 'raw_content': None}], 'response_time': 1.79}),\n",
       "  AIMessage(content='A transformer is a device that changes the voltage of alternating current (AC) electricity. \\n\\n\\n', additional_kwargs={}, response_metadata={'token_usage': {'completion_tokens': 21, 'prompt_tokens': 3993, 'total_tokens': 4014, 'completion_time': 0.038181818, 'prompt_time': 0.186112626, 'queue_time': 0.043662279, 'total_time': 0.224294444}, 'model_name': 'gemma2-9b-it', 'system_fingerprint': 'fp_10c08bf97d', 'finish_reason': 'stop', 'logprobs': None}, id='run-83b5cd4d-b906-421d-83ae-ce0d5302329f-0', usage_metadata={'input_tokens': 3993, 'output_tokens': 21, 'total_tokens': 4014})]}"
      ]
     },
     "execution_count": 21,
     "metadata": {},
     "output_type": "execute_result"
    }
   ],
   "source": [
    "app.invoke({\"messages\":[\"what is transformer\"]})"
   ]
  }
 ],
 "metadata": {
  "kernelspec": {
   "display_name": "myvenv",
   "language": "python",
   "name": "python3"
  },
  "language_info": {
   "codemirror_mode": {
    "name": "ipython",
    "version": 3
   },
   "file_extension": ".py",
   "mimetype": "text/x-python",
   "name": "python",
   "nbconvert_exporter": "python",
   "pygments_lexer": "ipython3",
   "version": "3.12.2"
  }
 },
 "nbformat": 4,
 "nbformat_minor": 2
}
