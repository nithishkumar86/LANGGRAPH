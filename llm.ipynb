{
 "cells": [
  {
   "cell_type": "markdown",
   "metadata": {},
   "source": [
    "#llm using langraph"
   ]
  },
  {
   "cell_type": "code",
   "execution_count": 53,
   "metadata": {},
   "outputs": [],
   "source": [
    "from langchain_groq import ChatGroq\n",
    "from langgraph.graph import START,StateGraph,END\n",
    "from typing import Annotated\n",
    "from typing import TypedDict\n",
    "from IPython.display import display,Image\n",
    "from langgraph.graph.message import add_messages"
   ]
  },
  {
   "cell_type": "code",
   "execution_count": 41,
   "metadata": {},
   "outputs": [
    {
     "data": {
      "text/plain": [
       "True"
      ]
     },
     "execution_count": 41,
     "metadata": {},
     "output_type": "execute_result"
    }
   ],
   "source": [
    "import os\n",
    "from dotenv import load_dotenv\n",
    "load_dotenv()"
   ]
  },
  {
   "cell_type": "code",
   "execution_count": 51,
   "metadata": {},
   "outputs": [],
   "source": [
    "os.environ[\"GROQ_API_KEY\"]=os.getenv(\"GROQ_API_KEY\")"
   ]
  },
  {
   "cell_type": "code",
   "execution_count": 52,
   "metadata": {},
   "outputs": [],
   "source": [
    "llm=ChatGroq(model=\"gemma2-9b-it\")"
   ]
  },
  {
   "cell_type": "code",
   "execution_count": 43,
   "metadata": {},
   "outputs": [
    {
     "data": {
      "text/plain": [
       "AIMessage(content='\"Gen AI\" is short for **Generative Artificial Intelligence**. \\n\\nIt\\'s a type of AI that focuses on creating new content, rather than simply analyzing existing data. Think of it as AI that can **generate** things like:\\n\\n* **Text:** Stories, poems, articles, code, dialogue\\n* **Images:** Photos, artwork, graphics\\n* **Audio:** Music, sound effects, speech\\n* **Video:** Short clips, animations\\n* **Other data:** 3D models, chemical compounds\\n\\n**How it works:**\\n\\nGen AI models are typically trained on massive datasets of existing content. They learn the patterns and structures within this data, and then use that knowledge to create new content that resembles the training data.\\n\\n**Popular examples:**\\n\\n* **ChatGPT:** Generates human-like text in response to prompts.\\n* **DALL-E 2:** Creates images from text descriptions.\\n* **Midjourney:** Another image generation tool popular for its artistic style.\\n* **Jukebox:** Generates music in various styles.\\n\\n**Potential applications:**\\n\\nGen AI has a wide range of potential applications, including:\\n\\n* **Creative industries:** Writing assistance, generating art and music, creating video game assets\\n* **Marketing and advertising:** Creating personalized content, generating product descriptions\\n* **Education:** Providing interactive learning experiences, generating practice problems\\n* **Research:**\\n\\nGenerating hypotheses, summarizing research papers\\n* **And much more!**\\n\\n**It\\'s important to note:**\\n\\nWhile Gen AI is incredibly powerful, it\\'s still under development. \\n\\nGenerated content can sometimes be inaccurate, biased, or even harmful.\\n\\nIt\\'s crucial to use Gen AI responsibly and ethically.\\n', additional_kwargs={}, response_metadata={'token_usage': {'completion_tokens': 354, 'prompt_tokens': 13, 'total_tokens': 367, 'completion_time': 0.643636364, 'prompt_time': 7.2889e-05, 'queue_time': 0.019972071, 'total_time': 0.643709253}, 'model_name': 'gemma2-9b-it', 'system_fingerprint': 'fp_10c08bf97d', 'finish_reason': 'stop', 'logprobs': None}, id='run-5cd2b316-a973-4b3c-9d7d-de42f6a6011b-0', usage_metadata={'input_tokens': 13, 'output_tokens': 354, 'total_tokens': 367})"
      ]
     },
     "execution_count": 43,
     "metadata": {},
     "output_type": "execute_result"
    }
   ],
   "source": [
    "llm.invoke(\"what is gen ai\")"
   ]
  },
  {
   "cell_type": "code",
   "execution_count": 44,
   "metadata": {},
   "outputs": [],
   "source": [
    "class AgentState(TypedDict):\n",
    "    messages:Annotated[list,add_messages]"
   ]
  },
  {
   "cell_type": "code",
   "execution_count": 45,
   "metadata": {},
   "outputs": [],
   "source": [
    "def ai_assisstance(state:AgentState):\n",
    "    messages=state[\"messages\"]\n",
    "    response=llm.invoke(messages)\n",
    "    return {\"messages\":[response]}"
   ]
  },
  {
   "cell_type": "code",
   "execution_count": 46,
   "metadata": {},
   "outputs": [],
   "source": [
    "graph=StateGraph(AgentState)"
   ]
  },
  {
   "cell_type": "code",
   "execution_count": 47,
   "metadata": {},
   "outputs": [
    {
     "data": {
      "text/plain": [
       "<langgraph.graph.state.StateGraph at 0x20a5356fa70>"
      ]
     },
     "execution_count": 47,
     "metadata": {},
     "output_type": "execute_result"
    }
   ],
   "source": [
    "graph.add_node(\"llm\",ai_assisstance)\n",
    "graph.set_entry_point(\"llm\")\n",
    "graph.set_finish_point(\"llm\")"
   ]
  },
  {
   "cell_type": "code",
   "execution_count": 48,
   "metadata": {},
   "outputs": [],
   "source": [
    "app=graph.compile()"
   ]
  },
  {
   "cell_type": "code",
   "execution_count": 49,
   "metadata": {},
   "outputs": [
    {
     "data": {
      "image/png": "[encoded data removed]",
      "text/plain": [
       "<IPython.core.display.Image object>"
      ]
     },
     "metadata": {},
     "output_type": "display_data"
    }
   ],
   "source": [
    "try:\n",
    "    display(Image(app.get_graph().draw_mermaid_png()))\n",
    "except  Exception as e:\n",
    "    print(e)"
   ]
  },
  {
   "cell_type": "code",
   "execution_count": 50,
   "metadata": {},
   "outputs": [
    {
     "data": {
      "text/plain": [
       "{'messages': [HumanMessage(content='what is transformer', additional_kwargs={}, response_metadata={}, id='712db6d6-85b6-4409-b988-584a661a5144'),\n",
       "  AIMessage(content=\"A transformer, in the context of artificial intelligence, is a type of neural network architecture specifically designed for processing sequential data, like text or audio. \\n\\nHere's a breakdown:\\n\\n**What makes transformers special?**\\n\\n* **Attention Mechanism:** This is the heart of a transformer. It allows the model to focus on specific parts of the input sequence that are most relevant to the task at hand. Imagine reading a sentence and paying more attention to certain words than others – that's what attention does.\\n\\n* **Parallel Processing:** Transformers can process entire input sequences simultaneously, unlike traditional recurrent neural networks (RNNs) which process information sequentially. This makes them much faster to train and can handle longer sequences more effectively.\\n\\n* **Encoder-Decoder Structure:**  Transformers typically have two main parts:\\n    * **Encoder:**  Analyzes the input sequence and creates a representation of its meaning.\\n    * **Decoder:** Uses the encoder's output to generate an output sequence, such as a translation of the input text or a summary of the information.\\n\\n**Applications of Transformers:**\\n\\nTransformers have revolutionized many fields, including:\\n\\n* **Natural Language Processing (NLP):**\\n    * Machine translation\\n    * Text summarization\\n    * Question answering\\n    * Chatbots\\n    * Sentiment analysis\\n* **Speech Recognition:**\\n    * Converting speech to text\\n* **Image Generation:**\\n    * Creating images from text descriptions\\n\\n**Popular Transformer Models:**\\n\\n* **BERT (Bidirectional Encoder Representations from Transformers):**  A powerful model for understanding the context of words in a sentence.\\n* **GPT (Generative Pre-trained Transformer):**  Excellent at generating human-like text.\\n* **T5 (Text-to-Text Transfer Transformer):**  A versatile model that can be adapted to a wide range of NLP tasks.\\n\\n**In essence, transformers are powerful tools for understanding and generating sequential data, thanks to their attention mechanism and parallel processing capabilities.**\\n\", additional_kwargs={}, response_metadata={'token_usage': {'completion_tokens': 409, 'prompt_tokens': 12, 'total_tokens': 421, 'completion_time': 0.743636364, 'prompt_time': 7.357e-05, 'queue_time': 0.020097628000000003, 'total_time': 0.743709934}, 'model_name': 'gemma2-9b-it', 'system_fingerprint': 'fp_10c08bf97d', 'finish_reason': 'stop', 'logprobs': None}, id='run-48f9b357-0255-4286-aa35-7f55604dda76-0', usage_metadata={'input_tokens': 12, 'output_tokens': 409, 'total_tokens': 421})]}"
      ]
     },
     "execution_count": 50,
     "metadata": {},
     "output_type": "execute_result"
    }
   ],
   "source": [
    "app.invoke({\"messages\":[\"what is transformer\"]})"
   ]
  }
 ],
 "metadata": {
  "kernelspec": {
   "display_name": "myvenv",
   "language": "python",
   "name": "python3"
  },
  "language_info": {
   "codemirror_mode": {
    "name": "ipython",
    "version": 3
   },
   "file_extension": ".py",
   "mimetype": "text/x-python",
   "name": "python",
   "nbconvert_exporter": "python",
   "pygments_lexer": "ipython3",
   "version": "3.12.2"
  }
 },
 "nbformat": 4,
 "nbformat_minor": 2
}
