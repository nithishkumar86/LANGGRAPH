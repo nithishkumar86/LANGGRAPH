{
 "cells": [
  {
   "cell_type": "markdown",
   "metadata": {},
   "source": [
    "#tools using router concept in langgraph"
   ]
  },
  {
   "cell_type": "code",
   "execution_count": 51,
   "metadata": {},
   "outputs": [],
   "source": [
    "from langchain_groq import ChatGroq\n",
    "from langgraph.graph import START,StateGraph,END\n",
    "from typing import Annotated\n",
    "from typing import TypedDict\n",
    "from IPython.display import display,Image\n",
    "from langgraph.graph.message import add_messages\n",
    "from langchain_community.tools.tavily_search import TavilySearchResults\n",
    "from langgraph.prebuilt import ToolNode,tools_condition\n",
    "from langchain.tools import tool\n",
    "from langchain_community.tools.tavily_search import TavilySearchResults"
   ]
  },
  {
   "cell_type": "code",
   "execution_count": 52,
   "metadata": {},
   "outputs": [
    {
     "data": {
      "text/plain": [
       "True"
      ]
     },
     "execution_count": 52,
     "metadata": {},
     "output_type": "execute_result"
    }
   ],
   "source": [
    "import os\n",
    "from dotenv import load_dotenv\n",
    "load_dotenv()"
   ]
  },
  {
   "cell_type": "code",
   "execution_count": 53,
   "metadata": {},
   "outputs": [],
   "source": [
    "os.environ[\"GROQ_API_KEY\"]=os.getenv(\"GROQ_API_KEY\")"
   ]
  },
  {
   "cell_type": "code",
   "execution_count": 54,
   "metadata": {},
   "outputs": [],
   "source": [
    "llm=ChatGroq(model=\"gemma2-9b-it\")"
   ]
  },
  {
   "cell_type": "code",
   "execution_count": 55,
   "metadata": {},
   "outputs": [
    {
     "data": {
      "text/plain": [
       "AIMessage(content=\"##  Gen AI: The Creative Powerhouse\\n\\nGen AI, short for **Generative Artificial Intelligence**, is a type of AI that focuses on **creating new content**. \\n\\nThink of it as an AI artist, writer, composer, or even programmer. Instead of analyzing existing data, Gen AI learns patterns and structures from massive datasets and uses that knowledge to generate something entirely new:\\n\\n* **Text:** Writing stories, poems, articles, code, scripts, and more.\\n* **Images:** Creating paintings, photos, illustrations, logos, and even 3D models.\\n* **Audio:** Composing music, generating sound effects, and even mimicking voices.\\n* **Video:** Synthesizing video clips, animating characters, and generating special effects.\\n\\n**How does it work?**\\n\\nGen AI models, often based on **deep learning** techniques like **transformer networks**, are trained on vast amounts of data. This training allows them to understand the underlying patterns and relationships within the data. \\n\\nWhen given a prompt or input, the model uses this knowledge to generate new content that adheres to those patterns while still being original and creative.\\n\\n**Examples of Gen AI in action:**\\n\\n* **ChatGPT:** A text-based AI that can hold conversations, write different kinds of creative content, and answer your questions in an informative way.\\n* **DALL-E 2:** An AI that can generate realistic images from text descriptions.\\n* **Jukebox:** An AI that can compose original music in various styles.\\n\\n**The potential of Gen AI is vast:**\\n\\n* **Creative industries:** Revolutionizing content creation in fields like writing, art, music, and film.\\n* **Education:** Providing personalized learning experiences and creating interactive educational materials.\\n* **Research:** Accelerating scientific discovery by generating hypotheses and analyzing data.\\n* **Business:** Automating tasks, personalizing marketing campaigns, and improving customer service.\\n\\n**However, it's important to be aware of the ethical considerations:**\\n\\n* **Bias:** Gen AI models can inherit biases present in the training data, leading to unfair or discriminatory outputs.\\n* **Misinformation:** The ability to generate realistic content raises concerns about the spread of fake news and deepfakes.\\n* **Copyright:** Questions surrounding the ownership and copyright of AI-generated content are still being debated.\\n\\n\\nGen AI is a powerful technology with the potential to transform many aspects of our lives. Understanding its capabilities and limitations is crucial for harnessing its benefits while mitigating its risks.\\n\", additional_kwargs={}, response_metadata={'token_usage': {'completion_tokens': 517, 'prompt_tokens': 13, 'total_tokens': 530, 'completion_time': 0.94, 'prompt_time': 8.4459e-05, 'queue_time': 0.019758501, 'total_time': 0.940084459}, 'model_name': 'gemma2-9b-it', 'system_fingerprint': 'fp_10c08bf97d', 'finish_reason': 'stop', 'logprobs': None}, id='run-e80ea475-0c6d-4b44-a02b-5f3f129fec59-0', usage_metadata={'input_tokens': 13, 'output_tokens': 517, 'total_tokens': 530})"
      ]
     },
     "execution_count": 55,
     "metadata": {},
     "output_type": "execute_result"
    }
   ],
   "source": [
    "llm.invoke(\"what is gen ai\")"
   ]
  },
  {
   "cell_type": "code",
   "execution_count": 56,
   "metadata": {},
   "outputs": [],
   "source": [
    "os.environ[\"TAVILY_API_KEY\"]=os.getenv(\"TAVILY_API_KEY\")"
   ]
  },
  {
   "cell_type": "code",
   "execution_count": 57,
   "metadata": {},
   "outputs": [],
   "source": [
    "search=TavilySearchResults()"
   ]
  },
  {
   "cell_type": "code",
   "execution_count": 58,
   "metadata": {},
   "outputs": [
    {
     "data": {
      "text/plain": [
       "[{'url': 'https://www.sportskeeda.com/cricket/world-cup-2011-captains-where-are-they-now',\n",
       "  'content': 'He is a part of the Peshawar Zalmi in PSL, Jamaica Tallawahs in the CPL, Dhaka Dynamites in the BPL and recently was also a part of the ICC World XI.\\n#10 Graeme Smith (South Africa)\\nGraeme Smith had been one of the best captains of South Africa. After the 2015 World Cup, Andrew Strauss was appointed as the director of the England and Wales Cricket Board to bring more transparency in the board and to remove any restrictions which the England Cricket Team would face in the future.\\n Darren Sammy was the leader of the Windies in World Cup 2011 and had helped the team in reaching quarterfinals of the tournament before losing to Pakistan to crash out of the tournament.\\n The Right-handed batsmen now have taken the task to promote younger cricketers as he was the part of coaching staff of the Mumbai Indians in 2015-16 and of the Delhi Daredevils (now Delhi Capitals) since 2018.\\n Jimmy Kamande was sacked from the position of the captain due to the poor performance of the team under his leadership in the 2011 World Cup.\\n'},\n",
       " {'url': 'https://www.sportskeeda.com/cricket/news-world-cup-2011',\n",
       "  'content': 'The Indian cricket team captured the World Cup title for the second time 10 years ago on this day (April 2, 2011). ... 2011). Captain MS Dhoni made Team India the world champion by hitting a six'},\n",
       " {'url': 'https://www.sportskeeda.com/cricket/2011-odi-world-cup-winning-team-where-are-they-now',\n",
       "  'content': \"Playing the 2011 World Cup at home, captain MS Dhoni and the team management faced the tough task of selecting a team for the challenge. Post World Cup, Dhoni has captained the team in all the formats, winning the Champions Trophy in England and leading Indian team to the No. 1 position in Test ranking. They were early days in Ashwin's career and with the likes of Harbhajan Singh in the squad, he got to play only two matches in the World Cup. In the two games he played, Ashwin managed to pick up four wickets at an impressive average of 23.25. After the World Cup, Pathan didn't feature for India as much but he carried his career forward, playing for his state team Baroda, and for Kolkata Knight Riders in the IPL.\"},\n",
       " {'url': 'https://www.crictracker.com/indias-2011-world-cup-winning-team-where-are-they-now/',\n",
       "  'content': 'In the 2011 World Cup, Nehra had played a crucial role in the semi-final against Pakistan as he bowled an excellent spell of 2/33 in his 10 overs as India defended 260.\\nYusuf Pathan\\nIn the lead up to the World Cup in 2011, Yusuf Pathan was in fine form and was deemed as a game-changer. He’s currently the captain of the Indian cricket team in all three formats and is one of the best batsmen in the world at the moment.\\n In the knockouts, India beat defending champions Australia in the quarter-final, arch-rivals Pakistan in the semi-final and co-hosts Sri Lanka in the final to lift the title.\\n Yuvraj Singh\\nThe Player of the Tournament of the 2011 World Cup has gone through a lot of ups and downs in these 10 years, both on and off the field. He played the World T20 in 2012 and then donned the whites against England at home in the fourth Test of the series in Nagpur.'},\n",
       " {'url': 'https://www.dnaindia.com/cricket/report-10-years-of-india-s-historic-2011-world-cup-win-what-are-the-players-of-that-team-doing-now-2884281',\n",
       "  'content': \"India had ended a 28-year-long wait and under MS Dhoni's captaincy, the side defeated Sri Lanka to win the 50-over World Cup. Dhoni became only the 2nd India captain after Kapil Dev to lift the World Cup in this format. India had also become the first team to win a World Cup at home.\"}]"
      ]
     },
     "execution_count": 58,
     "metadata": {},
     "output_type": "execute_result"
    }
   ],
   "source": [
    "search.invoke(\"which team won the 2011 cricket world cup and captain name\")"
   ]
  },
  {
   "cell_type": "code",
   "execution_count": 59,
   "metadata": {},
   "outputs": [],
   "source": [
    "@tool\n",
    "def multiply(first_number:int,second_number:int)->int:\n",
    "    \"\"\"perform multiply operation\"\"\"\n",
    "    return first_number * second_number"
   ]
  },
  {
   "cell_type": "code",
   "execution_count": 60,
   "metadata": {},
   "outputs": [
    {
     "data": {
      "text/plain": [
       "600"
      ]
     },
     "execution_count": 60,
     "metadata": {},
     "output_type": "execute_result"
    }
   ],
   "source": [
    "multiply.invoke({\"first_number\":20,\"second_number\":30})"
   ]
  },
  {
   "cell_type": "code",
   "execution_count": 61,
   "metadata": {},
   "outputs": [],
   "source": [
    "tools=[multiply,search]"
   ]
  },
  {
   "cell_type": "code",
   "execution_count": 62,
   "metadata": {},
   "outputs": [],
   "source": [
    "model_with_bind=llm.bind_tools(tools=tools)"
   ]
  },
  {
   "cell_type": "code",
   "execution_count": 63,
   "metadata": {},
   "outputs": [],
   "source": [
    "tool_node=ToolNode(tools=tools)"
   ]
  },
  {
   "cell_type": "code",
   "execution_count": 64,
   "metadata": {},
   "outputs": [],
   "source": [
    "class AgentState(TypedDict):\n",
    "    messages:Annotated[list,add_messages]"
   ]
  },
  {
   "cell_type": "code",
   "execution_count": 65,
   "metadata": {},
   "outputs": [],
   "source": [
    "def function_1(state:AgentState):\n",
    "    print(\"==> entering into the llm <==\")\n",
    "    response=model_with_bind.invoke(state[\"messages\"])\n",
    "    return {\"messages\":[response]}\n"
   ]
  },
  {
   "cell_type": "code",
   "execution_count": 66,
   "metadata": {},
   "outputs": [
    {
     "name": "stdout",
     "output_type": "stream",
     "text": [
      "==> entering into the llm <==\n"
     ]
    }
   ],
   "source": [
    "response=function_1({\"messages\":[\"what is the multiplication 2* 3\"]})"
   ]
  },
  {
   "cell_type": "code",
   "execution_count": 67,
   "metadata": {},
   "outputs": [],
   "source": [
    "messages=response['messages']"
   ]
  },
  {
   "cell_type": "code",
   "execution_count": 68,
   "metadata": {},
   "outputs": [],
   "source": [
    "last_message=messages[-1]"
   ]
  },
  {
   "cell_type": "code",
   "execution_count": 69,
   "metadata": {},
   "outputs": [],
   "source": [
    "#last_message.tool_calls"
   ]
  },
  {
   "cell_type": "code",
   "execution_count": 70,
   "metadata": {},
   "outputs": [],
   "source": [
    "def router(state:AgentState):\n",
    "    print(\"entering into router\")\n",
    "    messages=state[\"messages\"]\n",
    "    last_message=messages[-1]\n",
    "    print(f\"the  last message {last_message}\")\n",
    "    if last_message.tool_calls:\n",
    "        return 'TOOLS'\n",
    "    return END\n"
   ]
  },
  {
   "cell_type": "code",
   "execution_count": 71,
   "metadata": {},
   "outputs": [],
   "source": [
    "graph=StateGraph(AgentState)"
   ]
  },
  {
   "cell_type": "code",
   "execution_count": 72,
   "metadata": {},
   "outputs": [
    {
     "data": {
      "text/plain": [
       "<langgraph.graph.state.StateGraph at 0x160c5362a80>"
      ]
     },
     "execution_count": 72,
     "metadata": {},
     "output_type": "execute_result"
    }
   ],
   "source": [
    "graph.add_node(\"llm\",function_1)\n",
    "graph.add_node(\"tools\",tool_node)\n",
    "graph.set_entry_point(\"llm\")\n",
    "\n",
    "graph.add_conditional_edges(\n",
    "    \"llm\",\n",
    "    router,\n",
    "    {\n",
    "        \"TOOLS\":\"tools\",\n",
    "        END:END\n",
    "    }\n",
    ")\n",
    "\n",
    "graph.add_edge(\"tools\",END)"
   ]
  },
  {
   "cell_type": "code",
   "execution_count": 73,
   "metadata": {},
   "outputs": [],
   "source": [
    "app=graph.compile()"
   ]
  },
  {
   "cell_type": "code",
   "execution_count": 74,
   "metadata": {},
   "outputs": [
    {
     "data": {
      "image/png": "[encoded data removed]",
      "text/plain": [
       "<IPython.core.display.Image object>"
      ]
     },
     "metadata": {},
     "output_type": "display_data"
    }
   ],
   "source": [
    "try:\n",
    "    display(Image(app.get_graph().draw_mermaid_png()))\n",
    "except  Exception as e:\n",
    "    print(e)"
   ]
  },
  {
   "cell_type": "code",
   "execution_count": 75,
   "metadata": {},
   "outputs": [
    {
     "name": "stdout",
     "output_type": "stream",
     "text": [
      "==> entering into the llm <==\n",
      "entering into router\n",
      "the  last message content='' additional_kwargs={'tool_calls': [{'id': 'call_asr9', 'function': {'arguments': '{\"first_number\":20,\"second_number\":30}', 'name': 'multiply'}, 'type': 'function'}]} response_metadata={'token_usage': {'completion_tokens': 92, 'prompt_tokens': 1120, 'total_tokens': 1212, 'completion_time': 0.167272727, 'prompt_time': 0.03571815, 'queue_time': 0.023512864, 'total_time': 0.202990877}, 'model_name': 'gemma2-9b-it', 'system_fingerprint': 'fp_10c08bf97d', 'finish_reason': 'tool_calls', 'logprobs': None} id='run-39df1c54-157c-4a3d-acbd-79065a85e167-0' tool_calls=[{'name': 'multiply', 'args': {'first_number': 20, 'second_number': 30}, 'id': 'call_asr9', 'type': 'tool_call'}] usage_metadata={'input_tokens': 1120, 'output_tokens': 92, 'total_tokens': 1212}\n"
     ]
    },
    {
     "data": {
      "text/plain": [
       "{'messages': [HumanMessage(content='what is multiplication of 20 and 30', additional_kwargs={}, response_metadata={}, id='f4e488ff-2940-4c28-8d95-9988e80e7290'),\n",
       "  AIMessage(content='', additional_kwargs={'tool_calls': [{'id': 'call_asr9', 'function': {'arguments': '{\"first_number\":20,\"second_number\":30}', 'name': 'multiply'}, 'type': 'function'}]}, response_metadata={'token_usage': {'completion_tokens': 92, 'prompt_tokens': 1120, 'total_tokens': 1212, 'completion_time': 0.167272727, 'prompt_time': 0.03571815, 'queue_time': 0.023512864, 'total_time': 0.202990877}, 'model_name': 'gemma2-9b-it', 'system_fingerprint': 'fp_10c08bf97d', 'finish_reason': 'tool_calls', 'logprobs': None}, id='run-39df1c54-157c-4a3d-acbd-79065a85e167-0', tool_calls=[{'name': 'multiply', 'args': {'first_number': 20, 'second_number': 30}, 'id': 'call_asr9', 'type': 'tool_call'}], usage_metadata={'input_tokens': 1120, 'output_tokens': 92, 'total_tokens': 1212}),\n",
       "  ToolMessage(content='600', name='multiply', id='107a2085-75ff-44ac-bf63-cf192d312768', tool_call_id='call_asr9')]}"
      ]
     },
     "execution_count": 75,
     "metadata": {},
     "output_type": "execute_result"
    }
   ],
   "source": [
    "app.invoke({\"messages\":[\"what is multiplication of 20 and 30\"]})"
   ]
  },
  {
   "cell_type": "code",
   "execution_count": 77,
   "metadata": {},
   "outputs": [
    {
     "name": "stdout",
     "output_type": "stream",
     "text": [
      "==> entering into the llm <==\n",
      "entering into router\n",
      "the  last message content='' additional_kwargs={'tool_calls': [{'id': 'call_q3tv', 'function': {'arguments': '{\"query\":\"what is gen ai\"}', 'name': 'tavily_search_results_json'}, 'type': 'function'}]} response_metadata={'token_usage': {'completion_tokens': 89, 'prompt_tokens': 1113, 'total_tokens': 1202, 'completion_time': 0.161818182, 'prompt_time': 0.035578043, 'queue_time': 0.021173313000000006, 'total_time': 0.197396225}, 'model_name': 'gemma2-9b-it', 'system_fingerprint': 'fp_10c08bf97d', 'finish_reason': 'tool_calls', 'logprobs': None} id='run-4c07e99a-b94a-4e3c-8c8b-46be569beb7a-0' tool_calls=[{'name': 'tavily_search_results_json', 'args': {'query': 'what is gen ai'}, 'id': 'call_q3tv', 'type': 'tool_call'}] usage_metadata={'input_tokens': 1113, 'output_tokens': 89, 'total_tokens': 1202}\n"
     ]
    },
    {
     "data": {
      "text/plain": [
       "{'messages': [HumanMessage(content='what is gen ai', additional_kwargs={}, response_metadata={}, id='f0146151-7396-426c-879d-20eb6038c727'),\n",
       "  AIMessage(content='', additional_kwargs={'tool_calls': [{'id': 'call_q3tv', 'function': {'arguments': '{\"query\":\"what is gen ai\"}', 'name': 'tavily_search_results_json'}, 'type': 'function'}]}, response_metadata={'token_usage': {'completion_tokens': 89, 'prompt_tokens': 1113, 'total_tokens': 1202, 'completion_time': 0.161818182, 'prompt_time': 0.035578043, 'queue_time': 0.021173313000000006, 'total_time': 0.197396225}, 'model_name': 'gemma2-9b-it', 'system_fingerprint': 'fp_10c08bf97d', 'finish_reason': 'tool_calls', 'logprobs': None}, id='run-4c07e99a-b94a-4e3c-8c8b-46be569beb7a-0', tool_calls=[{'name': 'tavily_search_results_json', 'args': {'query': 'what is gen ai'}, 'id': 'call_q3tv', 'type': 'tool_call'}], usage_metadata={'input_tokens': 1113, 'output_tokens': 89, 'total_tokens': 1202}),\n",
       "  ToolMessage(content='[{\"url\": \"https://www.geeksforgeeks.org/what-is-generative-ai/\", \"content\": \"Generative AI is a subset of deep learning that creates new artificial content or data without human intervention. Learn about the working, types, and applications of generative models such as GANs, VAEs, transformers, and more.\"}, {\"url\": \"https://www.coursera.org/articles/what-is-generative-ai\", \"content\": \"Writing or improving content by producing a draft text in a specific style or length\\\\nAdding subtitles or dubbing educational content, films, and other content in different languages\\\\nOutlining briefs, resumes, term papers, and more\\\\nReceiving a generic code to edit or improve upon\\\\nSummarizing articles, emails, and reports\\\\nImproving demonstration or explanation videos\\\\nCreating music in a specific tone or style\\\\nGenerative AI has many use cases that can benefit the way we work, by speeding up the content creation process or reducing the effort put into crafting an initial outline for a survey or email. GitHub Copilot: This collaboration between GitHub and OpenAI acts as a coding companion to help developers code faster and more intuitively.\\\\nRead more: 6 Artificial Intelligence (AI) Jobs to Consider in 2023\\\\nGenerative AI use cases\\\\nOnce you’ve decided which AI generator suits your needs, these use cases may help you get the creative juices flowing for ways generative AI can benefit you and your business.\\\\n Learners are advised to conduct additional research to ensure that courses and other credentials pursued meet their personal, professional, and financial goals.\\\\n$1 unlocks unlimited opportunities\\\\nCoursera Footer\\\\nPopular AI Content\\\\nPopular Programs\\\\nPopular Skills\\\\nPopular Career Resources\\\\nCoursera\\\\nCommunity\\\\nMore What is generative AI?\\\\nGenerative AI, also referred to as GenAI, allows users to input a variety of prompts to generate new content, such as text, images, videos, sounds, code, 3D designs, and other media. Get an intro to generative AI\\\\nFor a quick, one-hour introduction to generative AI, consider enrolling in Google Cloud’s Introduction to Generative AI.\"}, {\"url\": \"https://www.techrepublic.com/article/what-is-generative-ai/\", \"content\": \"Current and proposed use cases include the following:\\\\nDangers and limitations of generative AI\\\\nA major concern around the use of generative AI tools -– and particularly those accessible to the public — is their potential for spreading misinformation and harmful content. Jump to:\\\\nWhat is generative AI in simple terms?\\\\nGenerative AI is a type of artificial intelligence technology that broadly describes machine learning systems capable of generating text, images, code or other types of content, often in response to a prompt entered by a user.\\\\n Cisco is bringing a Chat-GPT experience to WebEx (TechRepublic)\\\\nExamples of generative AI models include:\\\\nTypes of generative AI models\\\\nThere are various types of generative AI models, each designed for specific challenges and tasks. SEE: OpenAI, Google and More Agree to White House List of Eight AI Safety Assurances (TechRepublic)\\\\nGenerative AI vs. general AI\\\\nGenerative AI and general AI represent different sides of the same coin. TechRepublic\\\\nAccount Information\\\\nGenerative AI Defined: How it Works, Benefits and Dangers\\\\nAccount Information\\\\nShare with Your Friends\\\\nGenerative AI Defined: How it Works, Benefits and Dangers\\\\n\"}, {\"url\": \"https://www.techtarget.com/searchenterpriseai/definition/generative-AI\", \"content\": \"Subsequent research into LLMs from Open AI and Google ignited the recent enthusiasm that has evolved into tools like ChatGPT, Google Bard and Dall-E.\\\\nHow could generative AI replace jobs?\\\\nGenerative AI has the potential to replace a variety of jobs, including the following:\\\\nSome companies will look for opportunities to replace humans where possible, while others will use generative AI to augment and enhance their existing workforce.\\\\n Here are some of the specific types of problematic issues posed by the current state of generative AI:\\\\nWhat are some examples of generative AI tools?\\\\nGenerative AI tools exist for various modalities, such as text, imagery, music, code and voices. Some of the use cases for generative AI include the following:\\\\nWhat are the benefits of generative AI?\\\\nGenerative AI can be applied extensively across many areas of the business. Some of the potential benefits of implementing generative AI include the following:\\\\nWhat are the limitations of generative AI?\\\\nEarly implementations of generative AI vividly illustrate its many limitations. Here are some of the limitations to consider when implementing or using a generative AI app:\\\\nAttention is all you need: Transformers bring new capability\\\\nIn 2017, Google reported on a new type of neural network architecture that brought significant improvements in efficiency and accuracy to tasks like natural language processing.\"}, {\"url\": \"https://www.oracle.com/artificial-intelligence/generative-ai/what-is-generative-ai/\", \"content\": \"Generative AI Models “We don’t know how they do the actual creative task because what goes on inside the neural network layers is way too complex for us to decipher, at least today,” said Dean Thompson, a former chief technology officer of multiple AI startups that have been acquired over the years by companies, including LinkedIn and Yelp, where he remains as a senior software engineer working on large language models (LLMs). Generative AI Models Oracle has partnered with AI developer Cohere to help businesses build internal models fine-tuned with private corporate data, in a move that aims to spread the use of specialized company-specific generative AI tools. Oracle plans to embed generative AI services into business platforms to boost productivity and efficiency throughout a business’s existing processes, bypassing the need for many companies to build and train their own models from the ground up.\"}]', name='tavily_search_results_json', id='58ea0b13-ce20-4783-adf6-5b1caedf128d', tool_call_id='call_q3tv', artifact={'query': 'what is gen ai', 'follow_up_questions': None, 'answer': None, 'images': [], 'results': [{'title': 'What is Generative AI? - Examples, Definition & Models', 'url': 'https://www.geeksforgeeks.org/what-is-generative-ai/', 'content': 'Generative AI is a subset of deep learning that creates new artificial content or data without human intervention. Learn about the working, types, and applications of generative models such as GANs, VAEs, transformers, and more.', 'score': 0.8576849, 'raw_content': None}, {'title': 'What Is Generative AI? Definition, Applications, and Impact', 'url': 'https://www.coursera.org/articles/what-is-generative-ai', 'content': 'Writing or improving content by producing a draft text in a specific style or length\\nAdding subtitles or dubbing educational content, films, and other content in different languages\\nOutlining briefs, resumes, term papers, and more\\nReceiving a generic code to edit or improve upon\\nSummarizing articles, emails, and reports\\nImproving demonstration or explanation videos\\nCreating music in a specific tone or style\\nGenerative AI has many use cases that can benefit the way we work, by speeding up the content creation process or reducing the effort put into crafting an initial outline for a survey or email. GitHub Copilot: This collaboration between GitHub and OpenAI acts as a coding companion to help developers code faster and more intuitively.\\nRead more: 6 Artificial Intelligence (AI) Jobs to Consider in 2023\\nGenerative AI use cases\\nOnce you’ve decided which AI generator suits your needs, these use cases may help you get the creative juices flowing for ways generative AI can benefit you and your business.\\n Learners are advised to conduct additional research to ensure that courses and other credentials pursued meet their personal, professional, and financial goals.\\n$1 unlocks unlimited opportunities\\nCoursera Footer\\nPopular AI Content\\nPopular Programs\\nPopular Skills\\nPopular Career Resources\\nCoursera\\nCommunity\\nMore What is generative AI?\\nGenerative AI, also referred to as GenAI, allows users to input a variety of prompts to generate new content, such as text, images, videos, sounds, code, 3D designs, and other media. Get an intro to generative AI\\nFor a quick, one-hour introduction to generative AI, consider enrolling in Google Cloud’s Introduction to Generative AI.', 'score': 0.8033131, 'raw_content': None}, {'title': 'Generative AI Defined: How It Works, Benefits, and Limitations', 'url': 'https://www.techrepublic.com/article/what-is-generative-ai/', 'content': 'Current and proposed use cases include the following:\\nDangers and limitations of generative AI\\nA major concern around the use of generative AI tools -– and particularly those accessible to the public — is their potential for spreading misinformation and harmful content. Jump to:\\nWhat is generative AI in simple terms?\\nGenerative AI is a type of artificial intelligence technology that broadly describes machine learning systems capable of generating text, images, code or other types of content, often in response to a prompt entered by a user.\\n Cisco is bringing a Chat-GPT experience to WebEx (TechRepublic)\\nExamples of generative AI models include:\\nTypes of generative AI models\\nThere are various types of generative AI models, each designed for specific challenges and tasks. SEE: OpenAI, Google and More Agree to White House List of Eight AI Safety Assurances (TechRepublic)\\nGenerative AI vs. general AI\\nGenerative AI and general AI represent different sides of the same coin. TechRepublic\\nAccount Information\\nGenerative AI Defined: How it Works, Benefits and Dangers\\nAccount Information\\nShare with Your Friends\\nGenerative AI Defined: How it Works, Benefits and Dangers\\n', 'score': 0.7570233, 'raw_content': None}, {'title': 'What is Gen AI? Generative AI Explained - TechTarget', 'url': 'https://www.techtarget.com/searchenterpriseai/definition/generative-AI', 'content': 'Subsequent research into LLMs from Open AI and Google ignited the recent enthusiasm that has evolved into tools like ChatGPT, Google Bard and Dall-E.\\nHow could generative AI replace jobs?\\nGenerative AI has the potential to replace a variety of jobs, including the following:\\nSome companies will look for opportunities to replace humans where possible, while others will use generative AI to augment and enhance their existing workforce.\\n Here are some of the specific types of problematic issues posed by the current state of generative AI:\\nWhat are some examples of generative AI tools?\\nGenerative AI tools exist for various modalities, such as text, imagery, music, code and voices. Some of the use cases for generative AI include the following:\\nWhat are the benefits of generative AI?\\nGenerative AI can be applied extensively across many areas of the business. Some of the potential benefits of implementing generative AI include the following:\\nWhat are the limitations of generative AI?\\nEarly implementations of generative AI vividly illustrate its many limitations. Here are some of the limitations to consider when implementing or using a generative AI app:\\nAttention is all you need: Transformers bring new capability\\nIn 2017, Google reported on a new type of neural network architecture that brought significant improvements in efficiency and accuracy to tasks like natural language processing.', 'score': 0.73755574, 'raw_content': None}, {'title': 'What Is Generative AI (GenAI)? How Does It Work? - Oracle', 'url': 'https://www.oracle.com/artificial-intelligence/generative-ai/what-is-generative-ai/', 'content': 'Generative AI Models “We don’t know how they do the actual creative task because what goes on inside the neural network layers is way too complex for us to decipher, at least today,” said Dean Thompson, a former chief technology officer of multiple AI startups that have been acquired over the years by companies, including LinkedIn and Yelp, where he remains as a senior software engineer working on large language models (LLMs). Generative AI Models Oracle has partnered with AI developer Cohere to help businesses build internal models fine-tuned with private corporate data, in a move that aims to spread the use of specialized company-specific generative AI tools. Oracle plans to embed generative AI services into business platforms to boost productivity and efficiency throughout a business’s existing processes, bypassing the need for many companies to build and train their own models from the ground up.', 'score': 0.71305263, 'raw_content': None}], 'response_time': 1.7})]}"
      ]
     },
     "execution_count": 77,
     "metadata": {},
     "output_type": "execute_result"
    }
   ],
   "source": [
    "app.invoke({\"messages\":[\"what is gen ai\"]})"
   ]
  },
  {
   "cell_type": "code",
   "execution_count": 78,
   "metadata": {},
   "outputs": [
    {
     "name": "stdout",
     "output_type": "stream",
     "text": [
      "==> entering into the llm <==\n",
      "entering into router\n",
      "the  last message content='' additional_kwargs={'tool_calls': [{'id': 'call_0vr6', 'function': {'arguments': '{\"first_number\":28,\"second_number\":7}', 'name': 'multiply'}, 'type': 'function'}]} response_metadata={'token_usage': {'completion_tokens': 92, 'prompt_tokens': 1120, 'total_tokens': 1212, 'completion_time': 0.167272727, 'prompt_time': 0.04228971, 'queue_time': 0.022285229999999996, 'total_time': 0.209562437}, 'model_name': 'gemma2-9b-it', 'system_fingerprint': 'fp_10c08bf97d', 'finish_reason': 'tool_calls', 'logprobs': None} id='run-5069ad63-802c-4e8e-8083-5a9155592f8e-0' tool_calls=[{'name': 'multiply', 'args': {'first_number': 28, 'second_number': 7}, 'id': 'call_0vr6', 'type': 'tool_call'}] usage_metadata={'input_tokens': 1120, 'output_tokens': 92, 'total_tokens': 1212}\n"
     ]
    },
    {
     "data": {
      "text/plain": [
       "{'messages': [HumanMessage(content='what is the multiplication os 28 and 7', additional_kwargs={}, response_metadata={}, id='14a1ecbd-9343-435f-9b7e-57f3cd6cf078'),\n",
       "  AIMessage(content='', additional_kwargs={'tool_calls': [{'id': 'call_0vr6', 'function': {'arguments': '{\"first_number\":28,\"second_number\":7}', 'name': 'multiply'}, 'type': 'function'}]}, response_metadata={'token_usage': {'completion_tokens': 92, 'prompt_tokens': 1120, 'total_tokens': 1212, 'completion_time': 0.167272727, 'prompt_time': 0.04228971, 'queue_time': 0.022285229999999996, 'total_time': 0.209562437}, 'model_name': 'gemma2-9b-it', 'system_fingerprint': 'fp_10c08bf97d', 'finish_reason': 'tool_calls', 'logprobs': None}, id='run-5069ad63-802c-4e8e-8083-5a9155592f8e-0', tool_calls=[{'name': 'multiply', 'args': {'first_number': 28, 'second_number': 7}, 'id': 'call_0vr6', 'type': 'tool_call'}], usage_metadata={'input_tokens': 1120, 'output_tokens': 92, 'total_tokens': 1212}),\n",
       "  ToolMessage(content='196', name='multiply', id='6090f3b2-37fa-47e0-8c85-a26cd7c12aad', tool_call_id='call_0vr6')]}"
      ]
     },
     "execution_count": 78,
     "metadata": {},
     "output_type": "execute_result"
    }
   ],
   "source": [
    "app.invoke({\"messages\":[\"what is the multiplication os 28 and 7\"]})"
   ]
  }
 ],
 "metadata": {
  "kernelspec": {
   "display_name": "myvenv",
   "language": "python",
   "name": "python3"
  },
  "language_info": {
   "codemirror_mode": {
    "name": "ipython",
    "version": 3
   },
   "file_extension": ".py",
   "mimetype": "text/x-python",
   "name": "python",
   "nbconvert_exporter": "python",
   "pygments_lexer": "ipython3",
   "version": "3.12.2"
  }
 },
 "nbformat": 4,
 "nbformat_minor": 2
}
