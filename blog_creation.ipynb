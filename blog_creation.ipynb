{
 "cells": [
  {
   "cell_type": "code",
   "execution_count": 15,
   "metadata": {},
   "outputs": [
    {
     "data": {
      "text/plain": [
       "True"
      ]
     },
     "execution_count": 15,
     "metadata": {},
     "output_type": "execute_result"
    }
   ],
   "source": [
    "import os\n",
    "from dotenv import load_dotenv\n",
    "load_dotenv()"
   ]
  },
  {
   "cell_type": "code",
   "execution_count": 16,
   "metadata": {},
   "outputs": [],
   "source": [
    "os.environ[\"GROQ_API_KEY\"]=os.getenv(\"GROQ_API_KEY\")"
   ]
  },
  {
   "cell_type": "code",
   "execution_count": 17,
   "metadata": {},
   "outputs": [],
   "source": [
    "from typing import Annotated,TypedDict,Sequence,Literal\n",
    "from langgraph.graph.message import add_messages\n",
    "import operator\n",
    "from langchain_core.messages import HumanMessage,AIMessage,SystemMessage\n",
    "from langchain_core.messages import AnyMessage\n",
    "from langgraph.graph import StateGraph,START,END,MessagesState\n",
    "from langchain_groq import ChatGroq\n",
    "from IPython.display import display,Image\n",
    "from langchain_core.pydantic_v1 import BaseModel,Field"
   ]
  },
  {
   "cell_type": "code",
   "execution_count": 18,
   "metadata": {},
   "outputs": [],
   "source": [
    "llm=ChatGroq(model=\"gemma2-9b-it\")"
   ]
  },
  {
   "cell_type": "code",
   "execution_count": 19,
   "metadata": {},
   "outputs": [
    {
     "data": {
      "text/plain": [
       "AIMessage(content=\"Gen AI stands for **Generative Artificial Intelligence**.  \\n\\nIt's a type of AI that focuses on creating new content rather than just analyzing existing data. Think of it like this:\\n\\n* **Traditional AI:**  Analyzes your data to find patterns and make predictions (e.g., recommending a movie you might like).\\n\\n* **Gen AI:**  Uses learned patterns to generate new content based on your input (e.g., writing a poem in a specific style, composing a piece of music, or even creating an image from a text description).\\n\\n**Here's a breakdown of key features:**\\n\\n* **Learning from Data:** Gen AI models are trained on massive datasets of text, code, images, audio, etc. This allows them to understand the underlying structures and patterns within the data.\\n* **Generating New Output:** Based on the learned patterns, Gen AI can create new content that resembles the training data but is not a direct copy.\\n* **Variety of Applications:** Gen AI has a wide range of applications, including:\\n    * **Text Generation:** Writing stories, articles, poems, dialogue, code\\n    * **Image Generation:** Creating realistic images, artwork, and designs\\n    * **Audio Generation:**  Composing music, generating speech, creating sound effects\\n    * **Video Generation:** Producing short videos, animations, and special effects\\n\\n**Some popular examples of Gen AI models:**\\n\\n* **GPT-3 (OpenAI):**  A powerful language model capable of generating human-quality text.\\n* **DALL-E 2 (OpenAI):**  Generates images from text descriptions.\\n* **Stable Diffusion:**  An open-source image generation model.\\n* **Jukebox (OpenAI):**  Generates music in various styles.\\n\\n**Gen AI is a rapidly evolving field with the potential to revolutionize many industries. However, it also raises ethical concerns about bias, misuse, and the impact on creative professions.**\\n\", additional_kwargs={}, response_metadata={'token_usage': {'completion_tokens': 409, 'prompt_tokens': 13, 'total_tokens': 422, 'completion_time': 0.743636364, 'prompt_time': 7.5589e-05, 'queue_time': 0.024844928, 'total_time': 0.743711953}, 'model_name': 'gemma2-9b-it', 'system_fingerprint': 'fp_10c08bf97d', 'finish_reason': 'stop', 'logprobs': None}, id='run-2fc16221-315e-4030-9b12-f7fbeafd6f2f-0', usage_metadata={'input_tokens': 13, 'output_tokens': 409, 'total_tokens': 422})"
      ]
     },
     "execution_count": 19,
     "metadata": {},
     "output_type": "execute_result"
    }
   ],
   "source": [
    "llm.invoke(\"what is gen ai\")"
   ]
  },
  {
   "cell_type": "code",
   "execution_count": 20,
   "metadata": {},
   "outputs": [],
   "source": [
    "class MessagesState(TypedDict):\n",
    "    messages:Annotated[list[AnyMessage],add_messages]\n"
   ]
  },
  {
   "cell_type": "code",
   "execution_count": null,
   "metadata": {},
   "outputs": [],
   "source": [
    "system=[SystemMessage(content=\"create a suitable title for the blog creation from the given question and return only the title \")]\n",
    "\n",
    "def create_title(state:MessagesState):\n",
    "    return {\"messages\":[llm.invoke(system + state[\"messages\"])]}"
   ]
  },
  {
   "cell_type": "code",
   "execution_count": null,
   "metadata": {},
   "outputs": [],
   "source": [
    "system1=[SystemMessage(content=\"As you are a content writter take the title from the given question and create blog\")]\n",
    "\n",
    "def blog_creation(state:MessagesState):\n",
    "    question=state[\"messages\"]\n",
    "    #print(question)\n",
    "    return {\"messages\":[llm.invoke(system1 + question)]}"
   ]
  },
  {
   "cell_type": "code",
   "execution_count": 58,
   "metadata": {},
   "outputs": [],
   "source": [
    "graph=StateGraph(MessagesState)"
   ]
  },
  {
   "cell_type": "code",
   "execution_count": 59,
   "metadata": {},
   "outputs": [
    {
     "data": {
      "text/plain": [
       "<langgraph.graph.state.StateGraph at 0x20ccc916c30>"
      ]
     },
     "execution_count": 59,
     "metadata": {},
     "output_type": "execute_result"
    }
   ],
   "source": [
    "graph.add_node(\"title_creation\",create_title)\n",
    "graph.add_node(\"blog_creation\",blog_creation)\n",
    "graph.add_edge(\"title_creation\",\"blog_creation\")\n",
    "graph.set_entry_point(\"title_creation\")\n",
    "graph.set_finish_point(\"blog_creation\")"
   ]
  },
  {
   "cell_type": "code",
   "execution_count": 60,
   "metadata": {},
   "outputs": [],
   "source": [
    "app=graph.compile()"
   ]
  },
  {
   "cell_type": "code",
   "execution_count": 61,
   "metadata": {},
   "outputs": [
    {
     "data": {
      "image/png": "[encoded data removed]",
      "text/plain": [
       "<IPython.core.display.Image object>"
      ]
     },
     "metadata": {},
     "output_type": "display_data"
    }
   ],
   "source": [
    "try:\n",
    "    display(Image(app.get_graph().draw_mermaid_png()))\n",
    "except Exception as e:\n",
    "    print(e)"
   ]
  },
  {
   "cell_type": "code",
   "execution_count": 62,
   "metadata": {},
   "outputs": [],
   "source": [
    "messages=[HumanMessage(content=\"what is deep learning\")]"
   ]
  },
  {
   "cell_type": "code",
   "execution_count": 63,
   "metadata": {},
   "outputs": [
    {
     "name": "stdout",
     "output_type": "stream",
     "text": [
      "[HumanMessage(content='what is deep learning', additional_kwargs={}, response_metadata={}, id='b0cee132-fc3a-41ef-b83e-be6ff798dac7'), AIMessage(content='Demystifying Deep Learning \\n', additional_kwargs={}, response_metadata={'token_usage': {'completion_tokens': 9, 'prompt_tokens': 30, 'total_tokens': 39, 'completion_time': 0.016363636, 'prompt_time': 0.00014807, 'queue_time': 0.022285197, 'total_time': 0.016511706}, 'model_name': 'gemma2-9b-it', 'system_fingerprint': 'fp_10c08bf97d', 'finish_reason': 'stop', 'logprobs': None}, id='run-2d978d1c-2508-44ea-91f8-1acaecb070d5-0', usage_metadata={'input_tokens': 30, 'output_tokens': 9, 'total_tokens': 39})]\n"
     ]
    }
   ],
   "source": [
    "messages=app.invoke({\"messages\":messages})"
   ]
  },
  {
   "cell_type": "code",
   "execution_count": 64,
   "metadata": {},
   "outputs": [
    {
     "name": "stdout",
     "output_type": "stream",
     "text": [
      "================================\u001b[1m Human Message \u001b[0m=================================\n",
      "\n",
      "what is deep learning\n",
      "==================================\u001b[1m Ai Message \u001b[0m==================================\n",
      "\n",
      "Demystifying Deep Learning\n",
      "==================================\u001b[1m Ai Message \u001b[0m==================================\n",
      "\n",
      " \n",
      "Deep learning, a subset of machine learning, is rapidly transforming our world.  From self-driving cars to personalized medicine, its applications are vast and ever-expanding. But what exactly is deep learning, and how does it work?  \n",
      "\n",
      "**Unveiling the Layers:**\n",
      "\n",
      "Imagine a brain with numerous interconnected neurons. Deep learning algorithms mimic this structure, using artificial neural networks with multiple layers. These layers progressively extract higher-level features from the input data. For instance, in image recognition, the first layers might detect edges and shapes, while subsequent layers identify patterns, objects, and even emotions.\n",
      "\n",
      "**The Power of Data:**\n",
      "\n",
      "Deep learning thrives on data.  The more data it's trained on, the better it becomes at recognizing patterns and making accurate predictions. This is why deep learning models often excel in tasks like:\n",
      "\n",
      "* **Image Recognition:** Identifying objects, faces, and scenes in images.\n",
      "* **Natural Language Processing:** Understanding and generating human language, powering chatbots, translation services, and text summarization.\n",
      "* **Speech Recognition:** Converting spoken words into text.\n",
      "* **Medical Diagnosis:** Analyzing medical images to detect diseases and assist in diagnosis.\n",
      "\n",
      "**How it Learns:**\n",
      "\n",
      "Deep learning models learn through a process called backpropagation.  \n",
      "\n",
      "1. **Forward Pass:** Data is fed through the network, and each layer processes it, producing an output.\n",
      "2. **Loss Function:** The output is compared to the desired result, and a \"loss\" is calculated to measure the difference.\n",
      "3. **Backpropagation:** The loss is propagated back through the network, adjusting the weights of the connections between neurons to minimize the error.\n",
      "4. **Iteration:** This process is repeated thousands or even millions of times, gradually improving the model's accuracy.\n",
      "\n",
      "**The Future of Deep Learning:**\n",
      "\n",
      "Deep learning is a constantly evolving field with immense potential. As data availability increases and algorithms become more sophisticated, we can expect even more groundbreaking applications in the years to come.  From personalized education to drug discovery, deep learning is poised to revolutionize countless industries and aspects of our lives.\n"
     ]
    }
   ],
   "source": [
    "for m in messages[\"messages\"]:\n",
    "    m.pretty_print()"
   ]
  },
  {
   "cell_type": "code",
   "execution_count": null,
   "metadata": {},
   "outputs": [],
   "source": []
  }
 ],
 "metadata": {
  "kernelspec": {
   "display_name": "myvenv",
   "language": "python",
   "name": "python3"
  },
  "language_info": {
   "codemirror_mode": {
    "name": "ipython",
    "version": 3
   },
   "file_extension": ".py",
   "mimetype": "text/x-python",
   "name": "python",
   "nbconvert_exporter": "python",
   "pygments_lexer": "ipython3",
   "version": "3.12.2"
  }
 },
 "nbformat": 4,
 "nbformat_minor": 2
}
