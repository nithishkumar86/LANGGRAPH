{
 "cells": [
  {
   "cell_type": "code",
   "execution_count": 1,
   "metadata": {},
   "outputs": [
    {
     "data": {
      "text/plain": [
       "True"
      ]
     },
     "execution_count": 1,
     "metadata": {},
     "output_type": "execute_result"
    }
   ],
   "source": [
    "import os\n",
    "from dotenv import load_dotenv\n",
    "load_dotenv()"
   ]
  },
  {
   "cell_type": "code",
   "execution_count": 2,
   "metadata": {},
   "outputs": [],
   "source": [
    "os.environ[\"GROQ_API_KEY\"]=os.getenv(\"GROQ_API_KEY\")\n",
    "os.environ[\"HUGGINGFACE_API_KEY\"]=os.environ[\"HUGGINGFACE_API_KEY\"]"
   ]
  },
  {
   "cell_type": "code",
   "execution_count": 3,
   "metadata": {},
   "outputs": [
    {
     "name": "stderr",
     "output_type": "stream",
     "text": [
      "d:\\LANGGRAPH\\myvenv\\Lib\\site-packages\\tqdm\\auto.py:21: TqdmWarning: IProgress not found. Please update jupyter and ipywidgets. See https://ipywidgets.readthedocs.io/en/stable/user_install.html\n",
      "  from .autonotebook import tqdm as notebook_tqdm\n"
     ]
    }
   ],
   "source": [
    "from langchain_huggingface import HuggingFaceEmbeddings\n",
    "from langchain_google_genai import ChatGoogleGenerativeAI\n",
    "from langchain_groq import ChatGroq\n",
    "from langchain_google_genai import GoogleGenerativeAIEmbeddings\n",
    "from langchain_text_splitters import RecursiveCharacterTextSplitter\n",
    "from langchain_community.vectorstores import FAISS\n",
    "from langchain_core.prompts import ChatPromptTemplate\n",
    "from langchain_core.output_parsers import StrOutputParser\n",
    "from langchain.chains.combine_documents import create_stuff_documents_chain\n",
    "from langchain.tools.retriever import create_retriever_tool\n",
    "from pydantic import BaseModel,Field\n",
    "from typing import Annotated,TypedDict,Sequence\n",
    "from IPython.display import display,Image\n",
    "from langgraph.graph import StateGraph,END,START,add_messages\n",
    "from langgraph.prebuilt import ToolNode,tools_condition\n",
    "from langchain_community.document_loaders import PyPDFLoader\n",
    "from langchain_core.messages import BaseMessage\n",
    "import operator\n",
    "from langchain import PromptTemplate\n",
    "from langchain_core.messages import HumanMessage"
   ]
  },
  {
   "cell_type": "code",
   "execution_count": 4,
   "metadata": {},
   "outputs": [],
   "source": [
    "embedding=HuggingFaceEmbeddings(model_name=\"all-MiniLM-L6-v2\")"
   ]
  },
  {
   "cell_type": "code",
   "execution_count": 5,
   "metadata": {},
   "outputs": [],
   "source": [
    "llm=ChatGroq(model=\"gemma2-9b-it\")"
   ]
  },
  {
   "cell_type": "code",
   "execution_count": 6,
   "metadata": {},
   "outputs": [
    {
     "data": {
      "text/plain": [
       "AIMessage(content=\"## Gen AI: Generating the Future with Artificial Intelligence\\n\\nGen AI, short for **Generative Artificial Intelligence**, is a fascinating branch of AI focused on creating new content. \\n\\n**Think of it like this:** instead of simply analyzing existing data, Gen AI learns the patterns and structures within that data and uses that knowledge to generate entirely new outputs. \\n\\n**Here's a breakdown:**\\n\\n**What it does:**\\n\\n* **Creates text:** Write stories, poems, articles, dialogue, and even code.\\n* **Generates images:** Produce realistic photographs, artwork, illustrations, and even 3D models.\\n* **Composes music:**\\n\\nWrite original melodies, harmonies, and entire musical pieces.\\n* **Designs:**\\n\\nCraft new product designs, website layouts, and architectural plans.\\n\\n**How it works:**\\n\\nGen AI models, often based on **deep learning**, are trained on massive datasets of existing content. They learn the underlying rules and relationships within that data, allowing them to generate similar but original content.\\n\\n**Popular examples:**\\n\\n* **ChatGPT (text):** Writes creative content, answers questions, and engages in conversations.\\n* **DALL-E 2 (images):** Creates stunning images from text descriptions.\\n* **Midjourney (images):** Generates artistic and imaginative visuals.\\n* **Jukebox (music):** Composes music in various styles and genres.\\n\\n**The impact:**\\n\\nGen AI is revolutionizing many industries:\\n\\n* **Creativity:** Empowering artists, writers, and musicians to explore new creative possibilities.\\n* **Productivity:** Automating content creation tasks, saving time and resources.\\n* **Innovation:** Driving innovation by enabling the generation of novel ideas and solutions.\\n\\n**Ethical considerations:**\\n\\n* **Bias:** Gen AI models can inherit biases present in the training data, leading to unfair or discriminatory outputs.\\n* **Misinformation:**\\n\\nThe ability to generate realistic content raises concerns about the spread of fake news and deepfakes.\\n* **Copyright:**\\n\\nQuestions arise about ownership and intellectual property rights for AI-generated content.\\n\\n\\nGen AI is a powerful technology with the potential to transform our world. Understanding its capabilities and limitations is crucial for harnessing its benefits responsibly.\\n\", additional_kwargs={}, response_metadata={'token_usage': {'completion_tokens': 462, 'prompt_tokens': 13, 'total_tokens': 475, 'completion_time': 0.84, 'prompt_time': 7.677e-05, 'queue_time': 0.023173495, 'total_time': 0.84007677}, 'model_name': 'gemma2-9b-it', 'system_fingerprint': 'fp_10c08bf97d', 'finish_reason': 'stop', 'logprobs': None}, id='run-b309bc7f-511d-4049-8df0-065338592de2-0', usage_metadata={'input_tokens': 13, 'output_tokens': 462, 'total_tokens': 475})"
      ]
     },
     "execution_count": 6,
     "metadata": {},
     "output_type": "execute_result"
    }
   ],
   "source": [
    "llm.invoke(\"what is gen ai\")"
   ]
  },
  {
   "cell_type": "code",
   "execution_count": 7,
   "metadata": {},
   "outputs": [
    {
     "data": {
      "text/plain": [
       "AIMessage(content='##  Gen AI: The Creative Powerhouse\\n\\nGen AI, short for **Generative Artificial Intelligence**, is a type of AI that focuses on **creating new content**. \\n\\nThink of it like this: instead of simply analyzing existing data, Gen AI learns the patterns and structures within that data and uses that knowledge to **generate something entirely new**.\\n\\n**What can Gen AI create?**\\n\\nThe possibilities are vast and constantly expanding:\\n\\n* **Text:** Stories, poems, articles, code, scripts, dialogue\\n* **Images:** Photos, paintings, illustrations, 3D models\\n* **Audio:** Music, sound effects, voiceovers\\n* **Video:** Short clips, animations\\n* **Other:**\\n\\nSynthetic data, game levels, marketing copy\\n\\n**How does Gen AI work?**\\n\\nGen AI models are typically trained on massive datasets of existing content. Through a process called **machine learning**, they learn to identify patterns and relationships within that data. This allows them to generate new content that adheres to those patterns while still being original.\\n\\n**Popular Gen AI Models:**\\n\\n* **GPT-3 (text):** Used in chatbots, writing assistance, and code generation.\\n* **DALL-E 2 (images):** Creates realistic and imaginative images from text descriptions.\\n* **Midjourney (images):** Generates artistic and surreal images based on prompts.\\n* **Stable Diffusion (images):** An open-source model for creating high-quality images.\\n\\n**The Impact of Gen AI:**\\n\\nGen AI is already transforming many industries, from creative fields like writing and art to technical fields like software development. \\n\\nIt has the potential to:\\n\\n* **Automate creative tasks:** Freeing up human creators to focus on more strategic and innovative work.\\n* **Personalize content:** Creating unique experiences tailored to individual users.\\n* **Democratize creativity:** Making it easier for anyone to create high-quality content.\\n\\n**Ethical Considerations:**\\n\\nThe rise of Gen AI also raises ethical concerns, such as:\\n\\n* **Bias and fairness:** Gen AI models can inherit and amplify biases present in the data they are trained on.\\n* **Misinformation and deepfakes:** Gen AI can be used to create convincing but fake content, which can be used for malicious purposes.\\n* **Copyright and ownership:** The legal status of content created by Gen AI is still unclear.\\n\\n**The Future of Gen AI:**\\n\\nGen AI is a rapidly evolving field with enormous potential. \\n\\nAs the technology continues to develop, we can expect to see even more innovative applications and even more profound impacts on our lives.\\n', additional_kwargs={}, response_metadata={'token_usage': {'completion_tokens': 543, 'prompt_tokens': 13, 'total_tokens': 556, 'completion_time': 0.987272727, 'prompt_time': 7.674e-05, 'queue_time': 0.019687098, 'total_time': 0.987349467}, 'model_name': 'gemma2-9b-it', 'system_fingerprint': 'fp_10c08bf97d', 'finish_reason': 'stop', 'logprobs': None}, id='run-44767a16-0ec5-4167-9bd8-b11fc7a6e28a-0', usage_metadata={'input_tokens': 13, 'output_tokens': 543, 'total_tokens': 556})"
      ]
     },
     "execution_count": 7,
     "metadata": {},
     "output_type": "execute_result"
    }
   ],
   "source": [
    "llm.invoke(\"what is gen ai\")"
   ]
  },
  {
   "cell_type": "code",
   "execution_count": 8,
   "metadata": {},
   "outputs": [
    {
     "data": {
      "text/plain": [
       "[Document(metadata={'source': 'sample.txt'}, page_content='The definition of Deep learning is that it is the branch of machine learning that is based on artificial neural network architecture. An artificial neural network or ANN uses layers of interconnected nodes called neurons that work together to process and learn from the input data.\\n\\nIn a fully connected Deep neural network, there is an input layer and one or more hidden layers connected one after the other. Each neuron receives input from the previous layer neurons or the input layer. The output of one neuron becomes the input to other neurons in the next layer of the network, and this process continues until the final layer produces the output of the network. The layers of the neural network transform the input data through a series of nonlinear transformations, allowing the network to learn complex representations of the input data.\\n\\nDeep Learning - Geeksforgeeks\\nScope of Deep Learning\\n\\nToday Deep learning AI has become one of the most popular and visible areas of machine learning, due to its success in a variety of applications, such as computer vision, natural language processing, and Reinforcement learning.\\n\\nDeep learning AI can be used for supervised, unsupervised as well as reinforcement machine learning. it uses a variety of ways to process these.\\n\\nSupervised Machine Learning: Supervised machine learning is the machine learning technique in which the neural network learns to make predictions or classify data based on the labeled datasets. Here we input both input features along with the target variables. the neural network learns to make predictions based on the cost or error that comes from the difference between the predicted and the actual target, this process is known as backpropagation.  Deep learning algorithms like Convolutional neural networks, Recurrent neural networks are used for many supervised tasks like image classifications and recognization, sentiment analysis, language translations, etc.\\nUnsupervised Machine Learning: Unsupervised machine learning is the machine learning technique in which the neural network learns to discover the patterns or to cluster the dataset based on unlabeled datasets. Here there are no target variables. while the machine has to self-determined the hidden patterns or relationships within the datasets. Deep learning algorithms like autoencoders and generative models are used for unsupervised tasks like clustering, dimensionality reduction, and anomaly detection.\\nReinforcement  Machine Learning: Reinforcement  Machine Learning is the machine learning technique in which an agent learns to make decisions in an environment to maximize a reward signal. The agent interacts with the environment by taking action and observing the resulting rewards. Deep learning can be used to learn policies, or a set of actions, that maximizes the cumulative reward over time. Deep reinforcement learning algorithms like Deep Q networks and Deep Deterministic Policy Gradient (DDPG) are used to reinforce tasks like robotics and game playing etc.\\nArtificial neural networks\\nArtificial neural networks are built on the principles of the structure and operation of human neurons. It is also known as neural networks or neural nets. An artificial neural networkâ€™s input layer, which is the first layer, receives input from external sources and passes it on to the hidden layer, which is the second layer. Each neuron in the hidden layer gets information from the neurons in the previous layer, computes the weighted total, and then transfers it to the neurons in the next layer. These connections are weighted, which means that the impacts of the inputs from the preceding layer are more or less optimized by giving each input a distinct weight. These weights are then adjusted during the training process to enhance the performance of the model.\\n\\nFully Connected Artificial Neural Network - Geeksforgeeks\\nFully Connected Artificial Neural Network\\n\\nArtificial neurons, also known as units, are found in artificial neural networks. The whole Artificial Neural Network is composed of these artificial neurons, which are arranged in a series of layers. The complexities of neural networks will depend on the complexities of the underlying patterns in the dataset whether a layer has a dozen units or millions of units.  Commonly, Artificial Neural Network has an input layer, an output layer as well as hidden layers. The input layer receives data from the outside world which the neural network needs to analyze or learn about.\\n\\nIn a fully connected artificial neural network, there is an input layer and one or more hidden layers connected one after the other. Each neuron receives input from the previous layer neurons or the input layer. The output of one neuron becomes the input to other neurons in the next layer of the network, and this process continues until the final layer produces the output of the network. Then, after passing through one or more hidden layers, this data is transformed into valuable data for the output layer. Finally, the output layer provides an output in the form of an artificial neural networkâ€™s response to the data that comes in. \\n\\nUnits are linked to one another from one layer to another in the bulk of neural networks. Each of these links has weights that control how much one unit influences another. The neural network learns more and more about the data as it moves from one unit to another, ultimately producing an output from the output layer. \\n\\nDifference between Machine Learning and Deep Learning :\\nmachine learning and deep learning AI both are subsets of artificial intelligence but there are many similarities and differences between them.\\n\\nMachine Learning\\n\\nDeep Learning\\n\\nApply statistical algorithms to learn the hidden patterns and relationships in the dataset.\\tUses artificial neural network architecture to learn the hidden patterns and relationships in the dataset.\\nCan work on the smaller amount of dataset\\tRequires the larger volume of dataset compared to machine learning\\nBetter for the low-label task.\\tBetter for complex task like image processing, natural language processing, etc.\\nTakes less time to train the model.\\tTakes more time to train the model.\\nA model is created by relevant features which are manually extracted from images to detect an object in the image.\\tRelevant features are automatically extracted from images. It is an end-to-end learning process.\\nLess complex and easy to interpret the result.\\tMore complex, it works like the black box interpretations of the result are not easy.\\nIt can work on the CPU or requires less computing power as compared to deep learning.\\tIt requires a high-performance computer with GPU.\\nTypes of neural networks\\nDeep Learning models are able to automatically learn features from the data, which makes them well-suited for tasks such as image recognition, speech recognition, and natural language processing. The most widely used architectures in deep learning are feedforward neural networks, convolutional neural networks (CNNs), and recurrent neural networks (RNNs).\\n\\nFeedforward neural networks (FNNs) are the simplest type of ANN, with a linear flow of information through the network. FNNs have been widely used for tasks such as image classification, speech recognition, and natural language processing.\\nConvolutional Neural Networks (CNNs) are specifically for image and video recognition tasks. CNNs are able to automatically learn features from the images, which makes them well-suited for tasks such as image classification, object detection, and image segmentation.\\nRecurrent Neural Networks (RNNs) are a type of neural network that is able to process sequential data, such as time series and natural language. RNNs are able to maintain an internal state that captures information about the previous inputs, which makes them well-suited for tasks such as speech recognition, natural language processing, and language translation.\\nDeep Learning Applications:\\nThe main applications of deep learning AI can be divided into computer vision, natural language processing (NLP), and reinforcement learning. \\n\\n1. Computer vision\\nThe first Deep Learning applications is Computer vision. In computer vision, Deep learning AI models can enable machines to identify and understand visual data. Some of the main applications of deep learning in computer vision include:\\n\\nObject detection and recognition: Deep learning model can be used to identify and locate objects within images and videos, making it possible for machines to perform tasks such as self-driving cars, surveillance, and robotics. \\nImage classification: Deep learning models can be used to classify images into categories such as animals, plants, and buildings. This is used in applications such as medical imaging, quality control, and image retrieval. \\nImage segmentation: Deep learning models can be used for image segmentation into different regions, making it possible to identify specific features within images.\\n2. Natural language processing (NLP): \\nIn Deep learning applications, second application is NLP. NLP, the  Deep learning model can enable machines to understand and generate human language. Some of the main applications of deep learning in NLP include: \\n\\nAutomatic Text Generation â€“ Deep learning model can learn the corpus of text and new text like summaries, essays can be automatically generated using these trained models.\\nLanguage translation: Deep learning models can translate text from one language to another, making it possible to communicate with people from different linguistic backgrounds. \\nSentiment analysis: Deep learning models can analyze the sentiment of a piece of text, making it possible to determine whether the text is positive, negative, or neutral. This is used in applications such as customer service, social media monitoring, and political analysis. \\nSpeech recognition: Deep learning models can recognize and transcribe spoken words, making it possible to perform tasks such as speech-to-text conversion, voice search, and voice-controlled devices. \\n3. Reinforcement learning: \\nIn reinforcement learning, deep learning works as training agents to take action in an environment to maximize a reward. Some of the main applications of deep learning in reinforcement learning include: \\n\\nGame playing: Deep reinforcement learning models have been able to beat human experts at games such as Go, Chess, and Atari. \\nRobotics: Deep reinforcement learning models can be used to train robots to perform complex tasks such as grasping objects, navigation, and manipulation. \\nControl systems: Deep reinforcement learning models can be used to control complex systems such as power grids, traffic management, and supply chain optimization. \\nChallenges in Deep Learning\\nDeep learning has made significant advancements in various fields, but there are still some challenges that need to be addressed. Here are some of the main challenges in deep learning:\\n\\nData availability: It requires large amounts of data to learn from. For using deep learning itâ€™s a big concern to gather as much data for training.\\nComputational Resources: For training the deep learning model, it is computationally expensive because it requires specialized hardware like GPUs and TPUs.\\nTime-consuming: While working on sequential data depending on the computational resource it can take very large even in days or months. \\nInterpretability: Deep learning models are complex, it works like a black box. it is very difficult to interpret the result.\\nOverfitting: when the model is trained again and again, it becomes too specialized for the training data, leading to overfitting and poor performance on new data.\\nAdvantages of Deep Learning:\\nHigh accuracy: Deep Learning algorithms can achieve state-of-the-art performance in various tasks, such as image recognition and natural language processing.\\nAutomated feature engineering: Deep Learning algorithms can automatically discover and learn relevant features from data without the need for manual feature engineering.\\nScalability: Deep Learning models can scale to handle large and complex datasets, and can learn from massive amounts of data.\\nFlexibility: Deep Learning models can be applied to a wide range of tasks and can handle various types of data, such as images, text, and speech.\\nContinual improvement: Deep Learning models can continually improve their performance as more data becomes available.\\nDisadvantages of Deep Learning:\\nHigh computational requirements: Deep Learning AI models require large amounts of data and computational resources to train and optimize.\\nRequires large amounts of labeled data: Deep Learning models often require a large amount of labeled data for training, which can be expensive and time- consuming to acquire.\\nInterpretability: Deep Learning models can be challenging to interpret, making it difficult to understand how they make decisions.\\nOverfitting: Deep Learning models can sometimes overfit to the training data, resulting in poor performance on new and unseen data.\\nBlack-box nature: Deep Learning models are often treated as black boxes, making it difficult to understand how they work and how they arrived at their predictions.\\nConclusion\\nIn conclusion, the field of Deep Learning represents a transformative leap in artificial intelligence. By mimicking the human brainâ€™s neural networks, Deep Learning AI algorithms have revolutionized industries ranging from healthcare to finance, from autonomous vehicles to natural language processing. As we continue to push the boundaries of computational power and dataset sizes, the potential applications of Deep Learning are limitless. However, challenges such as interpretability and ethical considerations remain significant. Yet, with ongoing research and innovation, Deep Learning promises to reshape our future, ushering in a new era where machines can learn, adapt, and solve complex problems at a scale and speed previously unimaginable.\\n\\n\\nGet IBM Certification and a 90% fee refund on completing 90% course in 90 days! Take the Three 90 Challenge today.\\n\\nMaster Machine Learning, Data Science & AI with this complete program and also get a 90% refund. What more motivation do you need? Start the challenge right away!\\n\\n\\n\\nComment\\n\\nMore info\\n\\nAdvertise with us\\nNext Article \\nWhat is Transfer Learning?\\nSimilar Reads\\nIntroduction to Multi-Task Learning(MTL) for Deep Learning\\nMulti-Task Learning (MTL) is a type of machine learning technique where a model is trained to perform multiple tasks simultaneously. In deep learning, MTL refers to training a neural network to perform multiple tasks by sharing some of the network\\'s layers and parameters across tasks. In MTL, the goal is to improve the generalization performance of\\n6 min read\\nDeep Belief Network (DBN) in Deep Learning\\nDiscover data creation with Deep Belief Networks (DBNs), cutting-edge generative models that make use of deep architecture. This article walks you through the concepts of DBNs, how they work, and how to implement them using practical coding. What is a Deep Belief Network?Deep Belief Networks (DBNs) are sophisticated artificial neural networks used\\n9 min read\\nDeep Boltzmann Machines (DBMs) in Deep Learning\\nIn this article, we will discuss the Deep Boltzmann Machines concepts and their applications in the real-world scenario. What are Deep Boltzmann Machines (DBMs)?Deep Boltzmann Machines (DBMs) are a kind of artificial neural network that belongs to the family of generative models. They are designed to discover intricate structures within large datas\\n10 min read\\nUnveiling the Power of Fastai: A Deep Dive into the Versatile Deep Learning Library\\nFastai is a powerful deep-learning library designed for researchers and practitioners. It offers high-level abstractions, PyTorch integration, and application-specific APIs, making it both adaptable and accessible for a wide range of deep learning tasks. In this article, we\\'ll delve into the intricacies of Fastai, a powerful deep-learning library.\\n9 min read\\nArtificial intelligence vs Machine Learning vs Deep Learning\\nNowadays many misconceptions are there related to the words machine learning, deep learning, and artificial intelligence (AI), most people think all these things are the same whenever they hear the word AI, they directly relate that word to machine learning or vice versa, well yes, these things are related to each other but not the same. Let\\'s see\\n4 min read\\nNeed of Data Structures and Algorithms for Deep Learning and Machine Learning\\nDeep Learning is a field that is heavily based on Mathematics and you need to have a good understanding of Data Structures and Algorithms to solve the mathematical problems optimally. Data Structures and Algorithms can be used to determine how a problem is represented internally or how the actual storage pattern works & what is happening under\\n6 min read\\nDifference Between Artificial Intelligence vs Machine Learning vs Deep Learning\\nArtificial Intelligence is basically the mechanism to incorporate human intelligence into machines through a set of rules(algorithm). AI is a combination of two words: \"Artificial\" meaning something made by humans or non-natural things and \"Intelligence\" meaning the ability to understand or think accordingly. Another definition could be that \"AI is\\n14 min read\\nDifference Between Machine Learning and Deep Learning\\nIf you are interested in building your career in the IT industry then you must have come across the term Data Science which is a booming field in terms of technologies and job availability as well. In this article, we will explore the Difference between Machine Learning and Deep Learning, two major fields within Data Science. Understanding these di\\n8 min read\\nAI vs. Machine Learning vs. Deep Learning vs. Neural Networks\\nArtificial Intelligence (AI), Machine Learning (ML), Deep Learning (DL), and Neural Networks (NN) are terms often used interchangeably. However, they represent different layers of complexity and specialization in the field of intelligent systems. This article will clarify the Difference between AI vs. machine learning vs. deep learning vs.\\n')]"
      ]
     },
     "execution_count": 8,
     "metadata": {},
     "output_type": "execute_result"
    }
   ],
   "source": [
    "from langchain_community.document_loaders import TextLoader\n",
    "loader=TextLoader('sample.txt')\n",
    "docs=loader.load()\n",
    "docs"
   ]
  },
  {
   "cell_type": "code",
   "execution_count": 9,
   "metadata": {},
   "outputs": [
    {
     "data": {
      "text/plain": [
       "[Document(metadata={'source': 'sample.txt'}, page_content='The definition of Deep learning is that it is the branch of machine learning that is based on artificial neural network architecture. An artificial neural network or ANN uses layers of interconnected nodes called neurons that work together to process and learn from the input data.\\n\\nIn a fully connected Deep neural network, there is an input layer and one or more hidden layers connected one after the other. Each neuron receives input from the previous layer neurons or the input layer. The output of one neuron becomes the input to other neurons in the next layer of the network, and this process continues until the final layer produces the output of the network. The layers of the neural network transform the input data through a series of nonlinear transformations, allowing the network to learn complex representations of the input data.\\n\\nDeep Learning - Geeksforgeeks\\nScope of Deep Learning\\n\\nToday Deep learning AI has become one of the most popular and visible areas of machine learning, due to its success in a variety of applications, such as computer vision, natural language processing, and Reinforcement learning.\\n\\nDeep learning AI can be used for supervised, unsupervised as well as reinforcement machine learning. it uses a variety of ways to process these.'),\n",
       " Document(metadata={'source': 'sample.txt'}, page_content='Supervised Machine Learning: Supervised machine learning is the machine learning technique in which the neural network learns to make predictions or classify data based on the labeled datasets. Here we input both input features along with the target variables. the neural network learns to make predictions based on the cost or error that comes from the difference between the predicted and the actual target, this process is known as backpropagation.  Deep learning algorithms like Convolutional neural networks, Recurrent neural networks are used for many supervised tasks like image classifications and recognization, sentiment analysis, language translations, etc.\\nUnsupervised Machine Learning: Unsupervised machine learning is the machine learning technique in which the neural network learns to discover the patterns or to cluster the dataset based on unlabeled datasets. Here there are no target variables. while the machine has to self-determined the hidden patterns or relationships within the datasets. Deep learning algorithms like autoencoders and generative models are used for unsupervised tasks like clustering, dimensionality reduction, and anomaly detection.'),\n",
       " Document(metadata={'source': 'sample.txt'}, page_content='Reinforcement  Machine Learning: Reinforcement  Machine Learning is the machine learning technique in which an agent learns to make decisions in an environment to maximize a reward signal. The agent interacts with the environment by taking action and observing the resulting rewards. Deep learning can be used to learn policies, or a set of actions, that maximizes the cumulative reward over time. Deep reinforcement learning algorithms like Deep Q networks and Deep Deterministic Policy Gradient (DDPG) are used to reinforce tasks like robotics and game playing etc.\\nArtificial neural networks\\nArtificial neural networks are built on the principles of the structure and operation of human neurons. It is also known as neural networks or neural nets. An artificial neural networkâ€™s input layer, which is the first layer, receives input from external sources and passes it on to the hidden layer, which is the second layer. Each neuron in the hidden layer gets information from the neurons in the previous layer, computes the weighted total, and then transfers it to the neurons in the next layer. These connections are weighted, which means that the impacts of the inputs from the preceding layer are more or less optimized by giving each input a distinct weight. These weights are then adjusted during the training process to enhance the performance of the model.'),\n",
       " Document(metadata={'source': 'sample.txt'}, page_content='Fully Connected Artificial Neural Network - Geeksforgeeks\\nFully Connected Artificial Neural Network\\n\\nArtificial neurons, also known as units, are found in artificial neural networks. The whole Artificial Neural Network is composed of these artificial neurons, which are arranged in a series of layers. The complexities of neural networks will depend on the complexities of the underlying patterns in the dataset whether a layer has a dozen units or millions of units.  Commonly, Artificial Neural Network has an input layer, an output layer as well as hidden layers. The input layer receives data from the outside world which the neural network needs to analyze or learn about.\\n\\nIn a fully connected artificial neural network, there is an input layer and one or more hidden layers connected one after the other. Each neuron receives input from the previous layer neurons or the input layer. The output of one neuron becomes the input to other neurons in the next layer of the network, and this process continues until the final layer produces the output of the network. Then, after passing through one or more hidden layers, this data is transformed into valuable data for the output layer. Finally, the output layer provides an output in the form of an artificial neural networkâ€™s response to the data that comes in.'),\n",
       " Document(metadata={'source': 'sample.txt'}, page_content='Units are linked to one another from one layer to another in the bulk of neural networks. Each of these links has weights that control how much one unit influences another. The neural network learns more and more about the data as it moves from one unit to another, ultimately producing an output from the output layer. \\n\\nDifference between Machine Learning and Deep Learning :\\nmachine learning and deep learning AI both are subsets of artificial intelligence but there are many similarities and differences between them.\\n\\nMachine Learning\\n\\nDeep Learning'),\n",
       " Document(metadata={'source': 'sample.txt'}, page_content='Machine Learning\\n\\nDeep Learning\\n\\nApply statistical algorithms to learn the hidden patterns and relationships in the dataset.\\tUses artificial neural network architecture to learn the hidden patterns and relationships in the dataset.\\nCan work on the smaller amount of dataset\\tRequires the larger volume of dataset compared to machine learning\\nBetter for the low-label task.\\tBetter for complex task like image processing, natural language processing, etc.\\nTakes less time to train the model.\\tTakes more time to train the model.\\nA model is created by relevant features which are manually extracted from images to detect an object in the image.\\tRelevant features are automatically extracted from images. It is an end-to-end learning process.\\nLess complex and easy to interpret the result.\\tMore complex, it works like the black box interpretations of the result are not easy.\\nIt can work on the CPU or requires less computing power as compared to deep learning.\\tIt requires a high-performance computer with GPU.\\nTypes of neural networks\\nDeep Learning models are able to automatically learn features from the data, which makes them well-suited for tasks such as image recognition, speech recognition, and natural language processing. The most widely used architectures in deep learning are feedforward neural networks, convolutional neural networks (CNNs), and recurrent neural networks (RNNs).'),\n",
       " Document(metadata={'source': 'sample.txt'}, page_content='Feedforward neural networks (FNNs) are the simplest type of ANN, with a linear flow of information through the network. FNNs have been widely used for tasks such as image classification, speech recognition, and natural language processing.\\nConvolutional Neural Networks (CNNs) are specifically for image and video recognition tasks. CNNs are able to automatically learn features from the images, which makes them well-suited for tasks such as image classification, object detection, and image segmentation.\\nRecurrent Neural Networks (RNNs) are a type of neural network that is able to process sequential data, such as time series and natural language. RNNs are able to maintain an internal state that captures information about the previous inputs, which makes them well-suited for tasks such as speech recognition, natural language processing, and language translation.\\nDeep Learning Applications:\\nThe main applications of deep learning AI can be divided into computer vision, natural language processing (NLP), and reinforcement learning. \\n\\n1. Computer vision\\nThe first Deep Learning applications is Computer vision. In computer vision, Deep learning AI models can enable machines to identify and understand visual data. Some of the main applications of deep learning in computer vision include:'),\n",
       " Document(metadata={'source': 'sample.txt'}, page_content='Object detection and recognition: Deep learning model can be used to identify and locate objects within images and videos, making it possible for machines to perform tasks such as self-driving cars, surveillance, and robotics. \\nImage classification: Deep learning models can be used to classify images into categories such as animals, plants, and buildings. This is used in applications such as medical imaging, quality control, and image retrieval. \\nImage segmentation: Deep learning models can be used for image segmentation into different regions, making it possible to identify specific features within images.\\n2. Natural language processing (NLP): \\nIn Deep learning applications, second application is NLP. NLP, the  Deep learning model can enable machines to understand and generate human language. Some of the main applications of deep learning in NLP include:'),\n",
       " Document(metadata={'source': 'sample.txt'}, page_content='Automatic Text Generation â€“ Deep learning model can learn the corpus of text and new text like summaries, essays can be automatically generated using these trained models.\\nLanguage translation: Deep learning models can translate text from one language to another, making it possible to communicate with people from different linguistic backgrounds. \\nSentiment analysis: Deep learning models can analyze the sentiment of a piece of text, making it possible to determine whether the text is positive, negative, or neutral. This is used in applications such as customer service, social media monitoring, and political analysis. \\nSpeech recognition: Deep learning models can recognize and transcribe spoken words, making it possible to perform tasks such as speech-to-text conversion, voice search, and voice-controlled devices. \\n3. Reinforcement learning: \\nIn reinforcement learning, deep learning works as training agents to take action in an environment to maximize a reward. Some of the main applications of deep learning in reinforcement learning include:'),\n",
       " Document(metadata={'source': 'sample.txt'}, page_content='Game playing: Deep reinforcement learning models have been able to beat human experts at games such as Go, Chess, and Atari. \\nRobotics: Deep reinforcement learning models can be used to train robots to perform complex tasks such as grasping objects, navigation, and manipulation. \\nControl systems: Deep reinforcement learning models can be used to control complex systems such as power grids, traffic management, and supply chain optimization. \\nChallenges in Deep Learning\\nDeep learning has made significant advancements in various fields, but there are still some challenges that need to be addressed. Here are some of the main challenges in deep learning:'),\n",
       " Document(metadata={'source': 'sample.txt'}, page_content='Data availability: It requires large amounts of data to learn from. For using deep learning itâ€™s a big concern to gather as much data for training.\\nComputational Resources: For training the deep learning model, it is computationally expensive because it requires specialized hardware like GPUs and TPUs.\\nTime-consuming: While working on sequential data depending on the computational resource it can take very large even in days or months. \\nInterpretability: Deep learning models are complex, it works like a black box. it is very difficult to interpret the result.\\nOverfitting: when the model is trained again and again, it becomes too specialized for the training data, leading to overfitting and poor performance on new data.\\nAdvantages of Deep Learning:\\nHigh accuracy: Deep Learning algorithms can achieve state-of-the-art performance in various tasks, such as image recognition and natural language processing.\\nAutomated feature engineering: Deep Learning algorithms can automatically discover and learn relevant features from data without the need for manual feature engineering.\\nScalability: Deep Learning models can scale to handle large and complex datasets, and can learn from massive amounts of data.\\nFlexibility: Deep Learning models can be applied to a wide range of tasks and can handle various types of data, such as images, text, and speech.\\nContinual improvement: Deep Learning models can continually improve their performance as more data becomes available.'),\n",
       " Document(metadata={'source': 'sample.txt'}, page_content='Disadvantages of Deep Learning:\\nHigh computational requirements: Deep Learning AI models require large amounts of data and computational resources to train and optimize.\\nRequires large amounts of labeled data: Deep Learning models often require a large amount of labeled data for training, which can be expensive and time- consuming to acquire.\\nInterpretability: Deep Learning models can be challenging to interpret, making it difficult to understand how they make decisions.\\nOverfitting: Deep Learning models can sometimes overfit to the training data, resulting in poor performance on new and unseen data.\\nBlack-box nature: Deep Learning models are often treated as black boxes, making it difficult to understand how they work and how they arrived at their predictions.\\nConclusion'),\n",
       " Document(metadata={'source': 'sample.txt'}, page_content='Conclusion\\nIn conclusion, the field of Deep Learning represents a transformative leap in artificial intelligence. By mimicking the human brainâ€™s neural networks, Deep Learning AI algorithms have revolutionized industries ranging from healthcare to finance, from autonomous vehicles to natural language processing. As we continue to push the boundaries of computational power and dataset sizes, the potential applications of Deep Learning are limitless. However, challenges such as interpretability and ethical considerations remain significant. Yet, with ongoing research and innovation, Deep Learning promises to reshape our future, ushering in a new era where machines can learn, adapt, and solve complex problems at a scale and speed previously unimaginable.'),\n",
       " Document(metadata={'source': 'sample.txt'}, page_content='Get IBM Certification and a 90% fee refund on completing 90% course in 90 days! Take the Three 90 Challenge today.\\n\\nMaster Machine Learning, Data Science & AI with this complete program and also get a 90% refund. What more motivation do you need? Start the challenge right away!\\n\\n\\n\\nComment\\n\\nMore info'),\n",
       " Document(metadata={'source': 'sample.txt'}, page_content=\"Advertise with us\\nNext Article \\nWhat is Transfer Learning?\\nSimilar Reads\\nIntroduction to Multi-Task Learning(MTL) for Deep Learning\\nMulti-Task Learning (MTL) is a type of machine learning technique where a model is trained to perform multiple tasks simultaneously. In deep learning, MTL refers to training a neural network to perform multiple tasks by sharing some of the network's layers and parameters across tasks. In MTL, the goal is to improve the generalization performance of\\n6 min read\\nDeep Belief Network (DBN) in Deep Learning\\nDiscover data creation with Deep Belief Networks (DBNs), cutting-edge generative models that make use of deep architecture. This article walks you through the concepts of DBNs, how they work, and how to implement them using practical coding. What is a Deep Belief Network?Deep Belief Networks (DBNs) are sophisticated artificial neural networks used\\n9 min read\\nDeep Boltzmann Machines (DBMs) in Deep Learning\\nIn this article, we will discuss the Deep Boltzmann Machines concepts and their applications in the real-world scenario. What are Deep Boltzmann Machines (DBMs)?Deep Boltzmann Machines (DBMs) are a kind of artificial neural network that belongs to the family of generative models. They are designed to discover intricate structures within large datas\\n10 min read\\nUnveiling the Power of Fastai: A Deep Dive into the Versatile Deep Learning Library\"),\n",
       " Document(metadata={'source': 'sample.txt'}, page_content=\"Fastai is a powerful deep-learning library designed for researchers and practitioners. It offers high-level abstractions, PyTorch integration, and application-specific APIs, making it both adaptable and accessible for a wide range of deep learning tasks. In this article, we'll delve into the intricacies of Fastai, a powerful deep-learning library.\\n9 min read\\nArtificial intelligence vs Machine Learning vs Deep Learning\\nNowadays many misconceptions are there related to the words machine learning, deep learning, and artificial intelligence (AI), most people think all these things are the same whenever they hear the word AI, they directly relate that word to machine learning or vice versa, well yes, these things are related to each other but not the same. Let's see\\n4 min read\\nNeed of Data Structures and Algorithms for Deep Learning and Machine Learning\\nDeep Learning is a field that is heavily based on Mathematics and you need to have a good understanding of Data Structures and Algorithms to solve the mathematical problems optimally. Data Structures and Algorithms can be used to determine how a problem is represented internally or how the actual storage pattern works & what is happening under\\n6 min read\\nDifference Between Artificial Intelligence vs Machine Learning vs Deep Learning\"),\n",
       " Document(metadata={'source': 'sample.txt'}, page_content='Artificial Intelligence is basically the mechanism to incorporate human intelligence into machines through a set of rules(algorithm). AI is a combination of two words: \"Artificial\" meaning something made by humans or non-natural things and \"Intelligence\" meaning the ability to understand or think accordingly. Another definition could be that \"AI is\\n14 min read\\nDifference Between Machine Learning and Deep Learning\\nIf you are interested in building your career in the IT industry then you must have come across the term Data Science which is a booming field in terms of technologies and job availability as well. In this article, we will explore the Difference between Machine Learning and Deep Learning, two major fields within Data Science. Understanding these di\\n8 min read\\nAI vs. Machine Learning vs. Deep Learning vs. Neural Networks\\nArtificial Intelligence (AI), Machine Learning (ML), Deep Learning (DL), and Neural Networks (NN) are terms often used interchangeably. However, they represent different layers of complexity and specialization in the field of intelligent systems. This article will clarify the Difference between AI vs. machine learning vs. deep learning vs.')]"
      ]
     },
     "execution_count": 9,
     "metadata": {},
     "output_type": "execute_result"
    }
   ],
   "source": [
    "document=RecursiveCharacterTextSplitter(chunk_size=1500,chunk_overlap=50).split_documents(docs)\n",
    "document"
   ]
  },
  {
   "cell_type": "code",
   "execution_count": 10,
   "metadata": {},
   "outputs": [],
   "source": [
    "vectordb=FAISS.from_documents(document,embedding)"
   ]
  },
  {
   "cell_type": "code",
   "execution_count": 11,
   "metadata": {},
   "outputs": [],
   "source": [
    "db=vectordb.as_retriever()"
   ]
  },
  {
   "cell_type": "code",
   "execution_count": 12,
   "metadata": {},
   "outputs": [],
   "source": [
    "retriever=create_retriever_tool(db,\"database retriever\",\"retrieving data from the document\")"
   ]
  },
  {
   "cell_type": "code",
   "execution_count": 13,
   "metadata": {},
   "outputs": [
    {
     "data": {
      "text/plain": [
       "'database retriever'"
      ]
     },
     "execution_count": 13,
     "metadata": {},
     "output_type": "execute_result"
    }
   ],
   "source": [
    "retriever.name"
   ]
  },
  {
   "cell_type": "code",
   "execution_count": 14,
   "metadata": {},
   "outputs": [],
   "source": [
    "tools=[retriever]"
   ]
  },
  {
   "cell_type": "code",
   "execution_count": 15,
   "metadata": {},
   "outputs": [
    {
     "data": {
      "text/plain": [
       "'The definition of Deep learning is that it is the branch of machine learning that is based on artificial neural network architecture. An artificial neural network or ANN uses layers of interconnected nodes called neurons that work together to process and learn from the input data.\\n\\nIn a fully connected Deep neural network, there is an input layer and one or more hidden layers connected one after the other. Each neuron receives input from the previous layer neurons or the input layer. The output of one neuron becomes the input to other neurons in the next layer of the network, and this process continues until the final layer produces the output of the network. The layers of the neural network transform the input data through a series of nonlinear transformations, allowing the network to learn complex representations of the input data.\\n\\nDeep Learning - Geeksforgeeks\\nScope of Deep Learning\\n\\nToday Deep learning AI has become one of the most popular and visible areas of machine learning, due to its success in a variety of applications, such as computer vision, natural language processing, and Reinforcement learning.\\n\\nDeep learning AI can be used for supervised, unsupervised as well as reinforcement machine learning. it uses a variety of ways to process these.\\n\\nMachine Learning\\n\\nDeep Learning\\n\\nApply statistical algorithms to learn the hidden patterns and relationships in the dataset.\\tUses artificial neural network architecture to learn the hidden patterns and relationships in the dataset.\\nCan work on the smaller amount of dataset\\tRequires the larger volume of dataset compared to machine learning\\nBetter for the low-label task.\\tBetter for complex task like image processing, natural language processing, etc.\\nTakes less time to train the model.\\tTakes more time to train the model.\\nA model is created by relevant features which are manually extracted from images to detect an object in the image.\\tRelevant features are automatically extracted from images. It is an end-to-end learning process.\\nLess complex and easy to interpret the result.\\tMore complex, it works like the black box interpretations of the result are not easy.\\nIt can work on the CPU or requires less computing power as compared to deep learning.\\tIt requires a high-performance computer with GPU.\\nTypes of neural networks\\nDeep Learning models are able to automatically learn features from the data, which makes them well-suited for tasks such as image recognition, speech recognition, and natural language processing. The most widely used architectures in deep learning are feedforward neural networks, convolutional neural networks (CNNs), and recurrent neural networks (RNNs).\\n\\nData availability: It requires large amounts of data to learn from. For using deep learning itâ€™s a big concern to gather as much data for training.\\nComputational Resources: For training the deep learning model, it is computationally expensive because it requires specialized hardware like GPUs and TPUs.\\nTime-consuming: While working on sequential data depending on the computational resource it can take very large even in days or months. \\nInterpretability: Deep learning models are complex, it works like a black box. it is very difficult to interpret the result.\\nOverfitting: when the model is trained again and again, it becomes too specialized for the training data, leading to overfitting and poor performance on new data.\\nAdvantages of Deep Learning:\\nHigh accuracy: Deep Learning algorithms can achieve state-of-the-art performance in various tasks, such as image recognition and natural language processing.\\nAutomated feature engineering: Deep Learning algorithms can automatically discover and learn relevant features from data without the need for manual feature engineering.\\nScalability: Deep Learning models can scale to handle large and complex datasets, and can learn from massive amounts of data.\\nFlexibility: Deep Learning models can be applied to a wide range of tasks and can handle various types of data, such as images, text, and speech.\\nContinual improvement: Deep Learning models can continually improve their performance as more data becomes available.\\n\\nFeedforward neural networks (FNNs) are the simplest type of ANN, with a linear flow of information through the network. FNNs have been widely used for tasks such as image classification, speech recognition, and natural language processing.\\nConvolutional Neural Networks (CNNs) are specifically for image and video recognition tasks. CNNs are able to automatically learn features from the images, which makes them well-suited for tasks such as image classification, object detection, and image segmentation.\\nRecurrent Neural Networks (RNNs) are a type of neural network that is able to process sequential data, such as time series and natural language. RNNs are able to maintain an internal state that captures information about the previous inputs, which makes them well-suited for tasks such as speech recognition, natural language processing, and language translation.\\nDeep Learning Applications:\\nThe main applications of deep learning AI can be divided into computer vision, natural language processing (NLP), and reinforcement learning. \\n\\n1. Computer vision\\nThe first Deep Learning applications is Computer vision. In computer vision, Deep learning AI models can enable machines to identify and understand visual data. Some of the main applications of deep learning in computer vision include:'"
      ]
     },
     "execution_count": 15,
     "metadata": {},
     "output_type": "execute_result"
    }
   ],
   "source": [
    "tools[0].invoke(\"what is deep learning\")"
   ]
  },
  {
   "cell_type": "code",
   "execution_count": 16,
   "metadata": {},
   "outputs": [],
   "source": [
    "tool_node=ToolNode(tools=tools)"
   ]
  },
  {
   "cell_type": "code",
   "execution_count": 17,
   "metadata": {},
   "outputs": [],
   "source": [
    "with_bind_tools=llm.bind_tools(tools=tools)"
   ]
  },
  {
   "cell_type": "markdown",
   "metadata": {},
   "source": [
    "messages have the type \"list\".\n",
    "\n",
    "The add_messages function appends messages to the list, rather than overwriting them"
   ]
  },
  {
   "cell_type": "code",
   "execution_count": 18,
   "metadata": {},
   "outputs": [],
   "source": [
    "class AgentState(TypedDict):\n",
    "    messages:Annotated[Sequence[BaseMessage],add_messages]"
   ]
  },
  {
   "cell_type": "code",
   "execution_count": 19,
   "metadata": {},
   "outputs": [],
   "source": [
    "class Check(BaseModel):\n",
    "    binary_score:str=Field(description=\"check the document whether it is relevant to question and give binary score 'yes' or 'no'\")"
   ]
  },
  {
   "cell_type": "code",
   "execution_count": 20,
   "metadata": {},
   "outputs": [],
   "source": [
    "def ai_assisstance(state:AgentState):\n",
    "\n",
    "    print(\"==> enter into the ai_assisstance <==\")\n",
    "    question=state[\"messages\"]\n",
    "    print(question)\n",
    "    response=with_bind_tools.invoke(question)\n",
    "    return {\"messages\":[response]}"
   ]
  },
  {
   "cell_type": "code",
   "execution_count": 21,
   "metadata": {},
   "outputs": [],
   "source": [
    "def grade_decider(state:AgentState):\n",
    "\n",
    "    print(\"==> GRADE DECIDE <==\")\n",
    "    \n",
    "    with_structured=llm.with_structured_output(Check)\n",
    "\n",
    "    template=\"\"\"\n",
    "           As you are an query checker check whether the given dcoument is related tothe given question.\n",
    "           here is the document: {document}\n",
    "           here is the question : {question}\n",
    "           and finally give the  binary score 'yes'  only if the document is relevant to the question\n",
    "           otherwise you answer will be 'no'   \n",
    "    \"\"\"\n",
    "\n",
    "    prompt=PromptTemplate(input_variables=['document','question'],\n",
    "                          template=template)\n",
    "    \n",
    "    messages=state[\"messages\"]\n",
    "    #print(\"messages\",messages)\n",
    "\n",
    "    question=messages[0].content\n",
    "\n",
    "    #print(\"the question\",question)\n",
    "\n",
    "    last_message=messages[-1].content\n",
    "\n",
    "    docs=last_message\n",
    "\n",
    "    #print(\"the last message is\",docs)\n",
    "\n",
    "    chain=prompt|with_structured\n",
    "    score_result=chain.invoke({\"document\":docs,\"question\":question})\n",
    "    score=score_result.binary_score\n",
    "\n",
    "    print(f\"score is {score}\")\n",
    "\n",
    "    if score=='yes':\n",
    "        print(\"RELEVANT DOCUMNET\")\n",
    "        return \"generator\"\n",
    "    else:\n",
    "        return \"rewrite query\""
   ]
  },
  {
   "cell_type": "code",
   "execution_count": 22,
   "metadata": {},
   "outputs": [],
   "source": [
    "def generate(state:AgentState):\n",
    "\n",
    "    print(\"==> GENERATING ANSWER< ===\")\n",
    "    messages=state[\"messages\"]\n",
    "\n",
    "    question=messages[0].content\n",
    "\n",
    "    print(\"the question\",question)\n",
    "    last_message=messages[-1].content\n",
    "\n",
    "    docs=last_message\n",
    "    print(\"documnets are\",docs)\n",
    "    template=\"\"\"\n",
    "        As you an AI expert answer the following question based on the given content:{context}\n",
    "\n",
    "        {question}\n",
    "    \"\"\"\n",
    "\n",
    "    prompt=PromptTemplate(input_variables=['context','question'],template=template)\n",
    "\n",
    "    chain=prompt|llm\n",
    "\n",
    "    response=chain.invoke({\"context\":docs,\"question\":question})\n",
    "    return {\"messages\":[response]}\n"
   ]
  },
  {
   "cell_type": "code",
   "execution_count": 23,
   "metadata": {},
   "outputs": [],
   "source": [
    "def rewrite(state:AgentState):\n",
    "    \n",
    "    print(\"==>question rewritting<==\")\n",
    "\n",
    "    messages=state[\"messages\"]\n",
    "    question=messages[0].content\n",
    "\n",
    "    print(f\" question are rewritting {question}\")\n",
    "\n",
    "    message=[HumanMessage(content=f\"\"\"\n",
    "        as you are an question rewritter read the question clearly and rewrite the better way\n",
    "        here is the question: {question}\n",
    "        formulate into improved question\n",
    "    \"\"\")]\n",
    "\n",
    "    better_question=llm.invoke(message)\n",
    "    return {\"messages\":better_question}\n"
   ]
  },
  {
   "cell_type": "code",
   "execution_count": 24,
   "metadata": {},
   "outputs": [],
   "source": [
    "graph=StateGraph(AgentState)"
   ]
  },
  {
   "cell_type": "code",
   "execution_count": 25,
   "metadata": {},
   "outputs": [
    {
     "data": {
      "text/plain": [
       "<langgraph.graph.state.StateGraph at 0x1829a892690>"
      ]
     },
     "execution_count": 25,
     "metadata": {},
     "output_type": "execute_result"
    }
   ],
   "source": [
    "graph.add_node(\"agent\",ai_assisstance)\n",
    "graph.add_node(\"tools\",tool_node)\n",
    "graph.add_node(\"generating\",generate)\n",
    "graph.add_node(\"rewritting\",rewrite)"
   ]
  },
  {
   "cell_type": "code",
   "execution_count": 26,
   "metadata": {},
   "outputs": [
    {
     "data": {
      "text/plain": [
       "<langgraph.graph.state.StateGraph at 0x1829a892690>"
      ]
     },
     "execution_count": 26,
     "metadata": {},
     "output_type": "execute_result"
    }
   ],
   "source": [
    "graph.add_conditional_edges(\"agent\",tools_condition,\n",
    "                            {\n",
    "                                \"tools\":\"tools\",\n",
    "                                END:END\n",
    "                            })"
   ]
  },
  {
   "cell_type": "code",
   "execution_count": 27,
   "metadata": {},
   "outputs": [
    {
     "data": {
      "text/plain": [
       "<langgraph.graph.state.StateGraph at 0x1829a892690>"
      ]
     },
     "execution_count": 27,
     "metadata": {},
     "output_type": "execute_result"
    }
   ],
   "source": [
    "graph.add_conditional_edges(\"tools\",\n",
    "                            grade_decider,\n",
    "                            {\n",
    "                                \"generator\":\"generating\",\n",
    "                                \"rewrite query\":\"rewritting\"\n",
    "                                \n",
    "                            })"
   ]
  },
  {
   "cell_type": "code",
   "execution_count": 28,
   "metadata": {},
   "outputs": [
    {
     "data": {
      "text/plain": [
       "<langgraph.graph.state.StateGraph at 0x1829a892690>"
      ]
     },
     "execution_count": 28,
     "metadata": {},
     "output_type": "execute_result"
    }
   ],
   "source": [
    "graph.add_edge(START,\"agent\")\n",
    "graph.add_edge(\"generating\",END)"
   ]
  },
  {
   "cell_type": "code",
   "execution_count": 29,
   "metadata": {},
   "outputs": [
    {
     "data": {
      "text/plain": [
       "<langgraph.graph.state.StateGraph at 0x1829a892690>"
      ]
     },
     "execution_count": 29,
     "metadata": {},
     "output_type": "execute_result"
    }
   ],
   "source": [
    "graph.add_edge(\"rewritting\",\"agent\")"
   ]
  },
  {
   "cell_type": "code",
   "execution_count": 30,
   "metadata": {},
   "outputs": [],
   "source": [
    "app=graph.compile()"
   ]
  },
  {
   "cell_type": "code",
   "execution_count": 31,
   "metadata": {},
   "outputs": [
    {
     "data": {
      "image/png": "[encoded data removed]",
      "text/plain": [
       "<IPython.core.display.Image object>"
      ]
     },
     "metadata": {},
     "output_type": "display_data"
    }
   ],
   "source": [
    "try:\n",
    "    display(Image(app.get_graph().draw_mermaid_png()))\n",
    "except Exception as e:\n",
    "    print(e)"
   ]
  },
  {
   "cell_type": "code",
   "execution_count": 32,
   "metadata": {},
   "outputs": [
    {
     "name": "stdout",
     "output_type": "stream",
     "text": [
      "==> enter into the ai_assisstance <==\n",
      "[HumanMessage(content='who is president of india', additional_kwargs={}, response_metadata={}, id='2b2f052b-ed63-47ea-abdf-5cf1132e4640')]\n",
      "==> GRADE DECIDE <==\n",
      "score is no\n",
      "==>question rewritting<==\n",
      " question are rewritting who is president of india\n",
      "==> enter into the ai_assisstance <==\n",
      "[HumanMessage(content='who is president of india', additional_kwargs={}, response_metadata={}, id='2b2f052b-ed63-47ea-abdf-5cf1132e4640'), AIMessage(content='', additional_kwargs={'tool_calls': [{'id': 'call_q1ty', 'function': {'arguments': '{\"query\":\"who is the president of india\"}', 'name': 'database retriever'}, 'type': 'function'}]}, response_metadata={'token_usage': {'completion_tokens': 85, 'prompt_tokens': 956, 'total_tokens': 1041, 'completion_time': 0.154545455, 'prompt_time': 0.030845967, 'queue_time': 0.023949348, 'total_time': 0.185391422}, 'model_name': 'gemma2-9b-it', 'system_fingerprint': 'fp_10c08bf97d', 'finish_reason': 'tool_calls', 'logprobs': None}, id='run-114b81b0-6b3a-407d-bd73-bd8a1b1ebb70-0', tool_calls=[{'name': 'database retriever', 'args': {'query': 'who is the president of india'}, 'id': 'call_q1ty', 'type': 'tool_call'}], usage_metadata={'input_tokens': 956, 'output_tokens': 85, 'total_tokens': 1041}), ToolMessage(content='Automatic Text Generation â€“ Deep learning model can learn the corpus of text and new text like summaries, essays can be automatically generated using these trained models.\\nLanguage translation: Deep learning models can translate text from one language to another, making it possible to communicate with people from different linguistic backgrounds. \\nSentiment analysis: Deep learning models can analyze the sentiment of a piece of text, making it possible to determine whether the text is positive, negative, or neutral. This is used in applications such as customer service, social media monitoring, and political analysis. \\nSpeech recognition: Deep learning models can recognize and transcribe spoken words, making it possible to perform tasks such as speech-to-text conversion, voice search, and voice-controlled devices. \\n3. Reinforcement learning: \\nIn reinforcement learning, deep learning works as training agents to take action in an environment to maximize a reward. Some of the main applications of deep learning in reinforcement learning include:\\n\\nMachine Learning\\n\\nDeep Learning\\n\\nApply statistical algorithms to learn the hidden patterns and relationships in the dataset.\\tUses artificial neural network architecture to learn the hidden patterns and relationships in the dataset.\\nCan work on the smaller amount of dataset\\tRequires the larger volume of dataset compared to machine learning\\nBetter for the low-label task.\\tBetter for complex task like image processing, natural language processing, etc.\\nTakes less time to train the model.\\tTakes more time to train the model.\\nA model is created by relevant features which are manually extracted from images to detect an object in the image.\\tRelevant features are automatically extracted from images. It is an end-to-end learning process.\\nLess complex and easy to interpret the result.\\tMore complex, it works like the black box interpretations of the result are not easy.\\nIt can work on the CPU or requires less computing power as compared to deep learning.\\tIt requires a high-performance computer with GPU.\\nTypes of neural networks\\nDeep Learning models are able to automatically learn features from the data, which makes them well-suited for tasks such as image recognition, speech recognition, and natural language processing. The most widely used architectures in deep learning are feedforward neural networks, convolutional neural networks (CNNs), and recurrent neural networks (RNNs).\\n\\nReinforcement  Machine Learning: Reinforcement  Machine Learning is the machine learning technique in which an agent learns to make decisions in an environment to maximize a reward signal. The agent interacts with the environment by taking action and observing the resulting rewards. Deep learning can be used to learn policies, or a set of actions, that maximizes the cumulative reward over time. Deep reinforcement learning algorithms like Deep Q networks and Deep Deterministic Policy Gradient (DDPG) are used to reinforce tasks like robotics and game playing etc.\\nArtificial neural networks\\nArtificial neural networks are built on the principles of the structure and operation of human neurons. It is also known as neural networks or neural nets. An artificial neural networkâ€™s input layer, which is the first layer, receives input from external sources and passes it on to the hidden layer, which is the second layer. Each neuron in the hidden layer gets information from the neurons in the previous layer, computes the weighted total, and then transfers it to the neurons in the next layer. These connections are weighted, which means that the impacts of the inputs from the preceding layer are more or less optimized by giving each input a distinct weight. These weights are then adjusted during the training process to enhance the performance of the model.\\n\\nThe definition of Deep learning is that it is the branch of machine learning that is based on artificial neural network architecture. An artificial neural network or ANN uses layers of interconnected nodes called neurons that work together to process and learn from the input data.\\n\\nIn a fully connected Deep neural network, there is an input layer and one or more hidden layers connected one after the other. Each neuron receives input from the previous layer neurons or the input layer. The output of one neuron becomes the input to other neurons in the next layer of the network, and this process continues until the final layer produces the output of the network. The layers of the neural network transform the input data through a series of nonlinear transformations, allowing the network to learn complex representations of the input data.\\n\\nDeep Learning - Geeksforgeeks\\nScope of Deep Learning\\n\\nToday Deep learning AI has become one of the most popular and visible areas of machine learning, due to its success in a variety of applications, such as computer vision, natural language processing, and Reinforcement learning.\\n\\nDeep learning AI can be used for supervised, unsupervised as well as reinforcement machine learning. it uses a variety of ways to process these.', name='database retriever', id='e6a1d693-a4ce-4056-b004-52e3879f47d5', tool_call_id='call_q1ty'), AIMessage(content='Here are a few ways to rephrase \"Who is the president of India?\":\\n\\n**More formal:**\\n\\n*  What is the name of the current president of India?\\n*  Who holds the office of President of India?\\n\\n**More conversational:**\\n\\n*  Who\\'s the president of India right now? \\n\\n\\nThe best option depends on the context of your writing or conversation. \\n', additional_kwargs={}, response_metadata={'token_usage': {'completion_tokens': 85, 'prompt_tokens': 48, 'total_tokens': 133, 'completion_time': 0.154545455, 'prompt_time': 0.000546429, 'queue_time': 0.01966258, 'total_time': 0.155091884}, 'model_name': 'gemma2-9b-it', 'system_fingerprint': 'fp_10c08bf97d', 'finish_reason': 'stop', 'logprobs': None}, id='run-49edbd19-565a-466f-8824-d6292df9e6d2-0', usage_metadata={'input_tokens': 48, 'output_tokens': 85, 'total_tokens': 133})]\n"
     ]
    },
    {
     "data": {
      "text/plain": [
       "{'messages': [HumanMessage(content='who is president of india', additional_kwargs={}, response_metadata={}, id='2b2f052b-ed63-47ea-abdf-5cf1132e4640'),\n",
       "  AIMessage(content='', additional_kwargs={'tool_calls': [{'id': 'call_q1ty', 'function': {'arguments': '{\"query\":\"who is the president of india\"}', 'name': 'database retriever'}, 'type': 'function'}]}, response_metadata={'token_usage': {'completion_tokens': 85, 'prompt_tokens': 956, 'total_tokens': 1041, 'completion_time': 0.154545455, 'prompt_time': 0.030845967, 'queue_time': 0.023949348, 'total_time': 0.185391422}, 'model_name': 'gemma2-9b-it', 'system_fingerprint': 'fp_10c08bf97d', 'finish_reason': 'tool_calls', 'logprobs': None}, id='run-114b81b0-6b3a-407d-bd73-bd8a1b1ebb70-0', tool_calls=[{'name': 'database retriever', 'args': {'query': 'who is the president of india'}, 'id': 'call_q1ty', 'type': 'tool_call'}], usage_metadata={'input_tokens': 956, 'output_tokens': 85, 'total_tokens': 1041}),\n",
       "  ToolMessage(content='Automatic Text Generation â€“ Deep learning model can learn the corpus of text and new text like summaries, essays can be automatically generated using these trained models.\\nLanguage translation: Deep learning models can translate text from one language to another, making it possible to communicate with people from different linguistic backgrounds. \\nSentiment analysis: Deep learning models can analyze the sentiment of a piece of text, making it possible to determine whether the text is positive, negative, or neutral. This is used in applications such as customer service, social media monitoring, and political analysis. \\nSpeech recognition: Deep learning models can recognize and transcribe spoken words, making it possible to perform tasks such as speech-to-text conversion, voice search, and voice-controlled devices. \\n3. Reinforcement learning: \\nIn reinforcement learning, deep learning works as training agents to take action in an environment to maximize a reward. Some of the main applications of deep learning in reinforcement learning include:\\n\\nMachine Learning\\n\\nDeep Learning\\n\\nApply statistical algorithms to learn the hidden patterns and relationships in the dataset.\\tUses artificial neural network architecture to learn the hidden patterns and relationships in the dataset.\\nCan work on the smaller amount of dataset\\tRequires the larger volume of dataset compared to machine learning\\nBetter for the low-label task.\\tBetter for complex task like image processing, natural language processing, etc.\\nTakes less time to train the model.\\tTakes more time to train the model.\\nA model is created by relevant features which are manually extracted from images to detect an object in the image.\\tRelevant features are automatically extracted from images. It is an end-to-end learning process.\\nLess complex and easy to interpret the result.\\tMore complex, it works like the black box interpretations of the result are not easy.\\nIt can work on the CPU or requires less computing power as compared to deep learning.\\tIt requires a high-performance computer with GPU.\\nTypes of neural networks\\nDeep Learning models are able to automatically learn features from the data, which makes them well-suited for tasks such as image recognition, speech recognition, and natural language processing. The most widely used architectures in deep learning are feedforward neural networks, convolutional neural networks (CNNs), and recurrent neural networks (RNNs).\\n\\nReinforcement  Machine Learning: Reinforcement  Machine Learning is the machine learning technique in which an agent learns to make decisions in an environment to maximize a reward signal. The agent interacts with the environment by taking action and observing the resulting rewards. Deep learning can be used to learn policies, or a set of actions, that maximizes the cumulative reward over time. Deep reinforcement learning algorithms like Deep Q networks and Deep Deterministic Policy Gradient (DDPG) are used to reinforce tasks like robotics and game playing etc.\\nArtificial neural networks\\nArtificial neural networks are built on the principles of the structure and operation of human neurons. It is also known as neural networks or neural nets. An artificial neural networkâ€™s input layer, which is the first layer, receives input from external sources and passes it on to the hidden layer, which is the second layer. Each neuron in the hidden layer gets information from the neurons in the previous layer, computes the weighted total, and then transfers it to the neurons in the next layer. These connections are weighted, which means that the impacts of the inputs from the preceding layer are more or less optimized by giving each input a distinct weight. These weights are then adjusted during the training process to enhance the performance of the model.\\n\\nThe definition of Deep learning is that it is the branch of machine learning that is based on artificial neural network architecture. An artificial neural network or ANN uses layers of interconnected nodes called neurons that work together to process and learn from the input data.\\n\\nIn a fully connected Deep neural network, there is an input layer and one or more hidden layers connected one after the other. Each neuron receives input from the previous layer neurons or the input layer. The output of one neuron becomes the input to other neurons in the next layer of the network, and this process continues until the final layer produces the output of the network. The layers of the neural network transform the input data through a series of nonlinear transformations, allowing the network to learn complex representations of the input data.\\n\\nDeep Learning - Geeksforgeeks\\nScope of Deep Learning\\n\\nToday Deep learning AI has become one of the most popular and visible areas of machine learning, due to its success in a variety of applications, such as computer vision, natural language processing, and Reinforcement learning.\\n\\nDeep learning AI can be used for supervised, unsupervised as well as reinforcement machine learning. it uses a variety of ways to process these.', name='database retriever', id='e6a1d693-a4ce-4056-b004-52e3879f47d5', tool_call_id='call_q1ty'),\n",
       "  AIMessage(content='Here are a few ways to rephrase \"Who is the president of India?\":\\n\\n**More formal:**\\n\\n*  What is the name of the current president of India?\\n*  Who holds the office of President of India?\\n\\n**More conversational:**\\n\\n*  Who\\'s the president of India right now? \\n\\n\\nThe best option depends on the context of your writing or conversation. \\n', additional_kwargs={}, response_metadata={'token_usage': {'completion_tokens': 85, 'prompt_tokens': 48, 'total_tokens': 133, 'completion_time': 0.154545455, 'prompt_time': 0.000546429, 'queue_time': 0.01966258, 'total_time': 0.155091884}, 'model_name': 'gemma2-9b-it', 'system_fingerprint': 'fp_10c08bf97d', 'finish_reason': 'stop', 'logprobs': None}, id='run-49edbd19-565a-466f-8824-d6292df9e6d2-0', usage_metadata={'input_tokens': 48, 'output_tokens': 85, 'total_tokens': 133}),\n",
       "  AIMessage(content='', additional_kwargs={}, response_metadata={'token_usage': {'completion_tokens': 2, 'prompt_tokens': 2059, 'total_tokens': 2061, 'completion_time': 0.003636364, 'prompt_time': 0.085557417, 'queue_time': -9223372036.940334, 'total_time': 0.089193781}, 'model_name': 'gemma2-9b-it', 'system_fingerprint': 'fp_10c08bf97d', 'finish_reason': 'stop', 'logprobs': None}, id='run-c0ecb68f-056a-407a-b761-6a9d84d1ff18-0', usage_metadata={'input_tokens': 2059, 'output_tokens': 2, 'total_tokens': 2061})]}"
      ]
     },
     "execution_count": 32,
     "metadata": {},
     "output_type": "execute_result"
    }
   ],
   "source": [
    "app.invoke({\"messages\":[\"who is president of india\"]})"
   ]
  }
 ],
 "metadata": {
  "kernelspec": {
   "display_name": "myvenv",
   "language": "python",
   "name": "python3"
  },
  "language_info": {
   "codemirror_mode": {
    "name": "ipython",
    "version": 3
   },
   "file_extension": ".py",
   "mimetype": "text/x-python",
   "name": "python",
   "nbconvert_exporter": "python",
   "pygments_lexer": "ipython3",
   "version": "3.12.2"
  }
 },
 "nbformat": 4,
 "nbformat_minor": 2
}
