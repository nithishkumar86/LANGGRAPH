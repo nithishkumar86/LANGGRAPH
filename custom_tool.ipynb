{
 "cells": [
  {
   "cell_type": "markdown",
   "metadata": {},
   "source": [
    "#custom tools using langgraph"
   ]
  },
  {
   "cell_type": "code",
   "execution_count": 14,
   "metadata": {},
   "outputs": [],
   "source": [
    "from langchain_groq import ChatGroq\n",
    "from langgraph.graph import START,StateGraph,END\n",
    "from typing import Annotated\n",
    "from typing import TypedDict\n",
    "from IPython.display import display,Image\n",
    "from langgraph.graph.message import add_messages\n",
    "from langchain_community.tools.tavily_search import TavilySearchResults\n",
    "from langgraph.prebuilt import ToolNode,tools_condition\n",
    "from langchain_community.tools import tool"
   ]
  },
  {
   "cell_type": "code",
   "execution_count": 3,
   "metadata": {},
   "outputs": [
    {
     "data": {
      "text/plain": [
       "True"
      ]
     },
     "execution_count": 3,
     "metadata": {},
     "output_type": "execute_result"
    }
   ],
   "source": [
    "import os\n",
    "from dotenv import load_dotenv\n",
    "load_dotenv()"
   ]
  },
  {
   "cell_type": "code",
   "execution_count": 4,
   "metadata": {},
   "outputs": [],
   "source": [
    "os.environ[\"GROQ_API_KEY\"]=os.getenv(\"GROQ_API_KEY\")"
   ]
  },
  {
   "cell_type": "code",
   "execution_count": 5,
   "metadata": {},
   "outputs": [],
   "source": [
    "llm=ChatGroq(model=\"gemma2-9b-it\")"
   ]
  },
  {
   "cell_type": "code",
   "execution_count": 6,
   "metadata": {},
   "outputs": [
    {
     "data": {
      "text/plain": [
       "AIMessage(content=\"**Generative AI** (Gen AI) is a type of artificial intelligence that focuses on creating new content, rather than simply analyzing or classifying existing data. \\n\\nHere's a breakdown:\\n\\n**What it does:**\\n\\n* **Generates text:** Writes stories, poems, articles, code, dialogue, and more.\\n* **Creates images:**  Produces photographs, illustrations, artwork, and even 3D models.\\n* **Composes music:** Generates melodies, harmonies, and entire musical pieces in various styles.\\n* **Synthesizes audio:** Creates realistic speech, sound effects, and voiceovers.\\n* **Translates languages:**  Converts text from one language to another.\\n\\n**How it works:**\\n\\nGen AI models are typically trained on massive datasets of existing content. They learn the patterns and structures within this data, allowing them to generate new content that resembles the training material. \\n\\nPopular techniques used in Gen AI include:\\n\\n* **Generative Adversarial Networks (GANs):**  Two neural networks compete against each other, one generating content and the other evaluating its quality. This adversarial process leads to increasingly realistic outputs.\\n* **Transformer Networks:**  Especially powerful for text generation, transformers can understand context and relationships between words, enabling them to produce coherent and grammatically correct text.\\n\\n**Examples:**\\n\\n* **ChatGPT:** A text-based chatbot that can engage in natural-sounding conversations.\\n* **DALL-E 2:**  Generates images from textual descriptions.\\n* **Jukebox:**  Composes music in various styles.\\n* **GitHub Copilot:**  Assists developers by suggesting code snippets.\\n\\n**Applications:**\\n\\nGen AI has wide-ranging applications across various industries:\\n\\n* **Creative industries:** Writing, art, music, design.\\n* **Marketing and advertising:**  Creating personalized content, generating ad copy.\\n* **Education:**  Generating practice problems, providing personalized learning experiences.\\n* **Research:**  Accelerating scientific discovery by generating hypotheses and simulations.\\n* **Entertainment:**  Developing interactive stories, video games, and virtual worlds.\\n\\n**Ethical considerations:**\\n\\nThe power of Gen AI also raises ethical concerns, such as:\\n\\n* **Misinformation and deepfakes:**  The potential for creating realistic but fabricated content.\\n* **Bias and fairness:**  Models can inherit biases from the data they are trained on.\\n* **Copyright and intellectual property:**  Questions surrounding the ownership of AI-generated content.\\n\\nIt's crucial to develop and use Gen AI responsibly, addressing these ethical challenges while harnessing its potential for innovation and progress.\\n\", additional_kwargs={}, response_metadata={'token_usage': {'completion_tokens': 543, 'prompt_tokens': 13, 'total_tokens': 556, 'completion_time': 0.987272727, 'prompt_time': 7.0689e-05, 'queue_time': 0.018354229, 'total_time': 0.987343416}, 'model_name': 'gemma2-9b-it', 'system_fingerprint': 'fp_10c08bf97d', 'finish_reason': 'stop', 'logprobs': None}, id='run-521ccdee-7d97-40c8-b773-c5b029124f92-0', usage_metadata={'input_tokens': 13, 'output_tokens': 543, 'total_tokens': 556})"
      ]
     },
     "execution_count": 6,
     "metadata": {},
     "output_type": "execute_result"
    }
   ],
   "source": [
    "llm.invoke(\"what is gen ai\")"
   ]
  },
  {
   "cell_type": "code",
   "execution_count": 8,
   "metadata": {},
   "outputs": [],
   "source": [
    "os.environ[\"TAVILY_API_KEY\"]=os.getenv(\"TAVILY_API_KEY\")"
   ]
  },
  {
   "cell_type": "code",
   "execution_count": 10,
   "metadata": {},
   "outputs": [],
   "source": [
    "@tool\n",
    "def search(query:str):\n",
    "    \"\"\"perform web search\"\"\"\n",
    "    search=TavilySearchResults()\n",
    "    response=search.invoke(query)\n",
    "    return response"
   ]
  },
  {
   "cell_type": "code",
   "execution_count": 11,
   "metadata": {},
   "outputs": [
    {
     "data": {
      "text/plain": [
       "[{'url': 'https://www.zupee.com/blog/who-is-the-captain-of-indian-cricket-team/',\n",
       "  'content': 'Home » Games » Cricket » Captains of the Indian Cricket Team: Complete List of All-Time Leaders Find the list of Indian Captains of one-day cricket teams, test matches, and T20 series, in this article. Indian Cricket Team Captain: ODI Match Here is the list of all the Indian Women’s cricket team captains for the test series (2004-2023): Indian Cricket Team Captain: ODI Match Here is the list of all the Indian Women’s cricket team captains for the ODI matches (1976-2023): She was also the former Indian women’s test cricket team captain. Rohit Sharma is the current captain of the Indian men’s cricket team for the Test series, ODI, and T20I. Who was the first captain of the Indian cricket team post-independence?'},\n",
       " {'url': 'https://en.wikipedia.org/wiki/List_of_India_national_cricket_captains',\n",
       "  'content': \"Mithali Raj captained India in the first WT20I on 5 August 2006 against England at Derby.[16]\\nKrishnamachari Srikkanth was the captain for the first youth test for India U-19 team against Pakistan U-19 which began on 20 January 1979 at Wankhede Stadium in Bombay while Ravi Shastri captained India U-19 in the first youth ODI in 1981 against England U-19.[17][18]\\nHarmanpreet Kaur is current captain of the women's team and Rohit Sharma is current captain of men's team in all formats.\\n During the match the captain decides the team's batting order, who will bowl each over, and where each fielder will be positioned.[1][2]\\nCricket was introduced to the Indian subcontinent by the English in the 17th and 18th centuries.[3] Board of Control for Cricket in India (BCCI) is the national governing body of cricket in India.[4] The BCCI was established on 1 December 1928 at Madras and joined the Imperial Cricket Conference in 1926 which later became the International Cricket Council.[5][6] The captains of the national teams are appointed by BCCI and the India national cricket team selectors appointed by BCCI choose the other players for the national teams.\\n On 25 June 1932, India became the sixth nation to play test cricket and the men's cricket team was led by C. K. Nayudu against England at Lord's.[7] Nayudu led India in the first international cricket match held in India on 15 December 1933 when Gymkhana Ground in Bombay hosted the only match during England's tour of India.[8][9] As in other sports, the captain is usually experienced and has good communication skills and is likely to be one of the most regular members of the team, as the captain is responsible for the team selection.\"},\n",
       " {'url': 'https://olympics.com/en/news/india-cricket-team-t20-captain-list-men-women',\n",
       "  'content': \"Indian T20 captains in men’s cricket\\nHarmanpreet Kaur leads Indian women to milestones\\nHarmanpreet Kaur led the Indian women’s cricket team to the gold medal at the Asian Games 2023 on her 100th T20 international as a captain and is the most successful Indian skipper in women’s T20 cricket.\\n While Virat Kohli and Rohit Sharma’s stats as Indian T20 captains are impressive, MS Dhoni leads the way as the most successful Indian men’s cricket team captain in the T20 format.\\n Jasprit Bumrah is the only bowler to lead India in the T20 Internationals while Ruturaj Gaikwad is the first to lead the Indian team to an Asian Games gold medal at Hangzhou 2023.\\n All-rounder Hardik Pandya, who is touted as Rohit Sharma’s successor to lead the Indian men’s cricket team, is the fourth player to have captained India in more than 10 T20 Internationals after Dhoni, Kohli and Sharma.\\n Harmanpreet was also the captain of the Indian team that won silver at the Commonwealth Games 2022 in Birmingham and finished as runners-up in the ICC Women's T20 World Cup in 2020.\"},\n",
       " {'url': 'https://crickettimes.com/2024/02/bcci-secretary-jay-shah-names-india-captain-and-vice-captain-for-t20-world-cup-2024/',\n",
       "  'content': 'Also READ: ICC announces the schedule of T20 World Cup 2024; India vs Pakistan on June 9 Jay Shah discloses the names of Team India captain and vice-captain. Shah disclosed that Rohit Sharma will lead the Indian cricket team as captain for the prestigious tournament. Rohit, renowned for his exceptional leadership skills and remarkable batting prowess, will take charge of the team as they'},\n",
       " {'url': 'https://www.espncricinfo.com/team/india-6',\n",
       "  'content': \"Find India cricket team news, match schedule, results, photos, and videos on ESPNcricinfo. ... Captain: Rohit Sharma (Tests, ODIs), ... India Men's Cricket Team Current Ranking. Tests: 2 ODIs: 1\"}]"
      ]
     },
     "execution_count": 11,
     "metadata": {},
     "output_type": "execute_result"
    }
   ],
   "source": [
    "search.invoke(\"who is current indian team captain\")"
   ]
  },
  {
   "cell_type": "code",
   "execution_count": 12,
   "metadata": {},
   "outputs": [],
   "source": [
    "@tool\n",
    "def multiply(first_number:int,second_number:int)->int:\n",
    "    \"\"\"perform the multiply operation\"\"\"\n",
    "    return first_number * second_number"
   ]
  },
  {
   "cell_type": "code",
   "execution_count": 13,
   "metadata": {},
   "outputs": [
    {
     "data": {
      "text/plain": [
       "484"
      ]
     },
     "execution_count": 13,
     "metadata": {},
     "output_type": "execute_result"
    }
   ],
   "source": [
    "multiply.invoke({\"first_number\":22,\"second_number\":22})"
   ]
  },
  {
   "cell_type": "code",
   "execution_count": 15,
   "metadata": {},
   "outputs": [],
   "source": [
    "tools=[search,multiply]"
   ]
  },
  {
   "cell_type": "code",
   "execution_count": 16,
   "metadata": {},
   "outputs": [],
   "source": [
    "model_with_bind=llm.bind_tools(tools=tools)"
   ]
  },
  {
   "cell_type": "code",
   "execution_count": 17,
   "metadata": {},
   "outputs": [],
   "source": [
    "tool_node=ToolNode(tools=tools)"
   ]
  },
  {
   "cell_type": "code",
   "execution_count": 18,
   "metadata": {},
   "outputs": [],
   "source": [
    "class AgentState(TypedDict):\n",
    "    messages:Annotated[list,add_messages]"
   ]
  },
  {
   "cell_type": "code",
   "execution_count": 19,
   "metadata": {},
   "outputs": [],
   "source": [
    "def ai_assisstance(state:AgentState):\n",
    "    messages=state[\"messages\"]\n",
    "    response=model_with_bind.invoke(messages)\n",
    "    return {\"messages\":[response]}"
   ]
  },
  {
   "cell_type": "code",
   "execution_count": 20,
   "metadata": {},
   "outputs": [],
   "source": [
    "graph=StateGraph(AgentState)"
   ]
  },
  {
   "cell_type": "code",
   "execution_count": 21,
   "metadata": {},
   "outputs": [
    {
     "data": {
      "text/plain": [
       "<langgraph.graph.state.StateGraph at 0x1ec6b037800>"
      ]
     },
     "execution_count": 21,
     "metadata": {},
     "output_type": "execute_result"
    }
   ],
   "source": [
    "graph.add_node(\"llm\",ai_assisstance)\n",
    "graph.add_node(\"tools\",tool_node)\n",
    "graph.set_entry_point(\"llm\")"
   ]
  },
  {
   "cell_type": "code",
   "execution_count": 22,
   "metadata": {},
   "outputs": [
    {
     "data": {
      "text/plain": [
       "<langgraph.graph.state.StateGraph at 0x1ec6b037800>"
      ]
     },
     "execution_count": 22,
     "metadata": {},
     "output_type": "execute_result"
    }
   ],
   "source": [
    "graph.add_conditional_edges(\n",
    "    \"llm\",\n",
    "    tools_condition\n",
    ")\n",
    "\n",
    "graph.add_edge(\"tools\",\"llm\")"
   ]
  },
  {
   "cell_type": "code",
   "execution_count": 23,
   "metadata": {},
   "outputs": [
    {
     "data": {
      "text/plain": [
       "<langgraph.graph.state.StateGraph at 0x1ec6b037800>"
      ]
     },
     "execution_count": 23,
     "metadata": {},
     "output_type": "execute_result"
    }
   ],
   "source": [
    "graph.set_finish_point(\"llm\")"
   ]
  },
  {
   "cell_type": "code",
   "execution_count": 24,
   "metadata": {},
   "outputs": [],
   "source": [
    "app=graph.compile()"
   ]
  },
  {
   "cell_type": "code",
   "execution_count": 25,
   "metadata": {},
   "outputs": [
    {
     "data": {
      "image/png": "[encoded data removed]",
      "text/plain": [
       "<IPython.core.display.Image object>"
      ]
     },
     "metadata": {},
     "output_type": "display_data"
    }
   ],
   "source": [
    "try:\n",
    "    display(Image(app.get_graph().draw_mermaid_png()))\n",
    "except  Exception as e:\n",
    "    print(e)"
   ]
  },
  {
   "cell_type": "code",
   "execution_count": 27,
   "metadata": {},
   "outputs": [
    {
     "data": {
      "text/plain": [
       "{'messages': [HumanMessage(content='what is transformer', additional_kwargs={}, response_metadata={}, id='07b8ff07-a486-4b0a-b271-eff50081e908'),\n",
       "  AIMessage(content='', additional_kwargs={'tool_calls': [{'id': 'call_s716', 'function': {'arguments': '{\"query\":\"transformer\"}', 'name': 'search'}, 'type': 'function'}]}, response_metadata={'token_usage': {'completion_tokens': 80, 'prompt_tokens': 1066, 'total_tokens': 1146, 'completion_time': 0.145454545, 'prompt_time': 0.034148453, 'queue_time': 0.023625946999999994, 'total_time': 0.179602998}, 'model_name': 'gemma2-9b-it', 'system_fingerprint': 'fp_10c08bf97d', 'finish_reason': 'tool_calls', 'logprobs': None}, id='run-34f29963-82e4-4e71-bac3-4392548b6eb0-0', tool_calls=[{'name': 'search', 'args': {'query': 'transformer'}, 'id': 'call_s716', 'type': 'tool_call'}], usage_metadata={'input_tokens': 1066, 'output_tokens': 80, 'total_tokens': 1146}),\n",
       "  ToolMessage(content='[{\"url\": \"https://www.electricaltechnology.org/2012/02/working-principle-of-transformer.html\", \"content\": \"Limitation of the Transformer. To understand the main points, we have to discuss some basic terms related to transformer operation. So lets back to basic for a while. A transformer is an AC machine that steps up or steps down an alternating voltage or current. A transformer being an AC machine however cannot step up or down a DC voltage or DC\"}, {\"url\": \"https://www.electronics-tutorials.ws/transformer/transformer-basics.html\", \"content\": \"When an electric current passed through the primary winding, a magnetic field is developed which induces a voltage into the secondary winding and this transformer basics operating principle shown below. Also please note that as transformers require an alternating magnetic flux to operate correctly, transformers cannot therefore be used to transform or supply DC voltages or currents, since the magnetic field must be changing to induce a voltage in the secondary winding. A transformer consists of two electrically isolated coils and operates on Faraday’s principal of “mutual induction”, in which an EMF is induced in the transformers secondary coil by the magnetic flux generated by the voltages and currents flowing in the primary coil winding.\"}, {\"url\": \"https://www.britannica.com/technology/transformer-electronics\", \"content\": \"The secondary voltage is calculated by multiplying the primary voltage by the ratio of the number of turns in the secondary coil to the number of turns in the primary coil, a quantity called the turns ratio.\\\\n Transformers are employed for widely varying purposes; e.g., to reduce the voltage of conventional power circuits to operate low-voltage devices, such as doorbells and toy electric trains, and to raise the voltage from electric generators so that electric power can be transmitted over long distances.\\\\n For example, a transformer is often used to reduce the voltage of conventional power circuits to operate low-voltage devices and to raise the voltage from electric generators so that electric power can be transmitted over long distances.\\\\n Transformers change voltage through electromagnetic induction; i.e., as the magnetic lines of force (flux lines) build up and collapse with the changes in current passing through the primary coil, current is induced in another coil, called the secondary. They need to be minimized so they won’t disturb the flow of electricity from the primary coil to the secondary coil.\\\\n\"}, {\"url\": \"https://www.geeksforgeeks.org/transformer/\", \"content\": \"Answer:\\\\nThe value of the turns ratio is\\\\nVp/Vs = 2200/220\\\\n=10 = K\\\\nNumber of primary turns\\\\nThe value of the primary turns can be determined as:-\\\\nNp/Ns=K\\\\nNp/50=10\\\\nNp = 500\\\\nExample 4: Determine the primary current drawn in the transformer when the efficiency of the transformer provided is 75% and works on 100 V, 5 kVA and secondary voltage is 200 V.\\\\nAnswer:\\\\nGiven that, The kVA rating of transformer= 5 kVA\\\\nPrimary voltage, V1 = 100 V\\\\nSecondary voltage, V2 = 200 V\\\\nTherefore, the Primary current I1 is given by,\\\\nI1= S / V1\\\\n= 5 kVA / 100\\\\n= 50 A\\\\nFAQs on Transformer\\\\nQuestion 1: What is Transformer?\\\\nAnswer:\\\\n Dual Nature of Radiation and Matter\\\\nChapter 12: Atoms\\\\nChapter 13: Nuclei\\\\nChapter 14: Semiconductor Electronics: Materials, Devices, and Simple Circuits\\\\nChapter 1: Electric Charges and Fields\\\\nChapter 2: Electrostatic Potential and Capacitance\\\\nChapter 3: Current Electricity\\\\nChapter 4: Moving Charges and Magnetism\\\\nChapter 5: Magnetism and Matter\\\\nChapter 6: Electromagnetic Induction\\\\nChapter 7: Alternating Current\\\\nChapter 8: Electromagnetic Waves\\\\nChapter 9: Ray Optics and Optical Instruments\\\\nChapter 10: Wave Optics\\\\nChapter 11: Dual Nature of Radiation and Matter\\\\nChapter 12: Atoms\\\\nChapter 13: Nuclei\\\\nChapter 14: Semiconductor Electronics: Materials, Devices, and Simple Circuits\\\\nTransformer\\\\nTransformer is the simplest device that is used to transfer electrical energy from one alternating-current circuit to another circuit or multiple circuits, through the process of electromagnetic induction. Data Structures and Algorithms\\\\nML & Data Science\\\\nWeb Development\\\\nLanguages\\\\nInterview Corner\\\\nCS Subjects\\\\nJobs\\\\nPractice\\\\nContests\\\\nChapter 1: Electric Charges and Fields\\\\nChapter 2: Electrostatic Potential and Capacitance\\\\nChapter 3: Current Electricity\\\\nChapter 4: Moving Charges and Magnetism\\\\nChapter 5: Magnetism and Matter\\\\nChapter 6: Electromagnetic Induction\\\\nChapter 7: Alternating Current\\\\nChapter 8: Electromagnetic Waves\\\\nChapter 9: Ray Optics and Optical Instruments\\\\nChapter 10: Wave Optics\\\\nChapter 11: If the turn ratio is 10, what does the secondary voltage equal?\\\\nSolution:\\\\nGiven that, the turn ratio, N2/N1 = 10\\\\nAnd thevoltage across the primary coil, V1 = 120 V\\\\nNow, according to the transformer;’s equation:\\\\nV2/V1 = N2/N1\\\\nSubstituting the given values,\\\\nV2/120 = 10\\\\nV2 = 1200 V\\\\nExample 2: A transformer has 1000 turns in the primary coil, and 8 A current flows through it. Solution:\\\\nConsider the case of an Ideal Transforemer,\\\\nGiven that, Pin = Pout = 1000 W\\\\nBut, Pout = VSIS\\\\nNow, the current through the secondary circuit is,\\\\nIS = Pout / VS =10000 / 1000 = 10 A\\\\nTherefore, the turns ratio of transformer is given by,\\\\nIP / IS = NS / NP\\\\nNS = (IP / IS) NP\\\\n= (8/10) × 1000\\\\n= 800 turns.\\\\n\"}, {\"url\": \"https://vancoelectrical.com/what-is-a-transformer/\", \"content\": \"Transformers are crucial components in electrical systems, responsible for adjusting voltage levels to ensure safe and efficient power delivery across a wide range of applications. Without transformers, electrical systems would be inefficient, unsafe, and prone to damage from improper voltage levels. Step-up transformers increase the voltage by having more turns in the secondary coil than in the primary coil. In short, what transformers do is convert electrical power into usable voltage levels, allowing you to safely run various devices and systems. Safety: By stepping down high-voltage electricity to safer levels, transformers reduce the risk of electrical fires, shocks, and equipment damage. From power grids to industrial machinery, transformers regulate voltage, protect equipment, and ensure that electrical systems run smoothly. I accept the Terms of Service and Privacy Policy\"}]', name='search', id='35019fa1-be17-4063-844c-a8d1e8d1cbe5', tool_call_id='call_s716'),\n",
       "  AIMessage(content='', additional_kwargs={'tool_calls': [{'id': 'call_gr7b', 'function': {'arguments': '{\"query\":\"transformer application examples\"}', 'name': 'search'}, 'type': 'function'}]}, response_metadata={'token_usage': {'completion_tokens': 47, 'prompt_tokens': 2672, 'total_tokens': 2719, 'completion_time': 0.085454545, 'prompt_time': 0.085590598, 'queue_time': 0.02622027099999999, 'total_time': 0.171045143}, 'model_name': 'gemma2-9b-it', 'system_fingerprint': 'fp_10c08bf97d', 'finish_reason': 'tool_calls', 'logprobs': None}, id='run-b79738b4-e28b-48fb-a6d6-c8ee272b74e8-0', tool_calls=[{'name': 'search', 'args': {'query': 'transformer application examples'}, 'id': 'call_gr7b', 'type': 'tool_call'}], usage_metadata={'input_tokens': 2672, 'output_tokens': 47, 'total_tokens': 2719}),\n",
       "  ToolMessage(content='[{\"url\": \"https://www.electricaltechnology.org/2012/02/uses-and-application-of-transformer.html\", \"content\": \"Application of Transformer in a Power System: A power transformer steps-up the level of voltage at the generation side before transmission and distribution. For example, it increases the level of generated voltage in power plants from 7200kV-12kV to 33kV, 66kV, 220kV or even more up to 400+ kV for power transmission to the distribution centers.\"}, {\"url\": \"https://unacademy.com/content/upsc/study-material/physics/applications-of-transformers/\", \"content\": \"Applications of Transformers Mains Test Series and Printed Notes (English) Mains Test Series and Digital Notes (English) UPSC » UPSC CSE Study Materials » Physics » Applications of Transformers Applications of Transformers What Are Transformers? Transformers are used in a variety of applications, including power generation, transmission and distribution, lighting, audio systems, and electronic equipment. Step-up transformers are used in applications where a higher voltage is required, such as in power generation and transmission. Applications of Transformers Transformers are used in a variety of applications, including power generation, transmission and distribution, lighting, audio systems, and electronic equipment. Ans : The most common applications for transformers are power generation, distribution, and transmi...Read full\"}, {\"url\": \"https://studiousguy.com/transformers-uses/\", \"content\": \"An audio transformer is an electrical device that is generally used to provide isolation to the signals flowing through the circuits as well as help match the impedance values of the source and the load. Air conditioners tend to form yet another example of the daily life applications that make use of transformers for their general operations Some prime operations of an air conditioner carried out by a transformer include converting the magnitude of the voltage supplied by the circuit board to the AC unit to an optimal value desired by the user, allowing the working of air conditioner and the fan at the same time, controlling the magnitude of power flowing through the circuit as per the current need, etc.\"}, {\"url\": \"https://byjus.com/physics/uses-of-transformer/\", \"content\": \"Measurement Transformers; Indoor Transformers; Outdoor Transformers; Applications and uses of Transformers. According to the necessity, transformers are classified into: Power Transformers: These kinds of transformers are used for high voltage power transfer applications (more than 33 KV). They are usually bigger in size and can occupy larger\"}, {\"url\": \"https://engineerfix.com/electrical/transformers/where-are-transformers-used/\", \"content\": \"Transformers are also used to isolate electrical circuits in industrial applications. They can physically disconnect two or more electrical circuits from each other. This can prevent damage to wiring systems and some electrical components in the event of an electrical fault. Transformers can be found in the following industrial applications:\"}]', name='search', id='4a16a754-2b65-4e54-b150-acafaac86a61', tool_call_id='call_gr7b'),\n",
       "  AIMessage(content='A transformer is a device that transfers electrical energy between two or more circuits through electromagnetic induction.  They are used in a wide variety of applications, including:\\n\\n**Power Systems:**\\n\\n* **Power Generation:** Step-up transformers increase the voltage of electricity generated in power plants to very high levels for efficient transmission over long distances.\\n* **Power Transmission:** High-voltage transformers transmit electricity from power plants to substations.\\n* **Power Distribution:** Step-down transformers lower the voltage to safer levels for use in homes and businesses.\\n\\n**Other Applications:**\\n\\n* **Audio Systems:** Transformers are used in microphones, speakers, and amplifiers to match impedance and isolate circuits.\\n* **Lighting:** Transformers are used to convert the voltage from the power grid to the voltage required by fluorescent and LED lights.\\n* **Electronic Equipment:** Transformers are found in many electronic devices, such as computers, TVs, and chargers, to regulate voltage and provide isolation.\\n* **Industrial Applications:** Transformers are used in industrial machinery, such as motors and welding equipment, to provide the necessary voltage and current.\\n\\n\\n\\n', additional_kwargs={}, response_metadata={'token_usage': {'completion_tokens': 223, 'prompt_tokens': 3349, 'total_tokens': 3572, 'completion_time': 0.405454545, 'prompt_time': 0.106990656, 'queue_time': 0.04371663399999999, 'total_time': 0.512445201}, 'model_name': 'gemma2-9b-it', 'system_fingerprint': 'fp_10c08bf97d', 'finish_reason': 'stop', 'logprobs': None}, id='run-d390b055-1c8e-4f37-9d35-41e5c35832b4-0', usage_metadata={'input_tokens': 3349, 'output_tokens': 223, 'total_tokens': 3572})]}"
      ]
     },
     "execution_count": 27,
     "metadata": {},
     "output_type": "execute_result"
    }
   ],
   "source": [
    "app.invoke({\"messages\":[\"what is transformer\"]})"
   ]
  },
  {
   "cell_type": "code",
   "execution_count": 28,
   "metadata": {},
   "outputs": [
    {
     "data": {
      "text/plain": [
       "{'messages': [HumanMessage(content='what is the multiplication of 28 and 7', additional_kwargs={}, response_metadata={}, id='f53576cc-c670-412e-be2f-10173c74b397'),\n",
       "  AIMessage(content='', additional_kwargs={'tool_calls': [{'id': 'call_qq8w', 'function': {'arguments': '{\"first_number\":28,\"second_number\":7}', 'name': 'multiply'}, 'type': 'function'}]}, response_metadata={'token_usage': {'completion_tokens': 91, 'prompt_tokens': 1074, 'total_tokens': 1165, 'completion_time': 0.165454545, 'prompt_time': 0.034399113, 'queue_time': 0.022193922999999997, 'total_time': 0.199853658}, 'model_name': 'gemma2-9b-it', 'system_fingerprint': 'fp_10c08bf97d', 'finish_reason': 'tool_calls', 'logprobs': None}, id='run-513a6a9b-2a74-4d75-90db-97dc1d419ee5-0', tool_calls=[{'name': 'multiply', 'args': {'first_number': 28, 'second_number': 7}, 'id': 'call_qq8w', 'type': 'tool_call'}], usage_metadata={'input_tokens': 1074, 'output_tokens': 91, 'total_tokens': 1165}),\n",
       "  ToolMessage(content='196', name='multiply', id='e0db7ec5-10c2-40ff-bb1a-0a01bc3a8bd8', tool_call_id='call_qq8w'),\n",
       "  AIMessage(content='196', additional_kwargs={}, response_metadata={'token_usage': {'completion_tokens': 5, 'prompt_tokens': 1155, 'total_tokens': 1160, 'completion_time': 0.009090909, 'prompt_time': 0.037108735, 'queue_time': 0.021211618, 'total_time': 0.046199644}, 'model_name': 'gemma2-9b-it', 'system_fingerprint': 'fp_10c08bf97d', 'finish_reason': 'stop', 'logprobs': None}, id='run-954fce61-4f37-4712-accb-6a434b1684e6-0', usage_metadata={'input_tokens': 1155, 'output_tokens': 5, 'total_tokens': 1160})]}"
      ]
     },
     "execution_count": 28,
     "metadata": {},
     "output_type": "execute_result"
    }
   ],
   "source": [
    "app.invoke({\"messages\":[\"what is the multiplication of 28 and 7\"]})"
   ]
  }
 ],
 "metadata": {
  "kernelspec": {
   "display_name": "myvenv",
   "language": "python",
   "name": "python3"
  },
  "language_info": {
   "codemirror_mode": {
    "name": "ipython",
    "version": 3
   },
   "file_extension": ".py",
   "mimetype": "text/x-python",
   "name": "python",
   "nbconvert_exporter": "python",
   "pygments_lexer": "ipython3",
   "version": "3.12.2"
  }
 },
 "nbformat": 4,
 "nbformat_minor": 2
}
