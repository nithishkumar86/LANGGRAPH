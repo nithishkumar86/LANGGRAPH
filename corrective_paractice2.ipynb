{
 "cells": [
  {
   "cell_type": "code",
   "execution_count": 75,
   "metadata": {},
   "outputs": [
    {
     "data": {
      "text/plain": [
       "True"
      ]
     },
     "execution_count": 75,
     "metadata": {},
     "output_type": "execute_result"
    }
   ],
   "source": [
    "import os\n",
    "from dotenv import load_dotenv\n",
    "load_dotenv()"
   ]
  },
  {
   "cell_type": "code",
   "execution_count": 76,
   "metadata": {},
   "outputs": [],
   "source": [
    "os.environ[\"GROQ_API_KEY\"]=os.getenv(\"GROQ_API_KEY\")\n",
    "os.environ[\"HUGGINGFACE_API_KEY\"]=os.environ[\"HUGGINGFACE_API_KEY\"]\n",
    "os.environ[\"TAVILY_API_KEY\"]=os.getenv(\"TAVILY_API_KEY\")"
   ]
  },
  {
   "cell_type": "code",
   "execution_count": 77,
   "metadata": {},
   "outputs": [],
   "source": [
    "from langchain_huggingface import HuggingFaceEmbeddings\n",
    "from langchain_google_genai import ChatGoogleGenerativeAI\n",
    "from langchain_google_genai import GoogleGenerativeAIEmbeddings\n",
    "from langchain_text_splitters import RecursiveCharacterTextSplitter\n",
    "from langchain_community.vectorstores import FAISS\n",
    "from langchain_core.prompts import ChatPromptTemplate\n",
    "from langchain_core.output_parsers import StrOutputParser\n",
    "from langchain.chains.combine_documents import create_stuff_documents_chain\n",
    "from langchain.chains import create_retrieval_chain\n",
    "from pydantic import BaseModel,Field\n",
    "from langgraph.graph.message import add_messages\n",
    "from typing import Annotated\n",
    "from typing import TypedDict\n",
    "from langchain.schema import Document\n",
    "from langchain_community.tools.tavily_search import TavilySearchResults\n",
    "from IPython.display import display,Image\n",
    "from langgraph.graph import StateGraph,START,END\n"
   ]
  },
  {
   "cell_type": "code",
   "execution_count": 78,
   "metadata": {},
   "outputs": [],
   "source": [
    "llm=ChatGoogleGenerativeAI(model=\"gemini-1.5-flash\")"
   ]
  },
  {
   "cell_type": "code",
   "execution_count": 79,
   "metadata": {},
   "outputs": [],
   "source": [
    "embedding=GoogleGenerativeAIEmbeddings(model=\"models/embedding-001\")"
   ]
  },
  {
   "cell_type": "code",
   "execution_count": 80,
   "metadata": {},
   "outputs": [
    {
     "data": {
      "text/plain": [
       "[Document(metadata={'source': 'sample.txt'}, page_content='The definition of Deep learning is that it is the branch of machine learning that is based on artificial neural network architecture. An artificial neural network or ANN uses layers of interconnected nodes called neurons that work together to process and learn from the input data.\\n\\nIn a fully connected Deep neural network, there is an input layer and one or more hidden layers connected one after the other. Each neuron receives input from the previous layer neurons or the input layer. The output of one neuron becomes the input to other neurons in the next layer of the network, and this process continues until the final layer produces the output of the network. The layers of the neural network transform the input data through a series of nonlinear transformations, allowing the network to learn complex representations of the input data.\\n\\nDeep Learning - Geeksforgeeks\\nScope of Deep Learning\\n\\nToday Deep learning AI has become one of the most popular and visible areas of machine learning, due to its success in a variety of applications, such as computer vision, natural language processing, and Reinforcement learning.\\n\\nDeep learning AI can be used for supervised, unsupervised as well as reinforcement machine learning. it uses a variety of ways to process these.\\n\\nSupervised Machine Learning: Supervised machine learning is the machine learning technique in which the neural network learns to make predictions or classify data based on the labeled datasets. Here we input both input features along with the target variables. the neural network learns to make predictions based on the cost or error that comes from the difference between the predicted and the actual target, this process is known as backpropagation.  Deep learning algorithms like Convolutional neural networks, Recurrent neural networks are used for many supervised tasks like image classifications and recognization, sentiment analysis, language translations, etc.\\nUnsupervised Machine Learning: Unsupervised machine learning is the machine learning technique in which the neural network learns to discover the patterns or to cluster the dataset based on unlabeled datasets. Here there are no target variables. while the machine has to self-determined the hidden patterns or relationships within the datasets. Deep learning algorithms like autoencoders and generative models are used for unsupervised tasks like clustering, dimensionality reduction, and anomaly detection.\\nReinforcement  Machine Learning: Reinforcement  Machine Learning is the machine learning technique in which an agent learns to make decisions in an environment to maximize a reward signal. The agent interacts with the environment by taking action and observing the resulting rewards. Deep learning can be used to learn policies, or a set of actions, that maximizes the cumulative reward over time. Deep reinforcement learning algorithms like Deep Q networks and Deep Deterministic Policy Gradient (DDPG) are used to reinforce tasks like robotics and game playing etc.\\nArtificial neural networks\\nArtificial neural networks are built on the principles of the structure and operation of human neurons. It is also known as neural networks or neural nets. An artificial neural networkâ€™s input layer, which is the first layer, receives input from external sources and passes it on to the hidden layer, which is the second layer. Each neuron in the hidden layer gets information from the neurons in the previous layer, computes the weighted total, and then transfers it to the neurons in the next layer. These connections are weighted, which means that the impacts of the inputs from the preceding layer are more or less optimized by giving each input a distinct weight. These weights are then adjusted during the training process to enhance the performance of the model.\\n\\nFully Connected Artificial Neural Network - Geeksforgeeks\\nFully Connected Artificial Neural Network\\n\\nArtificial neurons, also known as units, are found in artificial neural networks. The whole Artificial Neural Network is composed of these artificial neurons, which are arranged in a series of layers. The complexities of neural networks will depend on the complexities of the underlying patterns in the dataset whether a layer has a dozen units or millions of units.  Commonly, Artificial Neural Network has an input layer, an output layer as well as hidden layers. The input layer receives data from the outside world which the neural network needs to analyze or learn about.\\n\\nIn a fully connected artificial neural network, there is an input layer and one or more hidden layers connected one after the other. Each neuron receives input from the previous layer neurons or the input layer. The output of one neuron becomes the input to other neurons in the next layer of the network, and this process continues until the final layer produces the output of the network. Then, after passing through one or more hidden layers, this data is transformed into valuable data for the output layer. Finally, the output layer provides an output in the form of an artificial neural networkâ€™s response to the data that comes in. \\n\\nUnits are linked to one another from one layer to another in the bulk of neural networks. Each of these links has weights that control how much one unit influences another. The neural network learns more and more about the data as it moves from one unit to another, ultimately producing an output from the output layer. \\n\\nDifference between Machine Learning and Deep Learning :\\nmachine learning and deep learning AI both are subsets of artificial intelligence but there are many similarities and differences between them.\\n\\nMachine Learning\\n\\nDeep Learning\\n\\nApply statistical algorithms to learn the hidden patterns and relationships in the dataset.\\tUses artificial neural network architecture to learn the hidden patterns and relationships in the dataset.\\nCan work on the smaller amount of dataset\\tRequires the larger volume of dataset compared to machine learning\\nBetter for the low-label task.\\tBetter for complex task like image processing, natural language processing, etc.\\nTakes less time to train the model.\\tTakes more time to train the model.\\nA model is created by relevant features which are manually extracted from images to detect an object in the image.\\tRelevant features are automatically extracted from images. It is an end-to-end learning process.\\nLess complex and easy to interpret the result.\\tMore complex, it works like the black box interpretations of the result are not easy.\\nIt can work on the CPU or requires less computing power as compared to deep learning.\\tIt requires a high-performance computer with GPU.\\nTypes of neural networks\\nDeep Learning models are able to automatically learn features from the data, which makes them well-suited for tasks such as image recognition, speech recognition, and natural language processing. The most widely used architectures in deep learning are feedforward neural networks, convolutional neural networks (CNNs), and recurrent neural networks (RNNs).\\n\\nFeedforward neural networks (FNNs) are the simplest type of ANN, with a linear flow of information through the network. FNNs have been widely used for tasks such as image classification, speech recognition, and natural language processing.\\nConvolutional Neural Networks (CNNs) are specifically for image and video recognition tasks. CNNs are able to automatically learn features from the images, which makes them well-suited for tasks such as image classification, object detection, and image segmentation.\\nRecurrent Neural Networks (RNNs) are a type of neural network that is able to process sequential data, such as time series and natural language. RNNs are able to maintain an internal state that captures information about the previous inputs, which makes them well-suited for tasks such as speech recognition, natural language processing, and language translation.\\nDeep Learning Applications:\\nThe main applications of deep learning AI can be divided into computer vision, natural language processing (NLP), and reinforcement learning. \\n\\n1. Computer vision\\nThe first Deep Learning applications is Computer vision. In computer vision, Deep learning AI models can enable machines to identify and understand visual data. Some of the main applications of deep learning in computer vision include:\\n\\nObject detection and recognition: Deep learning model can be used to identify and locate objects within images and videos, making it possible for machines to perform tasks such as self-driving cars, surveillance, and robotics. \\nImage classification: Deep learning models can be used to classify images into categories such as animals, plants, and buildings. This is used in applications such as medical imaging, quality control, and image retrieval. \\nImage segmentation: Deep learning models can be used for image segmentation into different regions, making it possible to identify specific features within images.\\n2. Natural language processing (NLP): \\nIn Deep learning applications, second application is NLP. NLP, the  Deep learning model can enable machines to understand and generate human language. Some of the main applications of deep learning in NLP include: \\n\\nAutomatic Text Generation â€“ Deep learning model can learn the corpus of text and new text like summaries, essays can be automatically generated using these trained models.\\nLanguage translation: Deep learning models can translate text from one language to another, making it possible to communicate with people from different linguistic backgrounds. \\nSentiment analysis: Deep learning models can analyze the sentiment of a piece of text, making it possible to determine whether the text is positive, negative, or neutral. This is used in applications such as customer service, social media monitoring, and political analysis. \\nSpeech recognition: Deep learning models can recognize and transcribe spoken words, making it possible to perform tasks such as speech-to-text conversion, voice search, and voice-controlled devices. \\n3. Reinforcement learning: \\nIn reinforcement learning, deep learning works as training agents to take action in an environment to maximize a reward. Some of the main applications of deep learning in reinforcement learning include: \\n\\nGame playing: Deep reinforcement learning models have been able to beat human experts at games such as Go, Chess, and Atari. \\nRobotics: Deep reinforcement learning models can be used to train robots to perform complex tasks such as grasping objects, navigation, and manipulation. \\nControl systems: Deep reinforcement learning models can be used to control complex systems such as power grids, traffic management, and supply chain optimization. \\nChallenges in Deep Learning\\nDeep learning has made significant advancements in various fields, but there are still some challenges that need to be addressed. Here are some of the main challenges in deep learning:\\n\\nData availability: It requires large amounts of data to learn from. For using deep learning itâ€™s a big concern to gather as much data for training.\\nComputational Resources: For training the deep learning model, it is computationally expensive because it requires specialized hardware like GPUs and TPUs.\\nTime-consuming: While working on sequential data depending on the computational resource it can take very large even in days or months. \\nInterpretability: Deep learning models are complex, it works like a black box. it is very difficult to interpret the result.\\nOverfitting: when the model is trained again and again, it becomes too specialized for the training data, leading to overfitting and poor performance on new data.\\nAdvantages of Deep Learning:\\nHigh accuracy: Deep Learning algorithms can achieve state-of-the-art performance in various tasks, such as image recognition and natural language processing.\\nAutomated feature engineering: Deep Learning algorithms can automatically discover and learn relevant features from data without the need for manual feature engineering.\\nScalability: Deep Learning models can scale to handle large and complex datasets, and can learn from massive amounts of data.\\nFlexibility: Deep Learning models can be applied to a wide range of tasks and can handle various types of data, such as images, text, and speech.\\nContinual improvement: Deep Learning models can continually improve their performance as more data becomes available.\\nDisadvantages of Deep Learning:\\nHigh computational requirements: Deep Learning AI models require large amounts of data and computational resources to train and optimize.\\nRequires large amounts of labeled data: Deep Learning models often require a large amount of labeled data for training, which can be expensive and time- consuming to acquire.\\nInterpretability: Deep Learning models can be challenging to interpret, making it difficult to understand how they make decisions.\\nOverfitting: Deep Learning models can sometimes overfit to the training data, resulting in poor performance on new and unseen data.\\nBlack-box nature: Deep Learning models are often treated as black boxes, making it difficult to understand how they work and how they arrived at their predictions.\\nConclusion\\nIn conclusion, the field of Deep Learning represents a transformative leap in artificial intelligence. By mimicking the human brainâ€™s neural networks, Deep Learning AI algorithms have revolutionized industries ranging from healthcare to finance, from autonomous vehicles to natural language processing. As we continue to push the boundaries of computational power and dataset sizes, the potential applications of Deep Learning are limitless. However, challenges such as interpretability and ethical considerations remain significant. Yet, with ongoing research and innovation, Deep Learning promises to reshape our future, ushering in a new era where machines can learn, adapt, and solve complex problems at a scale and speed previously unimaginable.\\n\\n\\nGet IBM Certification and a 90% fee refund on completing 90% course in 90 days! Take the Three 90 Challenge today.\\n\\nMaster Machine Learning, Data Science & AI with this complete program and also get a 90% refund. What more motivation do you need? Start the challenge right away!\\n\\n\\n\\nComment\\n\\nMore info\\n\\nAdvertise with us\\nNext Article \\nWhat is Transfer Learning?\\nSimilar Reads\\nIntroduction to Multi-Task Learning(MTL) for Deep Learning\\nMulti-Task Learning (MTL) is a type of machine learning technique where a model is trained to perform multiple tasks simultaneously. In deep learning, MTL refers to training a neural network to perform multiple tasks by sharing some of the network\\'s layers and parameters across tasks. In MTL, the goal is to improve the generalization performance of\\n6 min read\\nDeep Belief Network (DBN) in Deep Learning\\nDiscover data creation with Deep Belief Networks (DBNs), cutting-edge generative models that make use of deep architecture. This article walks you through the concepts of DBNs, how they work, and how to implement them using practical coding. What is a Deep Belief Network?Deep Belief Networks (DBNs) are sophisticated artificial neural networks used\\n9 min read\\nDeep Boltzmann Machines (DBMs) in Deep Learning\\nIn this article, we will discuss the Deep Boltzmann Machines concepts and their applications in the real-world scenario. What are Deep Boltzmann Machines (DBMs)?Deep Boltzmann Machines (DBMs) are a kind of artificial neural network that belongs to the family of generative models. They are designed to discover intricate structures within large datas\\n10 min read\\nUnveiling the Power of Fastai: A Deep Dive into the Versatile Deep Learning Library\\nFastai is a powerful deep-learning library designed for researchers and practitioners. It offers high-level abstractions, PyTorch integration, and application-specific APIs, making it both adaptable and accessible for a wide range of deep learning tasks. In this article, we\\'ll delve into the intricacies of Fastai, a powerful deep-learning library.\\n9 min read\\nArtificial intelligence vs Machine Learning vs Deep Learning\\nNowadays many misconceptions are there related to the words machine learning, deep learning, and artificial intelligence (AI), most people think all these things are the same whenever they hear the word AI, they directly relate that word to machine learning or vice versa, well yes, these things are related to each other but not the same. Let\\'s see\\n4 min read\\nNeed of Data Structures and Algorithms for Deep Learning and Machine Learning\\nDeep Learning is a field that is heavily based on Mathematics and you need to have a good understanding of Data Structures and Algorithms to solve the mathematical problems optimally. Data Structures and Algorithms can be used to determine how a problem is represented internally or how the actual storage pattern works & what is happening under\\n6 min read\\nDifference Between Artificial Intelligence vs Machine Learning vs Deep Learning\\nArtificial Intelligence is basically the mechanism to incorporate human intelligence into machines through a set of rules(algorithm). AI is a combination of two words: \"Artificial\" meaning something made by humans or non-natural things and \"Intelligence\" meaning the ability to understand or think accordingly. Another definition could be that \"AI is\\n14 min read\\nDifference Between Machine Learning and Deep Learning\\nIf you are interested in building your career in the IT industry then you must have come across the term Data Science which is a booming field in terms of technologies and job availability as well. In this article, we will explore the Difference between Machine Learning and Deep Learning, two major fields within Data Science. Understanding these di\\n8 min read\\nAI vs. Machine Learning vs. Deep Learning vs. Neural Networks\\nArtificial Intelligence (AI), Machine Learning (ML), Deep Learning (DL), and Neural Networks (NN) are terms often used interchangeably. However, they represent different layers of complexity and specialization in the field of intelligent systems. This article will clarify the Difference between AI vs. machine learning vs. deep learning vs.\\n')]"
      ]
     },
     "execution_count": 80,
     "metadata": {},
     "output_type": "execute_result"
    }
   ],
   "source": [
    "from langchain_community.document_loaders import TextLoader\n",
    "loader=TextLoader('sample.txt')\n",
    "docs=loader.load()\n",
    "docs"
   ]
  },
  {
   "cell_type": "code",
   "execution_count": 81,
   "metadata": {},
   "outputs": [
    {
     "data": {
      "text/plain": [
       "[Document(metadata={'source': 'sample.txt'}, page_content='The definition of Deep learning is that it is the branch of machine learning that is based on artificial neural network architecture. An artificial neural network or ANN uses layers of interconnected nodes called neurons that work together to process and learn from the input data.\\n\\nIn a fully connected Deep neural network, there is an input layer and one or more hidden layers connected one after the other. Each neuron receives input from the previous layer neurons or the input layer. The output of one neuron becomes the input to other neurons in the next layer of the network, and this process continues until the final layer produces the output of the network. The layers of the neural network transform the input data through a series of nonlinear transformations, allowing the network to learn complex representations of the input data.\\n\\nDeep Learning - Geeksforgeeks\\nScope of Deep Learning\\n\\nToday Deep learning AI has become one of the most popular and visible areas of machine learning, due to its success in a variety of applications, such as computer vision, natural language processing, and Reinforcement learning.\\n\\nDeep learning AI can be used for supervised, unsupervised as well as reinforcement machine learning. it uses a variety of ways to process these.'),\n",
       " Document(metadata={'source': 'sample.txt'}, page_content='Supervised Machine Learning: Supervised machine learning is the machine learning technique in which the neural network learns to make predictions or classify data based on the labeled datasets. Here we input both input features along with the target variables. the neural network learns to make predictions based on the cost or error that comes from the difference between the predicted and the actual target, this process is known as backpropagation.  Deep learning algorithms like Convolutional neural networks, Recurrent neural networks are used for many supervised tasks like image classifications and recognization, sentiment analysis, language translations, etc.\\nUnsupervised Machine Learning: Unsupervised machine learning is the machine learning technique in which the neural network learns to discover the patterns or to cluster the dataset based on unlabeled datasets. Here there are no target variables. while the machine has to self-determined the hidden patterns or relationships within the datasets. Deep learning algorithms like autoencoders and generative models are used for unsupervised tasks like clustering, dimensionality reduction, and anomaly detection.'),\n",
       " Document(metadata={'source': 'sample.txt'}, page_content='Reinforcement  Machine Learning: Reinforcement  Machine Learning is the machine learning technique in which an agent learns to make decisions in an environment to maximize a reward signal. The agent interacts with the environment by taking action and observing the resulting rewards. Deep learning can be used to learn policies, or a set of actions, that maximizes the cumulative reward over time. Deep reinforcement learning algorithms like Deep Q networks and Deep Deterministic Policy Gradient (DDPG) are used to reinforce tasks like robotics and game playing etc.\\nArtificial neural networks\\nArtificial neural networks are built on the principles of the structure and operation of human neurons. It is also known as neural networks or neural nets. An artificial neural networkâ€™s input layer, which is the first layer, receives input from external sources and passes it on to the hidden layer, which is the second layer. Each neuron in the hidden layer gets information from the neurons in the previous layer, computes the weighted total, and then transfers it to the neurons in the next layer. These connections are weighted, which means that the impacts of the inputs from the preceding layer are more or less optimized by giving each input a distinct weight. These weights are then adjusted during the training process to enhance the performance of the model.'),\n",
       " Document(metadata={'source': 'sample.txt'}, page_content='Fully Connected Artificial Neural Network - Geeksforgeeks\\nFully Connected Artificial Neural Network\\n\\nArtificial neurons, also known as units, are found in artificial neural networks. The whole Artificial Neural Network is composed of these artificial neurons, which are arranged in a series of layers. The complexities of neural networks will depend on the complexities of the underlying patterns in the dataset whether a layer has a dozen units or millions of units.  Commonly, Artificial Neural Network has an input layer, an output layer as well as hidden layers. The input layer receives data from the outside world which the neural network needs to analyze or learn about.\\n\\nIn a fully connected artificial neural network, there is an input layer and one or more hidden layers connected one after the other. Each neuron receives input from the previous layer neurons or the input layer. The output of one neuron becomes the input to other neurons in the next layer of the network, and this process continues until the final layer produces the output of the network. Then, after passing through one or more hidden layers, this data is transformed into valuable data for the output layer. Finally, the output layer provides an output in the form of an artificial neural networkâ€™s response to the data that comes in.'),\n",
       " Document(metadata={'source': 'sample.txt'}, page_content='Units are linked to one another from one layer to another in the bulk of neural networks. Each of these links has weights that control how much one unit influences another. The neural network learns more and more about the data as it moves from one unit to another, ultimately producing an output from the output layer. \\n\\nDifference between Machine Learning and Deep Learning :\\nmachine learning and deep learning AI both are subsets of artificial intelligence but there are many similarities and differences between them.\\n\\nMachine Learning\\n\\nDeep Learning'),\n",
       " Document(metadata={'source': 'sample.txt'}, page_content='Machine Learning\\n\\nDeep Learning\\n\\nApply statistical algorithms to learn the hidden patterns and relationships in the dataset.\\tUses artificial neural network architecture to learn the hidden patterns and relationships in the dataset.\\nCan work on the smaller amount of dataset\\tRequires the larger volume of dataset compared to machine learning\\nBetter for the low-label task.\\tBetter for complex task like image processing, natural language processing, etc.\\nTakes less time to train the model.\\tTakes more time to train the model.\\nA model is created by relevant features which are manually extracted from images to detect an object in the image.\\tRelevant features are automatically extracted from images. It is an end-to-end learning process.\\nLess complex and easy to interpret the result.\\tMore complex, it works like the black box interpretations of the result are not easy.\\nIt can work on the CPU or requires less computing power as compared to deep learning.\\tIt requires a high-performance computer with GPU.\\nTypes of neural networks\\nDeep Learning models are able to automatically learn features from the data, which makes them well-suited for tasks such as image recognition, speech recognition, and natural language processing. The most widely used architectures in deep learning are feedforward neural networks, convolutional neural networks (CNNs), and recurrent neural networks (RNNs).'),\n",
       " Document(metadata={'source': 'sample.txt'}, page_content='Feedforward neural networks (FNNs) are the simplest type of ANN, with a linear flow of information through the network. FNNs have been widely used for tasks such as image classification, speech recognition, and natural language processing.\\nConvolutional Neural Networks (CNNs) are specifically for image and video recognition tasks. CNNs are able to automatically learn features from the images, which makes them well-suited for tasks such as image classification, object detection, and image segmentation.\\nRecurrent Neural Networks (RNNs) are a type of neural network that is able to process sequential data, such as time series and natural language. RNNs are able to maintain an internal state that captures information about the previous inputs, which makes them well-suited for tasks such as speech recognition, natural language processing, and language translation.\\nDeep Learning Applications:\\nThe main applications of deep learning AI can be divided into computer vision, natural language processing (NLP), and reinforcement learning. \\n\\n1. Computer vision\\nThe first Deep Learning applications is Computer vision. In computer vision, Deep learning AI models can enable machines to identify and understand visual data. Some of the main applications of deep learning in computer vision include:'),\n",
       " Document(metadata={'source': 'sample.txt'}, page_content='Object detection and recognition: Deep learning model can be used to identify and locate objects within images and videos, making it possible for machines to perform tasks such as self-driving cars, surveillance, and robotics. \\nImage classification: Deep learning models can be used to classify images into categories such as animals, plants, and buildings. This is used in applications such as medical imaging, quality control, and image retrieval. \\nImage segmentation: Deep learning models can be used for image segmentation into different regions, making it possible to identify specific features within images.\\n2. Natural language processing (NLP): \\nIn Deep learning applications, second application is NLP. NLP, the  Deep learning model can enable machines to understand and generate human language. Some of the main applications of deep learning in NLP include:'),\n",
       " Document(metadata={'source': 'sample.txt'}, page_content='Automatic Text Generation â€“ Deep learning model can learn the corpus of text and new text like summaries, essays can be automatically generated using these trained models.\\nLanguage translation: Deep learning models can translate text from one language to another, making it possible to communicate with people from different linguistic backgrounds. \\nSentiment analysis: Deep learning models can analyze the sentiment of a piece of text, making it possible to determine whether the text is positive, negative, or neutral. This is used in applications such as customer service, social media monitoring, and political analysis. \\nSpeech recognition: Deep learning models can recognize and transcribe spoken words, making it possible to perform tasks such as speech-to-text conversion, voice search, and voice-controlled devices. \\n3. Reinforcement learning: \\nIn reinforcement learning, deep learning works as training agents to take action in an environment to maximize a reward. Some of the main applications of deep learning in reinforcement learning include:'),\n",
       " Document(metadata={'source': 'sample.txt'}, page_content='Game playing: Deep reinforcement learning models have been able to beat human experts at games such as Go, Chess, and Atari. \\nRobotics: Deep reinforcement learning models can be used to train robots to perform complex tasks such as grasping objects, navigation, and manipulation. \\nControl systems: Deep reinforcement learning models can be used to control complex systems such as power grids, traffic management, and supply chain optimization. \\nChallenges in Deep Learning\\nDeep learning has made significant advancements in various fields, but there are still some challenges that need to be addressed. Here are some of the main challenges in deep learning:'),\n",
       " Document(metadata={'source': 'sample.txt'}, page_content='Data availability: It requires large amounts of data to learn from. For using deep learning itâ€™s a big concern to gather as much data for training.\\nComputational Resources: For training the deep learning model, it is computationally expensive because it requires specialized hardware like GPUs and TPUs.\\nTime-consuming: While working on sequential data depending on the computational resource it can take very large even in days or months. \\nInterpretability: Deep learning models are complex, it works like a black box. it is very difficult to interpret the result.\\nOverfitting: when the model is trained again and again, it becomes too specialized for the training data, leading to overfitting and poor performance on new data.\\nAdvantages of Deep Learning:\\nHigh accuracy: Deep Learning algorithms can achieve state-of-the-art performance in various tasks, such as image recognition and natural language processing.\\nAutomated feature engineering: Deep Learning algorithms can automatically discover and learn relevant features from data without the need for manual feature engineering.\\nScalability: Deep Learning models can scale to handle large and complex datasets, and can learn from massive amounts of data.\\nFlexibility: Deep Learning models can be applied to a wide range of tasks and can handle various types of data, such as images, text, and speech.\\nContinual improvement: Deep Learning models can continually improve their performance as more data becomes available.'),\n",
       " Document(metadata={'source': 'sample.txt'}, page_content='Disadvantages of Deep Learning:\\nHigh computational requirements: Deep Learning AI models require large amounts of data and computational resources to train and optimize.\\nRequires large amounts of labeled data: Deep Learning models often require a large amount of labeled data for training, which can be expensive and time- consuming to acquire.\\nInterpretability: Deep Learning models can be challenging to interpret, making it difficult to understand how they make decisions.\\nOverfitting: Deep Learning models can sometimes overfit to the training data, resulting in poor performance on new and unseen data.\\nBlack-box nature: Deep Learning models are often treated as black boxes, making it difficult to understand how they work and how they arrived at their predictions.\\nConclusion'),\n",
       " Document(metadata={'source': 'sample.txt'}, page_content='Conclusion\\nIn conclusion, the field of Deep Learning represents a transformative leap in artificial intelligence. By mimicking the human brainâ€™s neural networks, Deep Learning AI algorithms have revolutionized industries ranging from healthcare to finance, from autonomous vehicles to natural language processing. As we continue to push the boundaries of computational power and dataset sizes, the potential applications of Deep Learning are limitless. However, challenges such as interpretability and ethical considerations remain significant. Yet, with ongoing research and innovation, Deep Learning promises to reshape our future, ushering in a new era where machines can learn, adapt, and solve complex problems at a scale and speed previously unimaginable.'),\n",
       " Document(metadata={'source': 'sample.txt'}, page_content='Get IBM Certification and a 90% fee refund on completing 90% course in 90 days! Take the Three 90 Challenge today.\\n\\nMaster Machine Learning, Data Science & AI with this complete program and also get a 90% refund. What more motivation do you need? Start the challenge right away!\\n\\n\\n\\nComment\\n\\nMore info'),\n",
       " Document(metadata={'source': 'sample.txt'}, page_content=\"Advertise with us\\nNext Article \\nWhat is Transfer Learning?\\nSimilar Reads\\nIntroduction to Multi-Task Learning(MTL) for Deep Learning\\nMulti-Task Learning (MTL) is a type of machine learning technique where a model is trained to perform multiple tasks simultaneously. In deep learning, MTL refers to training a neural network to perform multiple tasks by sharing some of the network's layers and parameters across tasks. In MTL, the goal is to improve the generalization performance of\\n6 min read\\nDeep Belief Network (DBN) in Deep Learning\\nDiscover data creation with Deep Belief Networks (DBNs), cutting-edge generative models that make use of deep architecture. This article walks you through the concepts of DBNs, how they work, and how to implement them using practical coding. What is a Deep Belief Network?Deep Belief Networks (DBNs) are sophisticated artificial neural networks used\\n9 min read\\nDeep Boltzmann Machines (DBMs) in Deep Learning\\nIn this article, we will discuss the Deep Boltzmann Machines concepts and their applications in the real-world scenario. What are Deep Boltzmann Machines (DBMs)?Deep Boltzmann Machines (DBMs) are a kind of artificial neural network that belongs to the family of generative models. They are designed to discover intricate structures within large datas\\n10 min read\\nUnveiling the Power of Fastai: A Deep Dive into the Versatile Deep Learning Library\"),\n",
       " Document(metadata={'source': 'sample.txt'}, page_content=\"Fastai is a powerful deep-learning library designed for researchers and practitioners. It offers high-level abstractions, PyTorch integration, and application-specific APIs, making it both adaptable and accessible for a wide range of deep learning tasks. In this article, we'll delve into the intricacies of Fastai, a powerful deep-learning library.\\n9 min read\\nArtificial intelligence vs Machine Learning vs Deep Learning\\nNowadays many misconceptions are there related to the words machine learning, deep learning, and artificial intelligence (AI), most people think all these things are the same whenever they hear the word AI, they directly relate that word to machine learning or vice versa, well yes, these things are related to each other but not the same. Let's see\\n4 min read\\nNeed of Data Structures and Algorithms for Deep Learning and Machine Learning\\nDeep Learning is a field that is heavily based on Mathematics and you need to have a good understanding of Data Structures and Algorithms to solve the mathematical problems optimally. Data Structures and Algorithms can be used to determine how a problem is represented internally or how the actual storage pattern works & what is happening under\\n6 min read\\nDifference Between Artificial Intelligence vs Machine Learning vs Deep Learning\"),\n",
       " Document(metadata={'source': 'sample.txt'}, page_content='Artificial Intelligence is basically the mechanism to incorporate human intelligence into machines through a set of rules(algorithm). AI is a combination of two words: \"Artificial\" meaning something made by humans or non-natural things and \"Intelligence\" meaning the ability to understand or think accordingly. Another definition could be that \"AI is\\n14 min read\\nDifference Between Machine Learning and Deep Learning\\nIf you are interested in building your career in the IT industry then you must have come across the term Data Science which is a booming field in terms of technologies and job availability as well. In this article, we will explore the Difference between Machine Learning and Deep Learning, two major fields within Data Science. Understanding these di\\n8 min read\\nAI vs. Machine Learning vs. Deep Learning vs. Neural Networks\\nArtificial Intelligence (AI), Machine Learning (ML), Deep Learning (DL), and Neural Networks (NN) are terms often used interchangeably. However, they represent different layers of complexity and specialization in the field of intelligent systems. This article will clarify the Difference between AI vs. machine learning vs. deep learning vs.')]"
      ]
     },
     "execution_count": 81,
     "metadata": {},
     "output_type": "execute_result"
    }
   ],
   "source": [
    "document=RecursiveCharacterTextSplitter(chunk_size=1500,chunk_overlap=50).split_documents(docs)\n",
    "document"
   ]
  },
  {
   "cell_type": "code",
   "execution_count": 82,
   "metadata": {},
   "outputs": [],
   "source": [
    "vectordb=FAISS.from_documents(document,embedding)"
   ]
  },
  {
   "cell_type": "code",
   "execution_count": 83,
   "metadata": {},
   "outputs": [],
   "source": [
    "db=vectordb.as_retriever()"
   ]
  },
  {
   "cell_type": "code",
   "execution_count": 84,
   "metadata": {},
   "outputs": [],
   "source": [
    "ret_doc=db.invoke(\"what is deep learning\")"
   ]
  },
  {
   "cell_type": "code",
   "execution_count": 85,
   "metadata": {},
   "outputs": [
    {
     "data": {
      "text/plain": [
       "[Document(id='7441b621-3eb9-41d5-a228-74a2cc583dc3', metadata={'source': 'sample.txt'}, page_content='The definition of Deep learning is that it is the branch of machine learning that is based on artificial neural network architecture. An artificial neural network or ANN uses layers of interconnected nodes called neurons that work together to process and learn from the input data.\\n\\nIn a fully connected Deep neural network, there is an input layer and one or more hidden layers connected one after the other. Each neuron receives input from the previous layer neurons or the input layer. The output of one neuron becomes the input to other neurons in the next layer of the network, and this process continues until the final layer produces the output of the network. The layers of the neural network transform the input data through a series of nonlinear transformations, allowing the network to learn complex representations of the input data.\\n\\nDeep Learning - Geeksforgeeks\\nScope of Deep Learning\\n\\nToday Deep learning AI has become one of the most popular and visible areas of machine learning, due to its success in a variety of applications, such as computer vision, natural language processing, and Reinforcement learning.\\n\\nDeep learning AI can be used for supervised, unsupervised as well as reinforcement machine learning. it uses a variety of ways to process these.'),\n",
       " Document(id='0a18d000-90f1-41d3-bb09-9ac3b6d68720', metadata={'source': 'sample.txt'}, page_content='Machine Learning\\n\\nDeep Learning\\n\\nApply statistical algorithms to learn the hidden patterns and relationships in the dataset.\\tUses artificial neural network architecture to learn the hidden patterns and relationships in the dataset.\\nCan work on the smaller amount of dataset\\tRequires the larger volume of dataset compared to machine learning\\nBetter for the low-label task.\\tBetter for complex task like image processing, natural language processing, etc.\\nTakes less time to train the model.\\tTakes more time to train the model.\\nA model is created by relevant features which are manually extracted from images to detect an object in the image.\\tRelevant features are automatically extracted from images. It is an end-to-end learning process.\\nLess complex and easy to interpret the result.\\tMore complex, it works like the black box interpretations of the result are not easy.\\nIt can work on the CPU or requires less computing power as compared to deep learning.\\tIt requires a high-performance computer with GPU.\\nTypes of neural networks\\nDeep Learning models are able to automatically learn features from the data, which makes them well-suited for tasks such as image recognition, speech recognition, and natural language processing. The most widely used architectures in deep learning are feedforward neural networks, convolutional neural networks (CNNs), and recurrent neural networks (RNNs).'),\n",
       " Document(id='36566232-7f62-40dd-a456-1052229cf7e4', metadata={'source': 'sample.txt'}, page_content='Data availability: It requires large amounts of data to learn from. For using deep learning itâ€™s a big concern to gather as much data for training.\\nComputational Resources: For training the deep learning model, it is computationally expensive because it requires specialized hardware like GPUs and TPUs.\\nTime-consuming: While working on sequential data depending on the computational resource it can take very large even in days or months. \\nInterpretability: Deep learning models are complex, it works like a black box. it is very difficult to interpret the result.\\nOverfitting: when the model is trained again and again, it becomes too specialized for the training data, leading to overfitting and poor performance on new data.\\nAdvantages of Deep Learning:\\nHigh accuracy: Deep Learning algorithms can achieve state-of-the-art performance in various tasks, such as image recognition and natural language processing.\\nAutomated feature engineering: Deep Learning algorithms can automatically discover and learn relevant features from data without the need for manual feature engineering.\\nScalability: Deep Learning models can scale to handle large and complex datasets, and can learn from massive amounts of data.\\nFlexibility: Deep Learning models can be applied to a wide range of tasks and can handle various types of data, such as images, text, and speech.\\nContinual improvement: Deep Learning models can continually improve their performance as more data becomes available.'),\n",
       " Document(id='77e90e46-cf8f-42d1-8903-f1018ec3e6ac', metadata={'source': 'sample.txt'}, page_content='Feedforward neural networks (FNNs) are the simplest type of ANN, with a linear flow of information through the network. FNNs have been widely used for tasks such as image classification, speech recognition, and natural language processing.\\nConvolutional Neural Networks (CNNs) are specifically for image and video recognition tasks. CNNs are able to automatically learn features from the images, which makes them well-suited for tasks such as image classification, object detection, and image segmentation.\\nRecurrent Neural Networks (RNNs) are a type of neural network that is able to process sequential data, such as time series and natural language. RNNs are able to maintain an internal state that captures information about the previous inputs, which makes them well-suited for tasks such as speech recognition, natural language processing, and language translation.\\nDeep Learning Applications:\\nThe main applications of deep learning AI can be divided into computer vision, natural language processing (NLP), and reinforcement learning. \\n\\n1. Computer vision\\nThe first Deep Learning applications is Computer vision. In computer vision, Deep learning AI models can enable machines to identify and understand visual data. Some of the main applications of deep learning in computer vision include:')]"
      ]
     },
     "execution_count": 85,
     "metadata": {},
     "output_type": "execute_result"
    }
   ],
   "source": [
    "ret_doc"
   ]
  },
  {
   "cell_type": "code",
   "execution_count": 86,
   "metadata": {},
   "outputs": [
    {
     "name": "stdout",
     "output_type": "stream",
     "text": [
      "The definition of Deep learning is that it is the branch of machine learning that is based on artificial neural network architecture. An artificial neural network or ANN uses layers of interconnected nodes called neurons that work together to process and learn from the input data.\n",
      "\n",
      "In a fully connected Deep neural network, there is an input layer and one or more hidden layers connected one after the other. Each neuron receives input from the previous layer neurons or the input layer. The output of one neuron becomes the input to other neurons in the next layer of the network, and this process continues until the final layer produces the output of the network. The layers of the neural network transform the input data through a series of nonlinear transformations, allowing the network to learn complex representations of the input data.\n",
      "\n",
      "Deep Learning - Geeksforgeeks\n",
      "Scope of Deep Learning\n",
      "\n",
      "Today Deep learning AI has become one of the most popular and visible areas of machine learning, due to its success in a variety of applications, such as computer vision, natural language processing, and Reinforcement learning.\n",
      "\n",
      "Deep learning AI can be used for supervised, unsupervised as well as reinforcement machine learning. it uses a variety of ways to process these.\n",
      "Machine Learning\n",
      "\n",
      "Deep Learning\n",
      "\n",
      "Apply statistical algorithms to learn the hidden patterns and relationships in the dataset.\tUses artificial neural network architecture to learn the hidden patterns and relationships in the dataset.\n",
      "Can work on the smaller amount of dataset\tRequires the larger volume of dataset compared to machine learning\n",
      "Better for the low-label task.\tBetter for complex task like image processing, natural language processing, etc.\n",
      "Takes less time to train the model.\tTakes more time to train the model.\n",
      "A model is created by relevant features which are manually extracted from images to detect an object in the image.\tRelevant features are automatically extracted from images. It is an end-to-end learning process.\n",
      "Less complex and easy to interpret the result.\tMore complex, it works like the black box interpretations of the result are not easy.\n",
      "It can work on the CPU or requires less computing power as compared to deep learning.\tIt requires a high-performance computer with GPU.\n",
      "Types of neural networks\n",
      "Deep Learning models are able to automatically learn features from the data, which makes them well-suited for tasks such as image recognition, speech recognition, and natural language processing. The most widely used architectures in deep learning are feedforward neural networks, convolutional neural networks (CNNs), and recurrent neural networks (RNNs).\n",
      "Data availability: It requires large amounts of data to learn from. For using deep learning itâ€™s a big concern to gather as much data for training.\n",
      "Computational Resources: For training the deep learning model, it is computationally expensive because it requires specialized hardware like GPUs and TPUs.\n",
      "Time-consuming: While working on sequential data depending on the computational resource it can take very large even in days or months. \n",
      "Interpretability: Deep learning models are complex, it works like a black box. it is very difficult to interpret the result.\n",
      "Overfitting: when the model is trained again and again, it becomes too specialized for the training data, leading to overfitting and poor performance on new data.\n",
      "Advantages of Deep Learning:\n",
      "High accuracy: Deep Learning algorithms can achieve state-of-the-art performance in various tasks, such as image recognition and natural language processing.\n",
      "Automated feature engineering: Deep Learning algorithms can automatically discover and learn relevant features from data without the need for manual feature engineering.\n",
      "Scalability: Deep Learning models can scale to handle large and complex datasets, and can learn from massive amounts of data.\n",
      "Flexibility: Deep Learning models can be applied to a wide range of tasks and can handle various types of data, such as images, text, and speech.\n",
      "Continual improvement: Deep Learning models can continually improve their performance as more data becomes available.\n",
      "Feedforward neural networks (FNNs) are the simplest type of ANN, with a linear flow of information through the network. FNNs have been widely used for tasks such as image classification, speech recognition, and natural language processing.\n",
      "Convolutional Neural Networks (CNNs) are specifically for image and video recognition tasks. CNNs are able to automatically learn features from the images, which makes them well-suited for tasks such as image classification, object detection, and image segmentation.\n",
      "Recurrent Neural Networks (RNNs) are a type of neural network that is able to process sequential data, such as time series and natural language. RNNs are able to maintain an internal state that captures information about the previous inputs, which makes them well-suited for tasks such as speech recognition, natural language processing, and language translation.\n",
      "Deep Learning Applications:\n",
      "The main applications of deep learning AI can be divided into computer vision, natural language processing (NLP), and reinforcement learning. \n",
      "\n",
      "1. Computer vision\n",
      "The first Deep Learning applications is Computer vision. In computer vision, Deep learning AI models can enable machines to identify and understand visual data. Some of the main applications of deep learning in computer vision include:\n"
     ]
    }
   ],
   "source": [
    "for doc in ret_doc:\n",
    "    print(doc.page_content)"
   ]
  },
  {
   "cell_type": "code",
   "execution_count": 87,
   "metadata": {},
   "outputs": [],
   "source": [
    "prompt=ChatPromptTemplate.from_template(\n",
    "    \"\"\"\n",
    "        Answer the following question based on the give context\n",
    "        {context}\n",
    "\n",
    "        question:{question}  \n",
    "   \"\"\"\n",
    ")"
   ]
  },
  {
   "cell_type": "code",
   "execution_count": 88,
   "metadata": {},
   "outputs": [],
   "source": [
    "chain=prompt|llm|StrOutputParser()"
   ]
  },
  {
   "cell_type": "code",
   "execution_count": 89,
   "metadata": {},
   "outputs": [],
   "source": [
    "response=chain.invoke({\"context\":document,\"question\":\"disadvanatge of deep learning\"})"
   ]
  },
  {
   "cell_type": "code",
   "execution_count": 90,
   "metadata": {},
   "outputs": [
    {
     "data": {
      "text/plain": [
       "'Based on the provided text, the disadvantages of deep learning are:\\n\\n* **High computational requirements:** Deep learning models need significant computational resources and large amounts of data for training and optimization.\\n* **Requires large amounts of labeled data:**  Training often requires extensive labeled data, which can be costly and time-consuming to obtain.\\n* **Interpretability:** Deep learning models are complex and can be difficult to interpret, making it hard to understand their decision-making processes.\\n* **Overfitting:** Models can overfit to training data, leading to poor performance on new, unseen data.\\n* **Black-box nature:**  The inner workings are often opaque, hindering understanding of how they produce predictions.'"
      ]
     },
     "execution_count": 90,
     "metadata": {},
     "output_type": "execute_result"
    }
   ],
   "source": [
    "response"
   ]
  },
  {
   "cell_type": "code",
   "execution_count": 91,
   "metadata": {},
   "outputs": [],
   "source": [
    "class Agenstate(TypedDict):\n",
    "    question:str\n",
    "    generation:str\n",
    "    websearch:str\n",
    "    documents:list[str]"
   ]
  },
  {
   "cell_type": "code",
   "execution_count": 92,
   "metadata": {},
   "outputs": [],
   "source": [
    "class Grader(BaseModel):\n",
    "    \"\"\"Check the document relevance give binary score 'yes' or 'no' \"\"\"\n",
    "    binary_score:str=Field(description=\"the relevance of binary score 'yes' or 'no' \")"
   ]
  },
  {
   "cell_type": "code",
   "execution_count": 93,
   "metadata": {},
   "outputs": [],
   "source": [
    "structured_llm=llm.with_structured_output(Grader)\n",
    "\n",
    "system1=\"\"\"\n",
    "    As you are grader assissting relevance export check strictly if the document contain any\n",
    "    keyword or semantic information related to the question if the question contain any relavance\n",
    "    you strictly give binary score 'yes' otherwise you only give 'no'\n",
    "\"\"\"\n",
    "\n",
    "prompt1=ChatPromptTemplate.from_messages([\n",
    "    (\"system\",system1),\n",
    "    (\"human\",\"Here is the question: {question} /n/n and here is the document {document}\")\n",
    "])\n",
    "\n",
    "\n",
    "doc_query_checker=prompt1|structured_llm"
   ]
  },
  {
   "cell_type": "code",
   "execution_count": 94,
   "metadata": {},
   "outputs": [
    {
     "data": {
      "text/plain": [
       "Grader(binary_score='no')"
      ]
     },
     "execution_count": 94,
     "metadata": {},
     "output_type": "execute_result"
    }
   ],
   "source": [
    "question=\"who built taj mahal\"\n",
    "doc_query_checker.invoke({'question':question,\"document\":ret_doc})"
   ]
  },
  {
   "cell_type": "code",
   "execution_count": 95,
   "metadata": {},
   "outputs": [],
   "source": [
    "system2=\"\"\"\n",
    "     As you are a query rewritter your task is to reformulate the given question into the better\n",
    "     version for the web search\n",
    "\"\"\"\n",
    "\n",
    "prompt2=ChatPromptTemplate.from_messages([\n",
    "    (\"system\",system2),\n",
    "    (\"human\",\"Here is the question : {question}\")\n",
    "])\n",
    "\n",
    "question_rewritter=prompt2|llm"
   ]
  },
  {
   "cell_type": "code",
   "execution_count": 96,
   "metadata": {},
   "outputs": [
    {
     "data": {
      "text/plain": [
       "AIMessage(content='Who commissioned the construction of the Taj Mahal?', additional_kwargs={}, response_metadata={'prompt_feedback': {'block_reason': 0, 'safety_ratings': []}, 'finish_reason': 'STOP', 'safety_ratings': []}, id='run-d6d285f4-f824-4604-919c-838b31aae271-0', usage_metadata={'input_tokens': 39, 'output_tokens': 10, 'total_tokens': 49, 'input_token_details': {'cache_read': 0}})"
      ]
     },
     "execution_count": 96,
     "metadata": {},
     "output_type": "execute_result"
    }
   ],
   "source": [
    "question_rewritter.invoke({\"question\":question})"
   ]
  },
  {
   "cell_type": "code",
   "execution_count": 97,
   "metadata": {},
   "outputs": [],
   "source": [
    "prompt3=ChatPromptTemplate.from_template(\n",
    "    \"\"\"\n",
    "        Answer the following question based on the given context:\n",
    "        <context>\n",
    "        {context}\n",
    "        <context>\n",
    "\n",
    "        question:{question}\n",
    "    \"\"\"\n",
    ")\n",
    "\n",
    "gen_answer=prompt3|llm"
   ]
  },
  {
   "cell_type": "code",
   "execution_count": 98,
   "metadata": {},
   "outputs": [],
   "source": [
    "def retriever(state:Agenstate):\n",
    "    print(\"== > RETRIEVING THE DOCUMENT <==\")\n",
    "    question=state[\"question\"]\n",
    "\n",
    "    documents=db.invoke(question)\n",
    "    return {\"question\":question,\"documents\":documents}"
   ]
  },
  {
   "cell_type": "code",
   "execution_count": 99,
   "metadata": {},
   "outputs": [],
   "source": [
    "def grading_documents(state:Agenstate):\n",
    "\n",
    "    print(\"===> GRADING DOCUMENTS <===\")\n",
    "    question=state[\"question\"]\n",
    "    documents=state[\"documents\"]\n",
    "\n",
    "    doclist=[]\n",
    "    websearch=\"no\"\n",
    "\n",
    "    for doc in documents:\n",
    "        grade=doc_query_checker.invoke({\"question\":question,\"document\":doc.page_content})\n",
    "        score=grade.binary_score\n",
    "\n",
    "        if score=='yes':\n",
    "            print(\"ALL DOCUMENTS ARE RELEVANT \")\n",
    "            doclist.append(doc)\n",
    "\n",
    "        else:\n",
    "            print(\"DOCUMENTS ARE NOT REELAVNT\")\n",
    "            websearch='yes'\n",
    "            continue\n",
    "    return {\"question\":question,\"documents\":doclist,\"websearch\":websearch}"
   ]
  },
  {
   "cell_type": "code",
   "execution_count": 100,
   "metadata": {},
   "outputs": [],
   "source": [
    "def generate(state:Agenstate):\n",
    "    print(\"==>GENERATE THE ANSWER <==\")\n",
    "    question=state[\"question\"]\n",
    "    documents=state[\"documents\"]\n",
    "\n",
    "    generating=gen_answer.invoke({\"question\":question,\"context\":documents})\n",
    "    return {\"question\":question,\"generation\":generating}"
   ]
  },
  {
   "cell_type": "code",
   "execution_count": 101,
   "metadata": {},
   "outputs": [],
   "source": [
    "search=TavilySearchResults(max_results=3)"
   ]
  },
  {
   "cell_type": "code",
   "execution_count": 102,
   "metadata": {},
   "outputs": [
    {
     "data": {
      "text/plain": [
       "[{'url': 'https://smarthistory.org/the-taj-mahal/',\n",
       "  'content': 'Smarthistory – The Taj Mahal Taj Mahal, Agra, India, 1632–53 (photo: King of Hearts, CC BY-SA 4.0) Shah Jahan built the Taj Mahal in Agra, where he took the throne in 1628. When viewed from the main gateway today, the Taj Mahal appears to deviate from this norm, as it is not centrally placed within the garden, but rather\\xa0located at the end of a\\xa0complex that is backed by the river, such as was found in other Mughal-era pleasure gardens. View from the Mahtab Bagh, Taj Mahal, Agra, India, 1632–53 (photo: Steve Evans, CC BY-NC 2.0) Relegated to Agra Fort under house arrest for eight years prior to his death in 1666, Shah Jahan could enjoy only a distant view of the Taj Mahal.'},\n",
       " {'url': 'https://www.tajmahal.gov.in/taj-story.aspx',\n",
       "  'content': 'It was built by the fifth Mughal emperor, Shah Jahan in 1631 in memory of his third but the most favourite wife, in fact a soul-mate Mumtaz Mahal, a Muslim'},\n",
       " {'url': 'https://whc.unesco.org/en/list/252/',\n",
       "  'content': \"Taj Mahal - UNESCO World Heritage Centre An immense mausoleum of white marble, built in Agra between 1631 and 1648 by order of the Mughal emperor Shah Jahan in memory of his favourite wife, the Taj Mahal is the jewel of Muslim art in India and one of the universally admired masterpieces of the world's heritage. The TTZ comprises of 40 protected monuments including three World Heritage Sites - Taj Mahal, Agra Fort and Fatehpur Sikri. About World Heritage The Convention Convention Text Policy Compendium Declaration of principles Operational Guidelines The Emblem The States Parties The Advisory Bodies The Centre Employment & Internships Who's Who\"}]"
      ]
     },
     "execution_count": 102,
     "metadata": {},
     "output_type": "execute_result"
    }
   ],
   "source": [
    "search.invoke(\"who built taj mahal\")"
   ]
  },
  {
   "cell_type": "code",
   "execution_count": 103,
   "metadata": {},
   "outputs": [],
   "source": [
    "def websearching(state:Agenstate):\n",
    "    question=state[\"question\"]\n",
    "    documents=state[\"documents\"]\n",
    "\n",
    "    result=search.invoke(question)\n",
    "    web_docs='\\n\\n'.join(res['content'] for res in result)\n",
    "    web_result=Document(page_content=web_docs)\n",
    "\n",
    "    documents.append(web_result)\n",
    "\n",
    "    return {\"question\":question,\"documents\":documents}"
   ]
  },
  {
   "cell_type": "code",
   "execution_count": 104,
   "metadata": {},
   "outputs": [],
   "source": [
    "def rewritting(state:Agenstate):\n",
    "    print(\"==> QUESTION REWRITTING <==\")\n",
    "    question=state[\"question\"]\n",
    "    documents=state[\"documents\"]\n",
    "    better_question=question_rewritter.invoke({\"question\":question})\n",
    "\n",
    "    print(f\" the rewritted question {better_question}\")\n",
    "\n",
    "    return {\"question\":question,\"documents\":documents}"
   ]
  },
  {
   "cell_type": "code",
   "execution_count": 105,
   "metadata": {},
   "outputs": [],
   "source": [
    "def router(state:Agenstate):\n",
    "\n",
    "    print(\"===> ENTERING INTO THE ROUTER <===\")\n",
    "    question=state[\"question\"]\n",
    "    websearch=state[\"websearch\"]\n",
    "\n",
    "    if websearch=='yes':\n",
    "        print(\"==> NEED TO  TRANSFORM THE QUERY <===\")\n",
    "        return \"transform\"\n",
    "    else:\n",
    "        print(\"===>ALLOW TO GENERATE ANSWER <===\")\n",
    "        return \"generate\""
   ]
  },
  {
   "cell_type": "code",
   "execution_count": 106,
   "metadata": {},
   "outputs": [],
   "source": [
    "graph=StateGraph(Agenstate)"
   ]
  },
  {
   "cell_type": "code",
   "execution_count": 107,
   "metadata": {},
   "outputs": [
    {
     "data": {
      "text/plain": [
       "<langgraph.graph.state.StateGraph at 0x14481102fc0>"
      ]
     },
     "execution_count": 107,
     "metadata": {},
     "output_type": "execute_result"
    }
   ],
   "source": [
    "graph.add_node(\"retrieving_docs\",retriever)\n",
    "graph.add_node(\"grading_docs\",grading_documents)\n",
    "graph.add_node(\"generating_answer\",generate)\n",
    "graph.add_node(\"transforming_query\",rewritting)\n",
    "graph.add_node(\"web_searching\",websearching)\n",
    "graph.set_entry_point(\"retrieving_docs\")"
   ]
  },
  {
   "cell_type": "code",
   "execution_count": 108,
   "metadata": {},
   "outputs": [
    {
     "data": {
      "text/plain": [
       "<langgraph.graph.state.StateGraph at 0x14481102fc0>"
      ]
     },
     "execution_count": 108,
     "metadata": {},
     "output_type": "execute_result"
    }
   ],
   "source": [
    "graph.add_conditional_edges(\"grading_docs\",\n",
    "                            router,\n",
    "                            {\n",
    "                                \"transform\":\"transforming_query\",\n",
    "                                \"generate\":\"generating_answer\"\n",
    "                            })"
   ]
  },
  {
   "cell_type": "code",
   "execution_count": 109,
   "metadata": {},
   "outputs": [
    {
     "data": {
      "text/plain": [
       "<langgraph.graph.state.StateGraph at 0x14481102fc0>"
      ]
     },
     "execution_count": 109,
     "metadata": {},
     "output_type": "execute_result"
    }
   ],
   "source": [
    "graph.add_edge(\"generating_answer\",END)\n",
    "graph.add_edge(\"retrieving_docs\",\"grading_docs\")\n",
    "graph.add_edge(\"transforming_query\",\"web_searching\")\n",
    "graph.add_edge(\"web_searching\",\"grading_docs\")"
   ]
  },
  {
   "cell_type": "code",
   "execution_count": 110,
   "metadata": {},
   "outputs": [],
   "source": [
    "app=graph.compile()"
   ]
  },
  {
   "cell_type": "code",
   "execution_count": 111,
   "metadata": {},
   "outputs": [
    {
     "data": {
      "image/png": "[encoded data removed]",
      "text/plain": [
       "<IPython.core.display.Image object>"
      ]
     },
     "metadata": {},
     "output_type": "display_data"
    }
   ],
   "source": [
    "try:\n",
    "    display(Image(app.get_graph().draw_mermaid_png()))\n",
    "except Exception as e:\n",
    "    print(e)"
   ]
  },
  {
   "cell_type": "code",
   "execution_count": 112,
   "metadata": {},
   "outputs": [],
   "source": [
    "from pprint import pprint\n",
    "input={'question':\"what is deep learning\"}"
   ]
  },
  {
   "cell_type": "code",
   "execution_count": 113,
   "metadata": {},
   "outputs": [
    {
     "name": "stdout",
     "output_type": "stream",
     "text": [
      "== > RETRIEVING THE DOCUMENT <==\n",
      "node retrieving_docs\n",
      "'/n.../n'\n",
      "===> GRADING DOCUMENTS <===\n",
      "ALL DOCUMENTS ARE RELEVANT \n",
      "ALL DOCUMENTS ARE RELEVANT \n",
      "ALL DOCUMENTS ARE RELEVANT \n",
      "ALL DOCUMENTS ARE RELEVANT \n",
      "===> ENTERING INTO THE ROUTER <===\n",
      "===>ALLOW TO GENERATE ANSWER <===\n",
      "node grading_docs\n",
      "'/n.../n'\n",
      "==>GENERATE THE ANSWER <==\n",
      "node generating_answer\n",
      "'/n.../n'\n",
      "AIMessage(content=\"Deep learning is a branch of machine learning based on artificial neural network architecture.  These networks use layers of interconnected nodes (neurons) to process and learn from input data.  In a fully connected deep neural network, information flows through input and one or more hidden layers, with each neuron's output becoming the input for others in the next layer.  This process, involving nonlinear transformations, allows the network to learn complex representations of the input data.  Deep learning's success has made it a popular area of machine learning, used in applications such as computer vision, natural language processing, and reinforcement learning.  It can be applied to supervised, unsupervised, and reinforcement machine learning.\", additional_kwargs={}, response_metadata={'prompt_feedback': {'block_reason': 0, 'safety_ratings': []}, 'finish_reason': 'STOP', 'safety_ratings': []}, id='run-854ddc3c-e4dd-44c3-9927-b96e6fd0b26e-0', usage_metadata={'input_tokens': 1292, 'output_tokens': 138, 'total_tokens': 1430, 'input_token_details': {'cache_read': 0}})\n"
     ]
    }
   ],
   "source": [
    "for output in app.stream(input):\n",
    "    for key,value in output.items():\n",
    "        print(f\"node {key}\")\n",
    "\n",
    "    pprint(\"/n.../n\")\n",
    "pprint(value[\"generation\"])"
   ]
  },
  {
   "cell_type": "code",
   "execution_count": 114,
   "metadata": {},
   "outputs": [],
   "source": [
    "input1={'question':\"how many languages in india\"}"
   ]
  },
  {
   "cell_type": "code",
   "execution_count": 115,
   "metadata": {},
   "outputs": [
    {
     "name": "stdout",
     "output_type": "stream",
     "text": [
      "== > RETRIEVING THE DOCUMENT <==\n",
      "node retrieving_docs\n",
      "'/n.../n'\n",
      "===> GRADING DOCUMENTS <===\n",
      "DOCUMENTS ARE NOT REELAVNT\n",
      "DOCUMENTS ARE NOT REELAVNT\n",
      "DOCUMENTS ARE NOT REELAVNT\n",
      "DOCUMENTS ARE NOT REELAVNT\n",
      "===> ENTERING INTO THE ROUTER <===\n",
      "==> NEED TO  TRANSFORM THE QUERY <===\n",
      "node grading_docs\n",
      "'/n.../n'\n",
      "==> QUESTION REWRITTING <==\n",
      " the rewritted question content='How many languages are officially recognized in India?' additional_kwargs={} response_metadata={'prompt_feedback': {'block_reason': 0, 'safety_ratings': []}, 'finish_reason': 'STOP', 'safety_ratings': []} id='run-7c0f4610-50f1-4285-80d7-2b74ed4f4718-0' usage_metadata={'input_tokens': 40, 'output_tokens': 10, 'total_tokens': 50, 'input_token_details': {'cache_read': 0}}\n",
      "node transforming_query\n",
      "'/n.../n'\n",
      "node web_searching\n",
      "'/n.../n'\n",
      "===> GRADING DOCUMENTS <===\n",
      "ALL DOCUMENTS ARE RELEVANT \n",
      "===> ENTERING INTO THE ROUTER <===\n",
      "===>ALLOW TO GENERATE ANSWER <===\n",
      "node grading_docs\n",
      "'/n.../n'\n",
      "==>GENERATE THE ANSWER <==\n",
      "node generating_answer\n",
      "'/n.../n'\n",
      "AIMessage(content='The provided text gives conflicting information.  It states that India has 121 languages and 270 mother tongues, but also mentions 22 and then 21 official languages.  The discrepancy makes it impossible to give a definitive answer to the question of how many languages are in India based solely on this text.', additional_kwargs={}, response_metadata={'prompt_feedback': {'block_reason': 0, 'safety_ratings': []}, 'finish_reason': 'STOP', 'safety_ratings': []}, id='run-bf6f1770-e166-45de-a299-7af13baf1496-0', usage_metadata={'input_tokens': 179, 'output_tokens': 68, 'total_tokens': 247, 'input_token_details': {'cache_read': 0}})\n"
     ]
    }
   ],
   "source": [
    "for output in app.stream(input1):\n",
    "    for key,value in output.items():\n",
    "        print(f\"node {key}\")\n",
    "\n",
    "    pprint(\"/n.../n\")\n",
    "pprint(value[\"generation\"])"
   ]
  },
  {
   "cell_type": "code",
   "execution_count": 116,
   "metadata": {},
   "outputs": [],
   "source": [
    "result=search.invoke(\"give tips to improve good habits\")"
   ]
  },
  {
   "cell_type": "code",
   "execution_count": 117,
   "metadata": {},
   "outputs": [
    {
     "data": {
      "text/plain": [
       "[{'url': 'https://www.masterclass.com/articles/how-to-build-a-habit',\n",
       "  'content': '1. Write down your goals. · 2. Avoid triggers. · 3. Identify the root cause of your habits. · 4. Focus on making small changes. · 5. Establish a'},\n",
       " {'url': 'https://weekplan.net/tips-to-develop-good-habits/',\n",
       "  'content': '15 Key Tips to Develop Good Habits That Work · 1 - Start with Small Adjustments · 2 - Be Positive · 3 - Once you make the Decision, Commit to it · 4'},\n",
       " {'url': 'https://www.betterup.com/blog/building-habits',\n",
       "  'content': 'And one of the best ways to change your lifestyle is by improving your daily routine. Map out your day and integrate healthy practices where they make sense.'}]"
      ]
     },
     "execution_count": 117,
     "metadata": {},
     "output_type": "execute_result"
    }
   ],
   "source": [
    "result"
   ]
  }
 ],
 "metadata": {
  "kernelspec": {
   "display_name": "myvenv",
   "language": "python",
   "name": "python3"
  },
  "language_info": {
   "codemirror_mode": {
    "name": "ipython",
    "version": 3
   },
   "file_extension": ".py",
   "mimetype": "text/x-python",
   "name": "python",
   "nbconvert_exporter": "python",
   "pygments_lexer": "ipython3",
   "version": "3.12.2"
  }
 },
 "nbformat": 4,
 "nbformat_minor": 2
}
