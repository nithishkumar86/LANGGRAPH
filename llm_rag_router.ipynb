{
 "cells": [
  {
   "cell_type": "markdown",
   "metadata": {},
   "source": [
    "#multiagent using rag and llm in langgraph"
   ]
  },
  {
   "cell_type": "code",
   "execution_count": null,
   "metadata": {},
   "outputs": [],
   "source": [
    "from langchain_groq import ChatGroq\n",
    "from langchain_text_splitters import RecursiveCharacterTextSplitter\n",
    "from langchain_community.vectorstores import FAISS\n",
    "from langgraph.graph import START,StateGraph,END\n",
    "from typing import Annotated\n",
    "from typing import TypedDict,Sequence\n",
    "import operator\n",
    "from IPython.display import display,Image\n",
    "from langgraph.graph.message import add_messages\n",
    "from langchain_community.tools.tavily_search import TavilySearchResults\n",
    "from langgraph.prebuilt import ToolNode,tools_condition\n",
    "from langchain.tools import tool\n",
    "from langchain_community.document_loaders import PyPDFLoader\n",
    "from langchain_huggingface import HuggingFaceEmbeddings\n",
    "from langchain_core.prompts import ChatPromptTemplate\n",
    "from langchain_core.output_parsers import StrOutputParser\n",
    "from langchain_core.messages import BaseMessage\n",
    "from pydantic import BaseModel,Field\n",
    "from langchain_core.output_parsers import PydanticOutputParser\n",
    "from langchain import PromptTemplate"
   ]
  },
  {
   "cell_type": "code",
   "execution_count": 2,
   "metadata": {},
   "outputs": [
    {
     "data": {
      "text/plain": [
       "True"
      ]
     },
     "execution_count": 2,
     "metadata": {},
     "output_type": "execute_result"
    }
   ],
   "source": [
    "import os\n",
    "from dotenv import load_dotenv\n",
    "load_dotenv()"
   ]
  },
  {
   "cell_type": "code",
   "execution_count": 3,
   "metadata": {},
   "outputs": [],
   "source": [
    "os.environ[\"HF_TOKEN\"]=os.getenv(\"HF_TOKEN\")"
   ]
  },
  {
   "cell_type": "code",
   "execution_count": 4,
   "metadata": {},
   "outputs": [
    {
     "name": "stderr",
     "output_type": "stream",
     "text": [
      "c:\\Users\\user\\OneDrive\\Desktop\\langgraph\\myvenv\\Lib\\site-packages\\tqdm\\auto.py:21: TqdmWarning: IProgress not found. Please update jupyter and ipywidgets. See https://ipywidgets.readthedocs.io/en/stable/user_install.html\n",
      "  from .autonotebook import tqdm as notebook_tqdm\n"
     ]
    }
   ],
   "source": [
    "embedding=HuggingFaceEmbeddings(model_name=\"all-MiniLM-L6-v2\")"
   ]
  },
  {
   "cell_type": "code",
   "execution_count": 5,
   "metadata": {},
   "outputs": [],
   "source": [
    "os.environ[\"GROQ_API_KEY\"]=os.getenv(\"GROQ_API_KEY\")"
   ]
  },
  {
   "cell_type": "code",
   "execution_count": 6,
   "metadata": {},
   "outputs": [],
   "source": [
    "llm=ChatGroq(model=\"gemma2-9b-it\")"
   ]
  },
  {
   "cell_type": "code",
   "execution_count": 7,
   "metadata": {},
   "outputs": [
    {
     "data": {
      "text/plain": [
       "AIMessage(content=\"**Gen AI**, short for **Generative Artificial Intelligence**, is a type of artificial intelligence that focuses on creating new content. \\n\\nThink of it like this:\\n\\n* **Traditional AI:**  Good at analyzing existing data, recognizing patterns, and making predictions. \\n* **Gen AI:** Takes that understanding of patterns and uses it to build something entirely new.\\n\\n**What can Gen AI create?**\\n\\n* **Text:**  Stories, poems, articles, code, scripts, emails, letters\\n* **Images:** Photos, artwork, illustrations, 3D models\\n* **Audio:** Music, sound effects, voiceovers\\n* **Video:** Animations, short films\\n* **Other:**  Synthetic data, game levels, chemical compounds\\n\\n**How does it work?**\\n\\nGen AI models are typically trained on massive datasets of existing content. They learn the underlying rules and structures of that data, then use that knowledge to generate new content that follows similar patterns. \\n\\n* **Deep Learning:**  A key technique used in Gen AI is deep learning, which involves artificial neural networks with many layers. These networks can learn complex relationships in data and generate highly realistic outputs.\\n\\n**Examples of Gen AI tools:**\\n\\n* **ChatGPT:**  Generates human-like text in response to prompts.\\n* **DALL-E 2:** Creates images from textual descriptions.\\n* **Midjourney:**  Generates artistic images from text prompts.\\n* **Jukebox:**  Composes music in various styles.\\n\\n**Applications of Gen AI:**\\n\\n* **Content Creation:** Writing marketing copy, generating ideas for stories, creating artwork.\\n* **Education:**  Developing personalized learning experiences, generating practice questions.\\n* **Research:**  Creating synthetic data for testing and analysis.\\n* **Entertainment:**  Generating game content, creating realistic special effects.\\n\\n**Ethical considerations:**\\n\\n* **Bias:**  Gen AI models can inherit biases present in the training data, leading to unfair or discriminatory outputs.\\n* **Misinformation:**  Gen AI can be used to create convincing fake news and other forms of misinformation.\\n* **Copyright:**  The ownership and copyright of content generated by Gen AI is a complex legal issue.\\n\\n\\nGen AI is a rapidly evolving field with the potential to revolutionize many industries. However, it's important to be aware of the ethical considerations and potential risks associated with this technology.\\n\", additional_kwargs={}, response_metadata={'token_usage': {'completion_tokens': 496, 'prompt_tokens': 13, 'total_tokens': 509, 'completion_time': 0.901818182, 'prompt_time': 7.778e-05, 'queue_time': 0.01998018, 'total_time': 0.901895962}, 'model_name': 'gemma2-9b-it', 'system_fingerprint': 'fp_10c08bf97d', 'finish_reason': 'stop', 'logprobs': None}, id='run-9c30a666-e884-46c9-a31e-699b3dd81b37-0', usage_metadata={'input_tokens': 13, 'output_tokens': 496, 'total_tokens': 509})"
      ]
     },
     "execution_count": 7,
     "metadata": {},
     "output_type": "execute_result"
    }
   ],
   "source": [
    "llm.invoke(\"what is gen ai\")"
   ]
  },
  {
   "cell_type": "code",
   "execution_count": 8,
   "metadata": {},
   "outputs": [],
   "source": [
    "loader=PyPDFLoader(file_path=\"C:\\\\Users\\\\user\\\\OneDrive\\\\Desktop\\\\langgraph\\\\temp.pdf\")\n",
    "docs=loader.load()"
   ]
  },
  {
   "cell_type": "code",
   "execution_count": 9,
   "metadata": {},
   "outputs": [],
   "source": [
    "documents=RecursiveCharacterTextSplitter(chunk_size=400,chunk_overlap=40).split_documents(docs)"
   ]
  },
  {
   "cell_type": "code",
   "execution_count": 10,
   "metadata": {},
   "outputs": [
    {
     "data": {
      "text/plain": [
       "[Document(metadata={'source': 'C:\\\\Users\\\\user\\\\OneDrive\\\\Desktop\\\\langgraph\\\\temp.pdf', 'page': 0}, page_content='From Wikipedia, the free encyclopedia \\nAn illustration of main components of the \\ntransformer model from the paper \\n\"Attention Is All You Need\"[1] is a 2017 landmark[2][3] research paper in machine learning authored by \\neight scientists working at Google. The paper introduced a new deep learning architecture known as'),\n",
       " Document(metadata={'source': 'C:\\\\Users\\\\user\\\\OneDrive\\\\Desktop\\\\langgraph\\\\temp.pdf', 'page': 0}, page_content='the transformer, based on the attention mechanism proposed in 2014 by Bahdanau et al.[4] It is \\nconsidered a foundational[5] paper in modern artificial intelligence, as the transformer approach has \\nbecome the main architecture of large language models like those based on GPT.[6][7] At the time, the'),\n",
       " Document(metadata={'source': 'C:\\\\Users\\\\user\\\\OneDrive\\\\Desktop\\\\langgraph\\\\temp.pdf', 'page': 0}, page_content='focus of the research was on improving Seq2seq techniques for machine translation, but the authors \\ngo further in the paper, foreseeing the technique\\'s potential for other tasks like question \\nanswering and what is now known as multimodal Generative AI.[1] \\nThe paper\\'s title is a reference to the song \"All You Need Is Love\" by the Beatles.[8] The name'),\n",
       " Document(metadata={'source': 'C:\\\\Users\\\\user\\\\OneDrive\\\\Desktop\\\\langgraph\\\\temp.pdf', 'page': 0}, page_content='\"Transformer\" was picked because Uszkoreit liked the sound of that word.[9] \\nAn early design document was titled \"Transformers: Iterative Self-Attention and Processing for \\nVarious Tasks\", and included an illustration of six characters from the Transformers animated show. \\nThe team was named Team Transformer.[8]'),\n",
       " Document(metadata={'source': 'C:\\\\Users\\\\user\\\\OneDrive\\\\Desktop\\\\langgraph\\\\temp.pdf', 'page': 0}, page_content='Some early examples that the team tried their Transformer architecture on included English-to-\\nGerman translation, generating Wikipedia articles on \"The Transformer\", and parsing. These \\nconvinced the team that the Transformer is a general purpose language model, and not just good for \\ntranslation.[9] \\nAs of 2024, the paper has been cited more than 100,000 times.[10]'),\n",
       " Document(metadata={'source': 'C:\\\\Users\\\\user\\\\OneDrive\\\\Desktop\\\\langgraph\\\\temp.pdf', 'page': 0}, page_content='For their 100M-parameter Transformer model, they suggested learning rate should be linearly scaled \\nup from 0 to maximal value for the first part of the training (i.e. 2% of the total number of training \\nsteps), and to use dropout, to stabilize training. \\nAuthors \\n[edit] \\nThe authors of the paper are: Ashish Vaswani, Noam Shazeer, Niki Parmar, Jakob Uszkoreit, Llion'),\n",
       " Document(metadata={'source': 'C:\\\\Users\\\\user\\\\OneDrive\\\\Desktop\\\\langgraph\\\\temp.pdf', 'page': 0}, page_content='Jones, Aidan Gomez, Lukasz Kaiser, and Illia Polosukhin. All eight authors were \"equal contributors\" \\nto the paper; the listed order was randomized. The Wired article highlights the group\\'s diversity:[8]'),\n",
       " Document(metadata={'source': 'C:\\\\Users\\\\user\\\\OneDrive\\\\Desktop\\\\langgraph\\\\temp.pdf', 'page': 1}, page_content='Six of the eight authors were born outside the United States; the other two are children of two \\ngreen-card-carrying Germans who were temporarily in California and a first-generation American \\nwhose family had fled persecution, respectively. \\nBy 2023, all eight authors had left Google and founded their own AI start-ups (except Łukasz Kaiser, \\nwho joined OpenAI).[8][10] \\nHistorical context \\n[edit]'),\n",
       " Document(metadata={'source': 'C:\\\\Users\\\\user\\\\OneDrive\\\\Desktop\\\\langgraph\\\\temp.pdf', 'page': 1}, page_content='Historical context \\n[edit] \\nMain articles: Transformer (deep learning architecture) § History, and Seq2seq § History \\nSee also: Timeline of machine learning \\nPredecessors \\n[edit] \\nFor many years, sequence modelling and generation was done by using plain recurrent neural \\nnetworks (RNNs). A well-cited early example was the Elman network (1990). In theory, the'),\n",
       " Document(metadata={'source': 'C:\\\\Users\\\\user\\\\OneDrive\\\\Desktop\\\\langgraph\\\\temp.pdf', 'page': 1}, page_content=\"information from one token can propagate arbitrarily far down the sequence, but in practice \\nthe vanishing-gradient problem leaves the model's state at the end of a long sentence without \\nprecise, extractable information about preceding tokens. \\nA key breakthrough was LSTM (1995),[note 1] a RNN which used various innovations to overcome the\"),\n",
       " Document(metadata={'source': 'C:\\\\Users\\\\user\\\\OneDrive\\\\Desktop\\\\langgraph\\\\temp.pdf', 'page': 1}, page_content='vanishing gradient problem, allowing efficient learning of long-sequence modelling. One key \\ninnovation was the use of an attention mechanism which used neurons that multiply the outputs of \\nother neurons, so-called multiplicative units.[11] Neural networks using multiplicative units were later \\ncalled sigma-pi networks[12] or higher-order networks.[13] LSTM became the standard architecture for'),\n",
       " Document(metadata={'source': 'C:\\\\Users\\\\user\\\\OneDrive\\\\Desktop\\\\langgraph\\\\temp.pdf', 'page': 1}, page_content='long sequence modelling until the 2017 publication of Transformers. However, LSTM still used \\nsequential processing, like most other RNNs.[note 2] Specifically, RNNs operate one token at a time \\nfrom first to last; they cannot operate in parallel over all tokens in a sequence. \\nModern Transformers overcome this problem, but unlike RNNs, they require computation time that'),\n",
       " Document(metadata={'source': 'C:\\\\Users\\\\user\\\\OneDrive\\\\Desktop\\\\langgraph\\\\temp.pdf', 'page': 1}, page_content='is quadratic in the size of the context window. The linearly scaling fast weight controller (1992) learns \\nto compute a weight matrix for further processing depending on the input.[14] One of its two \\nnetworks has \"fast weights\" or \"dynamic links\" (1981).[15][16][17] A slow neural network learns by \\ngradient descent to generate keys and values for computing the weight changes of the fast neural'),\n",
       " Document(metadata={'source': 'C:\\\\Users\\\\user\\\\OneDrive\\\\Desktop\\\\langgraph\\\\temp.pdf', 'page': 1}, page_content='network which computes answers to queries.[14] This was later shown to be equivalent to the \\nunnormalized linear Transformer.[18][19] \\nAttention with seq2seq \\n[edit] \\nMain article: Seq2seq § History \\nThe idea of encoder-decoder sequence transduction had been developed in the early 2010s (see \\nprevious papers[20][21]). The papers most commonly cited as the originators that produced seq2seq'),\n",
       " Document(metadata={'source': 'C:\\\\Users\\\\user\\\\OneDrive\\\\Desktop\\\\langgraph\\\\temp.pdf', 'page': 1}, page_content='are two concurrently published papers from 2014.[20][21] \\nA 380M-parameter model for machine translation uses two long short-term memories (LSTM).[21] Its \\narchitecture consists of two parts. The encoder is an LSTM that takes in a sequence of tokens and'),\n",
       " Document(metadata={'source': 'C:\\\\Users\\\\user\\\\OneDrive\\\\Desktop\\\\langgraph\\\\temp.pdf', 'page': 2}, page_content='turns it into a vector. The decoder is another LSTM that converts the vector into a sequence of \\ntokens. Similarly, another 130M-parameter model used gated recurrent units (GRU) instead of \\nLSTM.[20] Later research showed that GRUs are neither better nor worse than LSTMs for \\nseq2seq.[22][23] \\nThese early seq2seq models had no attention mechanism, and the state vector is accessible only'),\n",
       " Document(metadata={'source': 'C:\\\\Users\\\\user\\\\OneDrive\\\\Desktop\\\\langgraph\\\\temp.pdf', 'page': 2}, page_content='after the last word of the source text was processed. Although in theory such a vector retains the \\ninformation about the whole original sentence, in practice the information is poorly preserved. This \\nis because the input is processed sequentially by one recurrent network into a fixed-size output \\nvector, which is then processed by another recurrent network into an output. If the input is long,'),\n",
       " Document(metadata={'source': 'C:\\\\Users\\\\user\\\\OneDrive\\\\Desktop\\\\langgraph\\\\temp.pdf', 'page': 2}, page_content='then the output vector would not be able to contain all relevant information, degrading the output. \\nAs evidence, reversing the input sentence improved seq2seq translation.[24] \\nThe RNNsearch model introduced an attention mechanism to seq2seq for machine translation to \\nsolve the bottleneck problem (of the fixed-size output vector), allowing the model to process long-'),\n",
       " Document(metadata={'source': 'C:\\\\Users\\\\user\\\\OneDrive\\\\Desktop\\\\langgraph\\\\temp.pdf', 'page': 2}, page_content='distance dependencies more easily. The name is because it \"emulates searching through a source \\nsentence during decoding a translation\".[4] \\nThe relative performances were compared between global (that of RNNsearch) and local (sliding \\nwindow) attention model architectures for machine translation, finding that mixed attention had'),\n",
       " Document(metadata={'source': 'C:\\\\Users\\\\user\\\\OneDrive\\\\Desktop\\\\langgraph\\\\temp.pdf', 'page': 2}, page_content='higher quality than global attention, while local attention reduced translation time.[25] \\nIn 2016, Google Translate was revamped to Google Neural Machine Translation, which replaced the \\nprevious model based on statistical machine translation. The new model was a seq2seq model where \\nthe encoder and the decoder were both 8 layers of bidirectional LSTM.[26] It took nine months to'),\n",
       " Document(metadata={'source': 'C:\\\\Users\\\\user\\\\OneDrive\\\\Desktop\\\\langgraph\\\\temp.pdf', 'page': 2}, page_content='develop, and it outperformed the statistical approach, which took ten years to develop.[27] \\nParallelizing attention \\n[edit] \\nMain article: Attention (machine learning) § History \\nSeq2seq models with attention (including self-attention) still suffered from the same issue with \\nrecurrent networks, which is that they are hard to parallelize, which prevented them to be'),\n",
       " Document(metadata={'source': 'C:\\\\Users\\\\user\\\\OneDrive\\\\Desktop\\\\langgraph\\\\temp.pdf', 'page': 2}, page_content='accelerated on GPUs. In 2016, decomposable attention applied a self-attention mechanism \\nto feedforward networks, which are easy to parallelize, and achieved SOTA result in textual \\nentailment with an order of magnitude less parameters than LSTMs.[28] One of its authors, Jakob \\nUszkoreit, suspected that attention without recurrence is sufficient for language translation, thus the'),\n",
       " Document(metadata={'source': 'C:\\\\Users\\\\user\\\\OneDrive\\\\Desktop\\\\langgraph\\\\temp.pdf', 'page': 2}, page_content='title \"attention is all you need\".[29] That hypothesis was against conventional wisdom of the time, and \\neven his father, a well-known computational linguist, was skeptical.[29] In the same year, self-attention \\n(called intra-attention or intra-sentence attention) was proposed for LSTMs.[30] \\nIn 2017, the original (100M-sized) encoder-decoder transformer model was proposed in the'),\n",
       " Document(metadata={'source': 'C:\\\\Users\\\\user\\\\OneDrive\\\\Desktop\\\\langgraph\\\\temp.pdf', 'page': 2}, page_content='\"Attention is all you need\" paper. At the time, the focus of the research was on \\nimproving seq2seq for machine translation, by removing its recurrence to process all tokens in \\nparallel, but preserving its dot-product attention mechanism to keep its text processing \\nperformance.[1] Its parallelizability was an important factor to its widespread use in large neural \\nnetworks.[31] \\nAI boom era'),\n",
       " Document(metadata={'source': 'C:\\\\Users\\\\user\\\\OneDrive\\\\Desktop\\\\langgraph\\\\temp.pdf', 'page': 2}, page_content='networks.[31] \\nAI boom era \\n[edit]'),\n",
       " Document(metadata={'source': 'C:\\\\Users\\\\user\\\\OneDrive\\\\Desktop\\\\langgraph\\\\temp.pdf', 'page': 3}, page_content='Already in spring 2017, even before the \"Attention is all you need\" preprint was published, one of the \\nco-authors applied the \"decoder-only\" variation of the architecture to generate fictitious Wikipedia \\narticles.[32] Transformer architecture is now used in many generative models that contribute to the \\nongoing AI boom.'),\n",
       " Document(metadata={'source': 'C:\\\\Users\\\\user\\\\OneDrive\\\\Desktop\\\\langgraph\\\\temp.pdf', 'page': 3}, page_content='ongoing AI boom. \\nIn language modelling, ELMo (2018) was a bi-directional LSTM that produces contextualized word \\nembeddings, improving upon the line of research from bag of words and word2vec. It was followed \\nby BERT (2018), an encoder-only Transformer model.[33] In 2019 October, Google started using BERT'),\n",
       " Document(metadata={'source': 'C:\\\\Users\\\\user\\\\OneDrive\\\\Desktop\\\\langgraph\\\\temp.pdf', 'page': 3}, page_content='to process search queries.[34] In 2020, Google Translate replaced the previous RNN-encoder–RNN-\\ndecoder model by a Transformer-encoder–RNN-decoder model.[35] \\nStarting in 2018, the OpenAI GPT series of decoder-only Transformers became state of the art \\nin natural language generation. In 2022, a chatbot based on GPT-3, ChatGPT, became unexpectedly'),\n",
       " Document(metadata={'source': 'C:\\\\Users\\\\user\\\\OneDrive\\\\Desktop\\\\langgraph\\\\temp.pdf', 'page': 3}, page_content='popular,[36] triggering a boom around large language models.[37][38] \\nSince 2020, Transformers have been applied in modalities beyond text, including the vision \\ntransformer,[39] speech recognition,[40] robotics,[41] and multimodal.[42] The vision transformer, in turn, \\nstimulated new developments in convolutional neural networks.[43] Image and video generators'),\n",
       " Document(metadata={'source': 'C:\\\\Users\\\\user\\\\OneDrive\\\\Desktop\\\\langgraph\\\\temp.pdf', 'page': 3}, page_content='like DALL-E (2021), Stable Diffusion 3 (2024),[44] and Sora (2024), are based on the Transformer \\narchitecture.')]"
      ]
     },
     "execution_count": 10,
     "metadata": {},
     "output_type": "execute_result"
    }
   ],
   "source": [
    "documents"
   ]
  },
  {
   "cell_type": "code",
   "execution_count": 11,
   "metadata": {},
   "outputs": [],
   "source": [
    "db=FAISS.from_documents(documents=documents,embedding=embedding)"
   ]
  },
  {
   "cell_type": "code",
   "execution_count": 12,
   "metadata": {},
   "outputs": [],
   "source": [
    "vector_db=db.as_retriever()"
   ]
  },
  {
   "cell_type": "code",
   "execution_count": 13,
   "metadata": {},
   "outputs": [],
   "source": [
    "input=\"what is transformer\""
   ]
  },
  {
   "cell_type": "code",
   "execution_count": 14,
   "metadata": {},
   "outputs": [
    {
     "name": "stderr",
     "output_type": "stream",
     "text": [
      "C:\\Users\\user\\AppData\\Local\\Temp\\ipykernel_3648\\1757252538.py:1: LangChainDeprecationWarning: The method `BaseRetriever.get_relevant_documents` was deprecated in langchain-core 0.1.46 and will be removed in 1.0. Use :meth:`~invoke` instead.\n",
      "  vector_db.get_relevant_documents(input)\n"
     ]
    },
    {
     "data": {
      "text/plain": [
       "[Document(id='1e8baac1-525c-4bc1-9703-963142bb31d9', metadata={'source': 'C:\\\\Users\\\\user\\\\OneDrive\\\\Desktop\\\\langgraph\\\\temp.pdf', 'page': 0}, page_content='\"Transformer\" was picked because Uszkoreit liked the sound of that word.[9] \\nAn early design document was titled \"Transformers: Iterative Self-Attention and Processing for \\nVarious Tasks\", and included an illustration of six characters from the Transformers animated show. \\nThe team was named Team Transformer.[8]'),\n",
       " Document(id='18b4fa77-e186-4132-b71b-0d54258f1779', metadata={'source': 'C:\\\\Users\\\\user\\\\OneDrive\\\\Desktop\\\\langgraph\\\\temp.pdf', 'page': 0}, page_content='Some early examples that the team tried their Transformer architecture on included English-to-\\nGerman translation, generating Wikipedia articles on \"The Transformer\", and parsing. These \\nconvinced the team that the Transformer is a general purpose language model, and not just good for \\ntranslation.[9] \\nAs of 2024, the paper has been cited more than 100,000 times.[10]'),\n",
       " Document(id='6367a19b-38bf-4446-9830-19c1b0faa2b2', metadata={'source': 'C:\\\\Users\\\\user\\\\OneDrive\\\\Desktop\\\\langgraph\\\\temp.pdf', 'page': 0}, page_content='the transformer, based on the attention mechanism proposed in 2014 by Bahdanau et al.[4] It is \\nconsidered a foundational[5] paper in modern artificial intelligence, as the transformer approach has \\nbecome the main architecture of large language models like those based on GPT.[6][7] At the time, the'),\n",
       " Document(id='e5c932a6-620e-4a1b-8b67-b224fd6c614a', metadata={'source': 'C:\\\\Users\\\\user\\\\OneDrive\\\\Desktop\\\\langgraph\\\\temp.pdf', 'page': 0}, page_content='From Wikipedia, the free encyclopedia \\nAn illustration of main components of the \\ntransformer model from the paper \\n\"Attention Is All You Need\"[1] is a 2017 landmark[2][3] research paper in machine learning authored by \\neight scientists working at Google. The paper introduced a new deep learning architecture known as')]"
      ]
     },
     "execution_count": 14,
     "metadata": {},
     "output_type": "execute_result"
    }
   ],
   "source": [
    "vector_db.get_relevant_documents(input)"
   ]
  },
  {
   "cell_type": "code",
   "execution_count": 15,
   "metadata": {},
   "outputs": [],
   "source": [
    "class parser(BaseModel):\n",
    "    topic:str=Field(description=\"selected topic\")\n",
    "    reasoning :str=Field(description=\"reasoning behind the topic\")"
   ]
  },
  {
   "cell_type": "code",
   "execution_count": 16,
   "metadata": {},
   "outputs": [],
   "source": [
    "parser=PydanticOutputParser(pydantic_object=parser)"
   ]
  },
  {
   "cell_type": "code",
   "execution_count": 17,
   "metadata": {},
   "outputs": [
    {
     "name": "stdout",
     "output_type": "stream",
     "text": [
      "The output should be formatted as a JSON instance that conforms to the JSON schema below.\n",
      "\n",
      "As an example, for the schema {\"properties\": {\"foo\": {\"title\": \"Foo\", \"description\": \"a list of strings\", \"type\": \"array\", \"items\": {\"type\": \"string\"}}}, \"required\": [\"foo\"]}\n",
      "the object {\"foo\": [\"bar\", \"baz\"]} is a well-formatted instance of the schema. The object {\"properties\": {\"foo\": [\"bar\", \"baz\"]}} is not well-formatted.\n",
      "\n",
      "Here is the output schema:\n",
      "```\n",
      "{\"properties\": {\"topic\": {\"description\": \"selected topic\", \"title\": \"Topic\", \"type\": \"string\"}, \"reasoning\": {\"description\": \"reasoning behind the topic\", \"title\": \"Reasoning\", \"type\": \"string\"}}, \"required\": [\"topic\", \"reasoning\"]}\n",
      "``` "
     ]
    }
   ],
   "source": [
    "print(parser.get_format_instructions(),end=\" \")"
   ]
  },
  {
   "cell_type": "code",
   "execution_count": 18,
   "metadata": {},
   "outputs": [],
   "source": [
    "class AgentState(TypedDict):\n",
    "    messages:Annotated[Sequence[BaseMessage],operator.add]"
   ]
  },
  {
   "cell_type": "code",
   "execution_count": 19,
   "metadata": {},
   "outputs": [],
   "source": [
    "def function_1(state:AgentState):\n",
    "    print(\"==> entering into the agent <===\")\n",
    "    messages=state[\"messages\"]\n",
    "    question=messages[-1]\n",
    "    print(f\" the agent question is {question}\")\n",
    "    template=\"\"\"\n",
    "                your task is to classify the following user query  whether the question is [transformer,not related]\n",
    "                and nothing else you can do\n",
    "                question:{question}\n",
    "                {format_instructions}\n",
    "            \"\"\"\n",
    "    \n",
    "    prompt=PromptTemplate(\n",
    "        input_variables=[question],\n",
    "        template=template,\n",
    "        format_instructions=parser.get_format_instructions()\n",
    "        )\n",
    "    \n",
    "    chain=prompt|llm|StrOutputParser()\n",
    "\n",
    "    response=chain.invoke({\"question\":question,\"format_instructions\":parser.get_format_instructions()})\n",
    "\n",
    "    return {\"messages\":[response]}\n",
    "    "
   ]
  },
  {
   "cell_type": "code",
   "execution_count": 20,
   "metadata": {},
   "outputs": [],
   "source": [
    "def function_2(state:AgentState):\n",
    "    print(\"==> entering into the llm <==\")\n",
    "    messages=state[\"messages\"]\n",
    "    question=messages[0]\n",
    "    print(f\"the llm question {question}\")\n",
    "    response=llm.invoke(question)\n",
    "    return {\"messages\":[response]}"
   ]
  },
  {
   "cell_type": "code",
   "execution_count": 21,
   "metadata": {},
   "outputs": [],
   "source": [
    "def function_3(state:AgentState):\n",
    "    print(\"==> entering into the rag <==\")\n",
    "    messages=state[\"messages\"]\n",
    "    question=messages[-1]\n",
    "    print(f\"the rag question is {question}\")\n",
    "\n",
    "    template=\"\"\"\n",
    "      Answer the following question based on the user query\n",
    "      {context}\n",
    "      Question:{question}\n",
    "    \"\"\"\n",
    "\n",
    "    prompt=ChatPromptTemplate.from_template(template)\n",
    "\n",
    "    chain=prompt|llm|StrOutputParser()\n",
    "\n",
    "    response=chain.invoke({\"context\":vector_db,\"question\":question})\n",
    "    return {\"messages\":[response]}"
   ]
  },
  {
   "cell_type": "code",
   "execution_count": 22,
   "metadata": {},
   "outputs": [],
   "source": [
    "def router(state:AgentState):\n",
    "    print(\"->calling route <-\")\n",
    "\n",
    "    messages=state[\"messages\"]\n",
    "    last_message=messages[-1]\n",
    "    #the question is entering into router:```json\n",
    "    #{\"topic\": \"not Related\", \"reasoning\": \"The query is about a general AI \n",
    "    # concept and not related to Langsmith\"}\n",
    "    print(f\"the question is entering into router:{last_message}\")\n",
    "    if \"not related\" in last_message:\n",
    "        return \"LLM CALL\"\n",
    "    else:\n",
    "        return \"RAG CALL\"\n"
   ]
  },
  {
   "cell_type": "code",
   "execution_count": 23,
   "metadata": {},
   "outputs": [],
   "source": [
    "#router({\"messages\":[\"what is tansformer\"]})"
   ]
  },
  {
   "cell_type": "code",
   "execution_count": 24,
   "metadata": {},
   "outputs": [],
   "source": [
    "graph=StateGraph(AgentState)"
   ]
  },
  {
   "cell_type": "code",
   "execution_count": 25,
   "metadata": {},
   "outputs": [
    {
     "data": {
      "text/plain": [
       "<langgraph.graph.state.StateGraph at 0x20e89f60f80>"
      ]
     },
     "execution_count": 25,
     "metadata": {},
     "output_type": "execute_result"
    }
   ],
   "source": [
    "graph.add_node(\"agent\",function_1)\n",
    "graph.add_edge(START,\"agent\")\n",
    "graph.add_node(\"llm\",function_2)\n",
    "graph.add_node(\"rag\",function_3)\n",
    "\n",
    "graph.add_conditional_edges(\n",
    "    \"agent\",\n",
    "    \n",
    "    router,\n",
    "    {\n",
    "       \n",
    "        \"RAG CALL\":\"rag\",\n",
    "        \"LLM CALL\":\"llm\"\n",
    "    }\n",
    ")\n",
    "\n",
    "graph.add_edge(\"rag\",END)\n",
    "graph.add_edge(\"llm\",END)"
   ]
  },
  {
   "cell_type": "code",
   "execution_count": 26,
   "metadata": {},
   "outputs": [],
   "source": [
    "app=graph.compile()"
   ]
  },
  {
   "cell_type": "code",
   "execution_count": 27,
   "metadata": {},
   "outputs": [
    {
     "data": {
      "image/png": "[encoded data removed]",
      "text/plain": [
       "<IPython.core.display.Image object>"
      ]
     },
     "metadata": {},
     "output_type": "display_data"
    }
   ],
   "source": [
    "try:\n",
    "    display(Image(app.get_graph().draw_mermaid_png()))\n",
    "except Exception as e:\n",
    "    print(e)"
   ]
  },
  {
   "cell_type": "code",
   "execution_count": 28,
   "metadata": {},
   "outputs": [],
   "source": [
    "input=\"what is education\""
   ]
  },
  {
   "cell_type": "code",
   "execution_count": 29,
   "metadata": {},
   "outputs": [
    {
     "name": "stdout",
     "output_type": "stream",
     "text": [
      "==> entering into the agent <===\n",
      " the agent question is what is education\n",
      "->calling route <-\n",
      "the question is entering into router:```json\n",
      "{\"topic\": \"not related\", \"reasoning\": \"Education is a broad societal concept, not directly related to the capabilities of transformer models.\"}\n",
      "``` \n",
      "\n",
      "==> entering into the llm <==\n",
      "the llm question what is education\n"
     ]
    },
    {
     "data": {
      "text/plain": [
       "{'messages': ['what is education',\n",
       "  '```json\\n{\"topic\": \"not related\", \"reasoning\": \"Education is a broad societal concept, not directly related to the capabilities of transformer models.\"}\\n``` \\n',\n",
       "  AIMessage(content='Education is a multifaceted and complex concept that encompasses much more than just formal schooling. \\n\\nHere are some key aspects of education:\\n\\n**Formal Education:**\\n\\n* **Structured learning:** This typically involves attending schools or universities, following a curriculum, and receiving instruction from qualified teachers. \\n* **Academic subjects:**  Focuses on acquiring knowledge and skills in areas like reading, writing, mathematics, science, history, and the arts.\\n* **Qualifications and credentials:**  Leads to diplomas, degrees, and other certifications that can be valuable for employment and further education.\\n\\n**Informal Education:**\\n\\n* **Lifelong learning:**  Acquiring knowledge and skills outside of formal institutions through experiences, interactions, and self-directed learning.\\n* **Socialization:** Learning about social norms, values, and behaviors through family, friends, communities, and cultural experiences.\\n* **Practical skills:**  Developing hands-on abilities and competencies through apprenticeships, hobbies, and everyday life.\\n\\n**Types of Education:**\\n\\n* **Early Childhood Education:** Focuses on the development of social, emotional, cognitive, and physical skills in young children.\\n* **Primary and Secondary Education:** Provides foundational knowledge and skills for future learning and career paths.\\n* **Higher Education:** Offers specialized knowledge and skills at the college or university level, leading to advanced degrees.\\n* **Vocational Education:**  Prepares individuals for specific trades and occupations.\\n* **Continuing Education:**  Provides opportunities for adults to update their skills, pursue personal interests, or advance their careers.\\n\\n**Purposes of Education:**\\n\\n* **Knowledge and Understanding:** Expanding individuals\\' understanding of the world and their place in it.\\n* **Skill Development:**  Equipping individuals with the tools and abilities to succeed in life, work, and citizenship.\\n* **Personal Growth:**  Fostering intellectual curiosity, critical thinking, creativity, and self-awareness.\\n* **Social Progress:**  Promoting equality, justice, and sustainable development by empowering individuals and communities.\\n\\n**It\\'s important to note that education is constantly evolving and adapting to the changing needs of society. What is considered \"educated\" today may be different from what was valued in the past.**\\n', additional_kwargs={}, response_metadata={'token_usage': {'completion_tokens': 454, 'prompt_tokens': 12, 'total_tokens': 466, 'completion_time': 0.825454545, 'prompt_time': 7.792e-05, 'queue_time': 0.01925792, 'total_time': 0.825532465}, 'model_name': 'gemma2-9b-it', 'system_fingerprint': 'fp_10c08bf97d', 'finish_reason': 'stop', 'logprobs': None}, id='run-78be120f-fe90-403b-bd5a-54b651ad07ca-0', usage_metadata={'input_tokens': 12, 'output_tokens': 454, 'total_tokens': 466})]}"
      ]
     },
     "execution_count": 29,
     "metadata": {},
     "output_type": "execute_result"
    }
   ],
   "source": [
    "app.invoke({\"messages\":[input]})"
   ]
  },
  {
   "cell_type": "code",
   "execution_count": 30,
   "metadata": {},
   "outputs": [
    {
     "name": "stdout",
     "output_type": "stream",
     "text": [
      "==> entering into the agent <===\n",
      " the agent question is who is president of india\n",
      "->calling route <-\n",
      "the question is entering into router:```json\n",
      "{\"topic\": \"not related\", \"reasoning\": \"This query is about a factual topic (current president of India) and does not relate to transformer models.\"}\n",
      "```\n",
      "==> entering into the llm <==\n",
      "the llm question who is president of india\n"
     ]
    },
    {
     "data": {
      "text/plain": [
       "{'messages': ['who is president of india',\n",
       "  '```json\\n{\"topic\": \"not related\", \"reasoning\": \"This query is about a factual topic (current president of India) and does not relate to transformer models.\"}\\n```',\n",
       "  AIMessage(content='The President of India is **Droupadi Murmu**. \\n\\nShe assumed office on July 25, 2022. \\n', additional_kwargs={}, response_metadata={'token_usage': {'completion_tokens': 33, 'prompt_tokens': 14, 'total_tokens': 47, 'completion_time': 0.06, 'prompt_time': 7.868e-05, 'queue_time': 0.022038179999999997, 'total_time': 0.06007868}, 'model_name': 'gemma2-9b-it', 'system_fingerprint': 'fp_10c08bf97d', 'finish_reason': 'stop', 'logprobs': None}, id='run-08207f09-1d0c-4992-8804-5518cdda55b2-0', usage_metadata={'input_tokens': 14, 'output_tokens': 33, 'total_tokens': 47})]}"
      ]
     },
     "execution_count": 30,
     "metadata": {},
     "output_type": "execute_result"
    }
   ],
   "source": [
    "app.invoke({\"messages\":[\"who is president of india\"]})"
   ]
  },
  {
   "cell_type": "code",
   "execution_count": 31,
   "metadata": {},
   "outputs": [
    {
     "name": "stdout",
     "output_type": "stream",
     "text": [
      "==> entering into the agent <===\n",
      " the agent question is what is transformer\n",
      "->calling route <-\n",
      "the question is entering into router:```json\n",
      "{\n",
      "  \"topic\": \"transformer\",\n",
      "  \"reasoning\": \"The user is asking for a definition of 'transformer'.\"\n",
      "}\n",
      "``` \n",
      "\n",
      "==> entering into the rag <==\n",
      "the rag question is ```json\n",
      "{\n",
      "  \"topic\": \"transformer\",\n",
      "  \"reasoning\": \"The user is asking for a definition of 'transformer'.\"\n",
      "}\n",
      "``` \n",
      "\n"
     ]
    },
    {
     "data": {
      "text/plain": [
       "{'messages': ['what is transformer',\n",
       "  '```json\\n{\\n  \"topic\": \"transformer\",\\n  \"reasoning\": \"The user is asking for a definition of \\'transformer\\'.\"\\n}\\n``` \\n',\n",
       "  'While I can\\'t directly access or process information from external systems or specific objects like the `vectorstore` you\\'ve provided, I can certainly give you a definition of \"transformer\":\\n\\n**Transformer**\\n\\nIn the context of artificial intelligence, particularly natural language processing (NLP), a transformer is a type of deep learning model architecture. \\n\\n**Key Features:**\\n\\n* **Attention Mechanism:** Transformers rely heavily on an attention mechanism, which allows the model to focus on different parts of an input sequence when processing information. This enables them to capture long-range dependencies and relationships within text.\\n* **Encoder-Decoder Structure:**  Most transformers have a structure consisting of an encoder and a decoder. The encoder processes the input sequence, while the decoder generates the output sequence.\\n* **Parallel Processing:** Transformers can process information in parallel, making them more efficient than some earlier recurrent neural network (RNN) architectures.\\n\\n**Applications:**\\n\\nTransformers have revolutionized NLP and are used in a wide range of applications, including:\\n\\n* **Machine Translation:**  Translating text from one language to another.\\n* **Text Summarization:** Condensing large amounts of text into shorter summaries.\\n* **Question Answering:**  Providing answers to questions based on a given context.\\n* **Chatbots and Conversational AI:**  Creating chatbots that can engage in natural-sounding conversations.\\n* **Code Generation:**  Generating computer code.\\n\\n**Popular Transformer Models:**\\n\\n* BERT\\n* GPT (Generative Pre-trained Transformer)\\n* T5\\n* RoBERTa\\n* XLNet\\n\\n\\nLet me know if you have any other questions about transformers or NLP!\\n']}"
      ]
     },
     "execution_count": 31,
     "metadata": {},
     "output_type": "execute_result"
    }
   ],
   "source": [
    "app.invoke({\"messages\":[\"what is transformer\"]})"
   ]
  },
  {
   "cell_type": "code",
   "execution_count": 33,
   "metadata": {},
   "outputs": [],
   "source": [
    "state={\"messages\":[\"hello how are you\",\n",
    "              \"what is your name\",\n",
    "              \"what's you're hobby\"]}"
   ]
  },
  {
   "cell_type": "code",
   "execution_count": 36,
   "metadata": {},
   "outputs": [
    {
     "data": {
      "text/plain": [
       "\"what's you're hobby\""
      ]
     },
     "execution_count": 36,
     "metadata": {},
     "output_type": "execute_result"
    }
   ],
   "source": [
    "state[\"messages\"][-1]"
   ]
  }
 ],
 "metadata": {
  "kernelspec": {
   "display_name": "myvenv",
   "language": "python",
   "name": "python3"
  },
  "language_info": {
   "codemirror_mode": {
    "name": "ipython",
    "version": 3
   },
   "file_extension": ".py",
   "mimetype": "text/x-python",
   "name": "python",
   "nbconvert_exporter": "python",
   "pygments_lexer": "ipython3",
   "version": "3.12.2"
  }
 },
 "nbformat": 4,
 "nbformat_minor": 2
}
